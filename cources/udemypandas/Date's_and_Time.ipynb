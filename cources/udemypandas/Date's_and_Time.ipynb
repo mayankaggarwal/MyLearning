{
 "cells": [
  {
   "cell_type": "code",
   "execution_count": 1,
   "metadata": {
    "collapsed": true
   },
   "outputs": [],
   "source": [
    "import pandas as pd\n",
    "import datetime as dt #its not a library but a module. To conserve memory it needs to be loaded manually"
   ]
  },
  {
   "cell_type": "markdown",
   "metadata": {},
   "source": [
    "## Review to python's datetime Module"
   ]
  },
  {
   "cell_type": "code",
   "execution_count": 2,
   "metadata": {
    "collapsed": true
   },
   "outputs": [],
   "source": [
    "sumday = dt.date(1989,9,28)"
   ]
  },
  {
   "cell_type": "code",
   "execution_count": 3,
   "metadata": {},
   "outputs": [
    {
     "data": {
      "text/plain": [
       "'Thu Sep 28 00:00:00 1989'"
      ]
     },
     "execution_count": 3,
     "metadata": {},
     "output_type": "execute_result"
    }
   ],
   "source": [
    "sumday.ctime()"
   ]
  },
  {
   "cell_type": "code",
   "execution_count": 4,
   "metadata": {},
   "outputs": [
    {
     "name": "stdout",
     "output_type": "stream",
     "text": [
      "1989 9 28\n"
     ]
    }
   ],
   "source": [
    "print(sumday.year, sumday.month, sumday.day)"
   ]
  },
  {
   "cell_type": "code",
   "execution_count": 5,
   "metadata": {},
   "outputs": [
    {
     "name": "stdout",
     "output_type": "stream",
     "text": [
      "1989-09-28 00:00:00\n",
      "1989-09-28 17:13:57\n"
     ]
    }
   ],
   "source": [
    "print(str(dt.datetime(1989,9,28)))\n",
    "print(str(dt.datetime(1989,9,28,17,13,57)))"
   ]
  },
  {
   "cell_type": "code",
   "execution_count": 6,
   "metadata": {
    "collapsed": true
   },
   "outputs": [],
   "source": [
    "sometime = dt.datetime(1989,9,28,4,30,12)"
   ]
  },
  {
   "cell_type": "code",
   "execution_count": 7,
   "metadata": {},
   "outputs": [
    {
     "name": "stdout",
     "output_type": "stream",
     "text": [
      "1989 9 28 4 30 12\n"
     ]
    }
   ],
   "source": [
    "print(sometime.year, sometime.month, sometime.day, sometime.hour, sometime.minute, sometime.second)"
   ]
  },
  {
   "cell_type": "markdown",
   "metadata": {},
   "source": [
    "## The pandas Timestamp object\n",
    "Timestamp pandas version of datetime"
   ]
  },
  {
   "cell_type": "code",
   "execution_count": 8,
   "metadata": {},
   "outputs": [
    {
     "name": "stdout",
     "output_type": "stream",
     "text": [
      "1989-09-28 00:00:00\n",
      "1989-09-28 00:00:00\n",
      "1989-09-28 00:00:00\n",
      "1989-09-28 00:00:00\n",
      "1989-09-28 00:00:00\n",
      "1989-09-28 00:00:00\n",
      "print(pd.Timestamp('1989-28-09')) #throws an exception\n",
      "2000-04-03 00:00:00\n"
     ]
    }
   ],
   "source": [
    "print(pd.Timestamp('1989-09-28'))\n",
    "print(pd.Timestamp('1989/09/28'))\n",
    "print(pd.Timestamp('1989, 09, 28')) #space is mandatory\n",
    "print(pd.Timestamp('1989;09;28'))\n",
    "print(pd.Timestamp('28-09-1989'))\n",
    "print(pd.Timestamp('09-28-1989'))\n",
    "print(\"print(pd.Timestamp('1989-28-09')) #throws an exception\")\n",
    "print(pd.Timestamp('4/3/2000'))"
   ]
  },
  {
   "cell_type": "code",
   "execution_count": 9,
   "metadata": {},
   "outputs": [
    {
     "name": "stdout",
     "output_type": "stream",
     "text": [
      "2000-03-08 08:03:05\n",
      "2000-03-08 20:03:05\n"
     ]
    }
   ],
   "source": [
    "print(pd.Timestamp('2000-03-08 08:03:05'))\n",
    "print(pd.Timestamp('2000-03-08 08:03:05 PM'))"
   ]
  },
  {
   "cell_type": "code",
   "execution_count": 10,
   "metadata": {},
   "outputs": [
    {
     "data": {
      "text/plain": [
       "Timestamp('1989-09-28 00:00:00')"
      ]
     },
     "execution_count": 10,
     "metadata": {},
     "output_type": "execute_result"
    }
   ],
   "source": [
    "pd.Timestamp(dt.date(1989,9,28))"
   ]
  },
  {
   "cell_type": "code",
   "execution_count": 11,
   "metadata": {},
   "outputs": [
    {
     "data": {
      "text/plain": [
       "Timestamp('1989-09-28 13:10:11')"
      ]
     },
     "execution_count": 11,
     "metadata": {},
     "output_type": "execute_result"
    }
   ],
   "source": [
    "pd.Timestamp(dt.datetime(1989,9,28,13,10,11))"
   ]
  },
  {
   "cell_type": "markdown",
   "metadata": {},
   "source": [
    "## The pandas DateTimeIndex object\n",
    "Its a box/container for multiple pandas time stamps"
   ]
  },
  {
   "cell_type": "code",
   "execution_count": 12,
   "metadata": {
    "collapsed": true
   },
   "outputs": [],
   "source": [
    "dates = ['2016-01-02','2016/04/12','2009-09-07']\n",
    "dtIndex  = pd.DatetimeIndex(dates)"
   ]
  },
  {
   "cell_type": "code",
   "execution_count": 13,
   "metadata": {
    "collapsed": true
   },
   "outputs": [],
   "source": [
    "values = [100,200,300]\n",
    "data = pd.Series(values,index=dtIndex)"
   ]
  },
  {
   "cell_type": "code",
   "execution_count": 14,
   "metadata": {},
   "outputs": [
    {
     "data": {
      "text/plain": [
       "2016-01-02    100\n",
       "2016-04-12    200\n",
       "2009-09-07    300\n",
       "dtype: int64"
      ]
     },
     "execution_count": 14,
     "metadata": {},
     "output_type": "execute_result"
    }
   ],
   "source": [
    "data"
   ]
  },
  {
   "cell_type": "markdown",
   "metadata": {},
   "source": [
    "## The pd.to_datetime() Method"
   ]
  },
  {
   "cell_type": "code",
   "execution_count": 15,
   "metadata": {},
   "outputs": [
    {
     "name": "stdout",
     "output_type": "stream",
     "text": [
      "2001-04-19 00:00:00\n",
      "2015-01-01 00:00:00\n",
      "2015-01-01 01:01:01\n",
      "DatetimeIndex(['2015-01-03', '2014-02-08', '2016-01-01', '1996-07-04'], dtype='datetime64[ns]', freq=None)\n"
     ]
    }
   ],
   "source": [
    "print(pd.to_datetime('2001-04-19'))\n",
    "print(pd.to_datetime(dt.date(2015,1,1)))\n",
    "print(pd.to_datetime(dt.datetime(2015,1,1,1,1,1)))\n",
    "print(pd.to_datetime(['2015-01-03','2014/02/08','2016','July 4th 1996']))"
   ]
  },
  {
   "cell_type": "code",
   "execution_count": 16,
   "metadata": {
    "collapsed": true
   },
   "outputs": [],
   "source": [
    "times = pd.Series(['2015-01-03','2014/02/08','2016','July 4th 1996'])"
   ]
  },
  {
   "cell_type": "code",
   "execution_count": 17,
   "metadata": {},
   "outputs": [
    {
     "data": {
      "text/plain": [
       "0   2015-01-03\n",
       "1   2014-02-08\n",
       "2   2016-01-01\n",
       "3   1996-07-04\n",
       "dtype: datetime64[ns]"
      ]
     },
     "execution_count": 17,
     "metadata": {},
     "output_type": "execute_result"
    }
   ],
   "source": [
    "pd.to_datetime(times)"
   ]
  },
  {
   "cell_type": "code",
   "execution_count": 18,
   "metadata": {},
   "outputs": [
    {
     "name": "stdout",
     "output_type": "stream",
     "text": [
      "pd.to_datetime(pd.Series(['2015-01-03','2014/02/08','Hello','July 4th 1996'])) throws error\n"
     ]
    },
    {
     "data": {
      "text/plain": [
       "0   2015-01-03\n",
       "1   2014-02-08\n",
       "2          NaT\n",
       "3   1996-07-04\n",
       "dtype: datetime64[ns]"
      ]
     },
     "execution_count": 18,
     "metadata": {},
     "output_type": "execute_result"
    }
   ],
   "source": [
    "print(\"pd.to_datetime(pd.Series(['2015-01-03','2014/02/08','Hello','July 4th 1996'])) throws error\")\n",
    "pd.to_datetime(pd.Series(['2015-01-03','2014/02/08','Hello','July 4th 1996']),errors=\"coerce\")"
   ]
  },
  {
   "cell_type": "code",
   "execution_count": 19,
   "metadata": {},
   "outputs": [
    {
     "data": {
      "text/plain": [
       "DatetimeIndex(['2017-11-24 04:53:34', '1989-09-27 23:00:00'], dtype='datetime64[ns]', freq=None)"
      ]
     },
     "execution_count": 19,
     "metadata": {},
     "output_type": "execute_result"
    }
   ],
   "source": [
    "pd.to_datetime([1511499214,622940400],unit=\"s\")"
   ]
  },
  {
   "cell_type": "markdown",
   "metadata": {},
   "source": [
    "## Create Range of Dates with pd.date_range() Method, Part 1"
   ]
  },
  {
   "cell_type": "code",
   "execution_count": 20,
   "metadata": {
    "collapsed": true
   },
   "outputs": [],
   "source": [
    "times = pd.date_range(start=\"2016-01-01\",end=\"2016-01-10\",freq=\"D\")"
   ]
  },
  {
   "cell_type": "code",
   "execution_count": 21,
   "metadata": {},
   "outputs": [
    {
     "data": {
      "text/plain": [
       "pandas.core.indexes.datetimes.DatetimeIndex"
      ]
     },
     "execution_count": 21,
     "metadata": {},
     "output_type": "execute_result"
    }
   ],
   "source": [
    "type(times)"
   ]
  },
  {
   "cell_type": "code",
   "execution_count": 22,
   "metadata": {},
   "outputs": [
    {
     "data": {
      "text/plain": [
       "Timestamp('2016-01-01 00:00:00', freq='D')"
      ]
     },
     "execution_count": 22,
     "metadata": {},
     "output_type": "execute_result"
    }
   ],
   "source": [
    "times[0]"
   ]
  },
  {
   "cell_type": "code",
   "execution_count": 23,
   "metadata": {},
   "outputs": [
    {
     "name": "stdout",
     "output_type": "stream",
     "text": [
      "DatetimeIndex(['2016-01-01 00:00:00', '2016-01-01 12:00:00',\n",
      "               '2016-01-02 00:00:00', '2016-01-02 12:00:00',\n",
      "               '2016-01-03 00:00:00', '2016-01-03 12:00:00',\n",
      "               '2016-01-04 00:00:00', '2016-01-04 12:00:00',\n",
      "               '2016-01-05 00:00:00', '2016-01-05 12:00:00',\n",
      "               '2016-01-06 00:00:00', '2016-01-06 12:00:00',\n",
      "               '2016-01-07 00:00:00', '2016-01-07 12:00:00',\n",
      "               '2016-01-08 00:00:00', '2016-01-08 12:00:00',\n",
      "               '2016-01-09 00:00:00', '2016-01-09 12:00:00',\n",
      "               '2016-01-10 00:00:00'],\n",
      "              dtype='datetime64[ns]', freq='12H')\n",
      "DatetimeIndex(['2016-01-01', '2016-01-03', '2016-01-05', '2016-01-07',\n",
      "               '2016-01-09'],\n",
      "              dtype='datetime64[ns]', freq='2D')\n",
      "DatetimeIndex(['2016-01-01', '2016-01-04', '2016-01-05', '2016-01-06',\n",
      "               '2016-01-07', '2016-01-08'],\n",
      "              dtype='datetime64[ns]', freq='B')\n",
      "DatetimeIndex(['2016-01-03', '2016-01-10'], dtype='datetime64[ns]', freq='W-SUN')\n",
      "DatetimeIndex(['2016-01-01', '2016-01-08'], dtype='datetime64[ns]', freq='W-FRI')\n"
     ]
    }
   ],
   "source": [
    "print(pd.date_range(start=\"2016-01-01\",end=\"2016-01-10\",freq=\"0.5D\")) #incrementing by 12 hours\n",
    "print(pd.date_range(start=\"2016-01-01\",end=\"2016-01-10\",freq=\"2D\")) #jumping 2 days\n",
    "print(pd.date_range(start=\"2016-01-01\",end=\"2016-01-10\",freq=\"B\")) #skipping weekends, B is business days\n",
    "print(pd.date_range(start=\"2016-01-01\",end=\"2016-01-10\",freq=\"W\")) #Specifying First day of week which is Sunday\n",
    "print(pd.date_range(start=\"2016-01-01\",end=\"2016-01-10\",freq=\"W-FRI\")) #Specyfing first day of Week as Friday"
   ]
  },
  {
   "cell_type": "code",
   "execution_count": 24,
   "metadata": {},
   "outputs": [
    {
     "name": "stdout",
     "output_type": "stream",
     "text": [
      "DatetimeIndex(['2016-01-01 00:00:00', '2016-01-01 04:00:00',\n",
      "               '2016-01-01 08:00:00', '2016-01-01 12:00:00',\n",
      "               '2016-01-01 16:00:00', '2016-01-01 20:00:00',\n",
      "               '2016-01-02 00:00:00'],\n",
      "              dtype='datetime64[ns]', freq='4H')\n",
      "DatetimeIndex(['2016-01-31', '2016-02-29', '2016-03-31'], dtype='datetime64[ns]', freq='M')\n",
      "DatetimeIndex(['2016-01-01', '2016-02-01', '2016-03-01', '2016-04-01'], dtype='datetime64[ns]', freq='MS')\n",
      "DatetimeIndex(['2016-12-31'], dtype='datetime64[ns]', freq='A-DEC')\n"
     ]
    }
   ],
   "source": [
    "print(pd.date_range(start=\"2016-01-01\",end=\"2016-01-2\",freq=\"4H\")) #frequency is hour\n",
    "print(pd.date_range(start=\"2016-01-01\",end=\"2016-04-2\",freq=\"M\")) #frequency is Month, and gives last day of each month\n",
    "print(pd.date_range(start=\"2016-01-01\",end=\"2016-04-2\",freq=\"MS\")) #frequency is Month, and gives start day of each month\n",
    "print(pd.date_range(start=\"2016-01-01\",end=\"2017-04-2\",freq=\"A\")) #frequency is Year, and gives last day of each year"
   ]
  },
  {
   "cell_type": "code",
   "execution_count": 25,
   "metadata": {},
   "outputs": [
    {
     "data": {
      "text/plain": [
       "DatetimeIndex(['2012-09-09', '2012-09-10', '2012-09-11', '2012-09-12',\n",
       "               '2012-09-13'],\n",
       "              dtype='datetime64[ns]', freq='D')"
      ]
     },
     "execution_count": 25,
     "metadata": {},
     "output_type": "execute_result"
    }
   ],
   "source": [
    "pd.date_range(start='2012-09-09',periods=5) #number of results"
   ]
  },
  {
   "cell_type": "code",
   "execution_count": 26,
   "metadata": {},
   "outputs": [
    {
     "data": {
      "text/plain": [
       "DatetimeIndex(['2012-09-05', '2012-09-06', '2012-09-07', '2012-09-08',\n",
       "               '2012-09-09'],\n",
       "              dtype='datetime64[ns]', freq='D')"
      ]
     },
     "execution_count": 26,
     "metadata": {},
     "output_type": "execute_result"
    }
   ],
   "source": [
    "pd.date_range(end=\"2012-09-09\",periods=5)"
   ]
  },
  {
   "cell_type": "markdown",
   "metadata": {},
   "source": [
    "## The .dt Accessor"
   ]
  },
  {
   "cell_type": "code",
   "execution_count": 27,
   "metadata": {
    "collapsed": true
   },
   "outputs": [],
   "source": [
    "bunch_of_dates = pd.date_range(start=\"2000-01-01\",end=\"2010-12-31\",freq=\"24D\")"
   ]
  },
  {
   "cell_type": "code",
   "execution_count": 28,
   "metadata": {
    "collapsed": true
   },
   "outputs": [],
   "source": [
    "s = pd.Series(bunch_of_dates)"
   ]
  },
  {
   "cell_type": "code",
   "execution_count": 29,
   "metadata": {
    "collapsed": true
   },
   "outputs": [
    {
     "name": "stdout",
     "output_type": "stream",
     "text": [
      "Cannot do it directly s.day, We have to use dt\n"
     ]
    },
    {
     "data": {
      "text/plain": [
       "0       Saturday\n",
       "1        Tuesday\n",
       "2         Friday\n",
       "3         Monday\n",
       "4       Thursday\n",
       "5         Sunday\n",
       "6      Wednesday\n",
       "7       Saturday\n",
       "8        Tuesday\n",
       "9         Friday\n",
       "10        Monday\n",
       "11      Thursday\n",
       "12        Sunday\n",
       "13     Wednesday\n",
       "14      Saturday\n",
       "15       Tuesday\n",
       "16        Friday\n",
       "17        Monday\n",
       "18      Thursday\n",
       "19        Sunday\n",
       "20     Wednesday\n",
       "21      Saturday\n",
       "22       Tuesday\n",
       "23        Friday\n",
       "24        Monday\n",
       "25      Thursday\n",
       "26        Sunday\n",
       "27     Wednesday\n",
       "28      Saturday\n",
       "29       Tuesday\n",
       "         ...    \n",
       "138       Sunday\n",
       "139    Wednesday\n",
       "140     Saturday\n",
       "141      Tuesday\n",
       "142       Friday\n",
       "143       Monday\n",
       "144     Thursday\n",
       "145       Sunday\n",
       "146    Wednesday\n",
       "147     Saturday\n",
       "148      Tuesday\n",
       "149       Friday\n",
       "150       Monday\n",
       "151     Thursday\n",
       "152       Sunday\n",
       "153    Wednesday\n",
       "154     Saturday\n",
       "155      Tuesday\n",
       "156       Friday\n",
       "157       Monday\n",
       "158     Thursday\n",
       "159       Sunday\n",
       "160    Wednesday\n",
       "161     Saturday\n",
       "162      Tuesday\n",
       "163       Friday\n",
       "164       Monday\n",
       "165     Thursday\n",
       "166       Sunday\n",
       "167    Wednesday\n",
       "Length: 168, dtype: object"
      ]
     },
     "execution_count": 29,
     "metadata": {},
     "output_type": "execute_result"
    }
   ],
   "source": [
    "print(\"Cannot do it directly s.day, We have to use dt\")\n",
    "s.dt.month\n",
    "s.dt.weekday_name"
   ]
  },
  {
   "cell_type": "code",
   "execution_count": 30,
   "metadata": {},
   "outputs": [
    {
     "data": {
      "text/plain": [
       "0      2000-01-01\n",
       "19     2001-04-01\n",
       "38     2002-07-01\n",
       "137    2009-01-01\n",
       "dtype: object"
      ]
     },
     "execution_count": 30,
     "metadata": {},
     "output_type": "execute_result"
    }
   ],
   "source": [
    "s.dt.date[s.dt.is_quarter_start] #All the days that falls on 1st Jan, 1st April, 1st July and 1st Oactober"
   ]
  },
  {
   "cell_type": "markdown",
   "metadata": {},
   "source": [
    "## Import Financial Data Set with pandas_datareader Library"
   ]
  },
  {
   "cell_type": "code",
   "execution_count": 31,
   "metadata": {
    "collapsed": true
   },
   "outputs": [],
   "source": [
    "from pandas_datareader import data"
   ]
  },
  {
   "cell_type": "code",
   "execution_count": 32,
   "metadata": {
    "collapsed": true
   },
   "outputs": [],
   "source": [
    "company = \"MSFT\"\n",
    "source = \"yahoo\"\n",
    "start = \"2010-01-01\"\n",
    "end = \"2017-11-30\"\n",
    "\n",
    "financialData = data.DataReader(name=company,data_source=source,start=start,end=end)"
   ]
  },
  {
   "cell_type": "code",
   "execution_count": 33,
   "metadata": {
    "collapsed": true
   },
   "outputs": [
    {
     "data": {
      "text/html": [
       "<div>\n",
       "<style scoped>\n",
       "    .dataframe tbody tr th:only-of-type {\n",
       "        vertical-align: middle;\n",
       "    }\n",
       "\n",
       "    .dataframe tbody tr th {\n",
       "        vertical-align: top;\n",
       "    }\n",
       "\n",
       "    .dataframe thead th {\n",
       "        text-align: right;\n",
       "    }\n",
       "</style>\n",
       "<table border=\"1\" class=\"dataframe\">\n",
       "  <thead>\n",
       "    <tr style=\"text-align: right;\">\n",
       "      <th></th>\n",
       "      <th>Open</th>\n",
       "      <th>High</th>\n",
       "      <th>Low</th>\n",
       "      <th>Close</th>\n",
       "      <th>Adj Close</th>\n",
       "      <th>Volume</th>\n",
       "    </tr>\n",
       "    <tr>\n",
       "      <th>Date</th>\n",
       "      <th></th>\n",
       "      <th></th>\n",
       "      <th></th>\n",
       "      <th></th>\n",
       "      <th></th>\n",
       "      <th></th>\n",
       "    </tr>\n",
       "  </thead>\n",
       "  <tbody>\n",
       "    <tr>\n",
       "      <th>2009-12-31</th>\n",
       "      <td>30.980000</td>\n",
       "      <td>30.99</td>\n",
       "      <td>30.480000</td>\n",
       "      <td>30.480000</td>\n",
       "      <td>24.766968</td>\n",
       "      <td>31929700</td>\n",
       "    </tr>\n",
       "    <tr>\n",
       "      <th>2010-01-04</th>\n",
       "      <td>30.620001</td>\n",
       "      <td>31.10</td>\n",
       "      <td>30.590000</td>\n",
       "      <td>30.950001</td>\n",
       "      <td>25.148876</td>\n",
       "      <td>38409100</td>\n",
       "    </tr>\n",
       "    <tr>\n",
       "      <th>2010-01-05</th>\n",
       "      <td>30.850000</td>\n",
       "      <td>31.10</td>\n",
       "      <td>30.639999</td>\n",
       "      <td>30.959999</td>\n",
       "      <td>25.157001</td>\n",
       "      <td>49749600</td>\n",
       "    </tr>\n",
       "  </tbody>\n",
       "</table>\n",
       "</div>"
      ],
      "text/plain": [
       "                 Open   High        Low      Close  Adj Close    Volume\n",
       "Date                                                                   \n",
       "2009-12-31  30.980000  30.99  30.480000  30.480000  24.766968  31929700\n",
       "2010-01-04  30.620001  31.10  30.590000  30.950001  25.148876  38409100\n",
       "2010-01-05  30.850000  31.10  30.639999  30.959999  25.157001  49749600"
      ]
     },
     "execution_count": 33,
     "metadata": {},
     "output_type": "execute_result"
    }
   ],
   "source": [
    "financialData.head(3)"
   ]
  },
  {
   "cell_type": "code",
   "execution_count": 34,
   "metadata": {},
   "outputs": [
    {
     "data": {
      "text/plain": [
       "DatetimeIndex(['2009-12-31', '2010-01-04', '2010-01-05', '2010-01-06',\n",
       "               '2010-01-07', '2010-01-08', '2010-01-11', '2010-01-12',\n",
       "               '2010-01-13', '2010-01-14',\n",
       "               ...\n",
       "               '2017-11-15', '2017-11-16', '2017-11-17', '2017-11-20',\n",
       "               '2017-11-21', '2017-11-22', '2017-11-24', '2017-11-27',\n",
       "               '2017-11-28', '2017-11-29'],\n",
       "              dtype='datetime64[ns]', name='Date', length=1993, freq=None)"
      ]
     },
     "execution_count": 34,
     "metadata": {},
     "output_type": "execute_result"
    }
   ],
   "source": [
    "financialData.values\n",
    "financialData.columns\n",
    "financialData.index"
   ]
  },
  {
   "cell_type": "code",
   "execution_count": 35,
   "metadata": {},
   "outputs": [
    {
     "data": {
      "text/plain": [
       "Open         3.108000e+01\n",
       "High         3.124000e+01\n",
       "Low          3.071000e+01\n",
       "Close        3.086000e+01\n",
       "Adj Close    2.507575e+01\n",
       "Volume       7.991320e+07\n",
       "Name: 2010-01-15 00:00:00, dtype: float64"
      ]
     },
     "execution_count": 35,
     "metadata": {},
     "output_type": "execute_result"
    }
   ],
   "source": [
    "financialData.loc[\"2016-02-01\"] #loc method returns the rows based on values on index column\n",
    "financialData.iloc[10]"
   ]
  },
  {
   "cell_type": "code",
   "execution_count": 36,
   "metadata": {},
   "outputs": [
    {
     "data": {
      "text/html": [
       "<div>\n",
       "<style scoped>\n",
       "    .dataframe tbody tr th:only-of-type {\n",
       "        vertical-align: middle;\n",
       "    }\n",
       "\n",
       "    .dataframe tbody tr th {\n",
       "        vertical-align: top;\n",
       "    }\n",
       "\n",
       "    .dataframe thead th {\n",
       "        text-align: right;\n",
       "    }\n",
       "</style>\n",
       "<table border=\"1\" class=\"dataframe\">\n",
       "  <thead>\n",
       "    <tr style=\"text-align: right;\">\n",
       "      <th></th>\n",
       "      <th>Open</th>\n",
       "      <th>High</th>\n",
       "      <th>Low</th>\n",
       "      <th>Close</th>\n",
       "      <th>Adj Close</th>\n",
       "      <th>Volume</th>\n",
       "    </tr>\n",
       "    <tr>\n",
       "      <th>Date</th>\n",
       "      <th></th>\n",
       "      <th></th>\n",
       "      <th></th>\n",
       "      <th></th>\n",
       "      <th></th>\n",
       "      <th></th>\n",
       "    </tr>\n",
       "  </thead>\n",
       "  <tbody>\n",
       "    <tr>\n",
       "      <th>2016-01-04</th>\n",
       "      <td>54.32</td>\n",
       "      <td>54.799999</td>\n",
       "      <td>53.389999</td>\n",
       "      <td>54.799999</td>\n",
       "      <td>52.171520</td>\n",
       "      <td>53778000</td>\n",
       "    </tr>\n",
       "    <tr>\n",
       "      <th>2016-01-05</th>\n",
       "      <td>54.93</td>\n",
       "      <td>55.389999</td>\n",
       "      <td>54.540001</td>\n",
       "      <td>55.049999</td>\n",
       "      <td>52.409531</td>\n",
       "      <td>34079700</td>\n",
       "    </tr>\n",
       "  </tbody>\n",
       "</table>\n",
       "</div>"
      ],
      "text/plain": [
       "             Open       High        Low      Close  Adj Close    Volume\n",
       "Date                                                                   \n",
       "2016-01-04  54.32  54.799999  53.389999  54.799999  52.171520  53778000\n",
       "2016-01-05  54.93  55.389999  54.540001  55.049999  52.409531  34079700"
      ]
     },
     "execution_count": 36,
     "metadata": {},
     "output_type": "execute_result"
    }
   ],
   "source": [
    "financialData.loc[\"2016-01-01\":\"2017-01-01\"].head(2)"
   ]
  },
  {
   "cell_type": "code",
   "execution_count": 37,
   "metadata": {
    "collapsed": true
   },
   "outputs": [],
   "source": [
    "birthdays = pd.date_range(start=\"1989-09-28\",end=\"2017, 12, 31\",freq=pd.DateOffset(years=1))"
   ]
  },
  {
   "cell_type": "code",
   "execution_count": 38,
   "metadata": {},
   "outputs": [
    {
     "data": {
      "text/html": [
       "<div>\n",
       "<style scoped>\n",
       "    .dataframe tbody tr th:only-of-type {\n",
       "        vertical-align: middle;\n",
       "    }\n",
       "\n",
       "    .dataframe tbody tr th {\n",
       "        vertical-align: top;\n",
       "    }\n",
       "\n",
       "    .dataframe thead th {\n",
       "        text-align: right;\n",
       "    }\n",
       "</style>\n",
       "<table border=\"1\" class=\"dataframe\">\n",
       "  <thead>\n",
       "    <tr style=\"text-align: right;\">\n",
       "      <th></th>\n",
       "      <th>Open</th>\n",
       "      <th>High</th>\n",
       "      <th>Low</th>\n",
       "      <th>Close</th>\n",
       "      <th>Adj Close</th>\n",
       "      <th>Volume</th>\n",
       "    </tr>\n",
       "    <tr>\n",
       "      <th>Date</th>\n",
       "      <th></th>\n",
       "      <th></th>\n",
       "      <th></th>\n",
       "      <th></th>\n",
       "      <th></th>\n",
       "      <th></th>\n",
       "    </tr>\n",
       "  </thead>\n",
       "  <tbody>\n",
       "    <tr>\n",
       "      <th>2010-09-28</th>\n",
       "      <td>24.799999</td>\n",
       "      <td>24.900000</td>\n",
       "      <td>24.350000</td>\n",
       "      <td>24.680000</td>\n",
       "      <td>20.346750</td>\n",
       "      <td>56041200</td>\n",
       "    </tr>\n",
       "    <tr>\n",
       "      <th>2011-09-28</th>\n",
       "      <td>25.930000</td>\n",
       "      <td>26.370001</td>\n",
       "      <td>25.510000</td>\n",
       "      <td>25.580000</td>\n",
       "      <td>21.619221</td>\n",
       "      <td>60736200</td>\n",
       "    </tr>\n",
       "    <tr>\n",
       "      <th>2012-09-28</th>\n",
       "      <td>30.180000</td>\n",
       "      <td>30.260000</td>\n",
       "      <td>29.740000</td>\n",
       "      <td>29.760000</td>\n",
       "      <td>25.845686</td>\n",
       "      <td>54229300</td>\n",
       "    </tr>\n",
       "    <tr>\n",
       "      <th>2015-09-28</th>\n",
       "      <td>43.830002</td>\n",
       "      <td>44.090000</td>\n",
       "      <td>43.209999</td>\n",
       "      <td>43.290001</td>\n",
       "      <td>40.937660</td>\n",
       "      <td>27613800</td>\n",
       "    </tr>\n",
       "    <tr>\n",
       "      <th>2016-09-28</th>\n",
       "      <td>57.880001</td>\n",
       "      <td>58.060001</td>\n",
       "      <td>57.669998</td>\n",
       "      <td>58.029999</td>\n",
       "      <td>56.381680</td>\n",
       "      <td>20536400</td>\n",
       "    </tr>\n",
       "    <tr>\n",
       "      <th>2017-09-28</th>\n",
       "      <td>73.540001</td>\n",
       "      <td>73.970001</td>\n",
       "      <td>73.309998</td>\n",
       "      <td>73.870003</td>\n",
       "      <td>73.500870</td>\n",
       "      <td>10883800</td>\n",
       "    </tr>\n",
       "  </tbody>\n",
       "</table>\n",
       "</div>"
      ],
      "text/plain": [
       "                 Open       High        Low      Close  Adj Close    Volume\n",
       "Date                                                                       \n",
       "2010-09-28  24.799999  24.900000  24.350000  24.680000  20.346750  56041200\n",
       "2011-09-28  25.930000  26.370001  25.510000  25.580000  21.619221  60736200\n",
       "2012-09-28  30.180000  30.260000  29.740000  29.760000  25.845686  54229300\n",
       "2015-09-28  43.830002  44.090000  43.209999  43.290001  40.937660  27613800\n",
       "2016-09-28  57.880001  58.060001  57.669998  58.029999  56.381680  20536400\n",
       "2017-09-28  73.540001  73.970001  73.309998  73.870003  73.500870  10883800"
      ]
     },
     "execution_count": 38,
     "metadata": {},
     "output_type": "execute_result"
    }
   ],
   "source": [
    "financialData.loc[financialData.index.isin(birthdays)]"
   ]
  },
  {
   "cell_type": "markdown",
   "metadata": {},
   "source": [
    "## Timestamp Object Attributes"
   ]
  },
  {
   "cell_type": "code",
   "execution_count": 39,
   "metadata": {},
   "outputs": [
    {
     "data": {
      "text/plain": [
       "Timestamp('2011-12-23 00:00:00')"
      ]
     },
     "execution_count": 39,
     "metadata": {},
     "output_type": "execute_result"
    }
   ],
   "source": [
    "someday = financialData.index[500]\n",
    "someday"
   ]
  },
  {
   "cell_type": "code",
   "execution_count": 40,
   "metadata": {},
   "outputs": [
    {
     "data": {
      "text/plain": [
       "False"
      ]
     },
     "execution_count": 40,
     "metadata": {},
     "output_type": "execute_result"
    }
   ],
   "source": [
    "someday.day\n",
    "someday.month\n",
    "someday.year\n",
    "someday.weekday_name\n",
    "someday.is_month_end\n",
    "someday.is_leap_year"
   ]
  },
  {
   "cell_type": "code",
   "execution_count": 41,
   "metadata": {
    "collapsed": true
   },
   "outputs": [],
   "source": [
    "financialData.insert(0,\"Day of Week\",financialData.index.weekday_name)"
   ]
  },
  {
   "cell_type": "code",
   "execution_count": 42,
   "metadata": {},
   "outputs": [
    {
     "data": {
      "text/html": [
       "<div>\n",
       "<style scoped>\n",
       "    .dataframe tbody tr th:only-of-type {\n",
       "        vertical-align: middle;\n",
       "    }\n",
       "\n",
       "    .dataframe tbody tr th {\n",
       "        vertical-align: top;\n",
       "    }\n",
       "\n",
       "    .dataframe thead th {\n",
       "        text-align: right;\n",
       "    }\n",
       "</style>\n",
       "<table border=\"1\" class=\"dataframe\">\n",
       "  <thead>\n",
       "    <tr style=\"text-align: right;\">\n",
       "      <th></th>\n",
       "      <th>Day of Week</th>\n",
       "      <th>Open</th>\n",
       "      <th>High</th>\n",
       "      <th>Low</th>\n",
       "      <th>Close</th>\n",
       "      <th>Adj Close</th>\n",
       "      <th>Volume</th>\n",
       "    </tr>\n",
       "    <tr>\n",
       "      <th>Date</th>\n",
       "      <th></th>\n",
       "      <th></th>\n",
       "      <th></th>\n",
       "      <th></th>\n",
       "      <th></th>\n",
       "      <th></th>\n",
       "      <th></th>\n",
       "    </tr>\n",
       "  </thead>\n",
       "  <tbody>\n",
       "    <tr>\n",
       "      <th>2009-12-31</th>\n",
       "      <td>Thursday</td>\n",
       "      <td>30.980000</td>\n",
       "      <td>30.99</td>\n",
       "      <td>30.480000</td>\n",
       "      <td>30.480000</td>\n",
       "      <td>24.766968</td>\n",
       "      <td>31929700</td>\n",
       "    </tr>\n",
       "    <tr>\n",
       "      <th>2010-01-04</th>\n",
       "      <td>Monday</td>\n",
       "      <td>30.620001</td>\n",
       "      <td>31.10</td>\n",
       "      <td>30.590000</td>\n",
       "      <td>30.950001</td>\n",
       "      <td>25.148876</td>\n",
       "      <td>38409100</td>\n",
       "    </tr>\n",
       "    <tr>\n",
       "      <th>2010-01-05</th>\n",
       "      <td>Tuesday</td>\n",
       "      <td>30.850000</td>\n",
       "      <td>31.10</td>\n",
       "      <td>30.639999</td>\n",
       "      <td>30.959999</td>\n",
       "      <td>25.157001</td>\n",
       "      <td>49749600</td>\n",
       "    </tr>\n",
       "  </tbody>\n",
       "</table>\n",
       "</div>"
      ],
      "text/plain": [
       "           Day of Week       Open   High        Low      Close  Adj Close  \\\n",
       "Date                                                                        \n",
       "2009-12-31    Thursday  30.980000  30.99  30.480000  30.480000  24.766968   \n",
       "2010-01-04      Monday  30.620001  31.10  30.590000  30.950001  25.148876   \n",
       "2010-01-05     Tuesday  30.850000  31.10  30.639999  30.959999  25.157001   \n",
       "\n",
       "              Volume  \n",
       "Date                  \n",
       "2009-12-31  31929700  \n",
       "2010-01-04  38409100  \n",
       "2010-01-05  49749600  "
      ]
     },
     "execution_count": 42,
     "metadata": {},
     "output_type": "execute_result"
    }
   ],
   "source": [
    "financialData.head(3)"
   ]
  },
  {
   "cell_type": "code",
   "execution_count": 43,
   "metadata": {},
   "outputs": [
    {
     "data": {
      "text/plain": [
       "Index(['Thursday', 'Friday', 'Saturday', 'Monday', 'Tuesday', 'Wednesday',\n",
       "       'Thursday', 'Saturday', 'Sunday', 'Monday', 'Tuesday', 'Thursday',\n",
       "       'Friday', 'Saturday', 'Sunday', 'Tuesday', 'Wednesday', 'Thursday',\n",
       "       'Friday', 'Sunday', 'Monday', 'Tuesday', 'Wednesday', 'Friday',\n",
       "       'Saturday', 'Sunday', 'Monday', 'Wednesday', 'Thursday'],\n",
       "      dtype='object')"
      ]
     },
     "execution_count": 43,
     "metadata": {},
     "output_type": "execute_result"
    }
   ],
   "source": [
    "birthdays.weekday_name"
   ]
  },
  {
   "cell_type": "markdown",
   "metadata": {},
   "source": [
    "## The .truncate() Method\n",
    "This is used for slicing operations on datetime"
   ]
  },
  {
   "cell_type": "code",
   "execution_count": 44,
   "metadata": {
    "collapsed": true
   },
   "outputs": [
    {
     "data": {
      "text/html": [
       "<div>\n",
       "<style scoped>\n",
       "    .dataframe tbody tr th:only-of-type {\n",
       "        vertical-align: middle;\n",
       "    }\n",
       "\n",
       "    .dataframe tbody tr th {\n",
       "        vertical-align: top;\n",
       "    }\n",
       "\n",
       "    .dataframe thead th {\n",
       "        text-align: right;\n",
       "    }\n",
       "</style>\n",
       "<table border=\"1\" class=\"dataframe\">\n",
       "  <thead>\n",
       "    <tr style=\"text-align: right;\">\n",
       "      <th></th>\n",
       "      <th>Day of Week</th>\n",
       "      <th>Open</th>\n",
       "      <th>High</th>\n",
       "      <th>Low</th>\n",
       "      <th>Close</th>\n",
       "      <th>Adj Close</th>\n",
       "      <th>Volume</th>\n",
       "    </tr>\n",
       "    <tr>\n",
       "      <th>Date</th>\n",
       "      <th></th>\n",
       "      <th></th>\n",
       "      <th></th>\n",
       "      <th></th>\n",
       "      <th></th>\n",
       "      <th></th>\n",
       "      <th></th>\n",
       "    </tr>\n",
       "  </thead>\n",
       "  <tbody>\n",
       "    <tr>\n",
       "      <th>2011-01-03</th>\n",
       "      <td>Monday</td>\n",
       "      <td>28.049999</td>\n",
       "      <td>28.180000</td>\n",
       "      <td>27.920000</td>\n",
       "      <td>27.980000</td>\n",
       "      <td>23.209078</td>\n",
       "      <td>53443800</td>\n",
       "    </tr>\n",
       "    <tr>\n",
       "      <th>2011-01-04</th>\n",
       "      <td>Tuesday</td>\n",
       "      <td>27.940001</td>\n",
       "      <td>28.170000</td>\n",
       "      <td>27.850000</td>\n",
       "      <td>28.090000</td>\n",
       "      <td>23.300323</td>\n",
       "      <td>54405600</td>\n",
       "    </tr>\n",
       "    <tr>\n",
       "      <th>2011-01-05</th>\n",
       "      <td>Wednesday</td>\n",
       "      <td>27.900000</td>\n",
       "      <td>28.010000</td>\n",
       "      <td>27.770000</td>\n",
       "      <td>28.000000</td>\n",
       "      <td>23.225672</td>\n",
       "      <td>58998700</td>\n",
       "    </tr>\n",
       "    <tr>\n",
       "      <th>2011-01-06</th>\n",
       "      <td>Thursday</td>\n",
       "      <td>28.040001</td>\n",
       "      <td>28.850000</td>\n",
       "      <td>27.860001</td>\n",
       "      <td>28.820000</td>\n",
       "      <td>23.905846</td>\n",
       "      <td>88026300</td>\n",
       "    </tr>\n",
       "    <tr>\n",
       "      <th>2011-01-07</th>\n",
       "      <td>Friday</td>\n",
       "      <td>28.639999</td>\n",
       "      <td>28.740000</td>\n",
       "      <td>28.250000</td>\n",
       "      <td>28.600000</td>\n",
       "      <td>23.723364</td>\n",
       "      <td>73762000</td>\n",
       "    </tr>\n",
       "    <tr>\n",
       "      <th>2011-01-10</th>\n",
       "      <td>Monday</td>\n",
       "      <td>28.260000</td>\n",
       "      <td>28.400000</td>\n",
       "      <td>28.040001</td>\n",
       "      <td>28.219999</td>\n",
       "      <td>23.408155</td>\n",
       "      <td>57573600</td>\n",
       "    </tr>\n",
       "    <tr>\n",
       "      <th>2011-01-11</th>\n",
       "      <td>Tuesday</td>\n",
       "      <td>28.200001</td>\n",
       "      <td>28.250000</td>\n",
       "      <td>28.049999</td>\n",
       "      <td>28.110001</td>\n",
       "      <td>23.316910</td>\n",
       "      <td>50298900</td>\n",
       "    </tr>\n",
       "    <tr>\n",
       "      <th>2011-01-12</th>\n",
       "      <td>Wednesday</td>\n",
       "      <td>28.120001</td>\n",
       "      <td>28.590000</td>\n",
       "      <td>28.070000</td>\n",
       "      <td>28.549999</td>\n",
       "      <td>23.681883</td>\n",
       "      <td>52631100</td>\n",
       "    </tr>\n",
       "    <tr>\n",
       "      <th>2011-01-13</th>\n",
       "      <td>Thursday</td>\n",
       "      <td>28.330000</td>\n",
       "      <td>28.389999</td>\n",
       "      <td>28.010000</td>\n",
       "      <td>28.190001</td>\n",
       "      <td>23.383274</td>\n",
       "      <td>67077600</td>\n",
       "    </tr>\n",
       "    <tr>\n",
       "      <th>2011-01-14</th>\n",
       "      <td>Friday</td>\n",
       "      <td>28.080000</td>\n",
       "      <td>28.379999</td>\n",
       "      <td>27.910000</td>\n",
       "      <td>28.299999</td>\n",
       "      <td>23.474516</td>\n",
       "      <td>62688400</td>\n",
       "    </tr>\n",
       "    <tr>\n",
       "      <th>2011-01-18</th>\n",
       "      <td>Tuesday</td>\n",
       "      <td>28.160000</td>\n",
       "      <td>28.740000</td>\n",
       "      <td>28.139999</td>\n",
       "      <td>28.660000</td>\n",
       "      <td>23.773127</td>\n",
       "      <td>53322700</td>\n",
       "    </tr>\n",
       "    <tr>\n",
       "      <th>2011-01-19</th>\n",
       "      <td>Wednesday</td>\n",
       "      <td>28.459999</td>\n",
       "      <td>28.680000</td>\n",
       "      <td>28.270000</td>\n",
       "      <td>28.469999</td>\n",
       "      <td>23.615528</td>\n",
       "      <td>50005900</td>\n",
       "    </tr>\n",
       "    <tr>\n",
       "      <th>2011-01-20</th>\n",
       "      <td>Thursday</td>\n",
       "      <td>28.500000</td>\n",
       "      <td>28.549999</td>\n",
       "      <td>28.129999</td>\n",
       "      <td>28.350000</td>\n",
       "      <td>23.515991</td>\n",
       "      <td>58613600</td>\n",
       "    </tr>\n",
       "    <tr>\n",
       "      <th>2011-01-21</th>\n",
       "      <td>Friday</td>\n",
       "      <td>28.400000</td>\n",
       "      <td>28.430000</td>\n",
       "      <td>28.020000</td>\n",
       "      <td>28.020000</td>\n",
       "      <td>23.242262</td>\n",
       "      <td>58080300</td>\n",
       "    </tr>\n",
       "    <tr>\n",
       "      <th>2011-01-24</th>\n",
       "      <td>Monday</td>\n",
       "      <td>28.020000</td>\n",
       "      <td>28.559999</td>\n",
       "      <td>27.990000</td>\n",
       "      <td>28.379999</td>\n",
       "      <td>23.540869</td>\n",
       "      <td>52047800</td>\n",
       "    </tr>\n",
       "    <tr>\n",
       "      <th>2011-01-25</th>\n",
       "      <td>Tuesday</td>\n",
       "      <td>28.139999</td>\n",
       "      <td>28.450001</td>\n",
       "      <td>28.120001</td>\n",
       "      <td>28.450001</td>\n",
       "      <td>23.598934</td>\n",
       "      <td>42436600</td>\n",
       "    </tr>\n",
       "    <tr>\n",
       "      <th>2011-01-26</th>\n",
       "      <td>Wednesday</td>\n",
       "      <td>28.510000</td>\n",
       "      <td>28.990000</td>\n",
       "      <td>28.500000</td>\n",
       "      <td>28.780001</td>\n",
       "      <td>23.872667</td>\n",
       "      <td>74628800</td>\n",
       "    </tr>\n",
       "    <tr>\n",
       "      <th>2011-01-27</th>\n",
       "      <td>Thursday</td>\n",
       "      <td>28.750000</td>\n",
       "      <td>29.459999</td>\n",
       "      <td>28.490000</td>\n",
       "      <td>28.870001</td>\n",
       "      <td>23.947323</td>\n",
       "      <td>146938600</td>\n",
       "    </tr>\n",
       "    <tr>\n",
       "      <th>2011-01-28</th>\n",
       "      <td>Friday</td>\n",
       "      <td>28.900000</td>\n",
       "      <td>28.930000</td>\n",
       "      <td>27.450001</td>\n",
       "      <td>27.750000</td>\n",
       "      <td>23.018297</td>\n",
       "      <td>141249400</td>\n",
       "    </tr>\n",
       "    <tr>\n",
       "      <th>2011-01-31</th>\n",
       "      <td>Monday</td>\n",
       "      <td>27.770000</td>\n",
       "      <td>27.900000</td>\n",
       "      <td>27.420000</td>\n",
       "      <td>27.730000</td>\n",
       "      <td>23.001705</td>\n",
       "      <td>65029000</td>\n",
       "    </tr>\n",
       "    <tr>\n",
       "      <th>2011-02-01</th>\n",
       "      <td>Tuesday</td>\n",
       "      <td>27.799999</td>\n",
       "      <td>28.059999</td>\n",
       "      <td>27.610001</td>\n",
       "      <td>27.990000</td>\n",
       "      <td>23.217369</td>\n",
       "      <td>62810700</td>\n",
       "    </tr>\n",
       "  </tbody>\n",
       "</table>\n",
       "</div>"
      ],
      "text/plain": [
       "           Day of Week       Open       High        Low      Close  Adj Close  \\\n",
       "Date                                                                            \n",
       "2011-01-03      Monday  28.049999  28.180000  27.920000  27.980000  23.209078   \n",
       "2011-01-04     Tuesday  27.940001  28.170000  27.850000  28.090000  23.300323   \n",
       "2011-01-05   Wednesday  27.900000  28.010000  27.770000  28.000000  23.225672   \n",
       "2011-01-06    Thursday  28.040001  28.850000  27.860001  28.820000  23.905846   \n",
       "2011-01-07      Friday  28.639999  28.740000  28.250000  28.600000  23.723364   \n",
       "2011-01-10      Monday  28.260000  28.400000  28.040001  28.219999  23.408155   \n",
       "2011-01-11     Tuesday  28.200001  28.250000  28.049999  28.110001  23.316910   \n",
       "2011-01-12   Wednesday  28.120001  28.590000  28.070000  28.549999  23.681883   \n",
       "2011-01-13    Thursday  28.330000  28.389999  28.010000  28.190001  23.383274   \n",
       "2011-01-14      Friday  28.080000  28.379999  27.910000  28.299999  23.474516   \n",
       "2011-01-18     Tuesday  28.160000  28.740000  28.139999  28.660000  23.773127   \n",
       "2011-01-19   Wednesday  28.459999  28.680000  28.270000  28.469999  23.615528   \n",
       "2011-01-20    Thursday  28.500000  28.549999  28.129999  28.350000  23.515991   \n",
       "2011-01-21      Friday  28.400000  28.430000  28.020000  28.020000  23.242262   \n",
       "2011-01-24      Monday  28.020000  28.559999  27.990000  28.379999  23.540869   \n",
       "2011-01-25     Tuesday  28.139999  28.450001  28.120001  28.450001  23.598934   \n",
       "2011-01-26   Wednesday  28.510000  28.990000  28.500000  28.780001  23.872667   \n",
       "2011-01-27    Thursday  28.750000  29.459999  28.490000  28.870001  23.947323   \n",
       "2011-01-28      Friday  28.900000  28.930000  27.450001  27.750000  23.018297   \n",
       "2011-01-31      Monday  27.770000  27.900000  27.420000  27.730000  23.001705   \n",
       "2011-02-01     Tuesday  27.799999  28.059999  27.610001  27.990000  23.217369   \n",
       "\n",
       "               Volume  \n",
       "Date                   \n",
       "2011-01-03   53443800  \n",
       "2011-01-04   54405600  \n",
       "2011-01-05   58998700  \n",
       "2011-01-06   88026300  \n",
       "2011-01-07   73762000  \n",
       "2011-01-10   57573600  \n",
       "2011-01-11   50298900  \n",
       "2011-01-12   52631100  \n",
       "2011-01-13   67077600  \n",
       "2011-01-14   62688400  \n",
       "2011-01-18   53322700  \n",
       "2011-01-19   50005900  \n",
       "2011-01-20   58613600  \n",
       "2011-01-21   58080300  \n",
       "2011-01-24   52047800  \n",
       "2011-01-25   42436600  \n",
       "2011-01-26   74628800  \n",
       "2011-01-27  146938600  \n",
       "2011-01-28  141249400  \n",
       "2011-01-31   65029000  \n",
       "2011-02-01   62810700  "
      ]
     },
     "execution_count": 44,
     "metadata": {},
     "output_type": "execute_result"
    }
   ],
   "source": [
    "financialData.truncate(before=\"2011-01-01\",after='2011-02-01') \n",
    "#between before and after and needs datetime index should be sorted properly or use sort_index method before"
   ]
  },
  {
   "cell_type": "markdown",
   "metadata": {},
   "source": [
    "## The pd.DateOffset Objects\n",
    "This is used to modify existing dates"
   ]
  },
  {
   "cell_type": "code",
   "execution_count": 45,
   "metadata": {
    "collapsed": true
   },
   "outputs": [],
   "source": [
    "googlestock = data.DataReader(name=\"GOOG\",data_source=\"yahoo\",start=dt.date(2000,1,1),end=dt.datetime.now())"
   ]
  },
  {
   "cell_type": "code",
   "execution_count": null,
   "metadata": {},
   "outputs": [],
   "source": []
  },
  {
   "cell_type": "code",
   "execution_count": null,
   "metadata": {
    "collapsed": true
   },
   "outputs": [],
   "source": []
  },
  {
   "cell_type": "code",
   "execution_count": null,
   "metadata": {
    "collapsed": true
   },
   "outputs": [],
   "source": []
  },
  {
   "cell_type": "code",
   "execution_count": null,
   "metadata": {
    "collapsed": true
   },
   "outputs": [],
   "source": []
  }
 ],
 "metadata": {
  "kernelspec": {
   "display_name": "deeplearning",
   "language": "python",
   "name": "deeplearning"
  },
  "language_info": {
   "codemirror_mode": {
    "name": "ipython",
    "version": 3
   },
   "file_extension": ".py",
   "mimetype": "text/x-python",
   "name": "python",
   "nbconvert_exporter": "python",
   "pygments_lexer": "ipython3",
   "version": "3.5.4"
  }
 },
 "nbformat": 4,
 "nbformat_minor": 2
}
