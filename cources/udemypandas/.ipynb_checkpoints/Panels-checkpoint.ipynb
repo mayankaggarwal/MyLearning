{
 "cells": [
  {
   "cell_type": "code",
   "execution_count": 1,
   "metadata": {
    "collapsed": true
   },
   "outputs": [],
   "source": [
    "import pandas as pd\n",
    "from pandas_datareader import data"
   ]
  },
  {
   "cell_type": "code",
   "execution_count": 2,
   "metadata": {
    "collapsed": true
   },
   "outputs": [],
   "source": [
    "companies = [\"MSFT\",\"GOOG\",\"AAPL\",\"YHOO\",\"AMZN\"]"
   ]
  },
  {
   "cell_type": "code",
   "execution_count": 3,
   "metadata": {
    "collapsed": true
   },
   "outputs": [],
   "source": [
    "p = data.DataReader(name=companies,data_source=\"google\",\n",
    "                start=\"2010-01-01\", end = \"2016-12-31\")"
   ]
  },
  {
   "cell_type": "markdown",
   "metadata": {},
   "source": [
    "## The Axes of Panel Object"
   ]
  },
  {
   "cell_type": "code",
   "execution_count": 7,
   "metadata": {},
   "outputs": [
    {
     "data": {
      "text/plain": [
       "<class 'pandas.core.panel.Panel'>\n",
       "Dimensions: 5 (items) x 251 (major_axis) x 5 (minor_axis)\n",
       "Items axis: Open to Volume\n",
       "Major_axis axis: 2016-11-22 00:00:00 to 2017-11-20 00:00:00\n",
       "Minor_axis axis: AAPL to YHOO"
      ]
     },
     "execution_count": 7,
     "metadata": {},
     "output_type": "execute_result"
    }
   ],
   "source": [
    "p"
   ]
  },
  {
   "cell_type": "code",
   "execution_count": 8,
   "metadata": {
    "collapsed": true
   },
   "outputs": [],
   "source": [
    "#Dimensions = items * major_axis * minor_axis\n",
    "#items tells us the number of dataframes in panel. These are actually the columns of each dataframe\n",
    "#major_axis number of rows \n",
    "#minor axis number of columns (five company names)"
   ]
  },
  {
   "cell_type": "code",
   "execution_count": 9,
   "metadata": {},
   "outputs": [
    {
     "data": {
      "text/plain": [
       "Index(['Open', 'High', 'Low', 'Close', 'Volume'], dtype='object')"
      ]
     },
     "execution_count": 9,
     "metadata": {},
     "output_type": "execute_result"
    }
   ],
   "source": [
    "p.items"
   ]
  },
  {
   "cell_type": "code",
   "execution_count": 10,
   "metadata": {},
   "outputs": [
    {
     "data": {
      "text/plain": [
       "DatetimeIndex(['2016-11-22', '2016-11-23', '2016-11-25', '2016-11-28',\n",
       "               '2016-11-29', '2016-11-30', '2016-12-01', '2016-12-02',\n",
       "               '2016-12-05', '2016-12-06',\n",
       "               ...\n",
       "               '2017-11-07', '2017-11-08', '2017-11-09', '2017-11-10',\n",
       "               '2017-11-13', '2017-11-14', '2017-11-15', '2017-11-16',\n",
       "               '2017-11-17', '2017-11-20'],\n",
       "              dtype='datetime64[ns]', name='Date', length=251, freq=None)"
      ]
     },
     "execution_count": 10,
     "metadata": {},
     "output_type": "execute_result"
    }
   ],
   "source": [
    "p.major_axis"
   ]
  },
  {
   "cell_type": "code",
   "execution_count": 11,
   "metadata": {},
   "outputs": [
    {
     "data": {
      "text/plain": [
       "Index(['AAPL', 'AMZN', 'GOOG', 'MSFT', 'YHOO'], dtype='object')"
      ]
     },
     "execution_count": 11,
     "metadata": {},
     "output_type": "execute_result"
    }
   ],
   "source": [
    "p.minor_axis"
   ]
  },
  {
   "cell_type": "code",
   "execution_count": 12,
   "metadata": {},
   "outputs": [
    {
     "data": {
      "text/plain": [
       "[Index(['Open', 'High', 'Low', 'Close', 'Volume'], dtype='object'),\n",
       " DatetimeIndex(['2016-11-22', '2016-11-23', '2016-11-25', '2016-11-28',\n",
       "                '2016-11-29', '2016-11-30', '2016-12-01', '2016-12-02',\n",
       "                '2016-12-05', '2016-12-06',\n",
       "                ...\n",
       "                '2017-11-07', '2017-11-08', '2017-11-09', '2017-11-10',\n",
       "                '2017-11-13', '2017-11-14', '2017-11-15', '2017-11-16',\n",
       "                '2017-11-17', '2017-11-20'],\n",
       "               dtype='datetime64[ns]', name='Date', length=251, freq=None),\n",
       " Index(['AAPL', 'AMZN', 'GOOG', 'MSFT', 'YHOO'], dtype='object')]"
      ]
     },
     "execution_count": 12,
     "metadata": {},
     "output_type": "execute_result"
    }
   ],
   "source": [
    "p.axes"
   ]
  },
  {
   "cell_type": "markdown",
   "metadata": {},
   "source": [
    "## Panel Attributes"
   ]
  },
  {
   "cell_type": "code",
   "execution_count": 13,
   "metadata": {},
   "outputs": [
    {
     "data": {
      "text/plain": [
       "3"
      ]
     },
     "execution_count": 13,
     "metadata": {},
     "output_type": "execute_result"
    }
   ],
   "source": [
    "p.ndim"
   ]
  },
  {
   "cell_type": "code",
   "execution_count": 14,
   "metadata": {},
   "outputs": [
    {
     "data": {
      "text/plain": [
       "Open      float64\n",
       "High      float64\n",
       "Low       float64\n",
       "Close     float64\n",
       "Volume    float64\n",
       "dtype: object"
      ]
     },
     "execution_count": 14,
     "metadata": {},
     "output_type": "execute_result"
    }
   ],
   "source": [
    "p.dtypes"
   ]
  },
  {
   "cell_type": "code",
   "execution_count": 15,
   "metadata": {},
   "outputs": [
    {
     "data": {
      "text/plain": [
       "(5, 251, 5)"
      ]
     },
     "execution_count": 15,
     "metadata": {},
     "output_type": "execute_result"
    }
   ],
   "source": [
    "p.shape"
   ]
  },
  {
   "cell_type": "code",
   "execution_count": 17,
   "metadata": {},
   "outputs": [
    {
     "data": {
      "text/plain": [
       "6275"
      ]
     },
     "execution_count": 17,
     "metadata": {},
     "output_type": "execute_result"
    }
   ],
   "source": [
    "p.size #total number of values stored in panel object"
   ]
  },
  {
   "cell_type": "code",
   "execution_count": 18,
   "metadata": {
    "collapsed": true
   },
   "outputs": [
    {
     "data": {
      "text/plain": [
       "array([[[  1.11950000e+02,   7.88170000e+02,   7.72630000e+02,\n",
       "           6.09800000e+01,   4.12000000e+01],\n",
       "        [  1.11360000e+02,   7.81730000e+02,   7.67730000e+02,\n",
       "           6.10100000e+01,   4.09100000e+01],\n",
       "        [  1.11470000e+02,   7.86500000e+02,   7.64260000e+02,\n",
       "           6.03000000e+01,   4.10800000e+01],\n",
       "        ..., \n",
       "        [  1.71180000e+02,   1.13016000e+03,   1.02252000e+03,\n",
       "           8.31000000e+01,   6.98000000e+01],\n",
       "        [  1.71040000e+02,   1.13828000e+03,   1.03401000e+03,\n",
       "           8.31200000e+01,   7.08100000e+01],\n",
       "        [  1.70290000e+02,   1.12977000e+03,   1.02026000e+03,\n",
       "           8.24000000e+01,   7.16000000e+01]],\n",
       "\n",
       "       [[  1.12420000e+02,   7.92400000e+02,   7.76960000e+02,\n",
       "           6.12600000e+01,   4.14000000e+01],\n",
       "        [  1.11510000e+02,   7.81750000e+02,   7.68280000e+02,\n",
       "           6.11000000e+01,   4.09800000e+01],\n",
       "        [  1.11870000e+02,   7.86750000e+02,   7.65000000e+02,\n",
       "           6.05300000e+01,   4.10800000e+01],\n",
       "        ..., \n",
       "        [  1.71870000e+02,   1.13816000e+03,   1.03592000e+03,\n",
       "           8.34200000e+01,   7.12200000e+01],\n",
       "        [  1.71390000e+02,   1.13880000e+03,   1.03442000e+03,\n",
       "           8.31200000e+01,   7.13700000e+01],\n",
       "        [  1.70560000e+02,   1.13342000e+03,   1.02261000e+03,\n",
       "           8.25900000e+01,   7.25300000e+01]],\n",
       "\n",
       "       [[  1.11400000e+02,   7.81000000e+02,   7.67000000e+02,\n",
       "           6.08000000e+01,   4.08300000e+01],\n",
       "        [  1.10330000e+02,   7.73120000e+02,   7.55250000e+02,\n",
       "           6.02500000e+01,   4.05400000e+01],\n",
       "        [  1.10950000e+02,   7.77900000e+02,   7.60520000e+02,\n",
       "           6.01300000e+01,   4.07100000e+01],\n",
       "        ..., \n",
       "        [  1.70300000e+02,   1.13005000e+03,   1.02252000e+03,\n",
       "           8.29400000e+01,   6.98000000e+01],\n",
       "        [  1.69640000e+02,   1.12581000e+03,   1.01775000e+03,\n",
       "           8.22400000e+01,   7.07400000e+01],\n",
       "        [  1.69560000e+02,   1.12255000e+03,   1.01750000e+03,\n",
       "           8.22500000e+01,   7.14300000e+01]],\n",
       "\n",
       "       [[  1.11800000e+02,   7.85330000e+02,   7.68270000e+02,\n",
       "           6.11200000e+01,   4.10100000e+01],\n",
       "        [  1.11230000e+02,   7.80120000e+02,   7.60990000e+02,\n",
       "           6.04000000e+01,   4.09600000e+01],\n",
       "        [  1.11790000e+02,   7.80370000e+02,   7.61680000e+02,\n",
       "           6.05300000e+01,   4.08700000e+01],\n",
       "        ..., \n",
       "        [  1.71100000e+02,   1.13729000e+03,   1.03250000e+03,\n",
       "           8.32000000e+01,   7.07500000e+01],\n",
       "        [  1.70150000e+02,   1.12988000e+03,   1.01909000e+03,\n",
       "           8.24000000e+01,   7.10200000e+01],\n",
       "        [  1.69980000e+02,   1.12631000e+03,   1.01838000e+03,\n",
       "           8.25300000e+01,   7.19500000e+01]],\n",
       "\n",
       "       [[  2.59655340e+07,   5.31132000e+06,   1.59310800e+06,\n",
       "           2.32067000e+07,   8.88154100e+06],\n",
       "        [  2.74263940e+07,   3.54026300e+06,   1.47841700e+06,\n",
       "           2.18489130e+07,   3.71925700e+06],\n",
       "        [  1.14759220e+07,   1.83706800e+06,   5.87421000e+05,\n",
       "           8.40961600e+06,   2.58690800e+06],\n",
       "        ..., \n",
       "        [  2.36374840e+07,   2.21332200e+06,   1.12968800e+06,\n",
       "           2.09627500e+07,   7.51050400e+06],\n",
       "        [  2.18995440e+07,   2.41338800e+06,   1.39706400e+06,\n",
       "           2.20789930e+07,   1.42985540e+07],\n",
       "        [  1.62624470e+07,   2.16385500e+06,   9.53470000e+05,\n",
       "           1.63149780e+07,   1.46663390e+07]]])"
      ]
     },
     "execution_count": 18,
     "metadata": {},
     "output_type": "execute_result"
    }
   ],
   "source": [
    "p.values"
   ]
  },
  {
   "cell_type": "markdown",
   "metadata": {
    "collapsed": true
   },
   "source": [
    "## Use Brackets notation to Extract a DataFrame (for subsetting)"
   ]
  },
  {
   "cell_type": "code",
   "execution_count": 6,
   "metadata": {},
   "outputs": [
    {
     "data": {
      "text/html": [
       "<div>\n",
       "<style scoped>\n",
       "    .dataframe tbody tr th:only-of-type {\n",
       "        vertical-align: middle;\n",
       "    }\n",
       "\n",
       "    .dataframe tbody tr th {\n",
       "        vertical-align: top;\n",
       "    }\n",
       "\n",
       "    .dataframe thead th {\n",
       "        text-align: right;\n",
       "    }\n",
       "</style>\n",
       "<table border=\"1\" class=\"dataframe\">\n",
       "  <thead>\n",
       "    <tr style=\"text-align: right;\">\n",
       "      <th></th>\n",
       "      <th>AAPL</th>\n",
       "      <th>AMZN</th>\n",
       "      <th>GOOG</th>\n",
       "      <th>MSFT</th>\n",
       "      <th>YHOO</th>\n",
       "    </tr>\n",
       "    <tr>\n",
       "      <th>Date</th>\n",
       "      <th></th>\n",
       "      <th></th>\n",
       "      <th></th>\n",
       "      <th></th>\n",
       "      <th></th>\n",
       "    </tr>\n",
       "  </thead>\n",
       "  <tbody>\n",
       "    <tr>\n",
       "      <th>2016-11-25</th>\n",
       "      <td>11475922.0</td>\n",
       "      <td>1837068.0</td>\n",
       "      <td>587421.0</td>\n",
       "      <td>8409616.0</td>\n",
       "      <td>2586908.0</td>\n",
       "    </tr>\n",
       "    <tr>\n",
       "      <th>2016-11-28</th>\n",
       "      <td>27193983.0</td>\n",
       "      <td>4438828.0</td>\n",
       "      <td>2188151.0</td>\n",
       "      <td>20732619.0</td>\n",
       "      <td>6836364.0</td>\n",
       "    </tr>\n",
       "    <tr>\n",
       "      <th>2016-11-29</th>\n",
       "      <td>28528750.0</td>\n",
       "      <td>3272344.0</td>\n",
       "      <td>1616618.0</td>\n",
       "      <td>22366721.0</td>\n",
       "      <td>13085981.0</td>\n",
       "    </tr>\n",
       "    <tr>\n",
       "      <th>2016-11-30</th>\n",
       "      <td>36162258.0</td>\n",
       "      <td>4625946.0</td>\n",
       "      <td>2392890.0</td>\n",
       "      <td>34655435.0</td>\n",
       "      <td>7644360.0</td>\n",
       "    </tr>\n",
       "    <tr>\n",
       "      <th>2016-12-01</th>\n",
       "      <td>37086862.0</td>\n",
       "      <td>4665993.0</td>\n",
       "      <td>3017947.0</td>\n",
       "      <td>34542121.0</td>\n",
       "      <td>12624139.0</td>\n",
       "    </tr>\n",
       "  </tbody>\n",
       "</table>\n",
       "</div>"
      ],
      "text/plain": [
       "                  AAPL       AMZN       GOOG        MSFT        YHOO\n",
       "Date                                                                \n",
       "2016-11-25  11475922.0  1837068.0   587421.0   8409616.0   2586908.0\n",
       "2016-11-28  27193983.0  4438828.0  2188151.0  20732619.0   6836364.0\n",
       "2016-11-29  28528750.0  3272344.0  1616618.0  22366721.0  13085981.0\n",
       "2016-11-30  36162258.0  4625946.0  2392890.0  34655435.0   7644360.0\n",
       "2016-12-01  37086862.0  4665993.0  3017947.0  34542121.0  12624139.0"
      ]
     },
     "execution_count": 6,
     "metadata": {},
     "output_type": "execute_result"
    }
   ],
   "source": [
    "p[\"Open\"] #returns a brand new data frame\n",
    "p[\"Volume\"].head()"
   ]
  },
  {
   "cell_type": "code",
   "execution_count": 8,
   "metadata": {},
   "outputs": [
    {
     "data": {
      "text/html": [
       "<div>\n",
       "<style scoped>\n",
       "    .dataframe tbody tr th:only-of-type {\n",
       "        vertical-align: middle;\n",
       "    }\n",
       "\n",
       "    .dataframe tbody tr th {\n",
       "        vertical-align: top;\n",
       "    }\n",
       "\n",
       "    .dataframe thead th {\n",
       "        text-align: right;\n",
       "    }\n",
       "</style>\n",
       "<table border=\"1\" class=\"dataframe\">\n",
       "  <thead>\n",
       "    <tr style=\"text-align: right;\">\n",
       "      <th></th>\n",
       "      <th>AAPL</th>\n",
       "      <th>AMZN</th>\n",
       "      <th>GOOG</th>\n",
       "      <th>MSFT</th>\n",
       "      <th>YHOO</th>\n",
       "    </tr>\n",
       "    <tr>\n",
       "      <th>Date</th>\n",
       "      <th></th>\n",
       "      <th></th>\n",
       "      <th></th>\n",
       "      <th></th>\n",
       "      <th></th>\n",
       "    </tr>\n",
       "  </thead>\n",
       "  <tbody>\n",
       "    <tr>\n",
       "      <th>2016-11-25</th>\n",
       "      <td>11475922.0</td>\n",
       "      <td>1837068.0</td>\n",
       "      <td>587421.0</td>\n",
       "      <td>8409616.0</td>\n",
       "      <td>2586908.0</td>\n",
       "    </tr>\n",
       "    <tr>\n",
       "      <th>2016-11-28</th>\n",
       "      <td>27193983.0</td>\n",
       "      <td>4438828.0</td>\n",
       "      <td>2188151.0</td>\n",
       "      <td>20732619.0</td>\n",
       "      <td>6836364.0</td>\n",
       "    </tr>\n",
       "    <tr>\n",
       "      <th>2016-11-29</th>\n",
       "      <td>28528750.0</td>\n",
       "      <td>3272344.0</td>\n",
       "      <td>1616618.0</td>\n",
       "      <td>22366721.0</td>\n",
       "      <td>13085981.0</td>\n",
       "    </tr>\n",
       "  </tbody>\n",
       "</table>\n",
       "</div>"
      ],
      "text/plain": [
       "                  AAPL       AMZN       GOOG        MSFT        YHOO\n",
       "Date                                                                \n",
       "2016-11-25  11475922.0  1837068.0   587421.0   8409616.0   2586908.0\n",
       "2016-11-28  27193983.0  4438828.0  2188151.0  20732619.0   6836364.0\n",
       "2016-11-29  28528750.0  3272344.0  1616618.0  22366721.0  13085981.0"
      ]
     },
     "execution_count": 8,
     "metadata": {},
     "output_type": "execute_result"
    }
   ],
   "source": [
    "p.Volume.head(3) #Can access based on name of column"
   ]
  },
  {
   "cell_type": "markdown",
   "metadata": {
    "collapsed": true
   },
   "source": [
    "## Extracting from .loc[] , .iloc[], and .ix[] Methods"
   ]
  },
  {
   "cell_type": "code",
   "execution_count": 9,
   "metadata": {
    "collapsed": true
   },
   "outputs": [],
   "source": [
    "#In dataframe these methods have two arguments row location and column location\n",
    "#The behavior is different in panel"
   ]
  },
  {
   "cell_type": "code",
   "execution_count": 14,
   "metadata": {},
   "outputs": [
    {
     "data": {
      "text/plain": [
       "789.26999999999998"
      ]
     },
     "execution_count": 14,
     "metadata": {},
     "output_type": "execute_result"
    }
   ],
   "source": [
    "#first paramter of loc would be one of the item from items axes\n",
    "#second paramter would be a value from major axis. On item not found it will through an exception\n",
    "#third parameter is value of minor axis\n",
    "#paramters are option\n",
    "p.loc[\"Close\",\"2016-12-12\",\"GOOG\"]"
   ]
  },
  {
   "cell_type": "code",
   "execution_count": 22,
   "metadata": {},
   "outputs": [
    {
     "data": {
      "text/plain": [
       "789.26999999999998"
      ]
     },
     "execution_count": 22,
     "metadata": {},
     "output_type": "execute_result"
    }
   ],
   "source": [
    "p.iloc[3,11,2] #iloc takes index position"
   ]
  },
  {
   "cell_type": "code",
   "execution_count": 23,
   "metadata": {},
   "outputs": [
    {
     "name": "stderr",
     "output_type": "stream",
     "text": [
      "C:\\Users\\Inspiron\\Anaconda3\\envs\\tensorflow\\lib\\site-packages\\ipykernel_launcher.py:1: DeprecationWarning: \n",
      ".ix is deprecated. Please use\n",
      ".loc for label based indexing or\n",
      ".iloc for positional indexing\n",
      "\n",
      "See the documentation here:\n",
      "http://pandas.pydata.org/pandas-docs/stable/indexing.html#ix-indexer-is-deprecated\n",
      "  \"\"\"Entry point for launching an IPython kernel.\n"
     ]
    },
    {
     "data": {
      "text/plain": [
       "789.26999999999998"
      ]
     },
     "execution_count": 23,
     "metadata": {},
     "output_type": "execute_result"
    }
   ],
   "source": [
    "p.ix[\"Close\",11,\"GOOG\"] #Mix and matach of loc and iloc"
   ]
  },
  {
   "cell_type": "markdown",
   "metadata": {},
   "source": [
    "## Convert a Panel to a MultiIndex Dataframe (and Vice Versa)"
   ]
  },
  {
   "cell_type": "code",
   "execution_count": 32,
   "metadata": {},
   "outputs": [
    {
     "data": {
      "text/html": [
       "<div>\n",
       "<style scoped>\n",
       "    .dataframe tbody tr th:only-of-type {\n",
       "        vertical-align: middle;\n",
       "    }\n",
       "\n",
       "    .dataframe tbody tr th {\n",
       "        vertical-align: top;\n",
       "    }\n",
       "\n",
       "    .dataframe thead th {\n",
       "        text-align: right;\n",
       "    }\n",
       "</style>\n",
       "<table border=\"1\" class=\"dataframe\">\n",
       "  <thead>\n",
       "    <tr style=\"text-align: right;\">\n",
       "      <th></th>\n",
       "      <th></th>\n",
       "      <th>Open</th>\n",
       "      <th>High</th>\n",
       "      <th>Low</th>\n",
       "      <th>Close</th>\n",
       "      <th>Volume</th>\n",
       "    </tr>\n",
       "    <tr>\n",
       "      <th>Date</th>\n",
       "      <th>minor</th>\n",
       "      <th></th>\n",
       "      <th></th>\n",
       "      <th></th>\n",
       "      <th></th>\n",
       "      <th></th>\n",
       "    </tr>\n",
       "  </thead>\n",
       "  <tbody>\n",
       "    <tr>\n",
       "      <th rowspan=\"5\" valign=\"top\">2016-11-25</th>\n",
       "      <th>AAPL</th>\n",
       "      <td>111.47</td>\n",
       "      <td>111.87</td>\n",
       "      <td>110.95</td>\n",
       "      <td>111.79</td>\n",
       "      <td>11475922.0</td>\n",
       "    </tr>\n",
       "    <tr>\n",
       "      <th>AMZN</th>\n",
       "      <td>786.50</td>\n",
       "      <td>786.75</td>\n",
       "      <td>777.90</td>\n",
       "      <td>780.37</td>\n",
       "      <td>1837068.0</td>\n",
       "    </tr>\n",
       "    <tr>\n",
       "      <th>GOOG</th>\n",
       "      <td>764.26</td>\n",
       "      <td>765.00</td>\n",
       "      <td>760.52</td>\n",
       "      <td>761.68</td>\n",
       "      <td>587421.0</td>\n",
       "    </tr>\n",
       "    <tr>\n",
       "      <th>MSFT</th>\n",
       "      <td>60.30</td>\n",
       "      <td>60.53</td>\n",
       "      <td>60.13</td>\n",
       "      <td>60.53</td>\n",
       "      <td>8409616.0</td>\n",
       "    </tr>\n",
       "    <tr>\n",
       "      <th>YHOO</th>\n",
       "      <td>41.08</td>\n",
       "      <td>41.08</td>\n",
       "      <td>40.71</td>\n",
       "      <td>40.87</td>\n",
       "      <td>2586908.0</td>\n",
       "    </tr>\n",
       "    <tr>\n",
       "      <th rowspan=\"5\" valign=\"top\">2016-11-28</th>\n",
       "      <th>AAPL</th>\n",
       "      <td>111.43</td>\n",
       "      <td>112.46</td>\n",
       "      <td>111.39</td>\n",
       "      <td>111.57</td>\n",
       "      <td>27193983.0</td>\n",
       "    </tr>\n",
       "    <tr>\n",
       "      <th>AMZN</th>\n",
       "      <td>776.99</td>\n",
       "      <td>777.00</td>\n",
       "      <td>764.24</td>\n",
       "      <td>766.77</td>\n",
       "      <td>4438828.0</td>\n",
       "    </tr>\n",
       "    <tr>\n",
       "      <th>GOOG</th>\n",
       "      <td>760.00</td>\n",
       "      <td>779.53</td>\n",
       "      <td>759.80</td>\n",
       "      <td>768.24</td>\n",
       "      <td>2188151.0</td>\n",
       "    </tr>\n",
       "    <tr>\n",
       "      <th>MSFT</th>\n",
       "      <td>60.34</td>\n",
       "      <td>61.02</td>\n",
       "      <td>60.21</td>\n",
       "      <td>60.61</td>\n",
       "      <td>20732619.0</td>\n",
       "    </tr>\n",
       "    <tr>\n",
       "      <th>YHOO</th>\n",
       "      <td>40.85</td>\n",
       "      <td>41.70</td>\n",
       "      <td>40.74</td>\n",
       "      <td>41.45</td>\n",
       "      <td>6836364.0</td>\n",
       "    </tr>\n",
       "  </tbody>\n",
       "</table>\n",
       "</div>"
      ],
      "text/plain": [
       "                    Open    High     Low   Close      Volume\n",
       "Date       minor                                            \n",
       "2016-11-25 AAPL   111.47  111.87  110.95  111.79  11475922.0\n",
       "           AMZN   786.50  786.75  777.90  780.37   1837068.0\n",
       "           GOOG   764.26  765.00  760.52  761.68    587421.0\n",
       "           MSFT    60.30   60.53   60.13   60.53   8409616.0\n",
       "           YHOO    41.08   41.08   40.71   40.87   2586908.0\n",
       "2016-11-28 AAPL   111.43  112.46  111.39  111.57  27193983.0\n",
       "           AMZN   776.99  777.00  764.24  766.77   4438828.0\n",
       "           GOOG   760.00  779.53  759.80  768.24   2188151.0\n",
       "           MSFT    60.34   61.02   60.21   60.61  20732619.0\n",
       "           YHOO    40.85   41.70   40.74   41.45   6836364.0"
      ]
     },
     "execution_count": 32,
     "metadata": {},
     "output_type": "execute_result"
    }
   ],
   "source": [
    "df = p.to_frame() #major and minor are structured together to become an index\n",
    "p.to_frame().head(10)"
   ]
  },
  {
   "cell_type": "code",
   "execution_count": 33,
   "metadata": {},
   "outputs": [
    {
     "name": "stderr",
     "output_type": "stream",
     "text": [
      "C:\\Users\\Inspiron\\Anaconda3\\envs\\tensorflow\\lib\\site-packages\\ipykernel_launcher.py:2: DeprecationWarning: \n",
      "Panel is deprecated and will be removed in a future version.\n",
      "The recommended way to represent these types of 3-dimensional data are with a MultiIndex on a DataFrame, via the Panel.to_frame() method\n",
      "Alternatively, you can use the xarray package http://xarray.pydata.org/en/stable/.\n",
      "Pandas provides a `.to_xarray()` method to help automate this conversion.\n",
      "\n",
      "  \n"
     ]
    }
   ],
   "source": [
    "#Doing reverse\n",
    "p = df.to_panel()"
   ]
  },
  {
   "cell_type": "markdown",
   "metadata": {},
   "source": [
    "## The .major_xs() Method"
   ]
  },
  {
   "cell_type": "code",
   "execution_count": 35,
   "metadata": {},
   "outputs": [
    {
     "data": {
      "text/plain": [
       "DatetimeIndex(['2016-11-25', '2016-11-28', '2016-11-29', '2016-11-30',\n",
       "               '2016-12-01', '2016-12-02', '2016-12-05', '2016-12-06',\n",
       "               '2016-12-07', '2016-12-08',\n",
       "               ...\n",
       "               '2017-11-09', '2017-11-10', '2017-11-13', '2017-11-14',\n",
       "               '2017-11-15', '2017-11-16', '2017-11-17', '2017-11-20',\n",
       "               '2017-11-21', '2017-11-22'],\n",
       "              dtype='datetime64[ns]', name='Date', length=251, freq=None)"
      ]
     },
     "execution_count": 35,
     "metadata": {},
     "output_type": "execute_result"
    }
   ],
   "source": [
    "p.major_axis #This attribute returns the row labels of our panel which in this case is datetime"
   ]
  },
  {
   "cell_type": "code",
   "execution_count": 39,
   "metadata": {},
   "outputs": [
    {
     "data": {
      "text/html": [
       "<div>\n",
       "<style scoped>\n",
       "    .dataframe tbody tr th:only-of-type {\n",
       "        vertical-align: middle;\n",
       "    }\n",
       "\n",
       "    .dataframe tbody tr th {\n",
       "        vertical-align: top;\n",
       "    }\n",
       "\n",
       "    .dataframe thead th {\n",
       "        text-align: right;\n",
       "    }\n",
       "</style>\n",
       "<table border=\"1\" class=\"dataframe\">\n",
       "  <thead>\n",
       "    <tr style=\"text-align: right;\">\n",
       "      <th></th>\n",
       "      <th>Open</th>\n",
       "      <th>High</th>\n",
       "      <th>Low</th>\n",
       "      <th>Close</th>\n",
       "      <th>Volume</th>\n",
       "    </tr>\n",
       "    <tr>\n",
       "      <th>minor</th>\n",
       "      <th></th>\n",
       "      <th></th>\n",
       "      <th></th>\n",
       "      <th></th>\n",
       "      <th></th>\n",
       "    </tr>\n",
       "  </thead>\n",
       "  <tbody>\n",
       "    <tr>\n",
       "      <th>AAPL</th>\n",
       "      <td>111.47</td>\n",
       "      <td>111.87</td>\n",
       "      <td>110.95</td>\n",
       "      <td>111.79</td>\n",
       "      <td>11475922.0</td>\n",
       "    </tr>\n",
       "    <tr>\n",
       "      <th>AMZN</th>\n",
       "      <td>786.50</td>\n",
       "      <td>786.75</td>\n",
       "      <td>777.90</td>\n",
       "      <td>780.37</td>\n",
       "      <td>1837068.0</td>\n",
       "    </tr>\n",
       "    <tr>\n",
       "      <th>GOOG</th>\n",
       "      <td>764.26</td>\n",
       "      <td>765.00</td>\n",
       "      <td>760.52</td>\n",
       "      <td>761.68</td>\n",
       "      <td>587421.0</td>\n",
       "    </tr>\n",
       "    <tr>\n",
       "      <th>MSFT</th>\n",
       "      <td>60.30</td>\n",
       "      <td>60.53</td>\n",
       "      <td>60.13</td>\n",
       "      <td>60.53</td>\n",
       "      <td>8409616.0</td>\n",
       "    </tr>\n",
       "    <tr>\n",
       "      <th>YHOO</th>\n",
       "      <td>41.08</td>\n",
       "      <td>41.08</td>\n",
       "      <td>40.71</td>\n",
       "      <td>40.87</td>\n",
       "      <td>2586908.0</td>\n",
       "    </tr>\n",
       "  </tbody>\n",
       "</table>\n",
       "</div>"
      ],
      "text/plain": [
       "         Open    High     Low   Close      Volume\n",
       "minor                                            \n",
       "AAPL   111.47  111.87  110.95  111.79  11475922.0\n",
       "AMZN   786.50  786.75  777.90  780.37   1837068.0\n",
       "GOOG   764.26  765.00  760.52  761.68    587421.0\n",
       "MSFT    60.30   60.53   60.13   60.53   8409616.0\n",
       "YHOO    41.08   41.08   40.71   40.87   2586908.0"
      ]
     },
     "execution_count": 39,
     "metadata": {},
     "output_type": "execute_result"
    }
   ],
   "source": [
    "p.major_xs(\"2016-11-25\") #returns a dataframe sliced around a key on major axis"
   ]
  },
  {
   "cell_type": "code",
   "execution_count": 41,
   "metadata": {},
   "outputs": [
    {
     "data": {
      "text/html": [
       "<div>\n",
       "<style scoped>\n",
       "    .dataframe tbody tr th:only-of-type {\n",
       "        vertical-align: middle;\n",
       "    }\n",
       "\n",
       "    .dataframe tbody tr th {\n",
       "        vertical-align: top;\n",
       "    }\n",
       "\n",
       "    .dataframe thead th {\n",
       "        text-align: right;\n",
       "    }\n",
       "</style>\n",
       "<table border=\"1\" class=\"dataframe\">\n",
       "  <thead>\n",
       "    <tr style=\"text-align: right;\">\n",
       "      <th></th>\n",
       "      <th>Open</th>\n",
       "      <th>High</th>\n",
       "      <th>Low</th>\n",
       "      <th>Close</th>\n",
       "      <th>Volume</th>\n",
       "    </tr>\n",
       "    <tr>\n",
       "      <th>Date</th>\n",
       "      <th></th>\n",
       "      <th></th>\n",
       "      <th></th>\n",
       "      <th></th>\n",
       "      <th></th>\n",
       "    </tr>\n",
       "  </thead>\n",
       "  <tbody>\n",
       "    <tr>\n",
       "      <th>2016-11-25</th>\n",
       "      <td>764.26</td>\n",
       "      <td>765.00</td>\n",
       "      <td>760.52</td>\n",
       "      <td>761.68</td>\n",
       "      <td>587421.0</td>\n",
       "    </tr>\n",
       "    <tr>\n",
       "      <th>2016-11-28</th>\n",
       "      <td>760.00</td>\n",
       "      <td>779.53</td>\n",
       "      <td>759.80</td>\n",
       "      <td>768.24</td>\n",
       "      <td>2188151.0</td>\n",
       "    </tr>\n",
       "    <tr>\n",
       "      <th>2016-11-29</th>\n",
       "      <td>771.53</td>\n",
       "      <td>778.50</td>\n",
       "      <td>768.24</td>\n",
       "      <td>770.84</td>\n",
       "      <td>1616618.0</td>\n",
       "    </tr>\n",
       "  </tbody>\n",
       "</table>\n",
       "</div>"
      ],
      "text/plain": [
       "              Open    High     Low   Close     Volume\n",
       "Date                                                 \n",
       "2016-11-25  764.26  765.00  760.52  761.68   587421.0\n",
       "2016-11-28  760.00  779.53  759.80  768.24  2188151.0\n",
       "2016-11-29  771.53  778.50  768.24  770.84  1616618.0"
      ]
     },
     "execution_count": 41,
     "metadata": {},
     "output_type": "execute_result"
    }
   ],
   "source": [
    "p.minor_xs(\"GOOG\").head(3) #returns a dataframe sliced around a key on minor axis"
   ]
  },
  {
   "cell_type": "markdown",
   "metadata": {},
   "source": [
    "## Transpose a Panel with .transpose() Method()"
   ]
  },
  {
   "cell_type": "code",
   "execution_count": 42,
   "metadata": {},
   "outputs": [
    {
     "data": {
      "text/plain": [
       "<class 'pandas.core.panel.Panel'>\n",
       "Dimensions: 5 (items) x 251 (major_axis) x 5 (minor_axis)\n",
       "Items axis: AAPL to YHOO\n",
       "Major_axis axis: 2016-11-25 00:00:00 to 2017-11-22 00:00:00\n",
       "Minor_axis axis: Open to Volume"
      ]
     },
     "execution_count": 42,
     "metadata": {},
     "output_type": "execute_result"
    }
   ],
   "source": [
    "#For swapping items axis with minor axis\n",
    "p.transpose(2,1,0)  #moving minor axis 2 to first axis,keeping same for major axis and entering items axis 0 at third position"
   ]
  },
  {
   "cell_type": "code",
   "execution_count": 43,
   "metadata": {
    "collapsed": true
   },
   "outputs": [],
   "source": [
    "p2 = p.transpose(2,1,0)"
   ]
  },
  {
   "cell_type": "code",
   "execution_count": 45,
   "metadata": {},
   "outputs": [
    {
     "data": {
      "text/html": [
       "<div>\n",
       "<style scoped>\n",
       "    .dataframe tbody tr th:only-of-type {\n",
       "        vertical-align: middle;\n",
       "    }\n",
       "\n",
       "    .dataframe tbody tr th {\n",
       "        vertical-align: top;\n",
       "    }\n",
       "\n",
       "    .dataframe thead th {\n",
       "        text-align: right;\n",
       "    }\n",
       "</style>\n",
       "<table border=\"1\" class=\"dataframe\">\n",
       "  <thead>\n",
       "    <tr style=\"text-align: right;\">\n",
       "      <th></th>\n",
       "      <th>Open</th>\n",
       "      <th>High</th>\n",
       "      <th>Low</th>\n",
       "      <th>Close</th>\n",
       "      <th>Volume</th>\n",
       "    </tr>\n",
       "    <tr>\n",
       "      <th>Date</th>\n",
       "      <th></th>\n",
       "      <th></th>\n",
       "      <th></th>\n",
       "      <th></th>\n",
       "      <th></th>\n",
       "    </tr>\n",
       "  </thead>\n",
       "  <tbody>\n",
       "    <tr>\n",
       "      <th>2016-11-25</th>\n",
       "      <td>111.47</td>\n",
       "      <td>111.87</td>\n",
       "      <td>110.95</td>\n",
       "      <td>111.79</td>\n",
       "      <td>11475922.0</td>\n",
       "    </tr>\n",
       "    <tr>\n",
       "      <th>2016-11-28</th>\n",
       "      <td>111.43</td>\n",
       "      <td>112.46</td>\n",
       "      <td>111.39</td>\n",
       "      <td>111.57</td>\n",
       "      <td>27193983.0</td>\n",
       "    </tr>\n",
       "    <tr>\n",
       "      <th>2016-11-29</th>\n",
       "      <td>110.78</td>\n",
       "      <td>112.03</td>\n",
       "      <td>110.07</td>\n",
       "      <td>111.46</td>\n",
       "      <td>28528750.0</td>\n",
       "    </tr>\n",
       "    <tr>\n",
       "      <th>2016-11-30</th>\n",
       "      <td>111.60</td>\n",
       "      <td>112.20</td>\n",
       "      <td>110.27</td>\n",
       "      <td>110.52</td>\n",
       "      <td>36162258.0</td>\n",
       "    </tr>\n",
       "    <tr>\n",
       "      <th>2016-12-01</th>\n",
       "      <td>110.36</td>\n",
       "      <td>110.94</td>\n",
       "      <td>109.03</td>\n",
       "      <td>109.49</td>\n",
       "      <td>37086862.0</td>\n",
       "    </tr>\n",
       "  </tbody>\n",
       "</table>\n",
       "</div>"
      ],
      "text/plain": [
       "              Open    High     Low   Close      Volume\n",
       "Date                                                  \n",
       "2016-11-25  111.47  111.87  110.95  111.79  11475922.0\n",
       "2016-11-28  111.43  112.46  111.39  111.57  27193983.0\n",
       "2016-11-29  110.78  112.03  110.07  111.46  28528750.0\n",
       "2016-11-30  111.60  112.20  110.27  110.52  36162258.0\n",
       "2016-12-01  110.36  110.94  109.03  109.49  37086862.0"
      ]
     },
     "execution_count": 45,
     "metadata": {},
     "output_type": "execute_result"
    }
   ],
   "source": [
    "p2[\"AAPL\"].head()"
   ]
  },
  {
   "cell_type": "code",
   "execution_count": 50,
   "metadata": {},
   "outputs": [
    {
     "data": {
      "text/html": [
       "<div>\n",
       "<style scoped>\n",
       "    .dataframe tbody tr th:only-of-type {\n",
       "        vertical-align: middle;\n",
       "    }\n",
       "\n",
       "    .dataframe tbody tr th {\n",
       "        vertical-align: top;\n",
       "    }\n",
       "\n",
       "    .dataframe thead th {\n",
       "        text-align: right;\n",
       "    }\n",
       "</style>\n",
       "<table border=\"1\" class=\"dataframe\">\n",
       "  <thead>\n",
       "    <tr style=\"text-align: right;\">\n",
       "      <th>minor</th>\n",
       "      <th>AAPL</th>\n",
       "      <th>AMZN</th>\n",
       "      <th>GOOG</th>\n",
       "      <th>MSFT</th>\n",
       "      <th>YHOO</th>\n",
       "    </tr>\n",
       "  </thead>\n",
       "  <tbody>\n",
       "    <tr>\n",
       "      <th>Open</th>\n",
       "      <td>115.04</td>\n",
       "      <td>778.25</td>\n",
       "      <td>797.4</td>\n",
       "      <td>63.00</td>\n",
       "      <td>41.44</td>\n",
       "    </tr>\n",
       "    <tr>\n",
       "      <th>High</th>\n",
       "      <td>116.20</td>\n",
       "      <td>780.86</td>\n",
       "      <td>804.0</td>\n",
       "      <td>63.45</td>\n",
       "      <td>41.53</td>\n",
       "    </tr>\n",
       "  </tbody>\n",
       "</table>\n",
       "</div>"
      ],
      "text/plain": [
       "minor    AAPL    AMZN   GOOG   MSFT   YHOO\n",
       "Open   115.04  778.25  797.4  63.00  41.44\n",
       "High   116.20  780.86  804.0  63.45  41.53"
      ]
     },
     "execution_count": 50,
     "metadata": {},
     "output_type": "execute_result"
    }
   ],
   "source": [
    "p2.major_xs(\"2016-12-14\").head(2)"
   ]
  },
  {
   "cell_type": "code",
   "execution_count": 52,
   "metadata": {},
   "outputs": [
    {
     "data": {
      "text/html": [
       "<div>\n",
       "<style scoped>\n",
       "    .dataframe tbody tr th:only-of-type {\n",
       "        vertical-align: middle;\n",
       "    }\n",
       "\n",
       "    .dataframe tbody tr th {\n",
       "        vertical-align: top;\n",
       "    }\n",
       "\n",
       "    .dataframe thead th {\n",
       "        text-align: right;\n",
       "    }\n",
       "</style>\n",
       "<table border=\"1\" class=\"dataframe\">\n",
       "  <thead>\n",
       "    <tr style=\"text-align: right;\">\n",
       "      <th>minor</th>\n",
       "      <th>AAPL</th>\n",
       "      <th>AMZN</th>\n",
       "      <th>GOOG</th>\n",
       "      <th>MSFT</th>\n",
       "      <th>YHOO</th>\n",
       "    </tr>\n",
       "    <tr>\n",
       "      <th>Date</th>\n",
       "      <th></th>\n",
       "      <th></th>\n",
       "      <th></th>\n",
       "      <th></th>\n",
       "      <th></th>\n",
       "    </tr>\n",
       "  </thead>\n",
       "  <tbody>\n",
       "    <tr>\n",
       "      <th>2016-11-25</th>\n",
       "      <td>11475922.0</td>\n",
       "      <td>1837068.0</td>\n",
       "      <td>587421.0</td>\n",
       "      <td>8409616.0</td>\n",
       "      <td>2586908.0</td>\n",
       "    </tr>\n",
       "    <tr>\n",
       "      <th>2016-11-28</th>\n",
       "      <td>27193983.0</td>\n",
       "      <td>4438828.0</td>\n",
       "      <td>2188151.0</td>\n",
       "      <td>20732619.0</td>\n",
       "      <td>6836364.0</td>\n",
       "    </tr>\n",
       "  </tbody>\n",
       "</table>\n",
       "</div>"
      ],
      "text/plain": [
       "minor             AAPL       AMZN       GOOG        MSFT       YHOO\n",
       "Date                                                               \n",
       "2016-11-25  11475922.0  1837068.0   587421.0   8409616.0  2586908.0\n",
       "2016-11-28  27193983.0  4438828.0  2188151.0  20732619.0  6836364.0"
      ]
     },
     "execution_count": 52,
     "metadata": {},
     "output_type": "execute_result"
    }
   ],
   "source": [
    "p2.minor_xs(\"Volume\").head(2)"
   ]
  },
  {
   "cell_type": "markdown",
   "metadata": {},
   "source": [
    "## The .swapaxes() Method"
   ]
  },
  {
   "cell_type": "code",
   "execution_count": 53,
   "metadata": {},
   "outputs": [
    {
     "name": "stderr",
     "output_type": "stream",
     "text": [
      "C:\\Users\\Inspiron\\Anaconda3\\envs\\tensorflow\\lib\\site-packages\\ipykernel_launcher.py:1: DeprecationWarning: \n",
      "Panel is deprecated and will be removed in a future version.\n",
      "The recommended way to represent these types of 3-dimensional data are with a MultiIndex on a DataFrame, via the Panel.to_frame() method\n",
      "Alternatively, you can use the xarray package http://xarray.pydata.org/en/stable/.\n",
      "Pandas provides a `.to_xarray()` method to help automate this conversion.\n",
      "\n",
      "  \"\"\"Entry point for launching an IPython kernel.\n"
     ]
    },
    {
     "data": {
      "text/plain": [
       "<class 'pandas.core.panel.Panel'>\n",
       "Dimensions: 5 (items) x 251 (major_axis) x 5 (minor_axis)\n",
       "Items axis: AAPL to YHOO\n",
       "Major_axis axis: 2016-11-25 00:00:00 to 2017-11-22 00:00:00\n",
       "Minor_axis axis: Open to Volume"
      ]
     },
     "execution_count": 53,
     "metadata": {},
     "output_type": "execute_result"
    }
   ],
   "source": [
    "p.swapaxes(\"items\",\"minor\") #Similar to transpose"
   ]
  },
  {
   "cell_type": "code",
   "execution_count": null,
   "metadata": {
    "collapsed": true
   },
   "outputs": [],
   "source": []
  }
 ],
 "metadata": {
  "kernelspec": {
   "display_name": "deeplearning",
   "language": "python",
   "name": "deeplearning"
  },
  "language_info": {
   "codemirror_mode": {
    "name": "ipython",
    "version": 3
   },
   "file_extension": ".py",
   "mimetype": "text/x-python",
   "name": "python",
   "nbconvert_exporter": "python",
   "pygments_lexer": "ipython3",
   "version": "3.5.4"
  }
 },
 "nbformat": 4,
 "nbformat_minor": 2
}
