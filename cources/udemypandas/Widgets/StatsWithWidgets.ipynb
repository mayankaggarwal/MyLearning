{
 "cells": [
  {
   "cell_type": "code",
   "execution_count": 1,
   "metadata": {
    "collapsed": true
   },
   "outputs": [],
   "source": [
    "import ipywidgets as widgets\n",
    "from IPython.display import display\n",
    "import scipy.stats as st\n",
    "import matplotlib.pyplot as plt\n",
    "import matplotlib.mlab as mlab\n",
    "import numpy as np\n",
    "import pandas as pd\n",
    "import math\n",
    "\n",
    "%matplotlib inline"
   ]
  },
  {
   "cell_type": "code",
   "execution_count": 2,
   "metadata": {},
   "outputs": [
    {
     "data": {
      "application/vnd.jupyter.widget-view+json": {
       "model_id": "6fea687ff65144c5b552fb5ff06c3cb7",
       "version_major": 2,
       "version_minor": 0
      },
      "text/html": [
       "<p>Failed to display Jupyter Widget of type <code>HTML</code>.</p>\n",
       "<p>\n",
       "  If you're reading this message in the Jupyter Notebook or JupyterLab Notebook, it may mean\n",
       "  that the widgets JavaScript is still loading. If this message persists, it\n",
       "  likely means that the widgets JavaScript library is either not installed or\n",
       "  not enabled. See the <a href=\"https://ipywidgets.readthedocs.io/en/stable/user_install.html\">Jupyter\n",
       "  Widgets Documentation</a> for setup instructions.\n",
       "</p>\n",
       "<p>\n",
       "  If you're reading this message in another frontend (for example, a static\n",
       "  rendering on GitHub or <a href=\"https://nbviewer.jupyter.org/\">NBViewer</a>),\n",
       "  it may mean that your frontend doesn't currently support widgets.\n",
       "</p>\n"
      ],
      "text/plain": [
       "HTML(value='<H1>Computing Z score</H1>')"
      ]
     },
     "metadata": {},
     "output_type": "display_data"
    }
   ],
   "source": [
    "widgets.HTML(value = \"<H1>Computing Z score</H1>\")"
   ]
  },
  {
   "cell_type": "code",
   "execution_count": 3,
   "metadata": {
    "collapsed": true
   },
   "outputs": [],
   "source": [
    "widgets.HTML(value = \"Computing\")\n",
    "mean = widgets.FloatText()\n",
    "sd = widgets.FloatText()\n",
    "variable = widgets.FloatText()\n",
    "percentage = widgets.Checkbox(\n",
    "    value=False,\n",
    "    description='Percentage',\n",
    "    disabled=False\n",
    ")\n",
    "inputs = widgets.VBox(\n",
    "    [\n",
    "        widgets.HBox([widgets.Label(\"Mean              :\",layout=widgets.Layout(width=\"120px\")),mean])\n",
    "        ,widgets.HBox([widgets.Label(\"Standard Deviation:\",layout=widgets.Layout(width=\"120px\")),sd])\n",
    "        ,widgets.HBox([widgets.Label(\"Variable          :\",layout=widgets.Layout(width=\"120px\")),variable])\n",
    "        ,percentage\n",
    "    ])\n",
    "\n",
    "zscore = widgets.Label(value=\"\")\n",
    "zscoreOutput = widgets.HBox([widgets.Label(value=\"Z Score\"),zscore])\n",
    "prob = widgets.Label(value=\"\")\n",
    "probOutput = widgets.HBox([widgets.Label(value=\"Result\"),prob])\n",
    "\n",
    "output = widgets.VBox([zscoreOutput,probOutput])"
   ]
  },
  {
   "cell_type": "code",
   "execution_count": 11,
   "metadata": {
    "collapsed": true
   },
   "outputs": [],
   "source": [
    "def compute_probability(b):\n",
    "    if(percentage.value):\n",
    "        z = st.norm.ppf(variable.value)\n",
    "    else:\n",
    "        z = (variable.value-mean.value)/sd.value\n",
    "    zscore.value = str(z)\n",
    "    if(percentage.value):\n",
    "        prob.value = str((sd.value*z) + mean.value)\n",
    "    else:\n",
    "        prob.value = str(st.norm.cdf(z))\n",
    "    \n",
    "action = widgets.Button(description=\"Compute\",icon='check',style={'button_color':'red'})\n",
    "action.on_click(compute_probability)"
   ]
  },
  {
   "cell_type": "code",
   "execution_count": 12,
   "metadata": {},
   "outputs": [
    {
     "data": {
      "application/vnd.jupyter.widget-view+json": {
       "model_id": "f4e4dcfd5f37453f9451c8b12dc4e1b8",
       "version_major": 2,
       "version_minor": 0
      },
      "text/html": [
       "<p>Failed to display Jupyter Widget of type <code>VBox</code>.</p>\n",
       "<p>\n",
       "  If you're reading this message in the Jupyter Notebook or JupyterLab Notebook, it may mean\n",
       "  that the widgets JavaScript is still loading. If this message persists, it\n",
       "  likely means that the widgets JavaScript library is either not installed or\n",
       "  not enabled. See the <a href=\"https://ipywidgets.readthedocs.io/en/stable/user_install.html\">Jupyter\n",
       "  Widgets Documentation</a> for setup instructions.\n",
       "</p>\n",
       "<p>\n",
       "  If you're reading this message in another frontend (for example, a static\n",
       "  rendering on GitHub or <a href=\"https://nbviewer.jupyter.org/\">NBViewer</a>),\n",
       "  it may mean that your frontend doesn't currently support widgets.\n",
       "</p>\n"
      ],
      "text/plain": [
       "VBox(children=(HBox(children=(Label(value='Mean              :', layout=Layout(width='120px')), FloatText(value=78.0))), HBox(children=(Label(value='Standard Deviation:', layout=Layout(width='120px')), FloatText(value=8.5))), HBox(children=(Label(value='Variable          :', layout=Layout(width='120px')), FloatText(value=70.0))), Checkbox(value=False, description='Percentage')))"
      ]
     },
     "metadata": {},
     "output_type": "display_data"
    },
    {
     "data": {
      "application/vnd.jupyter.widget-view+json": {
       "model_id": "6eaadb1d0b754490b1499259b4cf7ae3",
       "version_major": 2,
       "version_minor": 0
      },
      "text/html": [
       "<p>Failed to display Jupyter Widget of type <code>Button</code>.</p>\n",
       "<p>\n",
       "  If you're reading this message in the Jupyter Notebook or JupyterLab Notebook, it may mean\n",
       "  that the widgets JavaScript is still loading. If this message persists, it\n",
       "  likely means that the widgets JavaScript library is either not installed or\n",
       "  not enabled. See the <a href=\"https://ipywidgets.readthedocs.io/en/stable/user_install.html\">Jupyter\n",
       "  Widgets Documentation</a> for setup instructions.\n",
       "</p>\n",
       "<p>\n",
       "  If you're reading this message in another frontend (for example, a static\n",
       "  rendering on GitHub or <a href=\"https://nbviewer.jupyter.org/\">NBViewer</a>),\n",
       "  it may mean that your frontend doesn't currently support widgets.\n",
       "</p>\n"
      ],
      "text/plain": [
       "Button(description='Compute', icon='check', style=ButtonStyle(button_color='red'))"
      ]
     },
     "metadata": {},
     "output_type": "display_data"
    },
    {
     "data": {
      "application/vnd.jupyter.widget-view+json": {
       "model_id": "142f9b0b3d9d44bcb25f341d378f1621",
       "version_major": 2,
       "version_minor": 0
      },
      "text/html": [
       "<p>Failed to display Jupyter Widget of type <code>VBox</code>.</p>\n",
       "<p>\n",
       "  If you're reading this message in the Jupyter Notebook or JupyterLab Notebook, it may mean\n",
       "  that the widgets JavaScript is still loading. If this message persists, it\n",
       "  likely means that the widgets JavaScript library is either not installed or\n",
       "  not enabled. See the <a href=\"https://ipywidgets.readthedocs.io/en/stable/user_install.html\">Jupyter\n",
       "  Widgets Documentation</a> for setup instructions.\n",
       "</p>\n",
       "<p>\n",
       "  If you're reading this message in another frontend (for example, a static\n",
       "  rendering on GitHub or <a href=\"https://nbviewer.jupyter.org/\">NBViewer</a>),\n",
       "  it may mean that your frontend doesn't currently support widgets.\n",
       "</p>\n"
      ],
      "text/plain": [
       "VBox(children=(HBox(children=(Label(value='Z Score'), Label(value='-0.9411764705882353'))), HBox(children=(Label(value='Result'), Label(value='0.0')))))"
      ]
     },
     "metadata": {},
     "output_type": "display_data"
    }
   ],
   "source": [
    "display(inputs)\n",
    "display(action)\n",
    "display(output)"
   ]
  },
  {
   "cell_type": "code",
   "execution_count": 6,
   "metadata": {},
   "outputs": [
    {
     "data": {
      "image/png": "[encoded data removed]",
      "text/plain": [
       "<matplotlib.figure.Figure at 0x21c3770df28>"
      ]
     },
     "metadata": {},
     "output_type": "display_data"
    }
   ],
   "source": [
    "mu = 0\n",
    "variance = 1\n",
    "sigma = math.sqrt(variance)\n",
    "x = np.linspace(mu - 3*sigma, mu + 3*sigma, 100)\n",
    "plt.plot(x,mlab.normpdf(x, mu, sigma))\n",
    "plt.plot(np.linspace(1,1,100),mlab.normpdf(x, mu, sigma))\n",
    "plt.fill_between(x=np.arange(-4,-1,0.01), \n",
    "                 y1= st.norm.pdf(np.arange(-4,-1,0.01)) ,\n",
    "                 facecolor='red',\n",
    "                 alpha=0.35)\n",
    "\n",
    "plt.plot(np.linspace(0,0,100),mlab.normpdf(x, mu, sigma))\n",
    "plt.show()\n"
   ]
  },
  {
   "cell_type": "code",
   "execution_count": 7,
   "metadata": {
    "collapsed": true
   },
   "outputs": [],
   "source": [
    "data = np.array([55,66,69,71,72,73,74,77,78,78,79,79,81,81,82,83,83,88,89,94])"
   ]
  },
  {
   "cell_type": "code",
   "execution_count": 50,
   "metadata": {},
   "outputs": [
    {
     "data": {
      "text/plain": [
       "Text(60,0.01,'15.73')"
      ]
     },
     "execution_count": 50,
     "metadata": {},
     "output_type": "execute_result"
    },
    {
     "data": {
      "image/png": "[encoded data removed]",
      "text/plain": [
       "<matplotlib.figure.Figure at 0x21c37ede4e0>"
      ]
     },
     "metadata": {},
     "output_type": "display_data"
    }
   ],
   "source": [
    "#pd.DataFrame(data).plot(kind=\"density\",figsize=(9,9))\n",
    "mu = data.mean()\n",
    "sigma = data.std()\n",
    "x = np.linspace(mu - 3*sigma, mu + 3*sigma, 100)\n",
    "plt.plot(x,mlab.normpdf(x, mu, sigma))\n",
    "plt.fill_between(x=np.linspace(mu - 1*sigma, mu + 1*sigma, 100), \n",
    "                 y1= mlab.normpdf(np.linspace(mu - 1*sigma, mu + 1*sigma, 100), mu, sigma) ,\n",
    "                 facecolor='blue',\n",
    "                 alpha=0.35)\n",
    "plt.fill_between(x=np.linspace(mu - 3*sigma, mu - 1*sigma, 100), \n",
    "                 y1= mlab.normpdf(np.linspace(mu - 3*sigma, mu - 1*sigma, 100), mu, sigma) ,\n",
    "                 facecolor='red',\n",
    "                 alpha=0.35)\n",
    "plt.fill_between(x=np.linspace(mu + 1*sigma, mu + 3*sigma, 100), \n",
    "                 y1= mlab.normpdf(np.linspace(mu + 1*sigma, mu + 3*sigma, 100), mu, sigma) ,\n",
    "                 facecolor='red',\n",
    "                 alpha=0.35)\n",
    "\n",
    "v = mu-1*sigma\n",
    "z = (v-mu)/sigma\n",
    "percen = st.norm.cdf(z)\n",
    "v2 = mu+1*sigma\n",
    "z2 = (v2-mu)/sigma\n",
    "percen2 = st.norm.cdf(z2)\n",
    "v3 = mu-3*sigma\n",
    "z3 = (v3-mu)/sigma\n",
    "percen3 = st.norm.cdf(z3)\n",
    "v4 = mu+3*sigma\n",
    "z4 = (v4-mu)/sigma\n",
    "percen4 = st.norm.cdf(z4)\n",
    "\n",
    "plt.text(x=76, y=0.03, s= \"{0:.2f}\".format((percen2 - percen)*100))\n",
    "plt.text(x=90, y=0.01, s= \"{0:.2f}\".format((percen4 - percen2)*100))\n",
    "plt.text(x=60, y=0.01, s= \"{0:.2f}\".format((percen - percen3)*100))\n",
    "#percentVariable1 = (sigma*st.norm.ppf(0.16)) + mu\n",
    "#plt.plot(np.linspace(percentVariable1,percentVariable1,100),mlab.normpdf(x, mu, sigma))\n",
    "#http://hamelg.blogspot.in/2015/11/python-for-data-analysis-part-22.html"
   ]
  },
  {
   "cell_type": "code",
   "execution_count": 39,
   "metadata": {},
   "outputs": [
    {
     "name": "stdout",
     "output_type": "stream",
     "text": [
      "52.1370857913\n",
      "69.1123619304\n"
     ]
    },
    {
     "data": {
      "text/plain": [
       "array([ 0.02850861,  0.02908446,  0.02965984,  0.03023425,  0.03080722,\n",
       "        0.03137824,  0.0319468 ,  0.03251239,  0.03307449,  0.03363258,\n",
       "        0.03418613,  0.03473462,  0.0352775 ,  0.03581425,  0.03634434,\n",
       "        0.03686721,  0.03738235,  0.03788922,  0.0383873 ,  0.03887605,\n",
       "        0.03935496,  0.03982352,  0.04028121,  0.04072753,  0.041162  ,\n",
       "        0.04158413,  0.04199344,  0.04238948,  0.04277179,  0.04313995,\n",
       "        0.04349352,  0.04383209,  0.04415527,  0.04446269,  0.04475398,\n",
       "        0.0450288 ,  0.04528681,  0.04552773,  0.04575124,  0.0459571 ,\n",
       "        0.04614504,  0.04631485,  0.04646631,  0.04659925,  0.0467135 ,\n",
       "        0.04680892,  0.0468854 ,  0.04694284,  0.04698117,  0.04700035,\n",
       "        0.04700035,  0.04698117,  0.04694284,  0.0468854 ,  0.04680892,\n",
       "        0.0467135 ,  0.04659925,  0.04646631,  0.04631485,  0.04614504,\n",
       "        0.0459571 ,  0.04575124,  0.04552773,  0.04528681,  0.0450288 ,\n",
       "        0.04475398,  0.04446269,  0.04415527,  0.04383209,  0.04349352,\n",
       "        0.04313995,  0.04277179,  0.04238948,  0.04199344,  0.04158413,\n",
       "        0.041162  ,  0.04072753,  0.04028121,  0.03982352,  0.03935496,\n",
       "        0.03887605,  0.0383873 ,  0.03788922,  0.03738235,  0.03686721,\n",
       "        0.03634434,  0.03581425,  0.0352775 ,  0.03473462,  0.03418613,\n",
       "        0.03363258,  0.03307449,  0.03251239,  0.0319468 ,  0.03137824,\n",
       "        0.03080722,  0.03023425,  0.02965984,  0.02908446,  0.02850861])"
      ]
     },
     "execution_count": 39,
     "metadata": {},
     "output_type": "execute_result"
    }
   ],
   "source": [
    "print(str(mu - 3*sigma))\n",
    "print(str(mu - 1*sigma))\n"
   ]
  },
  {
   "cell_type": "code",
   "execution_count": null,
   "metadata": {
    "collapsed": true
   },
   "outputs": [],
   "source": []
  }
 ],
 "metadata": {
  "kernelspec": {
   "display_name": "deeplearning",
   "language": "python",
   "name": "deeplearning"
  },
  "language_info": {
   "codemirror_mode": {
    "name": "ipython",
    "version": 3
   },
   "file_extension": ".py",
   "mimetype": "text/x-python",
   "name": "python",
   "nbconvert_exporter": "python",
   "pygments_lexer": "ipython3",
   "version": "3.5.4"
  }
 },
 "nbformat": 4,
 "nbformat_minor": 2
}
