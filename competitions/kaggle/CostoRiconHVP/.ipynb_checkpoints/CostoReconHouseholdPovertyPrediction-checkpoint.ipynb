{
 "cells": [
  {
   "cell_type": "code",
   "execution_count": 2,
   "metadata": {
    "collapsed": true
   },
   "outputs": [],
   "source": [
    "#https://www.kaggle.com/c/costa-rican-household-poverty-prediction/data"
   ]
  },
  {
   "cell_type": "markdown",
   "metadata": {},
   "source": [
    "# <font color=\"#2086BA\">1. Importing packages and Data</font>"
   ]
  },
  {
   "cell_type": "code",
   "execution_count": 1,
   "metadata": {
    "collapsed": true
   },
   "outputs": [],
   "source": [
    "import pandas as pd\n",
    "import numpy as np\n",
    "import matplotlib.pyplot as plt\n",
    "import seaborn as sns\n",
    "import os\n",
    "import gc\n",
    "\n",
    "%matplotlib inline"
   ]
  },
  {
   "cell_type": "code",
   "execution_count": 2,
   "metadata": {
    "collapsed": true
   },
   "outputs": [],
   "source": [
    "folderPath = \"D:/Rep/MyLearning/competitions/kaggle/CostoRiconHVP\";"
   ]
  },
  {
   "cell_type": "code",
   "execution_count": 3,
   "metadata": {
    "collapsed": true
   },
   "outputs": [],
   "source": [
    "fileName = \"train.csv\"\n",
    "df_train = pd.read_csv(os.path.join(folderPath,fileName))"
   ]
  },
  {
   "cell_type": "code",
   "execution_count": 4,
   "metadata": {
    "collapsed": true
   },
   "outputs": [],
   "source": [
    "fileName = \"test.csv\"\n",
    "df_test = pd.read_csv(os.path.join(folderPath,fileName))"
   ]
  },
  {
   "cell_type": "code",
   "execution_count": 5,
   "metadata": {
    "collapsed": true
   },
   "outputs": [],
   "source": [
    "data = pd.concat([df_train,df_test])"
   ]
  },
  {
   "cell_type": "code",
   "execution_count": 6,
   "metadata": {},
   "outputs": [
    {
     "data": {
      "text/html": [
       "<div>\n",
       "<style scoped>\n",
       "    .dataframe tbody tr th:only-of-type {\n",
       "        vertical-align: middle;\n",
       "    }\n",
       "\n",
       "    .dataframe tbody tr th {\n",
       "        vertical-align: top;\n",
       "    }\n",
       "\n",
       "    .dataframe thead th {\n",
       "        text-align: right;\n",
       "    }\n",
       "</style>\n",
       "<table border=\"1\" class=\"dataframe\">\n",
       "  <thead>\n",
       "    <tr style=\"text-align: right;\">\n",
       "      <th></th>\n",
       "      <th>Id</th>\n",
       "      <th>SQBage</th>\n",
       "      <th>SQBdependency</th>\n",
       "      <th>SQBedjefe</th>\n",
       "      <th>SQBescolari</th>\n",
       "      <th>SQBhogar_nin</th>\n",
       "      <th>SQBhogar_total</th>\n",
       "      <th>SQBmeaned</th>\n",
       "      <th>SQBovercrowding</th>\n",
       "      <th>Target</th>\n",
       "      <th>...</th>\n",
       "      <th>television</th>\n",
       "      <th>tipovivi1</th>\n",
       "      <th>tipovivi2</th>\n",
       "      <th>tipovivi3</th>\n",
       "      <th>tipovivi4</th>\n",
       "      <th>tipovivi5</th>\n",
       "      <th>v14a</th>\n",
       "      <th>v18q</th>\n",
       "      <th>v18q1</th>\n",
       "      <th>v2a1</th>\n",
       "    </tr>\n",
       "  </thead>\n",
       "  <tbody>\n",
       "    <tr>\n",
       "      <th>0</th>\n",
       "      <td>ID_279628684</td>\n",
       "      <td>1849</td>\n",
       "      <td>0.0</td>\n",
       "      <td>100</td>\n",
       "      <td>100</td>\n",
       "      <td>0</td>\n",
       "      <td>1</td>\n",
       "      <td>100.0</td>\n",
       "      <td>1.000000</td>\n",
       "      <td>4.0</td>\n",
       "      <td>...</td>\n",
       "      <td>0</td>\n",
       "      <td>0</td>\n",
       "      <td>0</td>\n",
       "      <td>1</td>\n",
       "      <td>0</td>\n",
       "      <td>0</td>\n",
       "      <td>1</td>\n",
       "      <td>0</td>\n",
       "      <td>NaN</td>\n",
       "      <td>190000.0</td>\n",
       "    </tr>\n",
       "    <tr>\n",
       "      <th>1</th>\n",
       "      <td>ID_f29eb3ddd</td>\n",
       "      <td>4489</td>\n",
       "      <td>64.0</td>\n",
       "      <td>144</td>\n",
       "      <td>144</td>\n",
       "      <td>0</td>\n",
       "      <td>1</td>\n",
       "      <td>144.0</td>\n",
       "      <td>1.000000</td>\n",
       "      <td>4.0</td>\n",
       "      <td>...</td>\n",
       "      <td>0</td>\n",
       "      <td>0</td>\n",
       "      <td>0</td>\n",
       "      <td>1</td>\n",
       "      <td>0</td>\n",
       "      <td>0</td>\n",
       "      <td>1</td>\n",
       "      <td>1</td>\n",
       "      <td>1.0</td>\n",
       "      <td>135000.0</td>\n",
       "    </tr>\n",
       "    <tr>\n",
       "      <th>2</th>\n",
       "      <td>ID_68de51c94</td>\n",
       "      <td>8464</td>\n",
       "      <td>64.0</td>\n",
       "      <td>0</td>\n",
       "      <td>121</td>\n",
       "      <td>0</td>\n",
       "      <td>1</td>\n",
       "      <td>121.0</td>\n",
       "      <td>0.250000</td>\n",
       "      <td>4.0</td>\n",
       "      <td>...</td>\n",
       "      <td>0</td>\n",
       "      <td>1</td>\n",
       "      <td>0</td>\n",
       "      <td>0</td>\n",
       "      <td>0</td>\n",
       "      <td>0</td>\n",
       "      <td>1</td>\n",
       "      <td>0</td>\n",
       "      <td>NaN</td>\n",
       "      <td>NaN</td>\n",
       "    </tr>\n",
       "    <tr>\n",
       "      <th>3</th>\n",
       "      <td>ID_d671db89c</td>\n",
       "      <td>289</td>\n",
       "      <td>1.0</td>\n",
       "      <td>121</td>\n",
       "      <td>81</td>\n",
       "      <td>4</td>\n",
       "      <td>16</td>\n",
       "      <td>121.0</td>\n",
       "      <td>1.777778</td>\n",
       "      <td>4.0</td>\n",
       "      <td>...</td>\n",
       "      <td>0</td>\n",
       "      <td>0</td>\n",
       "      <td>0</td>\n",
       "      <td>1</td>\n",
       "      <td>0</td>\n",
       "      <td>0</td>\n",
       "      <td>1</td>\n",
       "      <td>1</td>\n",
       "      <td>1.0</td>\n",
       "      <td>180000.0</td>\n",
       "    </tr>\n",
       "    <tr>\n",
       "      <th>4</th>\n",
       "      <td>ID_d56d6f5f5</td>\n",
       "      <td>1369</td>\n",
       "      <td>1.0</td>\n",
       "      <td>121</td>\n",
       "      <td>121</td>\n",
       "      <td>4</td>\n",
       "      <td>16</td>\n",
       "      <td>121.0</td>\n",
       "      <td>1.777778</td>\n",
       "      <td>4.0</td>\n",
       "      <td>...</td>\n",
       "      <td>0</td>\n",
       "      <td>0</td>\n",
       "      <td>0</td>\n",
       "      <td>1</td>\n",
       "      <td>0</td>\n",
       "      <td>0</td>\n",
       "      <td>1</td>\n",
       "      <td>1</td>\n",
       "      <td>1.0</td>\n",
       "      <td>180000.0</td>\n",
       "    </tr>\n",
       "  </tbody>\n",
       "</table>\n",
       "<p>5 rows × 143 columns</p>\n",
       "</div>"
      ],
      "text/plain": [
       "             Id  SQBage  SQBdependency  SQBedjefe  SQBescolari  SQBhogar_nin  \\\n",
       "0  ID_279628684    1849            0.0        100          100             0   \n",
       "1  ID_f29eb3ddd    4489           64.0        144          144             0   \n",
       "2  ID_68de51c94    8464           64.0          0          121             0   \n",
       "3  ID_d671db89c     289            1.0        121           81             4   \n",
       "4  ID_d56d6f5f5    1369            1.0        121          121             4   \n",
       "\n",
       "   SQBhogar_total  SQBmeaned  SQBovercrowding  Target    ...     television  \\\n",
       "0               1      100.0         1.000000     4.0    ...              0   \n",
       "1               1      144.0         1.000000     4.0    ...              0   \n",
       "2               1      121.0         0.250000     4.0    ...              0   \n",
       "3              16      121.0         1.777778     4.0    ...              0   \n",
       "4              16      121.0         1.777778     4.0    ...              0   \n",
       "\n",
       "   tipovivi1  tipovivi2  tipovivi3  tipovivi4  tipovivi5  v14a  v18q  v18q1  \\\n",
       "0          0          0          1          0          0     1     0    NaN   \n",
       "1          0          0          1          0          0     1     1    1.0   \n",
       "2          1          0          0          0          0     1     0    NaN   \n",
       "3          0          0          1          0          0     1     1    1.0   \n",
       "4          0          0          1          0          0     1     1    1.0   \n",
       "\n",
       "       v2a1  \n",
       "0  190000.0  \n",
       "1  135000.0  \n",
       "2       NaN  \n",
       "3  180000.0  \n",
       "4  180000.0  \n",
       "\n",
       "[5 rows x 143 columns]"
      ]
     },
     "execution_count": 6,
     "metadata": {},
     "output_type": "execute_result"
    }
   ],
   "source": [
    "data.head()"
   ]
  },
  {
   "cell_type": "markdown",
   "metadata": {},
   "source": [
    "# <font color=\"#2086BA\">2. Data Cleaning and Transformation</font> "
   ]
  },
  {
   "cell_type": "code",
   "execution_count": 7,
   "metadata": {},
   "outputs": [
    {
     "data": {
      "text/html": [
       "<div>\n",
       "<style scoped>\n",
       "    .dataframe tbody tr th:only-of-type {\n",
       "        vertical-align: middle;\n",
       "    }\n",
       "\n",
       "    .dataframe tbody tr th {\n",
       "        vertical-align: top;\n",
       "    }\n",
       "\n",
       "    .dataframe thead th {\n",
       "        text-align: right;\n",
       "    }\n",
       "</style>\n",
       "<table border=\"1\" class=\"dataframe\">\n",
       "  <thead>\n",
       "    <tr style=\"text-align: right;\">\n",
       "      <th></th>\n",
       "      <th>column_name</th>\n",
       "      <th>missing_count</th>\n",
       "    </tr>\n",
       "  </thead>\n",
       "  <tbody>\n",
       "    <tr>\n",
       "      <th>7</th>\n",
       "      <td>SQBmeaned</td>\n",
       "      <td>36</td>\n",
       "    </tr>\n",
       "    <tr>\n",
       "      <th>77</th>\n",
       "      <td>meaneduc</td>\n",
       "      <td>36</td>\n",
       "    </tr>\n",
       "    <tr>\n",
       "      <th>9</th>\n",
       "      <td>Target</td>\n",
       "      <td>23856</td>\n",
       "    </tr>\n",
       "    <tr>\n",
       "      <th>142</th>\n",
       "      <td>v2a1</td>\n",
       "      <td>24263</td>\n",
       "    </tr>\n",
       "    <tr>\n",
       "      <th>141</th>\n",
       "      <td>v18q1</td>\n",
       "      <td>25468</td>\n",
       "    </tr>\n",
       "    <tr>\n",
       "      <th>120</th>\n",
       "      <td>rez_esc</td>\n",
       "      <td>27581</td>\n",
       "    </tr>\n",
       "  </tbody>\n",
       "</table>\n",
       "</div>"
      ],
      "text/plain": [
       "    column_name  missing_count\n",
       "7     SQBmeaned             36\n",
       "77     meaneduc             36\n",
       "9        Target          23856\n",
       "142        v2a1          24263\n",
       "141       v18q1          25468\n",
       "120     rez_esc          27581"
      ]
     },
     "execution_count": 7,
     "metadata": {},
     "output_type": "execute_result"
    }
   ],
   "source": [
    "missing_df = data.isnull().sum(axis=0).reset_index()\n",
    "missing_df.columns = ['column_name', 'missing_count']\n",
    "missing_df = missing_df[missing_df['missing_count']>0]\n",
    "missing_df = missing_df.sort_values(by='missing_count')\n",
    "missing_df"
   ]
  },
  {
   "cell_type": "code",
   "execution_count": 17,
   "metadata": {},
   "outputs": [
    {
     "name": "stdout",
     "output_type": "stream",
     "text": [
      "Shape of train data : (9557, 143)\n",
      "Shape of train data : (23856, 142)\n"
     ]
    }
   ],
   "source": [
    "print('Shape of train data :',df_train.shape)\n",
    "print('Shape of train data :',df_test.shape)"
   ]
  },
  {
   "cell_type": "code",
   "execution_count": 20,
   "metadata": {},
   "outputs": [
    {
     "name": "stdout",
     "output_type": "stream",
     "text": [
      "Number of household in train data: 2988\n",
      "Number of household in test data: 7352\n"
     ]
    }
   ],
   "source": [
    "print('Number of household in train data:',df_train['idhogar'].nunique())\n",
    "print('Number of household in test data:',df_test['idhogar'].nunique())"
   ]
  },
  {
   "cell_type": "code",
   "execution_count": 23,
   "metadata": {},
   "outputs": [
    {
     "name": "stdout",
     "output_type": "stream",
     "text": [
      "Number of head of families in train data : 2973\n",
      "Number of head of families in test data: 7334\n"
     ]
    }
   ],
   "source": [
    "print('Number of head of families in train data :',df_train['parentesco1'].sum())\n",
    "print('Number of head of families in test data:',df_test['parentesco1'].sum())"
   ]
  },
  {
   "cell_type": "code",
   "execution_count": 25,
   "metadata": {
    "collapsed": true
   },
   "outputs": [],
   "source": [
    "familyheads = data.groupby('idhogar').agg({'parentesco1':'sum'}).reset_index()\n",
    "familyheads.columns = ['idhogar','numberofheads']"
   ]
  },
  {
   "cell_type": "code",
   "execution_count": 29,
   "metadata": {},
   "outputs": [
    {
     "name": "stdout",
     "output_type": "stream",
     "text": [
      "The number of families with no heads: 33\n"
     ]
    }
   ],
   "source": [
    "print('The number of families with no heads:',len(familyheads[familyheads['numberofheads']==0]))"
   ]
  },
  {
   "cell_type": "code",
   "execution_count": 48,
   "metadata": {
    "collapsed": true
   },
   "outputs": [],
   "source": [
    "data['meaneduc'].fillna(0,inplace=True)\n",
    "data['SQBmeaned'].fillna(0,inplace=True)\n",
    "data['v18q1'].fillna(0,inplace=True)\n",
    "data['rez_esc'].fillna(0,inplace=True)\n",
    "data['v2a1'].fillna(0,inplace=True)"
   ]
  },
  {
   "cell_type": "code",
   "execution_count": 34,
   "metadata": {},
   "outputs": [
    {
     "data": {
      "text/html": [
       "<div>\n",
       "<style scoped>\n",
       "    .dataframe tbody tr th:only-of-type {\n",
       "        vertical-align: middle;\n",
       "    }\n",
       "\n",
       "    .dataframe tbody tr th {\n",
       "        vertical-align: top;\n",
       "    }\n",
       "\n",
       "    .dataframe thead th {\n",
       "        text-align: right;\n",
       "    }\n",
       "</style>\n",
       "<table border=\"1\" class=\"dataframe\">\n",
       "  <thead>\n",
       "    <tr style=\"text-align: right;\">\n",
       "      <th></th>\n",
       "      <th>Count</th>\n",
       "      <th>Column Type</th>\n",
       "    </tr>\n",
       "  </thead>\n",
       "  <tbody>\n",
       "    <tr>\n",
       "      <th>0</th>\n",
       "      <td>Id</td>\n",
       "      <td>object</td>\n",
       "    </tr>\n",
       "    <tr>\n",
       "      <th>21</th>\n",
       "      <td>dependency</td>\n",
       "      <td>object</td>\n",
       "    </tr>\n",
       "    <tr>\n",
       "      <th>23</th>\n",
       "      <td>edjefa</td>\n",
       "      <td>object</td>\n",
       "    </tr>\n",
       "    <tr>\n",
       "      <th>24</th>\n",
       "      <td>edjefe</td>\n",
       "      <td>object</td>\n",
       "    </tr>\n",
       "    <tr>\n",
       "      <th>60</th>\n",
       "      <td>idhogar</td>\n",
       "      <td>object</td>\n",
       "    </tr>\n",
       "  </tbody>\n",
       "</table>\n",
       "</div>"
      ],
      "text/plain": [
       "         Count Column Type\n",
       "0           Id      object\n",
       "21  dependency      object\n",
       "23      edjefa      object\n",
       "24      edjefe      object\n",
       "60     idhogar      object"
      ]
     },
     "execution_count": 34,
     "metadata": {},
     "output_type": "execute_result"
    }
   ],
   "source": [
    "datatypes = data.dtypes.reset_index()\n",
    "datatypes.columns = [\"Count\", \"Column Type\"]\n",
    "datatypes[datatypes['Column Type']=='object']"
   ]
  },
  {
   "cell_type": "code",
   "execution_count": 8,
   "metadata": {
    "collapsed": true
   },
   "outputs": [],
   "source": [
    "data.drop(['dependecy','edjefa','edjefe','SQBescolari','SQBage','SQBhogar_total','SQBedjefe','SQBhogar_nin','SQBovercrowding','SQBdependency','SQBmeaned','agesq'],inplace=True)"
   ]
  },
  {
   "cell_type": "markdown",
   "metadata": {},
   "source": [
    "# <font color=\"#2086BA\">3. Data Exploration</font> "
   ]
  },
  {
   "cell_type": "markdown",
   "metadata": {},
   "source": [
    "### <font color=\"#2893D5\">1. Effect of luxury items</font> "
   ]
  },
  {
   "cell_type": "code",
   "execution_count": 36,
   "metadata": {},
   "outputs": [
    {
     "name": "stdout",
     "output_type": "stream",
     "text": [
      "Frequency table for refrig\n",
      "   index  refrig\n",
      "0      1    9152\n",
      "1      0     405\n",
      "Probability of having Refrigerator for each Target class\n",
      "   Target    refrig\n",
      "0       1  0.887417\n",
      "1       2  0.928616\n",
      "2       3  0.961952\n",
      "3       4  0.973316\n"
     ]
    }
   ],
   "source": [
    "#Refrigerator - refrig\n",
    "temp1 = df_train['refrig'].value_counts().reset_index()\n",
    "temp2 = df_train.pivot_table(values=\"refrig\",index=\"Target\",aggfunc=lambda x:x.mean()).reset_index()\n",
    "temp3 = pd.crosstab(df_train['refrig'], df_train['Target'])\n",
    "print('Frequency table for refrig')\n",
    "print(temp1)\n",
    "\n",
    "print('Probability of having Refrigerator for each Target class')\n",
    "print(temp2)"
   ]
  },
  {
   "cell_type": "code",
   "execution_count": 37,
   "metadata": {},
   "outputs": [
    {
     "data": {
      "image/png": "[encoded data removed]",
      "text/plain": [
       "<matplotlib.figure.Figure at 0x25f165ef0f0>"
      ]
     },
     "metadata": {},
     "output_type": "display_data"
    }
   ],
   "source": [
    "fig = plt.figure(figsize=(4,16))\n",
    "ax1 = fig.add_subplot(311)\n",
    "ax1.set_xlabel('Refrigerator')\n",
    "ax1.set_ylabel('Count for Individuals')\n",
    "ax1.set_title(\"Individuals by Refrigerator\")\n",
    "ax1.bar(temp1['index'],temp1['refrig']) #.plot(kind='bar')\n",
    "\n",
    "ax2 = fig.add_subplot(312)\n",
    "ax2.set_xlabel('Refrigerator')\n",
    "ax2.set_ylabel('Probability of Poverty level')\n",
    "ax2.set_title(\"Probability of following into poverty level for having Refrigerator\")\n",
    "ax2.bar(temp2['Target'],temp2['refrig']) #.plot(kind = 'bar')\n",
    "\n",
    "ax3 = fig.add_subplot(313)\n",
    "temp3.plot(kind='bar', stacked=True, color=['orange','green','blue','red'], grid=False,ax=ax3)\n",
    "plt.show()\n",
    "del(temp1)\n",
    "del(temp2)\n",
    "del(temp3)"
   ]
  },
  {
   "cell_type": "code",
   "execution_count": 68,
   "metadata": {},
   "outputs": [
    {
     "name": "stdout",
     "output_type": "stream",
     "text": [
      "If Refrigerator count is fine within family: True\n",
      "Refrigerator looks to have very little effect on povery levels\n"
     ]
    }
   ],
   "source": [
    "temp1 = df_train.groupby('idhogar').agg({'refrig':'sum','Id':'count'}).reset_index()\n",
    "print('If Refrigerator count is fine within family:',len(temp1[(temp1['refrig']!=temp1['Id']) & (temp1['refrig']>0)])==0)\n",
    "del(temp1)\n",
    "print('Refrigerator looks to have very little effect on povery levels')"
   ]
  },
  {
   "cell_type": "code",
   "execution_count": 67,
   "metadata": {},
   "outputs": [
    {
     "name": "stdout",
     "output_type": "stream",
     "text": [
      "Target         1         2         3         4  All\n",
      "refrig                                             \n",
      "0       0.209877  0.281481  0.113580  0.395062  1.0\n",
      "1       0.073208  0.162041  0.127076  0.637675  1.0\n",
      "All     0.079000  0.167103  0.126504  0.627394  1.0\n",
      "For all people having refrigerators only 7 % fall into extreme poverty while 63% are in good condition\n",
      "while of all people not having refrigerators onl 20% fall into extreme poverty while 40% are in good condition\n"
     ]
    }
   ],
   "source": [
    "table1 = df_train.pivot_table(index=[\"refrig\"],columns='Target',values='Id', aggfunc=len, margins=True, dropna=True,fill_value=0)\n",
    "print(table1.div(table1.iloc[:,-1], axis=0))\n",
    "del(table1)\n",
    "print('For all people having refrigerators only 7 % fall into extreme poverty while 63% are in good condition')\n",
    "print('while of all people not having refrigerators onl 20% fall into extreme poverty while 40% are in good condition')"
   ]
  },
  {
   "cell_type": "code",
   "execution_count": null,
   "metadata": {
    "collapsed": true
   },
   "outputs": [],
   "source": [
    "data['peopleinhousehold'] = data['bedrooms'] * data['overcrowding']\n",
    "data['peopleinhousehold'] = data['peopleinhousehold'].astype(np.int8)\n",
    "print('Difference between total individuals in household and bedrooms * no. of people per household :',len(data[data['hogar_total']!=data['peopleinhousehold']][['hogar_total','peopleinhousehold']]))\n",
    "print('Difference between total individuals in household is greater than number of people in house :',len(data[data['hogar_total']>data['peopleinhousehold']][['hogar_total','peopleinhousehold']]))\n",
    "print('Difference between total individuals in household is less than number of people in house :',len(data[data['hogar_total']<data['peopleinhousehold']][['hogar_total','peopleinhousehold']]))\n",
    "data.drop(['peopleinhousehold'],inplace=True)\n",
    "\n",
    "print('This shows a possibility that more than one family lives in same house and members of same family lives in different houses.')"
   ]
  },
  {
   "cell_type": "code",
   "execution_count": 13,
   "metadata": {
    "collapsed": true
   },
   "outputs": [],
   "source": [
    "#Since hhsize and tamhog are same\n",
    "data.drop(['tamhog'],inplace=True)"
   ]
  },
  {
   "cell_type": "code",
   "execution_count": 16,
   "metadata": {
    "collapsed": true
   },
   "outputs": [],
   "source": [
    "#Since overcrowding capture both so don't think 'hacdor','hacapo' is required\n",
    "data.drop(['hacdor','hacapo'],inplace=True)"
   ]
  },
  {
   "cell_type": "markdown",
   "metadata": {},
   "source": [
    "# <font color=\"#2086BA\">4. Feature Engineering</font> "
   ]
  },
  {
   "cell_type": "code",
   "execution_count": null,
   "metadata": {
    "collapsed": true
   },
   "outputs": [],
   "source": []
  },
  {
   "cell_type": "code",
   "execution_count": null,
   "metadata": {
    "collapsed": true
   },
   "outputs": [],
   "source": []
  },
  {
   "cell_type": "markdown",
   "metadata": {},
   "source": [
    "# <font color=\"#2086BA\">5. Predictive Modelling</font> "
   ]
  },
  {
   "cell_type": "code",
   "execution_count": 65,
   "metadata": {
    "collapsed": true
   },
   "outputs": [],
   "source": [
    "prediction_var = [x for x in df_train.columns if x not in ['Id','dependency','edjefa','edjefe','idhogar','parentesco1','Target']]\n",
    "target_var = 'Target'"
   ]
  },
  {
   "cell_type": "code",
   "execution_count": 71,
   "metadata": {},
   "outputs": [
    {
     "name": "stderr",
     "output_type": "stream",
     "text": [
      "C:\\Users\\Inspiron\\Anaconda3\\envs\\tensorflow\\lib\\site-packages\\ipykernel_launcher.py:3: SettingWithCopyWarning: \n",
      "A value is trying to be set on a copy of a slice from a DataFrame\n",
      "\n",
      "See the caveats in the documentation: http://pandas.pydata.org/pandas-docs/stable/indexing.html#indexing-view-versus-copy\n",
      "  This is separate from the ipykernel package so we can avoid doing imports until\n"
     ]
    }
   ],
   "source": [
    "train = data[(data[target_var].notnull())]\n",
    "test = data[(data[target_var].isnull())]\n",
    "test.drop(['Target'],axis=1,inplace=True)"
   ]
  },
  {
   "cell_type": "code",
   "execution_count": 72,
   "metadata": {
    "collapsed": true
   },
   "outputs": [],
   "source": [
    "from sklearn.cross_validation import KFold   #For K-fold cross validation\n",
    "from sklearn import metrics\n",
    "#Generic function for making a classification model and accessing performance:\n",
    "def classification_model(model, data, predictors, outcome):\n",
    "    #Fit the model:\n",
    "    model.fit(data[predictors],data[outcome])\n",
    "    #Make predictions on training set:\n",
    "    predictions = model.predict(data[predictors])\n",
    "    #Print accuracy\n",
    "    accuracy = metrics.accuracy_score(predictions,data[outcome])\n",
    "    print(\"Accuracy : %s\" % \"{0:.3%}\".format(accuracy))\n",
    "\n",
    "    #Perform k-fold cross-validation with 5 folds\n",
    "    kf = KFold(data.shape[0], n_folds=5)\n",
    "    error = []\n",
    "    for train, test in kf:\n",
    "        # Filter training data\n",
    "        train_predictors = (data[predictors].iloc[train,:])\n",
    "    \n",
    "        # The target we're using to train the algorithm.\n",
    "        train_target = data[outcome].iloc[train]\n",
    "    \n",
    "        # Training the algorithm using the predictors and target.\n",
    "        model.fit(train_predictors, train_target)\n",
    "    \n",
    "        #Record error from each cross-validation run\n",
    "        error.append(model.score(data[predictors].iloc[test,:], data[outcome].iloc[test]))\n",
    " \n",
    "        print(\"Cross-Validation Score : %s\" % \"{0:.3%}\".format(np.mean(error)))\n",
    "\n",
    "        #Fit the model again so that it can be refered outside the function:\n",
    "        model.fit(data[predictors],data[outcome]) "
   ]
  },
  {
   "cell_type": "code",
   "execution_count": 73,
   "metadata": {},
   "outputs": [
    {
     "name": "stdout",
     "output_type": "stream",
     "text": [
      "Accuracy : 65.732%\n",
      "Cross-Validation Score : 76.778%\n",
      "Cross-Validation Score : 74.242%\n",
      "Cross-Validation Score : 71.315%\n",
      "Cross-Validation Score : 67.641%\n",
      "Cross-Validation Score : 65.312%\n"
     ]
    }
   ],
   "source": [
    "from sklearn.linear_model import LogisticRegression\n",
    "model = LogisticRegression()\n",
    "classification_model(model,train,prediction_var,target_var)"
   ]
  },
  {
   "cell_type": "code",
   "execution_count": 74,
   "metadata": {},
   "outputs": [
    {
     "data": {
      "text/plain": [
       "23856"
      ]
     },
     "execution_count": 74,
     "metadata": {},
     "output_type": "execute_result"
    }
   ],
   "source": [
    "len(test)"
   ]
  },
  {
   "cell_type": "code",
   "execution_count": 79,
   "metadata": {},
   "outputs": [
    {
     "name": "stderr",
     "output_type": "stream",
     "text": [
      "C:\\Users\\Inspiron\\Anaconda3\\envs\\tensorflow\\lib\\site-packages\\ipykernel_launcher.py:1: SettingWithCopyWarning: \n",
      "A value is trying to be set on a copy of a slice from a DataFrame.\n",
      "Try using .loc[row_indexer,col_indexer] = value instead\n",
      "\n",
      "See the caveats in the documentation: http://pandas.pydata.org/pandas-docs/stable/indexing.html#indexing-view-versus-copy\n",
      "  \"\"\"Entry point for launching an IPython kernel.\n"
     ]
    }
   ],
   "source": [
    "test[\"Target\"] = model.predict(test[prediction_var])\n",
    "test[[\"Id\",\"Target\"]].to_csv(os.path.join(folderPath,\"CostaRiconPovertyPrediction_LR_12092018.csv\"),index=False)"
   ]
  },
  {
   "cell_type": "markdown",
   "metadata": {},
   "source": [
    "# <font color=\"#2086BA\">6. Evaluation</font> "
   ]
  },
  {
   "cell_type": "code",
   "execution_count": 82,
   "metadata": {},
   "outputs": [
    {
     "data": {
      "text/plain": [
       "Id         object\n",
       "Target    float64\n",
       "dtype: object"
      ]
     },
     "execution_count": 82,
     "metadata": {},
     "output_type": "execute_result"
    }
   ],
   "source": [
    "test[[\"Id\",\"Target\"]].dtypes"
   ]
  },
  {
   "cell_type": "code",
   "execution_count": null,
   "metadata": {
    "collapsed": true
   },
   "outputs": [],
   "source": []
  }
 ],
 "metadata": {
  "kernelspec": {
   "display_name": "deeplearning",
   "language": "python",
   "name": "deeplearning"
  },
  "language_info": {
   "codemirror_mode": {
    "name": "ipython",
    "version": 3
   },
   "file_extension": ".py",
   "mimetype": "text/x-python",
   "name": "python",
   "nbconvert_exporter": "python",
   "pygments_lexer": "ipython3",
   "version": "3.5.5"
  }
 },
 "nbformat": 4,
 "nbformat_minor": 2
}
