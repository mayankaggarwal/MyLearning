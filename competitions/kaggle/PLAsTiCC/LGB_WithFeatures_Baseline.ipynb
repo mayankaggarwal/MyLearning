{
 "cells": [
  {
   "cell_type": "markdown",
   "metadata": {},
   "source": [
    "https://www.kaggle.com/ogrellier/plasticc-in-a-kernel-meta-and-data/code"
   ]
  },
  {
   "cell_type": "markdown",
   "metadata": {},
   "source": [
    "# <font color='#9575cd'>1. Importing Packages and Data</font> "
   ]
  },
  {
   "cell_type": "code",
   "execution_count": 1,
   "metadata": {},
   "outputs": [],
   "source": [
    "import os\n",
    "import gc\n",
    "import warnings\n",
    "\n",
    "import pandas as pd\n",
    "import numpy as np\n",
    "\n",
    "import matplotlib.pyplot as plt\n",
    "import seaborn as sns\n",
    "\n",
    "#from sklearn.preprocessing import OneHotEncoder\n",
    "from sklearn.model_selection import StratifiedKFold\n",
    "#from sklearn.preprocessing import StandardScaler\n",
    "\n",
    "import lightgbm as lgb\n",
    "import logging\n",
    "\n",
    "warnings.filterwarnings('ignore')\n",
    "%matplotlib inline\n",
    "sns.set_style('whitegrid')"
   ]
  },
  {
   "cell_type": "code",
   "execution_count": 3,
   "metadata": {},
   "outputs": [],
   "source": [
    "folderPath = 'D:/Competitions/Data/PLAsTiCC_Challengle'"
   ]
  },
  {
   "cell_type": "code",
   "execution_count": 32,
   "metadata": {},
   "outputs": [],
   "source": [
    "meta_train = pd.read_csv(os.path.join(folderPath,'training_set_metadata.csv'))"
   ]
  },
  {
   "cell_type": "code",
   "execution_count": 11,
   "metadata": {},
   "outputs": [],
   "source": [
    "train = pd.read_csv(os.path.join(folderPath,'training_set.csv.zip'),compression='zip')"
   ]
  },
  {
   "cell_type": "code",
   "execution_count": 39,
   "metadata": {},
   "outputs": [],
   "source": [
    "def create_logger():\n",
    "    logger_ = logging.getLogger('main')\n",
    "    logger_.setLevel(logging.DEBUG)\n",
    "    fh = logging.FileHandler('simple_lightgbm.log')\n",
    "    fh.setLevel(logging.DEBUG)\n",
    "    ch = logging.StreamHandler()\n",
    "    ch.setLevel(logging.DEBUG)\n",
    "    formatter = logging.Formatter('[%(levelname)s]%(asctime)s:%(name)s:%(message)s')\n",
    "    fh.setFormatter(formatter)\n",
    "    ch.setFormatter(formatter)\n",
    "    # add the handlers to the logger\n",
    "    logger_.addHandler(fh)\n",
    "    logger_.addHandler(ch)\n"
   ]
  },
  {
   "cell_type": "code",
   "execution_count": 40,
   "metadata": {},
   "outputs": [],
   "source": [
    "def get_logger():\n",
    "    return logging.getLogger('main')"
   ]
  },
  {
   "cell_type": "code",
   "execution_count": 41,
   "metadata": {},
   "outputs": [],
   "source": [
    "create_logger()"
   ]
  },
  {
   "cell_type": "markdown",
   "metadata": {},
   "source": [
    "# <font color='#9575cd'>2. Data Exploration and Manipulation</font>"
   ]
  },
  {
   "cell_type": "markdown",
   "metadata": {},
   "source": [
    "### <font color=\"#00b8d4\">2.1 Missing value treatment</font>"
   ]
  },
  {
   "cell_type": "markdown",
   "metadata": {},
   "source": [
    "### <font color=\"#00b8d4\">2.2 Outlier Detection and treatment</font>"
   ]
  },
  {
   "cell_type": "markdown",
   "metadata": {},
   "source": [
    "### <font color=\"#00b8d4\">2.3 Oversampling the minority class</font>"
   ]
  },
  {
   "cell_type": "markdown",
   "metadata": {},
   "source": [
    "### <font color=\"#00b8d4\">2.4 Data type assignment</font>"
   ]
  },
  {
   "cell_type": "markdown",
   "metadata": {},
   "source": [
    "### <font color=\"#00b8d4\">2.5 Label Exploration</font>"
   ]
  },
  {
   "cell_type": "markdown",
   "metadata": {},
   "source": [
    "# <font color='#9575cd'>3. Feature Engineering</font>"
   ]
  },
  {
   "cell_type": "code",
   "execution_count": 12,
   "metadata": {},
   "outputs": [],
   "source": [
    "train['flux_ratio_sq'] = np.power(train['flux']/train['flux_err'],2.0)\n",
    "train['flux_by_flux_ratio_sq'] = train['flux']*train['flux_ratio_sq']"
   ]
  },
  {
   "cell_type": "code",
   "execution_count": 14,
   "metadata": {},
   "outputs": [],
   "source": [
    "def get_aggregations():\n",
    "    return {\n",
    "        # Dropped mjd aggregations on CPMP advice\n",
    "        # see https://www.kaggle.com/c/PLAsTiCC-2018/discussion/69696\n",
    "        # 'mjd': ['min', 'max', 'size'],\n",
    "        'passband': ['mean', 'std', 'var'],  # ''min', 'max', 'mean', 'median', 'std'],\n",
    "        'flux': ['min', 'max', 'mean', 'median', 'std'],\n",
    "        'flux_err': ['min', 'max', 'mean', 'median', 'std'],\n",
    "        'detected': ['mean'],  # ''min', 'max', 'mean', 'median', 'std'],\n",
    "    }"
   ]
  },
  {
   "cell_type": "code",
   "execution_count": 15,
   "metadata": {},
   "outputs": [],
   "source": [
    "aggs = get_aggregations()\n",
    "aggs['flux_ratio_sq'] = ['sum']\n",
    "aggs['flux_by_flux_ratio_sq'] = ['sum']"
   ]
  },
  {
   "cell_type": "code",
   "execution_count": 17,
   "metadata": {},
   "outputs": [],
   "source": [
    "agg_train = train.groupby('object_id').agg(aggs)"
   ]
  },
  {
   "cell_type": "code",
   "execution_count": 19,
   "metadata": {},
   "outputs": [],
   "source": [
    "def get_new_columns(aggs):\n",
    "    return [k + '_' + agg for k in aggs.keys() for agg in aggs[k]]\n",
    "new_columns = get_new_columns(aggs)\n",
    "agg_train.columns = new_columns"
   ]
  },
  {
   "cell_type": "code",
   "execution_count": 28,
   "metadata": {},
   "outputs": [
    {
     "data": {
      "text/html": [
       "<div>\n",
       "<style scoped>\n",
       "    .dataframe tbody tr th:only-of-type {\n",
       "        vertical-align: middle;\n",
       "    }\n",
       "\n",
       "    .dataframe tbody tr th {\n",
       "        vertical-align: top;\n",
       "    }\n",
       "\n",
       "    .dataframe thead th {\n",
       "        text-align: right;\n",
       "    }\n",
       "</style>\n",
       "<table border=\"1\" class=\"dataframe\">\n",
       "  <thead>\n",
       "    <tr style=\"text-align: right;\">\n",
       "      <th></th>\n",
       "      <th>passband_mean</th>\n",
       "      <th>passband_std</th>\n",
       "      <th>passband_var</th>\n",
       "      <th>flux_min</th>\n",
       "      <th>flux_max</th>\n",
       "      <th>flux_mean</th>\n",
       "      <th>flux_median</th>\n",
       "      <th>flux_std</th>\n",
       "      <th>flux_err_min</th>\n",
       "      <th>flux_err_max</th>\n",
       "      <th>flux_err_mean</th>\n",
       "      <th>flux_err_median</th>\n",
       "      <th>flux_err_std</th>\n",
       "      <th>detected_mean</th>\n",
       "      <th>flux_ratio_sq_sum</th>\n",
       "      <th>flux_by_flux_ratio_sq_sum</th>\n",
       "    </tr>\n",
       "    <tr>\n",
       "      <th>object_id</th>\n",
       "      <th></th>\n",
       "      <th></th>\n",
       "      <th></th>\n",
       "      <th></th>\n",
       "      <th></th>\n",
       "      <th></th>\n",
       "      <th></th>\n",
       "      <th></th>\n",
       "      <th></th>\n",
       "      <th></th>\n",
       "      <th></th>\n",
       "      <th></th>\n",
       "      <th></th>\n",
       "      <th></th>\n",
       "      <th></th>\n",
       "      <th></th>\n",
       "    </tr>\n",
       "  </thead>\n",
       "  <tbody>\n",
       "    <tr>\n",
       "      <th>615</th>\n",
       "      <td>2.457386</td>\n",
       "      <td>1.720797</td>\n",
       "      <td>2.961142</td>\n",
       "      <td>-1100.440063</td>\n",
       "      <td>660.626343</td>\n",
       "      <td>-123.096998</td>\n",
       "      <td>-89.477524</td>\n",
       "      <td>394.109851</td>\n",
       "      <td>2.130510</td>\n",
       "      <td>12.845472</td>\n",
       "      <td>4.482743</td>\n",
       "      <td>3.835269</td>\n",
       "      <td>1.744747</td>\n",
       "      <td>0.946023</td>\n",
       "      <td>2.929669e+06</td>\n",
       "      <td>-9.601766e+08</td>\n",
       "    </tr>\n",
       "    <tr>\n",
       "      <th>713</th>\n",
       "      <td>2.400000</td>\n",
       "      <td>1.746056</td>\n",
       "      <td>3.048711</td>\n",
       "      <td>-14.735178</td>\n",
       "      <td>14.770886</td>\n",
       "      <td>-1.423351</td>\n",
       "      <td>-0.873033</td>\n",
       "      <td>6.471144</td>\n",
       "      <td>0.639458</td>\n",
       "      <td>9.115748</td>\n",
       "      <td>2.359620</td>\n",
       "      <td>1.998217</td>\n",
       "      <td>1.509888</td>\n",
       "      <td>0.171429</td>\n",
       "      <td>5.886068e+03</td>\n",
       "      <td>-2.875087e+04</td>\n",
       "    </tr>\n",
       "    <tr>\n",
       "      <th>730</th>\n",
       "      <td>2.336364</td>\n",
       "      <td>1.758750</td>\n",
       "      <td>3.093203</td>\n",
       "      <td>-19.159811</td>\n",
       "      <td>47.310059</td>\n",
       "      <td>2.267434</td>\n",
       "      <td>0.409172</td>\n",
       "      <td>8.022239</td>\n",
       "      <td>0.695106</td>\n",
       "      <td>11.281384</td>\n",
       "      <td>2.471061</td>\n",
       "      <td>1.990851</td>\n",
       "      <td>1.721134</td>\n",
       "      <td>0.069697</td>\n",
       "      <td>4.124452e+03</td>\n",
       "      <td>1.046502e+05</td>\n",
       "    </tr>\n",
       "    <tr>\n",
       "      <th>745</th>\n",
       "      <td>2.378917</td>\n",
       "      <td>1.747328</td>\n",
       "      <td>3.053154</td>\n",
       "      <td>-15.494463</td>\n",
       "      <td>220.795212</td>\n",
       "      <td>8.909206</td>\n",
       "      <td>1.035895</td>\n",
       "      <td>27.558208</td>\n",
       "      <td>0.567170</td>\n",
       "      <td>55.892746</td>\n",
       "      <td>2.555576</td>\n",
       "      <td>1.819875</td>\n",
       "      <td>3.537324</td>\n",
       "      <td>0.173789</td>\n",
       "      <td>9.416165e+04</td>\n",
       "      <td>1.439125e+07</td>\n",
       "    </tr>\n",
       "    <tr>\n",
       "      <th>1124</th>\n",
       "      <td>2.457386</td>\n",
       "      <td>1.720797</td>\n",
       "      <td>2.961142</td>\n",
       "      <td>-16.543753</td>\n",
       "      <td>143.600189</td>\n",
       "      <td>7.145702</td>\n",
       "      <td>1.141288</td>\n",
       "      <td>20.051722</td>\n",
       "      <td>0.695277</td>\n",
       "      <td>11.383690</td>\n",
       "      <td>2.753004</td>\n",
       "      <td>2.214854</td>\n",
       "      <td>1.933837</td>\n",
       "      <td>0.173295</td>\n",
       "      <td>3.432418e+04</td>\n",
       "      <td>3.015599e+06</td>\n",
       "    </tr>\n",
       "  </tbody>\n",
       "</table>\n",
       "</div>"
      ],
      "text/plain": [
       "           passband_mean  passband_std  passband_var     flux_min    flux_max  \\\n",
       "object_id                                                                       \n",
       "615             2.457386      1.720797      2.961142 -1100.440063  660.626343   \n",
       "713             2.400000      1.746056      3.048711   -14.735178   14.770886   \n",
       "730             2.336364      1.758750      3.093203   -19.159811   47.310059   \n",
       "745             2.378917      1.747328      3.053154   -15.494463  220.795212   \n",
       "1124            2.457386      1.720797      2.961142   -16.543753  143.600189   \n",
       "\n",
       "            flux_mean  flux_median    flux_std  flux_err_min  flux_err_max  \\\n",
       "object_id                                                                    \n",
       "615       -123.096998   -89.477524  394.109851      2.130510     12.845472   \n",
       "713         -1.423351    -0.873033    6.471144      0.639458      9.115748   \n",
       "730          2.267434     0.409172    8.022239      0.695106     11.281384   \n",
       "745          8.909206     1.035895   27.558208      0.567170     55.892746   \n",
       "1124         7.145702     1.141288   20.051722      0.695277     11.383690   \n",
       "\n",
       "           flux_err_mean  flux_err_median  flux_err_std  detected_mean  \\\n",
       "object_id                                                                \n",
       "615             4.482743         3.835269      1.744747       0.946023   \n",
       "713             2.359620         1.998217      1.509888       0.171429   \n",
       "730             2.471061         1.990851      1.721134       0.069697   \n",
       "745             2.555576         1.819875      3.537324       0.173789   \n",
       "1124            2.753004         2.214854      1.933837       0.173295   \n",
       "\n",
       "           flux_ratio_sq_sum  flux_by_flux_ratio_sq_sum  \n",
       "object_id                                                \n",
       "615             2.929669e+06              -9.601766e+08  \n",
       "713             5.886068e+03              -2.875087e+04  \n",
       "730             4.124452e+03               1.046502e+05  \n",
       "745             9.416165e+04               1.439125e+07  \n",
       "1124            3.432418e+04               3.015599e+06  "
      ]
     },
     "execution_count": 28,
     "metadata": {},
     "output_type": "execute_result"
    }
   ],
   "source": [
    "agg_train.head()"
   ]
  },
  {
   "cell_type": "code",
   "execution_count": 29,
   "metadata": {},
   "outputs": [
    {
     "data": {
      "text/html": [
       "<div>\n",
       "<style scoped>\n",
       "    .dataframe tbody tr th:only-of-type {\n",
       "        vertical-align: middle;\n",
       "    }\n",
       "\n",
       "    .dataframe tbody tr th {\n",
       "        vertical-align: top;\n",
       "    }\n",
       "\n",
       "    .dataframe thead th {\n",
       "        text-align: right;\n",
       "    }\n",
       "</style>\n",
       "<table border=\"1\" class=\"dataframe\">\n",
       "  <thead>\n",
       "    <tr style=\"text-align: right;\">\n",
       "      <th></th>\n",
       "      <th>passband_mean</th>\n",
       "      <th>passband_std</th>\n",
       "      <th>passband_var</th>\n",
       "      <th>flux_min</th>\n",
       "      <th>flux_max</th>\n",
       "      <th>flux_mean</th>\n",
       "      <th>flux_median</th>\n",
       "      <th>flux_std</th>\n",
       "      <th>flux_err_min</th>\n",
       "      <th>flux_err_max</th>\n",
       "      <th>flux_err_mean</th>\n",
       "      <th>flux_err_median</th>\n",
       "      <th>flux_err_std</th>\n",
       "      <th>detected_mean</th>\n",
       "      <th>flux_ratio_sq_sum</th>\n",
       "      <th>flux_by_flux_ratio_sq_sum</th>\n",
       "      <th>flux_diff</th>\n",
       "      <th>flux_dif2</th>\n",
       "      <th>flux_w_mean</th>\n",
       "      <th>flux_dif3</th>\n",
       "    </tr>\n",
       "    <tr>\n",
       "      <th>object_id</th>\n",
       "      <th></th>\n",
       "      <th></th>\n",
       "      <th></th>\n",
       "      <th></th>\n",
       "      <th></th>\n",
       "      <th></th>\n",
       "      <th></th>\n",
       "      <th></th>\n",
       "      <th></th>\n",
       "      <th></th>\n",
       "      <th></th>\n",
       "      <th></th>\n",
       "      <th></th>\n",
       "      <th></th>\n",
       "      <th></th>\n",
       "      <th></th>\n",
       "      <th></th>\n",
       "      <th></th>\n",
       "      <th></th>\n",
       "      <th></th>\n",
       "    </tr>\n",
       "  </thead>\n",
       "  <tbody>\n",
       "    <tr>\n",
       "      <th>615</th>\n",
       "      <td>2.457386</td>\n",
       "      <td>1.720797</td>\n",
       "      <td>2.961142</td>\n",
       "      <td>-1100.440063</td>\n",
       "      <td>660.626343</td>\n",
       "      <td>-123.096998</td>\n",
       "      <td>-89.477524</td>\n",
       "      <td>394.109851</td>\n",
       "      <td>2.130510</td>\n",
       "      <td>12.845472</td>\n",
       "      <td>4.482743</td>\n",
       "      <td>3.835269</td>\n",
       "      <td>1.744747</td>\n",
       "      <td>0.946023</td>\n",
       "      <td>2.929669e+06</td>\n",
       "      <td>-9.601766e+08</td>\n",
       "      <td>1761.066406</td>\n",
       "      <td>-14.306331</td>\n",
       "      <td>-327.742307</td>\n",
       "      <td>-5.373326</td>\n",
       "    </tr>\n",
       "    <tr>\n",
       "      <th>713</th>\n",
       "      <td>2.400000</td>\n",
       "      <td>1.746056</td>\n",
       "      <td>3.048711</td>\n",
       "      <td>-14.735178</td>\n",
       "      <td>14.770886</td>\n",
       "      <td>-1.423351</td>\n",
       "      <td>-0.873033</td>\n",
       "      <td>6.471144</td>\n",
       "      <td>0.639458</td>\n",
       "      <td>9.115748</td>\n",
       "      <td>2.359620</td>\n",
       "      <td>1.998217</td>\n",
       "      <td>1.509888</td>\n",
       "      <td>0.171429</td>\n",
       "      <td>5.886068e+03</td>\n",
       "      <td>-2.875087e+04</td>\n",
       "      <td>29.506064</td>\n",
       "      <td>-20.730002</td>\n",
       "      <td>-4.884564</td>\n",
       "      <td>-6.040676</td>\n",
       "    </tr>\n",
       "    <tr>\n",
       "      <th>730</th>\n",
       "      <td>2.336364</td>\n",
       "      <td>1.758750</td>\n",
       "      <td>3.093203</td>\n",
       "      <td>-19.159811</td>\n",
       "      <td>47.310059</td>\n",
       "      <td>2.267434</td>\n",
       "      <td>0.409172</td>\n",
       "      <td>8.022239</td>\n",
       "      <td>0.695106</td>\n",
       "      <td>11.281384</td>\n",
       "      <td>2.471061</td>\n",
       "      <td>1.990851</td>\n",
       "      <td>1.721134</td>\n",
       "      <td>0.069697</td>\n",
       "      <td>4.124452e+03</td>\n",
       "      <td>1.046502e+05</td>\n",
       "      <td>66.469870</td>\n",
       "      <td>29.315018</td>\n",
       "      <td>25.373110</td>\n",
       "      <td>2.619697</td>\n",
       "    </tr>\n",
       "    <tr>\n",
       "      <th>745</th>\n",
       "      <td>2.378917</td>\n",
       "      <td>1.747328</td>\n",
       "      <td>3.053154</td>\n",
       "      <td>-15.494463</td>\n",
       "      <td>220.795212</td>\n",
       "      <td>8.909206</td>\n",
       "      <td>1.035895</td>\n",
       "      <td>27.558208</td>\n",
       "      <td>0.567170</td>\n",
       "      <td>55.892746</td>\n",
       "      <td>2.555576</td>\n",
       "      <td>1.819875</td>\n",
       "      <td>3.537324</td>\n",
       "      <td>0.173789</td>\n",
       "      <td>9.416165e+04</td>\n",
       "      <td>1.439125e+07</td>\n",
       "      <td>236.289675</td>\n",
       "      <td>26.521968</td>\n",
       "      <td>152.835617</td>\n",
       "      <td>1.546038</td>\n",
       "    </tr>\n",
       "    <tr>\n",
       "      <th>1124</th>\n",
       "      <td>2.457386</td>\n",
       "      <td>1.720797</td>\n",
       "      <td>2.961142</td>\n",
       "      <td>-16.543753</td>\n",
       "      <td>143.600189</td>\n",
       "      <td>7.145702</td>\n",
       "      <td>1.141288</td>\n",
       "      <td>20.051722</td>\n",
       "      <td>0.695277</td>\n",
       "      <td>11.383690</td>\n",
       "      <td>2.753004</td>\n",
       "      <td>2.214854</td>\n",
       "      <td>1.933837</td>\n",
       "      <td>0.173295</td>\n",
       "      <td>3.432418e+04</td>\n",
       "      <td>3.015599e+06</td>\n",
       "      <td>160.143942</td>\n",
       "      <td>22.411225</td>\n",
       "      <td>87.856390</td>\n",
       "      <td>1.822792</td>\n",
       "    </tr>\n",
       "  </tbody>\n",
       "</table>\n",
       "</div>"
      ],
      "text/plain": [
       "           passband_mean  passband_std  passband_var     flux_min    flux_max  \\\n",
       "object_id                                                                       \n",
       "615             2.457386      1.720797      2.961142 -1100.440063  660.626343   \n",
       "713             2.400000      1.746056      3.048711   -14.735178   14.770886   \n",
       "730             2.336364      1.758750      3.093203   -19.159811   47.310059   \n",
       "745             2.378917      1.747328      3.053154   -15.494463  220.795212   \n",
       "1124            2.457386      1.720797      2.961142   -16.543753  143.600189   \n",
       "\n",
       "            flux_mean  flux_median    flux_std  flux_err_min  flux_err_max  \\\n",
       "object_id                                                                    \n",
       "615       -123.096998   -89.477524  394.109851      2.130510     12.845472   \n",
       "713         -1.423351    -0.873033    6.471144      0.639458      9.115748   \n",
       "730          2.267434     0.409172    8.022239      0.695106     11.281384   \n",
       "745          8.909206     1.035895   27.558208      0.567170     55.892746   \n",
       "1124         7.145702     1.141288   20.051722      0.695277     11.383690   \n",
       "\n",
       "           flux_err_mean  flux_err_median  flux_err_std  detected_mean  \\\n",
       "object_id                                                                \n",
       "615             4.482743         3.835269      1.744747       0.946023   \n",
       "713             2.359620         1.998217      1.509888       0.171429   \n",
       "730             2.471061         1.990851      1.721134       0.069697   \n",
       "745             2.555576         1.819875      3.537324       0.173789   \n",
       "1124            2.753004         2.214854      1.933837       0.173295   \n",
       "\n",
       "           flux_ratio_sq_sum  flux_by_flux_ratio_sq_sum    flux_diff  \\\n",
       "object_id                                                              \n",
       "615             2.929669e+06              -9.601766e+08  1761.066406   \n",
       "713             5.886068e+03              -2.875087e+04    29.506064   \n",
       "730             4.124452e+03               1.046502e+05    66.469870   \n",
       "745             9.416165e+04               1.439125e+07   236.289675   \n",
       "1124            3.432418e+04               3.015599e+06   160.143942   \n",
       "\n",
       "           flux_dif2  flux_w_mean  flux_dif3  \n",
       "object_id                                     \n",
       "615       -14.306331  -327.742307  -5.373326  \n",
       "713       -20.730002    -4.884564  -6.040676  \n",
       "730        29.315018    25.373110   2.619697  \n",
       "745        26.521968   152.835617   1.546038  \n",
       "1124       22.411225    87.856390   1.822792  "
      ]
     },
     "execution_count": 29,
     "metadata": {},
     "output_type": "execute_result"
    }
   ],
   "source": [
    "def add_features_to_agg(df):\n",
    "    # CPMP using the following feature was really silliy :)\n",
    "    # df['mjd_diff'] = df['mjd_max'] - df['mjd_min']\n",
    "    # see https://www.kaggle.com/c/PLAsTiCC-2018/discussion/69696\n",
    "    \n",
    "    # The others may be useful\n",
    "    df['flux_diff'] = df['flux_max'] - df['flux_min']\n",
    "    df['flux_dif2'] = (df['flux_max'] - df['flux_min']) / df['flux_mean']\n",
    "    df['flux_w_mean'] = df['flux_by_flux_ratio_sq_sum'] / df['flux_ratio_sq_sum']\n",
    "    df['flux_dif3'] = (df['flux_max'] - df['flux_min']) / df['flux_w_mean']\n",
    "\n",
    "    # del df['mjd_max'], df['mjd_min']\n",
    "\n",
    "    return df\n",
    "\n",
    "agg_train = add_features_to_agg(df=agg_train)\n",
    "agg_train.head()"
   ]
  },
  {
   "cell_type": "code",
   "execution_count": 30,
   "metadata": {},
   "outputs": [
    {
     "data": {
      "text/plain": [
       "208"
      ]
     },
     "execution_count": 30,
     "metadata": {},
     "output_type": "execute_result"
    }
   ],
   "source": [
    "del train\n",
    "gc.collect()"
   ]
  },
  {
   "cell_type": "code",
   "execution_count": 33,
   "metadata": {},
   "outputs": [
    {
     "data": {
      "text/html": [
       "<div>\n",
       "<style scoped>\n",
       "    .dataframe tbody tr th:only-of-type {\n",
       "        vertical-align: middle;\n",
       "    }\n",
       "\n",
       "    .dataframe tbody tr th {\n",
       "        vertical-align: top;\n",
       "    }\n",
       "\n",
       "    .dataframe thead th {\n",
       "        text-align: right;\n",
       "    }\n",
       "</style>\n",
       "<table border=\"1\" class=\"dataframe\">\n",
       "  <thead>\n",
       "    <tr style=\"text-align: right;\">\n",
       "      <th></th>\n",
       "      <th>object_id</th>\n",
       "      <th>ra</th>\n",
       "      <th>decl</th>\n",
       "      <th>gal_l</th>\n",
       "      <th>gal_b</th>\n",
       "      <th>ddf</th>\n",
       "      <th>hostgal_specz</th>\n",
       "      <th>hostgal_photoz</th>\n",
       "      <th>hostgal_photoz_err</th>\n",
       "      <th>distmod</th>\n",
       "      <th>mwebv</th>\n",
       "      <th>target</th>\n",
       "    </tr>\n",
       "  </thead>\n",
       "  <tbody>\n",
       "    <tr>\n",
       "      <th>0</th>\n",
       "      <td>615</td>\n",
       "      <td>349.046051</td>\n",
       "      <td>-61.943836</td>\n",
       "      <td>320.796530</td>\n",
       "      <td>-51.753706</td>\n",
       "      <td>1</td>\n",
       "      <td>0.0000</td>\n",
       "      <td>0.0000</td>\n",
       "      <td>0.0000</td>\n",
       "      <td>NaN</td>\n",
       "      <td>0.017</td>\n",
       "      <td>92</td>\n",
       "    </tr>\n",
       "    <tr>\n",
       "      <th>1</th>\n",
       "      <td>713</td>\n",
       "      <td>53.085938</td>\n",
       "      <td>-27.784405</td>\n",
       "      <td>223.525509</td>\n",
       "      <td>-54.460748</td>\n",
       "      <td>1</td>\n",
       "      <td>1.8181</td>\n",
       "      <td>1.6267</td>\n",
       "      <td>0.2552</td>\n",
       "      <td>45.4063</td>\n",
       "      <td>0.007</td>\n",
       "      <td>88</td>\n",
       "    </tr>\n",
       "    <tr>\n",
       "      <th>2</th>\n",
       "      <td>730</td>\n",
       "      <td>33.574219</td>\n",
       "      <td>-6.579593</td>\n",
       "      <td>170.455585</td>\n",
       "      <td>-61.548219</td>\n",
       "      <td>1</td>\n",
       "      <td>0.2320</td>\n",
       "      <td>0.2262</td>\n",
       "      <td>0.0157</td>\n",
       "      <td>40.2561</td>\n",
       "      <td>0.021</td>\n",
       "      <td>42</td>\n",
       "    </tr>\n",
       "    <tr>\n",
       "      <th>3</th>\n",
       "      <td>745</td>\n",
       "      <td>0.189873</td>\n",
       "      <td>-45.586655</td>\n",
       "      <td>328.254458</td>\n",
       "      <td>-68.969298</td>\n",
       "      <td>1</td>\n",
       "      <td>0.3037</td>\n",
       "      <td>0.2813</td>\n",
       "      <td>1.1523</td>\n",
       "      <td>40.7951</td>\n",
       "      <td>0.007</td>\n",
       "      <td>90</td>\n",
       "    </tr>\n",
       "    <tr>\n",
       "      <th>4</th>\n",
       "      <td>1124</td>\n",
       "      <td>352.711273</td>\n",
       "      <td>-63.823658</td>\n",
       "      <td>316.922299</td>\n",
       "      <td>-51.059403</td>\n",
       "      <td>1</td>\n",
       "      <td>0.1934</td>\n",
       "      <td>0.2415</td>\n",
       "      <td>0.0176</td>\n",
       "      <td>40.4166</td>\n",
       "      <td>0.024</td>\n",
       "      <td>90</td>\n",
       "    </tr>\n",
       "  </tbody>\n",
       "</table>\n",
       "</div>"
      ],
      "text/plain": [
       "   object_id          ra       decl       gal_l      gal_b  ddf  \\\n",
       "0        615  349.046051 -61.943836  320.796530 -51.753706    1   \n",
       "1        713   53.085938 -27.784405  223.525509 -54.460748    1   \n",
       "2        730   33.574219  -6.579593  170.455585 -61.548219    1   \n",
       "3        745    0.189873 -45.586655  328.254458 -68.969298    1   \n",
       "4       1124  352.711273 -63.823658  316.922299 -51.059403    1   \n",
       "\n",
       "   hostgal_specz  hostgal_photoz  hostgal_photoz_err  distmod  mwebv  target  \n",
       "0         0.0000          0.0000              0.0000      NaN  0.017      92  \n",
       "1         1.8181          1.6267              0.2552  45.4063  0.007      88  \n",
       "2         0.2320          0.2262              0.0157  40.2561  0.021      42  \n",
       "3         0.3037          0.2813              1.1523  40.7951  0.007      90  \n",
       "4         0.1934          0.2415              0.0176  40.4166  0.024      90  "
      ]
     },
     "execution_count": 33,
     "metadata": {},
     "output_type": "execute_result"
    }
   ],
   "source": [
    "meta_train.head()"
   ]
  },
  {
   "cell_type": "code",
   "execution_count": 34,
   "metadata": {},
   "outputs": [],
   "source": [
    "full_train = agg_train.reset_index().merge(\n",
    "    right=meta_train,\n",
    "    how='outer',\n",
    "    on='object_id'\n",
    ")"
   ]
  },
  {
   "cell_type": "code",
   "execution_count": 35,
   "metadata": {},
   "outputs": [],
   "source": [
    "y = full_train['target']\n",
    "del full_train['target']\n",
    "del full_train['object_id'], full_train['hostgal_specz']  # , full_train['distmod']"
   ]
  },
  {
   "cell_type": "code",
   "execution_count": 38,
   "metadata": {},
   "outputs": [],
   "source": [
    "train_mean = full_train.mean(axis=0)\n",
    "full_train.fillna(train_mean, inplace=True)"
   ]
  },
  {
   "cell_type": "code",
   "execution_count": 42,
   "metadata": {},
   "outputs": [
    {
     "name": "stderr",
     "output_type": "stream",
     "text": [
      "[INFO]2018-12-09 19:13:13,247:main:Index(['passband_mean', 'passband_std', 'passband_var', 'flux_min', 'flux_max',\n",
      "       'flux_mean', 'flux_median', 'flux_std', 'flux_err_min', 'flux_err_max',\n",
      "       'flux_err_mean', 'flux_err_median', 'flux_err_std', 'detected_mean',\n",
      "       'flux_ratio_sq_sum', 'flux_by_flux_ratio_sq_sum', 'flux_diff',\n",
      "       'flux_dif2', 'flux_w_mean', 'flux_dif3', 'ra', 'decl', 'gal_l', 'gal_b',\n",
      "       'ddf', 'hostgal_photoz', 'hostgal_photoz_err', 'distmod', 'mwebv'],\n",
      "      dtype='object')\n"
     ]
    }
   ],
   "source": [
    "get_logger().info(full_train.columns)"
   ]
  },
  {
   "cell_type": "code",
   "execution_count": 46,
   "metadata": {
    "code_folding": [
     0
    ]
   },
   "outputs": [],
   "source": [
    "def lgb_multi_weighted_logloss(y_true, y_preds):\n",
    "    \"\"\"\n",
    "    @author olivier https://www.kaggle.com/ogrellier\n",
    "    multi logloss for PLAsTiCC challenge\n",
    "    \"\"\"\n",
    "    # class_weights taken from Giba's topic : https://www.kaggle.com/titericz\n",
    "    # https://www.kaggle.com/c/PLAsTiCC-2018/discussion/67194\n",
    "    # with Kyle Boone's post https://www.kaggle.com/kyleboone\n",
    "    classes = [6, 15, 16, 42, 52, 53, 62, 64, 65, 67, 88, 90, 92, 95]\n",
    "    class_weight = {6: 1, 15: 2, 16: 1, 42: 1, 52: 1, 53: 1, 62: 1, 64: 2, 65: 1, 67: 1, 88: 1, 90: 1, 92: 1, 95: 1}\n",
    "    if len(np.unique(y_true)) > 14:\n",
    "        classes.append(99)\n",
    "        class_weight[99] = 2\n",
    "    y_p = y_preds.reshape(y_true.shape[0], len(classes), order='F')\n",
    "\n",
    "    # Trasform y_true in dummies\n",
    "    y_ohe = pd.get_dummies(y_true)\n",
    "    # Normalize rows and limit y_preds to 1e-15, 1-1e-15\n",
    "    y_p = np.clip(a=y_p, a_min=1e-15, a_max=1 - 1e-15)\n",
    "    # Transform to log\n",
    "    y_p_log = np.log(y_p)\n",
    "    # Get the log for ones, .values is used to drop the index of DataFrames\n",
    "    # Exclude class 99 for now, since there is no class99 in the training set\n",
    "    # we gave a special process for that class\n",
    "    y_log_ones = np.sum(y_ohe.values * y_p_log, axis=0)\n",
    "    # Get the number of positives for each class\n",
    "    nb_pos = y_ohe.sum(axis=0).values.astype(float)\n",
    "    # Weight average and divide by the number of positives\n",
    "    class_arr = np.array([class_weight[k] for k in sorted(class_weight.keys())])\n",
    "    y_w = y_log_ones * class_arr / nb_pos\n",
    "\n",
    "    loss = - np.sum(y_w) / np.sum(class_arr)\n",
    "    return 'wloss', loss, False"
   ]
  },
  {
   "cell_type": "code",
   "execution_count": 47,
   "metadata": {
    "code_folding": [
     0
    ]
   },
   "outputs": [],
   "source": [
    "def multi_weighted_logloss(y_true, y_preds):\n",
    "    \"\"\"\n",
    "    @author olivier https://www.kaggle.com/ogrellier\n",
    "    multi logloss for PLAsTiCC challenge\n",
    "    \"\"\"\n",
    "    # class_weights taken from Giba's topic : https://www.kaggle.com/titericz\n",
    "    # https://www.kaggle.com/c/PLAsTiCC-2018/discussion/67194\n",
    "    # with Kyle Boone's post https://www.kaggle.com/kyleboone\n",
    "    classes = [6, 15, 16, 42, 52, 53, 62, 64, 65, 67, 88, 90, 92, 95]\n",
    "    class_weight = {6: 1, 15: 2, 16: 1, 42: 1, 52: 1, 53: 1, 62: 1, 64: 2, 65: 1, 67: 1, 88: 1, 90: 1, 92: 1, 95: 1}\n",
    "    if len(np.unique(y_true)) > 14:\n",
    "        classes.append(99)\n",
    "        class_weight[99] = 2\n",
    "    y_p = y_preds\n",
    "    # Trasform y_true in dummies\n",
    "    y_ohe = pd.get_dummies(y_true)\n",
    "    # Normalize rows and limit y_preds to 1e-15, 1-1e-15\n",
    "    y_p = np.clip(a=y_p, a_min=1e-15, a_max=1 - 1e-15)\n",
    "    # Transform to log\n",
    "    y_p_log = np.log(y_p)\n",
    "    # Get the log for ones, .values is used to drop the index of DataFrames\n",
    "    # Exclude class 99 for now, since there is no class99 in the training set\n",
    "    # we gave a special process for that class\n",
    "    y_log_ones = np.sum(y_ohe.values * y_p_log, axis=0)\n",
    "    # Get the number of positives for each class\n",
    "    nb_pos = y_ohe.sum(axis=0).values.astype(float)\n",
    "    # Weight average and divide by the number of positives\n",
    "    class_arr = np.array([class_weight[k] for k in sorted(class_weight.keys())])\n",
    "    y_w = y_log_ones * class_arr / nb_pos\n",
    "\n",
    "    loss = - np.sum(y_w) / np.sum(class_arr)\n",
    "    return loss"
   ]
  },
  {
   "cell_type": "code",
   "execution_count": 44,
   "metadata": {
    "code_folding": [
     0
    ]
   },
   "outputs": [],
   "source": [
    "def train_classifiers(full_train=None, y=None):\n",
    "\n",
    "    folds = StratifiedKFold(n_splits=5, shuffle=True, random_state=1)\n",
    "    clfs = []\n",
    "    importances = pd.DataFrame()\n",
    "    lgb_params = {\n",
    "        'boosting_type': 'gbdt',\n",
    "        'objective': 'multiclass',\n",
    "        'num_class': 14,\n",
    "        'metric': 'multi_logloss',\n",
    "        'learning_rate': 0.03,\n",
    "        'subsample': .9,\n",
    "        'colsample_bytree': .7,\n",
    "        'reg_alpha': .01,\n",
    "        'reg_lambda': .01,\n",
    "        'min_split_gain': 0.01,\n",
    "        'min_child_weight': 10,\n",
    "        'n_estimators': 1000,\n",
    "        'silent': -1,\n",
    "        'verbose': -1,\n",
    "        'max_depth': 3\n",
    "    }\n",
    "    \n",
    "    # Compute weights\n",
    "    w = y.value_counts()\n",
    "    weights = {i : np.sum(w) / w[i] for i in w.index}\n",
    "        \n",
    "    oof_preds = np.zeros((len(full_train), np.unique(y).shape[0]))\n",
    "    for fold_, (trn_, val_) in enumerate(folds.split(y, y)):\n",
    "        trn_x, trn_y = full_train.iloc[trn_], y.iloc[trn_]\n",
    "        val_x, val_y = full_train.iloc[val_], y.iloc[val_]\n",
    "\n",
    "        clf = lgb.LGBMClassifier(**lgb_params)\n",
    "        clf.fit(\n",
    "            trn_x, trn_y,\n",
    "            eval_set=[(trn_x, trn_y), (val_x, val_y)],\n",
    "            eval_metric=lgb_multi_weighted_logloss,\n",
    "            verbose=100,\n",
    "            early_stopping_rounds=50,\n",
    "            sample_weight=trn_y.map(weights)\n",
    "        )\n",
    "        oof_preds[val_, :] = clf.predict_proba(val_x, num_iteration=clf.best_iteration_)\n",
    "        get_logger().info(multi_weighted_logloss(val_y, clf.predict_proba(val_x, num_iteration=clf.best_iteration_)))\n",
    "\n",
    "        imp_df = pd.DataFrame()\n",
    "        imp_df['feature'] = full_train.columns\n",
    "        imp_df['gain'] = clf.feature_importances_\n",
    "        imp_df['fold'] = fold_ + 1\n",
    "        importances = pd.concat([importances, imp_df], axis=0, sort=False)\n",
    "\n",
    "        clfs.append(clf)\n",
    "\n",
    "    get_logger().info('MULTI WEIGHTED LOG LOSS : %.5f ' % multi_weighted_logloss(y_true=y, y_preds=oof_preds))\n",
    "\n",
    "    return clfs, importances"
   ]
  },
  {
   "cell_type": "code",
   "execution_count": 48,
   "metadata": {},
   "outputs": [
    {
     "name": "stdout",
     "output_type": "stream",
     "text": [
      "Training until validation scores don't improve for 50 rounds.\n",
      "[100]\ttraining's multi_logloss: 0.980512\ttraining's wloss: 0.989184\tvalid_1's multi_logloss: 1.32472\tvalid_1's wloss: 1.15104\n",
      "[200]\ttraining's multi_logloss: 0.747879\ttraining's wloss: 0.755336\tvalid_1's multi_logloss: 1.14974\tvalid_1's wloss: 0.995227\n",
      "[300]\ttraining's multi_logloss: 0.634578\ttraining's wloss: 0.641895\tvalid_1's multi_logloss: 1.08111\tvalid_1's wloss: 0.945513\n",
      "[400]\ttraining's multi_logloss: 0.558236\ttraining's wloss: 0.565497\tvalid_1's multi_logloss: 1.04432\tvalid_1's wloss: 0.928274\n",
      "[500]\ttraining's multi_logloss: 0.500964\ttraining's wloss: 0.507886\tvalid_1's multi_logloss: 1.01964\tvalid_1's wloss: 0.923751\n",
      "Early stopping, best iteration is:\n",
      "[505]\ttraining's multi_logloss: 0.49852\ttraining's wloss: 0.505436\tvalid_1's multi_logloss: 1.01861\tvalid_1's wloss: 0.923745\n"
     ]
    },
    {
     "name": "stderr",
     "output_type": "stream",
     "text": [
      "[INFO]2018-12-09 19:17:04,617:main:0.9237452012851757\n"
     ]
    },
    {
     "name": "stdout",
     "output_type": "stream",
     "text": [
      "Training until validation scores don't improve for 50 rounds.\n",
      "[100]\ttraining's multi_logloss: 0.987605\ttraining's wloss: 0.998514\tvalid_1's multi_logloss: 1.2965\tvalid_1's wloss: 1.148\n",
      "[200]\ttraining's multi_logloss: 0.751567\ttraining's wloss: 0.761667\tvalid_1's multi_logloss: 1.11491\tvalid_1's wloss: 1.00134\n",
      "[300]\ttraining's multi_logloss: 0.63681\ttraining's wloss: 0.645433\tvalid_1's multi_logloss: 1.04848\tvalid_1's wloss: 0.985734\n",
      "Early stopping, best iteration is:\n",
      "[269]\ttraining's multi_logloss: 0.666565\ttraining's wloss: 0.675538\tvalid_1's multi_logloss: 1.06366\tvalid_1's wloss: 0.984059\n"
     ]
    },
    {
     "name": "stderr",
     "output_type": "stream",
     "text": [
      "[INFO]2018-12-09 19:17:17,190:main:0.9840588857290515\n"
     ]
    },
    {
     "name": "stdout",
     "output_type": "stream",
     "text": [
      "Training until validation scores don't improve for 50 rounds.\n",
      "[100]\ttraining's multi_logloss: 0.977148\ttraining's wloss: 0.987429\tvalid_1's multi_logloss: 1.32644\tvalid_1's wloss: 1.12946\n",
      "[200]\ttraining's multi_logloss: 0.745459\ttraining's wloss: 0.754049\tvalid_1's multi_logloss: 1.14058\tvalid_1's wloss: 0.951627\n",
      "[300]\ttraining's multi_logloss: 0.631078\ttraining's wloss: 0.63837\tvalid_1's multi_logloss: 1.06812\tvalid_1's wloss: 0.904318\n",
      "[400]\ttraining's multi_logloss: 0.552048\ttraining's wloss: 0.558322\tvalid_1's multi_logloss: 1.02638\tvalid_1's wloss: 0.884137\n",
      "[500]\ttraining's multi_logloss: 0.4945\ttraining's wloss: 0.500043\tvalid_1's multi_logloss: 0.997239\tvalid_1's wloss: 0.878802\n",
      "Early stopping, best iteration is:\n",
      "[530]\ttraining's multi_logloss: 0.479664\ttraining's wloss: 0.485031\tvalid_1's multi_logloss: 0.989757\tvalid_1's wloss: 0.877091\n"
     ]
    },
    {
     "name": "stderr",
     "output_type": "stream",
     "text": [
      "[INFO]2018-12-09 19:17:38,029:main:0.877090668094761\n"
     ]
    },
    {
     "name": "stdout",
     "output_type": "stream",
     "text": [
      "Training until validation scores don't improve for 50 rounds.\n",
      "[100]\ttraining's multi_logloss: 0.98622\ttraining's wloss: 0.99423\tvalid_1's multi_logloss: 1.306\tvalid_1's wloss: 1.12543\n",
      "[200]\ttraining's multi_logloss: 0.750976\ttraining's wloss: 0.758081\tvalid_1's multi_logloss: 1.12378\tvalid_1's wloss: 0.967182\n",
      "[300]\ttraining's multi_logloss: 0.631919\ttraining's wloss: 0.638458\tvalid_1's multi_logloss: 1.05548\tvalid_1's wloss: 0.942969\n",
      "Early stopping, best iteration is:\n",
      "[297]\ttraining's multi_logloss: 0.634724\ttraining's wloss: 0.641209\tvalid_1's multi_logloss: 1.05713\tvalid_1's wloss: 0.942902\n"
     ]
    },
    {
     "name": "stderr",
     "output_type": "stream",
     "text": [
      "[INFO]2018-12-09 19:17:50,532:main:0.9429024010222529\n"
     ]
    },
    {
     "name": "stdout",
     "output_type": "stream",
     "text": [
      "Training until validation scores don't improve for 50 rounds.\n",
      "[100]\ttraining's multi_logloss: 0.988632\ttraining's wloss: 0.995491\tvalid_1's multi_logloss: 1.29942\tvalid_1's wloss: 1.13589\n",
      "[200]\ttraining's multi_logloss: 0.754485\ttraining's wloss: 0.761123\tvalid_1's multi_logloss: 1.11597\tvalid_1's wloss: 0.966092\n",
      "[300]\ttraining's multi_logloss: 0.636693\ttraining's wloss: 0.642817\tvalid_1's multi_logloss: 1.0429\tvalid_1's wloss: 0.922464\n",
      "[400]\ttraining's multi_logloss: 0.556925\ttraining's wloss: 0.562543\tvalid_1's multi_logloss: 1.00527\tvalid_1's wloss: 0.914064\n",
      "Early stopping, best iteration is:\n",
      "[382]\ttraining's multi_logloss: 0.569406\ttraining's wloss: 0.575195\tvalid_1's multi_logloss: 1.01018\tvalid_1's wloss: 0.912755\n"
     ]
    },
    {
     "name": "stderr",
     "output_type": "stream",
     "text": [
      "[INFO]2018-12-09 19:18:08,533:main:0.9127550309142146\n",
      "[INFO]2018-12-09 19:18:08,552:main:MULTI WEIGHTED LOG LOSS : 0.92817 \n"
     ]
    }
   ],
   "source": [
    "clfs, importances = train_classifiers(full_train, y)"
   ]
  },
  {
   "cell_type": "code",
   "execution_count": 49,
   "metadata": {},
   "outputs": [],
   "source": [
    "def save_importances(importances_):\n",
    "    mean_gain = importances_[['gain', 'feature']].groupby('feature').mean()\n",
    "    importances_['mean_gain'] = importances_['feature'].map(mean_gain['gain'])\n",
    "    plt.figure(figsize=(8, 12))\n",
    "    sns.barplot(x='gain', y='feature', data=importances_.sort_values('mean_gain', ascending=False))\n",
    "    plt.tight_layout()\n",
    "    plt.savefig('importances.png')"
   ]
  },
  {
   "cell_type": "code",
   "execution_count": 50,
   "metadata": {},
   "outputs": [
    {
     "data": {
      "image/png": "[encoded data removed]",
      "text/plain": [
       "<Figure size 576x864 with 1 Axes>"
      ]
     },
     "metadata": {
      "needs_background": "light"
     },
     "output_type": "display_data"
    }
   ],
   "source": [
    "save_importances(importances_=importances)"
   ]
  },
  {
   "cell_type": "code",
   "execution_count": 54,
   "metadata": {},
   "outputs": [],
   "source": [
    "def predict_chunk(df_, clfs_, meta_, features, train_mean):\n",
    "\n",
    "    df_['flux_ratio_sq'] = np.power(df_['flux'] / df_['flux_err'], 2.0)\n",
    "    df_['flux_by_flux_ratio_sq'] = df_['flux'] * df_['flux_ratio_sq']\n",
    "\n",
    "    # Group by object id\n",
    "    aggs = get_aggregations()\n",
    "\n",
    "    aggs = get_aggregations()\n",
    "    aggs['flux_ratio_sq'] = ['sum']\n",
    "    aggs['flux_by_flux_ratio_sq'] = ['sum']\n",
    "\n",
    "    new_columns = get_new_columns(aggs)\n",
    "\n",
    "    agg_ = df_.groupby('object_id').agg(aggs)\n",
    "    agg_.columns = new_columns\n",
    "\n",
    "    agg_ = add_features_to_agg(df=agg_)\n",
    "\n",
    "    # Merge with meta data\n",
    "    full_test = agg_.reset_index().merge(\n",
    "        right=meta_,\n",
    "        how='left',\n",
    "        on='object_id'\n",
    "    )\n",
    "\n",
    "    full_test = full_test.fillna(train_mean)\n",
    "    # Make predictions\n",
    "    preds_ = None\n",
    "    for clf in clfs_:\n",
    "        if preds_ is None:\n",
    "            preds_ = clf.predict_proba(full_test[features]) / len(clfs_)\n",
    "        else:\n",
    "            preds_ += clf.predict_proba(full_test[features]) / len(clfs_)\n",
    "\n",
    "    # Compute preds_99 as the proba of class not being any of the others\n",
    "    # preds_99 = 0.1 gives 1.769\n",
    "    preds_99 = np.ones(preds_.shape[0])\n",
    "    for i in range(preds_.shape[1]):\n",
    "        preds_99 *= (1 - preds_[:, i])\n",
    "\n",
    "    # Create DataFrame from predictions\n",
    "    preds_df_ = pd.DataFrame(preds_, columns=['class_' + str(s) for s in clfs_[0].classes_])\n",
    "    preds_df_['object_id'] = full_test['object_id']\n",
    "    preds_df_['class_99'] = 0.14 * preds_99 / np.mean(preds_99) \n",
    "\n",
    "    print(preds_df_['class_99'].mean())\n",
    "\n",
    "    del agg_, full_test, preds_\n",
    "    gc.collect()\n",
    "\n",
    "    return preds_df_"
   ]
  },
  {
   "cell_type": "code",
   "execution_count": 56,
   "metadata": {},
   "outputs": [],
   "source": [
    "meta_test = pd.read_csv(os.path.join(folderPath,'test_set_metadata.csv.zip'),compression='zip')"
   ]
  },
  {
   "cell_type": "code",
   "execution_count": 59,
   "metadata": {},
   "outputs": [
    {
     "name": "stdout",
     "output_type": "stream",
     "text": [
      "0.13999999999999996\n",
      "0.14\n",
      "0.14\n",
      "0.14000000000000004\n",
      "0.14\n",
      "0.14\n",
      "0.13999999999999999\n",
      "0.14\n",
      "0.13999999999999999\n",
      "0.14\n"
     ]
    },
    {
     "name": "stderr",
     "output_type": "stream",
     "text": [
      "[INFO]2018-12-09 19:37:26,538:main:       50000000 done in   9.8\n"
     ]
    },
    {
     "name": "stdout",
     "output_type": "stream",
     "text": [
      "       50000000 done in   9.8\n",
      "0.14\n",
      "0.14\n",
      "0.14\n",
      "0.14000000000000004\n",
      "0.14\n",
      "0.14\n",
      "0.14\n",
      "0.14000000000000004\n",
      "0.13999999999999999\n",
      "0.14\n"
     ]
    },
    {
     "name": "stderr",
     "output_type": "stream",
     "text": [
      "[INFO]2018-12-09 19:51:07,630:main:      100000000 done in  23.5\n"
     ]
    },
    {
     "name": "stdout",
     "output_type": "stream",
     "text": [
      "      100000000 done in  23.5\n",
      "0.13999999999999999\n",
      "0.14\n",
      "0.14\n",
      "0.14\n",
      "0.14\n",
      "0.14000000000000004\n",
      "0.14\n",
      "0.14\n",
      "0.14\n",
      "0.14\n"
     ]
    },
    {
     "name": "stderr",
     "output_type": "stream",
     "text": [
      "[INFO]2018-12-09 20:05:14,362:main:      150000000 done in  37.6\n"
     ]
    },
    {
     "name": "stdout",
     "output_type": "stream",
     "text": [
      "      150000000 done in  37.6\n",
      "0.14000000000000004\n",
      "0.14\n",
      "0.14\n",
      "0.14000000000000004\n",
      "0.13999999999999996\n",
      "0.14000000000000004\n",
      "0.14\n",
      "0.13999999999999999\n",
      "0.13999999999999999\n",
      "0.13999999999999999\n"
     ]
    },
    {
     "name": "stderr",
     "output_type": "stream",
     "text": [
      "[INFO]2018-12-09 20:19:52,737:main:      200000000 done in  52.2\n"
     ]
    },
    {
     "name": "stdout",
     "output_type": "stream",
     "text": [
      "      200000000 done in  52.2\n",
      "0.14000000000000004\n",
      "0.14\n",
      "0.14\n",
      "0.13999999999999999\n",
      "0.14\n",
      "0.14000000000000004\n",
      "0.13999999999999999\n",
      "0.14000000000000004\n",
      "0.13999999999999999\n",
      "0.14\n"
     ]
    },
    {
     "name": "stderr",
     "output_type": "stream",
     "text": [
      "[INFO]2018-12-09 20:34:34,768:main:      250000000 done in  66.9\n"
     ]
    },
    {
     "name": "stdout",
     "output_type": "stream",
     "text": [
      "      250000000 done in  66.9\n",
      "0.14000000000000004\n",
      "0.13999999999999999\n",
      "0.14000000000000004\n",
      "0.14\n",
      "0.14\n",
      "0.14\n",
      "0.14000000000000004\n",
      "0.14\n",
      "0.13999999999999996\n",
      "0.14000000000000004\n"
     ]
    },
    {
     "name": "stderr",
     "output_type": "stream",
     "text": [
      "[INFO]2018-12-09 20:49:09,994:main:      300000000 done in  81.5\n"
     ]
    },
    {
     "name": "stdout",
     "output_type": "stream",
     "text": [
      "      300000000 done in  81.5\n",
      "0.14000000000000004\n",
      "0.14000000000000004\n",
      "0.14000000000000004\n",
      "0.14\n",
      "0.13999999999999999\n",
      "0.13999999999999999\n",
      "0.14\n",
      "0.13999999999999999\n",
      "0.14\n",
      "0.13999999999999999\n"
     ]
    },
    {
     "name": "stderr",
     "output_type": "stream",
     "text": [
      "[INFO]2018-12-09 21:05:03,951:main:      350000000 done in  97.4\n"
     ]
    },
    {
     "name": "stdout",
     "output_type": "stream",
     "text": [
      "      350000000 done in  97.4\n",
      "0.14\n",
      "0.13999999999999996\n",
      "0.13999999999999999\n",
      "0.14\n",
      "0.14\n",
      "0.13999999999999999\n",
      "0.13999999999999999\n",
      "0.13999999999999999\n",
      "0.14\n",
      "0.14\n"
     ]
    },
    {
     "name": "stderr",
     "output_type": "stream",
     "text": [
      "[INFO]2018-12-09 21:20:52,682:main:      400000000 done in 113.2\n"
     ]
    },
    {
     "name": "stdout",
     "output_type": "stream",
     "text": [
      "      400000000 done in 113.2\n",
      "0.14\n",
      "0.14\n",
      "0.13999999999999999\n",
      "0.14\n",
      "0.13999999999999999\n",
      "0.14\n",
      "0.14\n",
      "0.13999999999999999\n",
      "0.13999999999999999\n",
      "0.14000000000000004\n"
     ]
    },
    {
     "name": "stderr",
     "output_type": "stream",
     "text": [
      "[INFO]2018-12-09 21:36:21,813:main:      450000000 done in 128.7\n"
     ]
    },
    {
     "name": "stdout",
     "output_type": "stream",
     "text": [
      "      450000000 done in 128.7\n",
      "0.14000000000000004\n"
     ]
    }
   ],
   "source": [
    "import time\n",
    "start = time.time()\n",
    "chunks = 5000000\n",
    "remain_df = None\n",
    "    \n",
    "def the_unique(x):\n",
    "    return [x[i] for i in range(len(x)) if x[i] != x[i-1]]\n",
    "\n",
    "for i_c, df in enumerate(pd.read_csv(os.path.join(folderPath,'test_set.csv'), chunksize=chunks, iterator=True)):\n",
    "    # Check object_ids\n",
    "    # I believe np.unique keeps the order of group_ids as they appear in the file\n",
    "    # My belief is wrong (I should have read the doc !)\n",
    "    # A big thank you to https://www.kaggle.com/filby89\n",
    "    # Use .tolist() is almost 3 times faster than the_unique(df['object_id'].values)\n",
    "    unique_ids = the_unique(df['object_id'].tolist())\n",
    "    new_remain_df = df.loc[df['object_id'] == unique_ids[-1]].copy()\n",
    "\n",
    "    if remain_df is None:\n",
    "        df = df.loc[df['object_id'].isin(unique_ids[:-1])].copy()\n",
    "    else:\n",
    "        df = pd.concat([remain_df, df.loc[df['object_id'].isin(unique_ids[:-1])]], axis=0)\n",
    "\n",
    "    # Create remaining samples df\n",
    "    remain_df = new_remain_df\n",
    "\n",
    "    preds_df = predict_chunk(df_=df,\n",
    "                                 clfs_=clfs,\n",
    "                                 meta_=meta_test,\n",
    "                                 features=full_train.columns,\n",
    "                                 train_mean=train_mean)\n",
    "\n",
    "    if i_c == 0:\n",
    "        preds_df.to_csv('predictions_v3.csv', header=True, index=False, float_format='%.6f')\n",
    "    else:\n",
    "        preds_df.to_csv('predictions_v3.csv', header=False, mode='a', index=False, float_format='%.6f')\n",
    "\n",
    "    del preds_df\n",
    "    gc.collect()\n",
    "\n",
    "    if (i_c + 1) % 10 == 0:\n",
    "        get_logger().info('%15d done in %5.1f' % (chunks * (i_c + 1), (time.time() - start) / 60))\n",
    "        print('%15d done in %5.1f' % (chunks * (i_c + 1), (time.time() - start) / 60))"
   ]
  },
  {
   "cell_type": "code",
   "execution_count": 60,
   "metadata": {},
   "outputs": [
    {
     "name": "stdout",
     "output_type": "stream",
     "text": [
      "0.14\n"
     ]
    }
   ],
   "source": [
    "preds_df = predict_chunk(df_=remain_df,\n",
    "                             clfs_=clfs,\n",
    "                             meta_=meta_test,\n",
    "                             features=full_train.columns,\n",
    "                             train_mean=train_mean)\n",
    "\n",
    "preds_df.to_csv('predictions_v3.csv', header=False, mode='a', index=False, float_format='%.6f')\n",
    "\n",
    "z = pd.read_csv('predictions_v3.csv')\n",
    "\n",
    "z = z.groupby('object_id').mean()\n",
    "\n",
    "z.to_csv('single_predictions_v3.csv', index=True, float_format='%.6f')"
   ]
  },
  {
   "cell_type": "markdown",
   "metadata": {},
   "source": [
    "### <font color=\"#006064\">3.1. Removing Redundant Columns</font>"
   ]
  },
  {
   "cell_type": "markdown",
   "metadata": {},
   "source": [
    "# <font color='#9575cd'>4. Machine Learning Modelling</font>"
   ]
  },
  {
   "cell_type": "markdown",
   "metadata": {},
   "source": [
    "### <font color=\"#006064\">4.1. Data Pre-processing</font>"
   ]
  },
  {
   "cell_type": "markdown",
   "metadata": {},
   "source": [
    "##### <font color=\"#0097a7\">4.1.1 Imputation</font>"
   ]
  },
  {
   "cell_type": "markdown",
   "metadata": {},
   "source": [
    "##### <font color=\"#0097a7\">4.1.2 Labelling of Categorical variables</font>"
   ]
  },
  {
   "cell_type": "markdown",
   "metadata": {},
   "source": [
    "##### <font color=\"#0097a7\">4.1.3 One Hot Encoder</font>"
   ]
  },
  {
   "cell_type": "markdown",
   "metadata": {},
   "source": [
    "##### <font color=\"#0097a7\">4.1.4 Scaling</font>"
   ]
  },
  {
   "cell_type": "markdown",
   "metadata": {},
   "source": [
    "### <font color=\"#006064\">4.2 Creating Baseline Model </font>"
   ]
  },
  {
   "cell_type": "markdown",
   "metadata": {},
   "source": [
    "### <font color=\"#006064\">4.3 Model Selection</font>"
   ]
  },
  {
   "cell_type": "markdown",
   "metadata": {},
   "source": [
    "### <font color=\"#006064\">4.4 Model Optimization</font>"
   ]
  },
  {
   "cell_type": "markdown",
   "metadata": {},
   "source": [
    "### <font color=\"#006064\">4.5 Implementation</font>"
   ]
  },
  {
   "cell_type": "markdown",
   "metadata": {},
   "source": [
    "# <font color='#9575cd'>5. Investigating Predictions/Evaluation</font>"
   ]
  },
  {
   "cell_type": "markdown",
   "metadata": {},
   "source": [
    "# <font color='#9575cd'>6. Submission</font>"
   ]
  },
  {
   "cell_type": "code",
   "execution_count": null,
   "metadata": {},
   "outputs": [],
   "source": []
  }
 ],
 "metadata": {
  "kernelspec": {
   "display_name": "deeplearning",
   "language": "python",
   "name": "deeplearning"
  },
  "language_info": {
   "codemirror_mode": {
    "name": "ipython",
    "version": 3
   },
   "file_extension": ".py",
   "mimetype": "text/x-python",
   "name": "python",
   "nbconvert_exporter": "python",
   "pygments_lexer": "ipython3",
   "version": "3.6.6"
  }
 },
 "nbformat": 4,
 "nbformat_minor": 2
}
