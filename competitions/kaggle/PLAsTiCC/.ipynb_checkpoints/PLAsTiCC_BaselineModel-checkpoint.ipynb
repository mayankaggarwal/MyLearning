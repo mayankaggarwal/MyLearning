{
 "cells": [
  {
   "cell_type": "markdown",
   "metadata": {},
   "source": [
    "# 1. Importing Packages and Data "
   ]
  },
  {
   "cell_type": "code",
   "execution_count": 1,
   "metadata": {},
   "outputs": [
    {
     "data": {
      "text/html": [
       "<script>requirejs.config({paths: { 'plotly': ['https://cdn.plot.ly/plotly-latest.min']},});if(!window.Plotly) {{require(['plotly'],function(plotly) {window.Plotly=plotly;});}}</script>"
      ],
      "text/vnd.plotly.v1+html": [
       "<script>requirejs.config({paths: { 'plotly': ['https://cdn.plot.ly/plotly-latest.min']},});if(!window.Plotly) {{require(['plotly'],function(plotly) {window.Plotly=plotly;});}}</script>"
      ]
     },
     "metadata": {},
     "output_type": "display_data"
    }
   ],
   "source": [
    "%matplotlib inline\n",
    "import warnings\n",
    "warnings.filterwarnings('ignore')\n",
    "import os\n",
    "import gc\n",
    "import time\n",
    "import pickle\n",
    "import feather\n",
    "import numpy as np\n",
    "import pandas as pd\n",
    "import seaborn as sns\n",
    "sns.set(style=\"ticks\", color_codes=True)\n",
    "import matplotlib.pyplot as plt\n",
    "from tqdm._tqdm_notebook import tqdm_notebook as tqdm\n",
    "tqdm.pandas()\n",
    "\n",
    "import plotly.offline as py\n",
    "py.init_notebook_mode(connected=True)\n",
    "import plotly.graph_objs as go\n",
    "import plotly.tools as tls\n",
    "import warnings\n",
    "import plotly.figure_factory as ff"
   ]
  },
  {
   "cell_type": "code",
   "execution_count": 9,
   "metadata": {},
   "outputs": [],
   "source": [
    "def datatypes_pie(data):\n",
    "    # Create a trace\n",
    "    colors = ['#FEBFB3', '#E1396C', '#96D38C', '#D0F9B1']\n",
    "    trace1 = go.Pie(\n",
    "        labels = ['float64','Int64'],\n",
    "        values = data.dtypes.value_counts(),\n",
    "        textfont=dict(size=20),\n",
    "        marker=dict(colors=colors,line=dict(color='#000000', width=2)), hole = 0.45)\n",
    "    layout = dict(title = \"Data Types Count Percentage\")\n",
    "    data = [trace1]\n",
    "    py.iplot(dict(data=data, layout=layout), filename='basic-line')"
   ]
  },
  {
   "cell_type": "code",
   "execution_count": 2,
   "metadata": {},
   "outputs": [],
   "source": [
    "folderPath = 'D:/Competitions/Data/PLAsTiCC_Challengle'"
   ]
  },
  {
   "cell_type": "code",
   "execution_count": 7,
   "metadata": {},
   "outputs": [
    {
     "name": "stdout",
     "output_type": "stream",
     "text": [
      "<class 'pandas.core.frame.DataFrame'>\n",
      "RangeIndex: 7848 entries, 0 to 7847\n",
      "Data columns (total 12 columns):\n",
      "object_id             7848 non-null int64\n",
      "ra                    7848 non-null float64\n",
      "decl                  7848 non-null float64\n",
      "gal_l                 7848 non-null float64\n",
      "gal_b                 7848 non-null float64\n",
      "ddf                   7848 non-null int64\n",
      "hostgal_specz         7848 non-null float64\n",
      "hostgal_photoz        7848 non-null float64\n",
      "hostgal_photoz_err    7848 non-null float64\n",
      "distmod               5523 non-null float64\n",
      "mwebv                 7848 non-null float64\n",
      "target                7848 non-null int64\n",
      "dtypes: float64(9), int64(3)\n",
      "memory usage: 735.8 KB\n"
     ]
    }
   ],
   "source": [
    "#train = pd.read_csv(os.path.join(folderPath,'training_set.csv.zip'),compression='zip')\n",
    "train_md = pd.read_csv(os.path.join(folderPath,'training_set_metadata.csv'))\n",
    "train_md.info()"
   ]
  },
  {
   "cell_type": "code",
   "execution_count": 4,
   "metadata": {},
   "outputs": [],
   "source": [
    "test_md = pd.read_csv(os.path.join(folderPath,'test_set_metadata.csv.zip'),compression='zip')\n",
    "test_md.info()"
   ]
  },
  {
   "cell_type": "code",
   "execution_count": 5,
   "metadata": {},
   "outputs": [
    {
     "name": "stdout",
     "output_type": "stream",
     "text": [
      "<class 'pandas.core.frame.DataFrame'>\n",
      "RangeIndex: 3492890 entries, 0 to 3492889\n",
      "Data columns (total 11 columns):\n",
      "object_id             int64\n",
      "ra                    float64\n",
      "decl                  float64\n",
      "gal_l                 float64\n",
      "gal_b                 float64\n",
      "ddf                   int64\n",
      "hostgal_specz         float64\n",
      "hostgal_photoz        float64\n",
      "hostgal_photoz_err    float64\n",
      "distmod               float64\n",
      "mwebv                 float64\n",
      "dtypes: float64(9), int64(2)\n",
      "memory usage: 293.1 MB\n"
     ]
    }
   ],
   "source": []
  },
  {
   "cell_type": "code",
   "execution_count": 10,
   "metadata": {
    "collapsed": true
   },
   "outputs": [
    {
     "data": {
      "text/plain": [
       "float64    9\n",
       "int64      3\n",
       "dtype: int64"
      ]
     },
     "metadata": {},
     "output_type": "display_data"
    },
    {
     "data": {
      "application/vnd.plotly.v1+json": {
       "data": [
        {
         "hole": 0.45,
         "labels": [
          "float64",
          "Int64"
         ],
         "marker": {
          "colors": [
           "#FEBFB3",
           "#E1396C",
           "#96D38C",
           "#D0F9B1"
          ],
          "line": {
           "color": "#000000",
           "width": 2
          }
         },
         "textfont": {
          "size": 20
         },
         "type": "pie",
         "uid": "24c98b2e-f90b-11e8-a2b4-3417eb656c27",
         "values": [
          9,
          3
         ]
        }
       ],
       "layout": {
        "title": "Data Types Count Percentage"
       }
      },
      "text/html": [
       "<div id=\"cedaf908-26f0-4725-9782-af2d493e5122\" style=\"height: 525px; width: 100%;\" class=\"plotly-graph-div\"></div><script type=\"text/javascript\">require([\"plotly\"], function(Plotly) { window.PLOTLYENV=window.PLOTLYENV || {};window.PLOTLYENV.BASE_URL=\"https://plot.ly\";Plotly.newPlot(\"cedaf908-26f0-4725-9782-af2d493e5122\", [{\"hole\": 0.45, \"labels\": [\"float64\", \"Int64\"], \"marker\": {\"colors\": [\"#FEBFB3\", \"#E1396C\", \"#96D38C\", \"#D0F9B1\"], \"line\": {\"color\": \"#000000\", \"width\": 2}}, \"textfont\": {\"size\": 20}, \"values\": [9, 3], \"type\": \"pie\", \"uid\": \"2fb22538-f90b-11e8-9341-3417eb656c27\"}], {\"title\": \"Data Types Count Percentage\"}, {\"showLink\": true, \"linkText\": \"Export to plot.ly\"})});</script>"
      ],
      "text/vnd.plotly.v1+html": [
       "<div id=\"cedaf908-26f0-4725-9782-af2d493e5122\" style=\"height: 525px; width: 100%;\" class=\"plotly-graph-div\"></div><script type=\"text/javascript\">require([\"plotly\"], function(Plotly) { window.PLOTLYENV=window.PLOTLYENV || {};window.PLOTLYENV.BASE_URL=\"https://plot.ly\";Plotly.newPlot(\"cedaf908-26f0-4725-9782-af2d493e5122\", [{\"hole\": 0.45, \"labels\": [\"float64\", \"Int64\"], \"marker\": {\"colors\": [\"#FEBFB3\", \"#E1396C\", \"#96D38C\", \"#D0F9B1\"], \"line\": {\"color\": \"#000000\", \"width\": 2}}, \"textfont\": {\"size\": 20}, \"values\": [9, 3], \"type\": \"pie\", \"uid\": \"2fb22538-f90b-11e8-9341-3417eb656c27\"}], {\"title\": \"Data Types Count Percentage\"}, {\"showLink\": true, \"linkText\": \"Export to plot.ly\"})});</script>"
      ]
     },
     "metadata": {},
     "output_type": "display_data"
    }
   ],
   "source": [
    "display(train_md.dtypes.value_counts())\n",
    "datatypes_pie(train_md)"
   ]
  },
  {
   "cell_type": "markdown",
   "metadata": {},
   "source": [
    "# Model Training - Baseline "
   ]
  },
  {
   "cell_type": "code",
   "execution_count": 8,
   "metadata": {},
   "outputs": [],
   "source": [
    "import lightgbm as lgb"
   ]
  },
  {
   "cell_type": "code",
   "execution_count": 9,
   "metadata": {},
   "outputs": [],
   "source": [
    "round_params = dict(num_boost_round = 21000,early_stopping_rounds = 100,verbose_eval = 50)\n",
    "params = {\n",
    "        'boosting_type': 'gbdt',\n",
    "        'objective': 'multiclass',\n",
    "        'num_class': 14,\n",
    "        'metric': 'multi_logloss',\n",
    "        'learning_rate': 0.03,\n",
    "        'subsample': .9,\n",
    "        'colsample_bytree': .7,\n",
    "        'reg_alpha': .01,\n",
    "        'reg_lambda': .01,\n",
    "        'min_split_gain': 0.01,\n",
    "        'min_child_weight': 10,\n",
    "        'n_estimators': 1000,\n",
    "        'silent': -1,\n",
    "        'verbose': -1,\n",
    "        'max_depth': 3\n",
    "    }"
   ]
  },
  {
   "cell_type": "code",
   "execution_count": 10,
   "metadata": {},
   "outputs": [],
   "source": [
    "def lgb_cv_train(X, labels, X_test, params=params, round_params=round_params):\n",
    "    print('X', X.shape, 'labels', labels.shape, 'X_test', X_test.shape)\n",
    "    print('unique labels', np.unique(labels))\n",
    "    \n",
    "    labels2y = dict(map(reversed, enumerate(np.unique(labels))))\n",
    "    y2labels = dict(enumerate(np.unique(labels)))\n",
    "    y = np.array(list(map(labels2y.get, labels)))\n",
    "    weight = np.array(list(map(labels2weight.get, labels)))\n",
    "    \n",
    "    params['num_class'] = len(np.unique(y))\n",
    "    cv_raw = lgb.cv(params, lgb.Dataset(X, label=y, weight=weight), nfold=10, **round_params)\n",
    "    best_round = np.argmin(cv_raw['multi_logloss-mean'])\n",
    "    best_score = cv_raw['multi_logloss-mean'][best_round]\n",
    "    print(f'best_round: {best_round}', f'best_score: {best_score}')\n",
    "    model = lgb.train(\n",
    "        params, \n",
    "        lgb.Dataset(X, label=y, weight=weight), \n",
    "        num_boost_round=best_round, \n",
    "    )\n",
    "    pred = model.predict(X_test)\n",
    "    pred_labels = pd.DataFrame(\n",
    "        {f'class_{c}': pred[:, i] for i,c in enumerate(np.unique(labels))}\n",
    "    )\n",
    "    res = dict(\n",
    "        model=model,\n",
    "        best_round=best_round,\n",
    "        best_score=best_score,\n",
    "        pred_labels=pred_labels\n",
    "    )\n",
    "    return res"
   ]
  },
  {
   "cell_type": "code",
   "execution_count": 11,
   "metadata": {},
   "outputs": [
    {
     "name": "stdout",
     "output_type": "stream",
     "text": [
      "['ra', 'decl', 'gal_l', 'gal_b', 'ddf', 'mwebv']\n",
      "['ra', 'decl', 'gal_l', 'gal_b', 'ddf', 'mwebv', 'hostgal_specz', 'hostgal_photoz', 'hostgal_photoz_err', 'distmod']\n"
     ]
    }
   ],
   "source": [
    "feat_extra_li = ['hostgal_specz', 'hostgal_photoz', 'hostgal_photoz_err', 'distmod']\n",
    "feat_gal_cols = ['ra', 'decl', 'gal_l', 'gal_b', 'ddf', 'mwebv']\n",
    "feat_extra_cols = feat_gal_cols + feat_extra_li\n",
    "print(feat_gal_cols)\n",
    "print(feat_extra_cols)"
   ]
  },
  {
   "cell_type": "code",
   "execution_count": 12,
   "metadata": {},
   "outputs": [],
   "source": [
    "target = train_md['target'].values.copy()\n",
    "del train_md['target']"
   ]
  },
  {
   "cell_type": "code",
   "execution_count": 13,
   "metadata": {},
   "outputs": [],
   "source": [
    "train_ids = train_md['object_id'].copy()\n",
    "test_ids = test_md['object_id'].copy()\n",
    "del train_md['object_id'], test_md['object_id'];"
   ]
  },
  {
   "cell_type": "code",
   "execution_count": 15,
   "metadata": {},
   "outputs": [],
   "source": [
    "train_mask = train_md['distmod'].isnull().values\n",
    "test_mask = test_md['distmod'].isnull().values"
   ]
  },
  {
   "cell_type": "code",
   "execution_count": 16,
   "metadata": {},
   "outputs": [],
   "source": [
    "labels2weight = {x:1 for x in np.unique(target)}\n",
    "labels2weight[64] = 2\n",
    "labels2weight[15] = 2"
   ]
  },
  {
   "cell_type": "code",
   "execution_count": 17,
   "metadata": {},
   "outputs": [
    {
     "name": "stdout",
     "output_type": "stream",
     "text": [
      "Unique Target from Train:  [ 6 16 53 65 92]\n",
      "Unique Target From Target: [15 42 52 62 64 67 88 90 95]\n"
     ]
    }
   ],
   "source": [
    "print(\"Unique Target from Train: \",np.unique(target[train_mask]))\n",
    "print(\"Unique Target From Target:\", np.unique(target[~train_mask]))"
   ]
  },
  {
   "cell_type": "code",
   "execution_count": 18,
   "metadata": {},
   "outputs": [
    {
     "name": "stdout",
     "output_type": "stream",
     "text": [
      "X (2325, 6) labels (2325,) X_test (390510, 6)\n",
      "unique labels [ 6 16 53 65 92]\n"
     ]
    },
    {
     "name": "stderr",
     "output_type": "stream",
     "text": [
      "C:\\Users\\Inspiron\\Anaconda3\\envs\\tensorflow\\lib\\site-packages\\lightgbm\\engine.py:426: UserWarning:\n",
      "\n",
      "Found `n_estimators` in params. Will use it instead of argument\n",
      "\n",
      "C:\\Users\\Inspiron\\Anaconda3\\envs\\tensorflow\\lib\\site-packages\\lightgbm\\basic.py:721: UserWarning:\n",
      "\n",
      "silent keyword has been found in `params` and will be ignored.\n",
      "Please use silent argument of the Dataset constructor to pass this parameter.\n",
      "\n"
     ]
    },
    {
     "name": "stdout",
     "output_type": "stream",
     "text": [
      "[50]\tcv_agg's multi_logloss: 1.22702 + 0.00655265\n",
      "[100]\tcv_agg's multi_logloss: 1.15984 + 0.010371\n",
      "[150]\tcv_agg's multi_logloss: 1.14673 + 0.0134734\n",
      "[200]\tcv_agg's multi_logloss: 1.14612 + 0.0155465\n",
      "[250]\tcv_agg's multi_logloss: 1.14862 + 0.0173029\n",
      "best_round: 184 best_score: 1.1456555484785917\n"
     ]
    },
    {
     "name": "stderr",
     "output_type": "stream",
     "text": [
      "C:\\Users\\Inspiron\\Anaconda3\\envs\\tensorflow\\lib\\site-packages\\lightgbm\\engine.py:113: UserWarning:\n",
      "\n",
      "Found `n_estimators` in params. Will use it instead of argument\n",
      "\n",
      "C:\\Users\\Inspiron\\Anaconda3\\envs\\tensorflow\\lib\\site-packages\\lightgbm\\basic.py:721: UserWarning:\n",
      "\n",
      "silent keyword has been found in `params` and will be ignored.\n",
      "Please use silent argument of the Dataset constructor to pass this parameter.\n",
      "\n"
     ]
    },
    {
     "name": "stdout",
     "output_type": "stream",
     "text": [
      "Wall time: 1min 25s\n"
     ]
    }
   ],
   "source": [
    "%%time\n",
    "res_gal = lgb_cv_train(train_md.loc[train_mask, feat_gal_cols], target[train_mask], test_md.loc[test_mask, feat_gal_cols])"
   ]
  },
  {
   "cell_type": "code",
   "execution_count": 19,
   "metadata": {},
   "outputs": [
    {
     "data": {
      "text/html": [
       "<div>\n",
       "<style scoped>\n",
       "    .dataframe tbody tr th:only-of-type {\n",
       "        vertical-align: middle;\n",
       "    }\n",
       "\n",
       "    .dataframe tbody tr th {\n",
       "        vertical-align: top;\n",
       "    }\n",
       "\n",
       "    .dataframe thead th {\n",
       "        text-align: right;\n",
       "    }\n",
       "</style>\n",
       "<table border=\"1\" class=\"dataframe\">\n",
       "  <thead>\n",
       "    <tr style=\"text-align: right;\">\n",
       "      <th></th>\n",
       "      <th>class_6</th>\n",
       "      <th>class_16</th>\n",
       "      <th>class_53</th>\n",
       "      <th>class_65</th>\n",
       "      <th>class_92</th>\n",
       "    </tr>\n",
       "  </thead>\n",
       "  <tbody>\n",
       "    <tr>\n",
       "      <th>0</th>\n",
       "      <td>0.050653</td>\n",
       "      <td>0.358272</td>\n",
       "      <td>0.004743</td>\n",
       "      <td>0.468139</td>\n",
       "      <td>0.118193</td>\n",
       "    </tr>\n",
       "    <tr>\n",
       "      <th>1</th>\n",
       "      <td>0.016306</td>\n",
       "      <td>0.222888</td>\n",
       "      <td>0.002666</td>\n",
       "      <td>0.497463</td>\n",
       "      <td>0.260677</td>\n",
       "    </tr>\n",
       "    <tr>\n",
       "      <th>2</th>\n",
       "      <td>0.003009</td>\n",
       "      <td>0.358363</td>\n",
       "      <td>0.002817</td>\n",
       "      <td>0.580541</td>\n",
       "      <td>0.055271</td>\n",
       "    </tr>\n",
       "    <tr>\n",
       "      <th>3</th>\n",
       "      <td>0.020338</td>\n",
       "      <td>0.278121</td>\n",
       "      <td>0.004092</td>\n",
       "      <td>0.477093</td>\n",
       "      <td>0.220356</td>\n",
       "    </tr>\n",
       "    <tr>\n",
       "      <th>4</th>\n",
       "      <td>0.004868</td>\n",
       "      <td>0.356629</td>\n",
       "      <td>0.005579</td>\n",
       "      <td>0.537041</td>\n",
       "      <td>0.095883</td>\n",
       "    </tr>\n",
       "  </tbody>\n",
       "</table>\n",
       "</div>"
      ],
      "text/plain": [
       "    class_6  class_16  class_53  class_65  class_92\n",
       "0  0.050653  0.358272  0.004743  0.468139  0.118193\n",
       "1  0.016306  0.222888  0.002666  0.497463  0.260677\n",
       "2  0.003009  0.358363  0.002817  0.580541  0.055271\n",
       "3  0.020338  0.278121  0.004092  0.477093  0.220356\n",
       "4  0.004868  0.356629  0.005579  0.537041  0.095883"
      ]
     },
     "execution_count": 19,
     "metadata": {},
     "output_type": "execute_result"
    }
   ],
   "source": [
    "res_gal['pred_labels'].head()"
   ]
  },
  {
   "cell_type": "code",
   "execution_count": 20,
   "metadata": {},
   "outputs": [
    {
     "data": {
      "text/html": [
       "<div>\n",
       "<style scoped>\n",
       "    .dataframe tbody tr th:only-of-type {\n",
       "        vertical-align: middle;\n",
       "    }\n",
       "\n",
       "    .dataframe tbody tr th {\n",
       "        vertical-align: top;\n",
       "    }\n",
       "\n",
       "    .dataframe thead th {\n",
       "        text-align: right;\n",
       "    }\n",
       "</style>\n",
       "<table border=\"1\" class=\"dataframe\">\n",
       "  <thead>\n",
       "    <tr style=\"text-align: right;\">\n",
       "      <th></th>\n",
       "      <th>class_6</th>\n",
       "      <th>class_16</th>\n",
       "      <th>class_53</th>\n",
       "      <th>class_65</th>\n",
       "      <th>class_92</th>\n",
       "      <th>class_99</th>\n",
       "    </tr>\n",
       "  </thead>\n",
       "  <tbody>\n",
       "    <tr>\n",
       "      <th>0</th>\n",
       "      <td>0.042211</td>\n",
       "      <td>0.298560</td>\n",
       "      <td>0.003952</td>\n",
       "      <td>0.390116</td>\n",
       "      <td>0.098494</td>\n",
       "      <td>0.166667</td>\n",
       "    </tr>\n",
       "    <tr>\n",
       "      <th>1</th>\n",
       "      <td>0.013589</td>\n",
       "      <td>0.185740</td>\n",
       "      <td>0.002221</td>\n",
       "      <td>0.414553</td>\n",
       "      <td>0.217231</td>\n",
       "      <td>0.166667</td>\n",
       "    </tr>\n",
       "    <tr>\n",
       "      <th>2</th>\n",
       "      <td>0.002508</td>\n",
       "      <td>0.298635</td>\n",
       "      <td>0.002347</td>\n",
       "      <td>0.483784</td>\n",
       "      <td>0.046059</td>\n",
       "      <td>0.166667</td>\n",
       "    </tr>\n",
       "    <tr>\n",
       "      <th>3</th>\n",
       "      <td>0.016948</td>\n",
       "      <td>0.231768</td>\n",
       "      <td>0.003410</td>\n",
       "      <td>0.397577</td>\n",
       "      <td>0.183630</td>\n",
       "      <td>0.166667</td>\n",
       "    </tr>\n",
       "    <tr>\n",
       "      <th>4</th>\n",
       "      <td>0.004057</td>\n",
       "      <td>0.297190</td>\n",
       "      <td>0.004649</td>\n",
       "      <td>0.447534</td>\n",
       "      <td>0.079903</td>\n",
       "      <td>0.166667</td>\n",
       "    </tr>\n",
       "  </tbody>\n",
       "</table>\n",
       "</div>"
      ],
      "text/plain": [
       "    class_6  class_16  class_53  class_65  class_92  class_99\n",
       "0  0.042211  0.298560  0.003952  0.390116  0.098494  0.166667\n",
       "1  0.013589  0.185740  0.002221  0.414553  0.217231  0.166667\n",
       "2  0.002508  0.298635  0.002347  0.483784  0.046059  0.166667\n",
       "3  0.016948  0.231768  0.003410  0.397577  0.183630  0.166667\n",
       "4  0.004057  0.297190  0.004649  0.447534  0.079903  0.166667"
      ]
     },
     "execution_count": 20,
     "metadata": {},
     "output_type": "execute_result"
    }
   ],
   "source": [
    "n_gal = res_gal['pred_labels'].shape[1]\n",
    "res_gal['pred_labels'] = res_gal['pred_labels'] * n_gal/(n_gal+1)\n",
    "res_gal['pred_labels']['class_99'] = 1/(n_gal+1)\n",
    "res_gal['pred_labels'].head()"
   ]
  },
  {
   "cell_type": "code",
   "execution_count": 21,
   "metadata": {},
   "outputs": [
    {
     "name": "stdout",
     "output_type": "stream",
     "text": [
      "X (5523, 10) labels (5523,) X_test (3102380, 10)\n",
      "unique labels [15 42 52 62 64 67 88 90 95]\n"
     ]
    },
    {
     "name": "stderr",
     "output_type": "stream",
     "text": [
      "C:\\Users\\Inspiron\\Anaconda3\\envs\\tensorflow\\lib\\site-packages\\lightgbm\\engine.py:426: UserWarning:\n",
      "\n",
      "Found `n_estimators` in params. Will use it instead of argument\n",
      "\n",
      "C:\\Users\\Inspiron\\Anaconda3\\envs\\tensorflow\\lib\\site-packages\\lightgbm\\basic.py:721: UserWarning:\n",
      "\n",
      "silent keyword has been found in `params` and will be ignored.\n",
      "Please use silent argument of the Dataset constructor to pass this parameter.\n",
      "\n"
     ]
    },
    {
     "name": "stdout",
     "output_type": "stream",
     "text": [
      "[50]\tcv_agg's multi_logloss: 1.60892 + 0.0169808\n",
      "[100]\tcv_agg's multi_logloss: 1.49112 + 0.0215679\n",
      "[150]\tcv_agg's multi_logloss: 1.45761 + 0.0232759\n",
      "[200]\tcv_agg's multi_logloss: 1.44775 + 0.0246379\n",
      "[250]\tcv_agg's multi_logloss: 1.4465 + 0.0250768\n",
      "[300]\tcv_agg's multi_logloss: 1.44812 + 0.0258355\n",
      "best_round: 238 best_score: 1.446296023690325\n"
     ]
    },
    {
     "name": "stderr",
     "output_type": "stream",
     "text": [
      "C:\\Users\\Inspiron\\Anaconda3\\envs\\tensorflow\\lib\\site-packages\\lightgbm\\engine.py:113: UserWarning:\n",
      "\n",
      "Found `n_estimators` in params. Will use it instead of argument\n",
      "\n",
      "C:\\Users\\Inspiron\\Anaconda3\\envs\\tensorflow\\lib\\site-packages\\lightgbm\\basic.py:721: UserWarning:\n",
      "\n",
      "silent keyword has been found in `params` and will be ignored.\n",
      "Please use silent argument of the Dataset constructor to pass this parameter.\n",
      "\n"
     ]
    },
    {
     "name": "stdout",
     "output_type": "stream",
     "text": [
      "Wall time: 43min 53s\n"
     ]
    }
   ],
   "source": [
    "%%time\n",
    "res_extra = lgb_cv_train(train_md.loc[~train_mask, feat_extra_cols],target[~train_mask],test_md.loc[~test_mask, feat_extra_cols])"
   ]
  },
  {
   "cell_type": "code",
   "execution_count": 22,
   "metadata": {},
   "outputs": [
    {
     "data": {
      "text/html": [
       "<div>\n",
       "<style scoped>\n",
       "    .dataframe tbody tr th:only-of-type {\n",
       "        vertical-align: middle;\n",
       "    }\n",
       "\n",
       "    .dataframe tbody tr th {\n",
       "        vertical-align: top;\n",
       "    }\n",
       "\n",
       "    .dataframe thead th {\n",
       "        text-align: right;\n",
       "    }\n",
       "</style>\n",
       "<table border=\"1\" class=\"dataframe\">\n",
       "  <thead>\n",
       "    <tr style=\"text-align: right;\">\n",
       "      <th></th>\n",
       "      <th>class_15</th>\n",
       "      <th>class_42</th>\n",
       "      <th>class_52</th>\n",
       "      <th>class_62</th>\n",
       "      <th>class_64</th>\n",
       "      <th>class_67</th>\n",
       "      <th>class_88</th>\n",
       "      <th>class_90</th>\n",
       "      <th>class_95</th>\n",
       "    </tr>\n",
       "  </thead>\n",
       "  <tbody>\n",
       "    <tr>\n",
       "      <th>0</th>\n",
       "      <td>0.003672</td>\n",
       "      <td>0.132766</td>\n",
       "      <td>0.056299</td>\n",
       "      <td>0.081067</td>\n",
       "      <td>0.000211</td>\n",
       "      <td>0.029766</td>\n",
       "      <td>0.044981</td>\n",
       "      <td>0.650229</td>\n",
       "      <td>0.001011</td>\n",
       "    </tr>\n",
       "    <tr>\n",
       "      <th>1</th>\n",
       "      <td>0.009989</td>\n",
       "      <td>0.563239</td>\n",
       "      <td>0.047761</td>\n",
       "      <td>0.086829</td>\n",
       "      <td>0.065165</td>\n",
       "      <td>0.019420</td>\n",
       "      <td>0.016839</td>\n",
       "      <td>0.188272</td>\n",
       "      <td>0.002485</td>\n",
       "    </tr>\n",
       "    <tr>\n",
       "      <th>2</th>\n",
       "      <td>0.023829</td>\n",
       "      <td>0.652620</td>\n",
       "      <td>0.028444</td>\n",
       "      <td>0.092470</td>\n",
       "      <td>0.034142</td>\n",
       "      <td>0.039227</td>\n",
       "      <td>0.004040</td>\n",
       "      <td>0.123763</td>\n",
       "      <td>0.001465</td>\n",
       "    </tr>\n",
       "    <tr>\n",
       "      <th>3</th>\n",
       "      <td>0.004037</td>\n",
       "      <td>0.505938</td>\n",
       "      <td>0.044791</td>\n",
       "      <td>0.088047</td>\n",
       "      <td>0.107550</td>\n",
       "      <td>0.028351</td>\n",
       "      <td>0.014922</td>\n",
       "      <td>0.203652</td>\n",
       "      <td>0.002714</td>\n",
       "    </tr>\n",
       "    <tr>\n",
       "      <th>4</th>\n",
       "      <td>0.015570</td>\n",
       "      <td>0.068470</td>\n",
       "      <td>0.006403</td>\n",
       "      <td>0.020943</td>\n",
       "      <td>0.000193</td>\n",
       "      <td>0.001728</td>\n",
       "      <td>0.118497</td>\n",
       "      <td>0.763795</td>\n",
       "      <td>0.004401</td>\n",
       "    </tr>\n",
       "  </tbody>\n",
       "</table>\n",
       "</div>"
      ],
      "text/plain": [
       "   class_15  class_42  class_52  class_62  class_64  class_67  class_88  \\\n",
       "0  0.003672  0.132766  0.056299  0.081067  0.000211  0.029766  0.044981   \n",
       "1  0.009989  0.563239  0.047761  0.086829  0.065165  0.019420  0.016839   \n",
       "2  0.023829  0.652620  0.028444  0.092470  0.034142  0.039227  0.004040   \n",
       "3  0.004037  0.505938  0.044791  0.088047  0.107550  0.028351  0.014922   \n",
       "4  0.015570  0.068470  0.006403  0.020943  0.000193  0.001728  0.118497   \n",
       "\n",
       "   class_90  class_95  \n",
       "0  0.650229  0.001011  \n",
       "1  0.188272  0.002485  \n",
       "2  0.123763  0.001465  \n",
       "3  0.203652  0.002714  \n",
       "4  0.763795  0.004401  "
      ]
     },
     "execution_count": 22,
     "metadata": {},
     "output_type": "execute_result"
    }
   ],
   "source": [
    "res_extra['pred_labels'].head()"
   ]
  },
  {
   "cell_type": "code",
   "execution_count": 23,
   "metadata": {},
   "outputs": [
    {
     "data": {
      "text/html": [
       "<div>\n",
       "<style scoped>\n",
       "    .dataframe tbody tr th:only-of-type {\n",
       "        vertical-align: middle;\n",
       "    }\n",
       "\n",
       "    .dataframe tbody tr th {\n",
       "        vertical-align: top;\n",
       "    }\n",
       "\n",
       "    .dataframe thead th {\n",
       "        text-align: right;\n",
       "    }\n",
       "</style>\n",
       "<table border=\"1\" class=\"dataframe\">\n",
       "  <thead>\n",
       "    <tr style=\"text-align: right;\">\n",
       "      <th></th>\n",
       "      <th>class_15</th>\n",
       "      <th>class_42</th>\n",
       "      <th>class_52</th>\n",
       "      <th>class_62</th>\n",
       "      <th>class_64</th>\n",
       "      <th>class_67</th>\n",
       "      <th>class_88</th>\n",
       "      <th>class_90</th>\n",
       "      <th>class_95</th>\n",
       "      <th>class_99</th>\n",
       "    </tr>\n",
       "  </thead>\n",
       "  <tbody>\n",
       "    <tr>\n",
       "      <th>0</th>\n",
       "      <td>0.003304</td>\n",
       "      <td>0.119489</td>\n",
       "      <td>0.050669</td>\n",
       "      <td>0.072960</td>\n",
       "      <td>0.000189</td>\n",
       "      <td>0.026789</td>\n",
       "      <td>0.040483</td>\n",
       "      <td>0.585206</td>\n",
       "      <td>0.000910</td>\n",
       "      <td>0.1</td>\n",
       "    </tr>\n",
       "    <tr>\n",
       "      <th>1</th>\n",
       "      <td>0.008990</td>\n",
       "      <td>0.506915</td>\n",
       "      <td>0.042985</td>\n",
       "      <td>0.078146</td>\n",
       "      <td>0.058649</td>\n",
       "      <td>0.017478</td>\n",
       "      <td>0.015155</td>\n",
       "      <td>0.169445</td>\n",
       "      <td>0.002236</td>\n",
       "      <td>0.1</td>\n",
       "    </tr>\n",
       "    <tr>\n",
       "      <th>2</th>\n",
       "      <td>0.021446</td>\n",
       "      <td>0.587358</td>\n",
       "      <td>0.025599</td>\n",
       "      <td>0.083223</td>\n",
       "      <td>0.030727</td>\n",
       "      <td>0.035304</td>\n",
       "      <td>0.003636</td>\n",
       "      <td>0.111387</td>\n",
       "      <td>0.001319</td>\n",
       "      <td>0.1</td>\n",
       "    </tr>\n",
       "    <tr>\n",
       "      <th>3</th>\n",
       "      <td>0.003633</td>\n",
       "      <td>0.455344</td>\n",
       "      <td>0.040311</td>\n",
       "      <td>0.079242</td>\n",
       "      <td>0.096795</td>\n",
       "      <td>0.025516</td>\n",
       "      <td>0.013429</td>\n",
       "      <td>0.183286</td>\n",
       "      <td>0.002442</td>\n",
       "      <td>0.1</td>\n",
       "    </tr>\n",
       "    <tr>\n",
       "      <th>4</th>\n",
       "      <td>0.014013</td>\n",
       "      <td>0.061623</td>\n",
       "      <td>0.005762</td>\n",
       "      <td>0.018849</td>\n",
       "      <td>0.000174</td>\n",
       "      <td>0.001555</td>\n",
       "      <td>0.106647</td>\n",
       "      <td>0.687416</td>\n",
       "      <td>0.003961</td>\n",
       "      <td>0.1</td>\n",
       "    </tr>\n",
       "  </tbody>\n",
       "</table>\n",
       "</div>"
      ],
      "text/plain": [
       "   class_15  class_42  class_52  class_62  class_64  class_67  class_88  \\\n",
       "0  0.003304  0.119489  0.050669  0.072960  0.000189  0.026789  0.040483   \n",
       "1  0.008990  0.506915  0.042985  0.078146  0.058649  0.017478  0.015155   \n",
       "2  0.021446  0.587358  0.025599  0.083223  0.030727  0.035304  0.003636   \n",
       "3  0.003633  0.455344  0.040311  0.079242  0.096795  0.025516  0.013429   \n",
       "4  0.014013  0.061623  0.005762  0.018849  0.000174  0.001555  0.106647   \n",
       "\n",
       "   class_90  class_95  class_99  \n",
       "0  0.585206  0.000910       0.1  \n",
       "1  0.169445  0.002236       0.1  \n",
       "2  0.111387  0.001319       0.1  \n",
       "3  0.183286  0.002442       0.1  \n",
       "4  0.687416  0.003961       0.1  "
      ]
     },
     "execution_count": 23,
     "metadata": {},
     "output_type": "execute_result"
    }
   ],
   "source": [
    "n_extra = res_extra['pred_labels'].shape[1]\n",
    "res_extra['pred_labels'] = res_extra['pred_labels'] * n_extra/(n_extra+1)\n",
    "res_extra['pred_labels']['class_99'] = 1/(n_extra+1)\n",
    "res_extra['pred_labels'].head()"
   ]
  },
  {
   "cell_type": "markdown",
   "metadata": {},
   "source": [
    "# Submission"
   ]
  },
  {
   "cell_type": "code",
   "execution_count": 24,
   "metadata": {},
   "outputs": [
    {
     "data": {
      "text/html": [
       "<div>\n",
       "<style scoped>\n",
       "    .dataframe tbody tr th:only-of-type {\n",
       "        vertical-align: middle;\n",
       "    }\n",
       "\n",
       "    .dataframe tbody tr th {\n",
       "        vertical-align: top;\n",
       "    }\n",
       "\n",
       "    .dataframe thead th {\n",
       "        text-align: right;\n",
       "    }\n",
       "</style>\n",
       "<table border=\"1\" class=\"dataframe\">\n",
       "  <thead>\n",
       "    <tr style=\"text-align: right;\">\n",
       "      <th></th>\n",
       "      <th>class_6</th>\n",
       "      <th>class_15</th>\n",
       "      <th>class_16</th>\n",
       "      <th>class_42</th>\n",
       "      <th>class_52</th>\n",
       "      <th>class_53</th>\n",
       "      <th>class_62</th>\n",
       "      <th>class_64</th>\n",
       "      <th>class_65</th>\n",
       "      <th>class_67</th>\n",
       "      <th>class_88</th>\n",
       "      <th>class_90</th>\n",
       "      <th>class_92</th>\n",
       "      <th>class_95</th>\n",
       "      <th>class_99</th>\n",
       "    </tr>\n",
       "    <tr>\n",
       "      <th>object_id</th>\n",
       "      <th></th>\n",
       "      <th></th>\n",
       "      <th></th>\n",
       "      <th></th>\n",
       "      <th></th>\n",
       "      <th></th>\n",
       "      <th></th>\n",
       "      <th></th>\n",
       "      <th></th>\n",
       "      <th></th>\n",
       "      <th></th>\n",
       "      <th></th>\n",
       "      <th></th>\n",
       "      <th></th>\n",
       "      <th></th>\n",
       "    </tr>\n",
       "  </thead>\n",
       "  <tbody>\n",
       "    <tr>\n",
       "      <th>13</th>\n",
       "      <td>0</td>\n",
       "      <td>0</td>\n",
       "      <td>0</td>\n",
       "      <td>0</td>\n",
       "      <td>0</td>\n",
       "      <td>0</td>\n",
       "      <td>0</td>\n",
       "      <td>0</td>\n",
       "      <td>0</td>\n",
       "      <td>0</td>\n",
       "      <td>0</td>\n",
       "      <td>0</td>\n",
       "      <td>0</td>\n",
       "      <td>0</td>\n",
       "      <td>0</td>\n",
       "    </tr>\n",
       "    <tr>\n",
       "      <th>14</th>\n",
       "      <td>0</td>\n",
       "      <td>0</td>\n",
       "      <td>0</td>\n",
       "      <td>0</td>\n",
       "      <td>0</td>\n",
       "      <td>0</td>\n",
       "      <td>0</td>\n",
       "      <td>0</td>\n",
       "      <td>0</td>\n",
       "      <td>0</td>\n",
       "      <td>0</td>\n",
       "      <td>0</td>\n",
       "      <td>0</td>\n",
       "      <td>0</td>\n",
       "      <td>0</td>\n",
       "    </tr>\n",
       "    <tr>\n",
       "      <th>17</th>\n",
       "      <td>0</td>\n",
       "      <td>0</td>\n",
       "      <td>0</td>\n",
       "      <td>0</td>\n",
       "      <td>0</td>\n",
       "      <td>0</td>\n",
       "      <td>0</td>\n",
       "      <td>0</td>\n",
       "      <td>0</td>\n",
       "      <td>0</td>\n",
       "      <td>0</td>\n",
       "      <td>0</td>\n",
       "      <td>0</td>\n",
       "      <td>0</td>\n",
       "      <td>0</td>\n",
       "    </tr>\n",
       "    <tr>\n",
       "      <th>23</th>\n",
       "      <td>0</td>\n",
       "      <td>0</td>\n",
       "      <td>0</td>\n",
       "      <td>0</td>\n",
       "      <td>0</td>\n",
       "      <td>0</td>\n",
       "      <td>0</td>\n",
       "      <td>0</td>\n",
       "      <td>0</td>\n",
       "      <td>0</td>\n",
       "      <td>0</td>\n",
       "      <td>0</td>\n",
       "      <td>0</td>\n",
       "      <td>0</td>\n",
       "      <td>0</td>\n",
       "    </tr>\n",
       "    <tr>\n",
       "      <th>34</th>\n",
       "      <td>0</td>\n",
       "      <td>0</td>\n",
       "      <td>0</td>\n",
       "      <td>0</td>\n",
       "      <td>0</td>\n",
       "      <td>0</td>\n",
       "      <td>0</td>\n",
       "      <td>0</td>\n",
       "      <td>0</td>\n",
       "      <td>0</td>\n",
       "      <td>0</td>\n",
       "      <td>0</td>\n",
       "      <td>0</td>\n",
       "      <td>0</td>\n",
       "      <td>0</td>\n",
       "    </tr>\n",
       "  </tbody>\n",
       "</table>\n",
       "</div>"
      ],
      "text/plain": [
       "           class_6  class_15  class_16  class_42  class_52  class_53  \\\n",
       "object_id                                                              \n",
       "13               0         0         0         0         0         0   \n",
       "14               0         0         0         0         0         0   \n",
       "17               0         0         0         0         0         0   \n",
       "23               0         0         0         0         0         0   \n",
       "34               0         0         0         0         0         0   \n",
       "\n",
       "           class_62  class_64  class_65  class_67  class_88  class_90  \\\n",
       "object_id                                                               \n",
       "13                0         0         0         0         0         0   \n",
       "14                0         0         0         0         0         0   \n",
       "17                0         0         0         0         0         0   \n",
       "23                0         0         0         0         0         0   \n",
       "34                0         0         0         0         0         0   \n",
       "\n",
       "           class_92  class_95  class_99  \n",
       "object_id                                \n",
       "13                0         0         0  \n",
       "14                0         0         0  \n",
       "17                0         0         0  \n",
       "23                0         0         0  \n",
       "34                0         0         0  "
      ]
     },
     "execution_count": 24,
     "metadata": {},
     "output_type": "execute_result"
    }
   ],
   "source": [
    "sub = pd.read_csv(os.path.join(folderPath,'sample_submission.csv.zip'),compression='zip')\n",
    "sub = sub.set_index('object_id')\n",
    "sub[:] = 0\n",
    "sub.head()"
   ]
  },
  {
   "cell_type": "code",
   "execution_count": 25,
   "metadata": {},
   "outputs": [
    {
     "name": "stdout",
     "output_type": "stream",
     "text": [
      "(3492890, 15) ['class_6', 'class_15', 'class_16', 'class_42', 'class_52', 'class_53', 'class_62', 'class_64', 'class_65', 'class_67', 'class_88', 'class_90', 'class_92', 'class_95', 'class_99']\n"
     ]
    }
   ],
   "source": [
    "classnames = sub.columns.tolist()\n",
    "print(sub.shape, classnames)"
   ]
  },
  {
   "cell_type": "code",
   "execution_count": 26,
   "metadata": {},
   "outputs": [],
   "source": [
    "for c in res_gal['pred_labels'].columns:\n",
    "    sub.loc[test_mask, c] = res_gal['pred_labels'][c].values\n",
    "for c in res_extra['pred_labels'].columns:\n",
    "    sub.loc[~test_mask, c] = res_extra['pred_labels'][c].values"
   ]
  },
  {
   "cell_type": "code",
   "execution_count": 27,
   "metadata": {},
   "outputs": [
    {
     "data": {
      "text/html": [
       "<div>\n",
       "<style scoped>\n",
       "    .dataframe tbody tr th:only-of-type {\n",
       "        vertical-align: middle;\n",
       "    }\n",
       "\n",
       "    .dataframe tbody tr th {\n",
       "        vertical-align: top;\n",
       "    }\n",
       "\n",
       "    .dataframe thead th {\n",
       "        text-align: right;\n",
       "    }\n",
       "</style>\n",
       "<table border=\"1\" class=\"dataframe\">\n",
       "  <thead>\n",
       "    <tr style=\"text-align: right;\">\n",
       "      <th></th>\n",
       "      <th>class_6</th>\n",
       "      <th>class_15</th>\n",
       "      <th>class_16</th>\n",
       "      <th>class_42</th>\n",
       "      <th>class_52</th>\n",
       "      <th>class_53</th>\n",
       "      <th>class_62</th>\n",
       "      <th>class_64</th>\n",
       "      <th>class_65</th>\n",
       "      <th>class_67</th>\n",
       "      <th>class_88</th>\n",
       "      <th>class_90</th>\n",
       "      <th>class_92</th>\n",
       "      <th>class_95</th>\n",
       "      <th>class_99</th>\n",
       "    </tr>\n",
       "    <tr>\n",
       "      <th>object_id</th>\n",
       "      <th></th>\n",
       "      <th></th>\n",
       "      <th></th>\n",
       "      <th></th>\n",
       "      <th></th>\n",
       "      <th></th>\n",
       "      <th></th>\n",
       "      <th></th>\n",
       "      <th></th>\n",
       "      <th></th>\n",
       "      <th></th>\n",
       "      <th></th>\n",
       "      <th></th>\n",
       "      <th></th>\n",
       "      <th></th>\n",
       "    </tr>\n",
       "  </thead>\n",
       "  <tbody>\n",
       "    <tr>\n",
       "      <th>130787887</th>\n",
       "      <td>0.000000</td>\n",
       "      <td>0.199151</td>\n",
       "      <td>0.000000</td>\n",
       "      <td>0.218913</td>\n",
       "      <td>0.032456</td>\n",
       "      <td>0.000000</td>\n",
       "      <td>0.093222</td>\n",
       "      <td>0.228664</td>\n",
       "      <td>0.000000</td>\n",
       "      <td>0.041797</td>\n",
       "      <td>0.006441</td>\n",
       "      <td>0.078430</td>\n",
       "      <td>0.000000</td>\n",
       "      <td>0.000926</td>\n",
       "      <td>0.100000</td>\n",
       "    </tr>\n",
       "    <tr>\n",
       "      <th>130787903</th>\n",
       "      <td>0.031559</td>\n",
       "      <td>0.000000</td>\n",
       "      <td>0.353778</td>\n",
       "      <td>0.000000</td>\n",
       "      <td>0.000000</td>\n",
       "      <td>0.001357</td>\n",
       "      <td>0.000000</td>\n",
       "      <td>0.000000</td>\n",
       "      <td>0.412423</td>\n",
       "      <td>0.000000</td>\n",
       "      <td>0.000000</td>\n",
       "      <td>0.000000</td>\n",
       "      <td>0.034216</td>\n",
       "      <td>0.000000</td>\n",
       "      <td>0.166667</td>\n",
       "    </tr>\n",
       "    <tr>\n",
       "      <th>130787932</th>\n",
       "      <td>0.022478</td>\n",
       "      <td>0.000000</td>\n",
       "      <td>0.267425</td>\n",
       "      <td>0.000000</td>\n",
       "      <td>0.000000</td>\n",
       "      <td>0.001672</td>\n",
       "      <td>0.000000</td>\n",
       "      <td>0.000000</td>\n",
       "      <td>0.500783</td>\n",
       "      <td>0.000000</td>\n",
       "      <td>0.000000</td>\n",
       "      <td>0.000000</td>\n",
       "      <td>0.040975</td>\n",
       "      <td>0.000000</td>\n",
       "      <td>0.166667</td>\n",
       "    </tr>\n",
       "    <tr>\n",
       "      <th>130787944</th>\n",
       "      <td>0.000000</td>\n",
       "      <td>0.278267</td>\n",
       "      <td>0.000000</td>\n",
       "      <td>0.295964</td>\n",
       "      <td>0.017301</td>\n",
       "      <td>0.000000</td>\n",
       "      <td>0.042667</td>\n",
       "      <td>0.122434</td>\n",
       "      <td>0.000000</td>\n",
       "      <td>0.024159</td>\n",
       "      <td>0.004888</td>\n",
       "      <td>0.111765</td>\n",
       "      <td>0.000000</td>\n",
       "      <td>0.002556</td>\n",
       "      <td>0.100000</td>\n",
       "    </tr>\n",
       "    <tr>\n",
       "      <th>130787965</th>\n",
       "      <td>0.000000</td>\n",
       "      <td>0.121882</td>\n",
       "      <td>0.000000</td>\n",
       "      <td>0.472411</td>\n",
       "      <td>0.015218</td>\n",
       "      <td>0.000000</td>\n",
       "      <td>0.047270</td>\n",
       "      <td>0.170633</td>\n",
       "      <td>0.000000</td>\n",
       "      <td>0.021169</td>\n",
       "      <td>0.003700</td>\n",
       "      <td>0.047036</td>\n",
       "      <td>0.000000</td>\n",
       "      <td>0.000681</td>\n",
       "      <td>0.100000</td>\n",
       "    </tr>\n",
       "    <tr>\n",
       "      <th>130787966</th>\n",
       "      <td>0.000000</td>\n",
       "      <td>0.307432</td>\n",
       "      <td>0.000000</td>\n",
       "      <td>0.220577</td>\n",
       "      <td>0.028797</td>\n",
       "      <td>0.000000</td>\n",
       "      <td>0.073265</td>\n",
       "      <td>0.130297</td>\n",
       "      <td>0.000000</td>\n",
       "      <td>0.041109</td>\n",
       "      <td>0.007663</td>\n",
       "      <td>0.089522</td>\n",
       "      <td>0.000000</td>\n",
       "      <td>0.001338</td>\n",
       "      <td>0.100000</td>\n",
       "    </tr>\n",
       "    <tr>\n",
       "      <th>130787971</th>\n",
       "      <td>0.000000</td>\n",
       "      <td>0.211535</td>\n",
       "      <td>0.000000</td>\n",
       "      <td>0.196219</td>\n",
       "      <td>0.018243</td>\n",
       "      <td>0.000000</td>\n",
       "      <td>0.037605</td>\n",
       "      <td>0.278986</td>\n",
       "      <td>0.000000</td>\n",
       "      <td>0.036577</td>\n",
       "      <td>0.002121</td>\n",
       "      <td>0.117490</td>\n",
       "      <td>0.000000</td>\n",
       "      <td>0.001224</td>\n",
       "      <td>0.100000</td>\n",
       "    </tr>\n",
       "    <tr>\n",
       "      <th>130787974</th>\n",
       "      <td>0.000000</td>\n",
       "      <td>0.293623</td>\n",
       "      <td>0.000000</td>\n",
       "      <td>0.235525</td>\n",
       "      <td>0.024210</td>\n",
       "      <td>0.000000</td>\n",
       "      <td>0.034500</td>\n",
       "      <td>0.235244</td>\n",
       "      <td>0.000000</td>\n",
       "      <td>0.018252</td>\n",
       "      <td>0.001054</td>\n",
       "      <td>0.056546</td>\n",
       "      <td>0.000000</td>\n",
       "      <td>0.001046</td>\n",
       "      <td>0.100000</td>\n",
       "    </tr>\n",
       "    <tr>\n",
       "      <th>130788053</th>\n",
       "      <td>0.000000</td>\n",
       "      <td>0.119943</td>\n",
       "      <td>0.000000</td>\n",
       "      <td>0.331416</td>\n",
       "      <td>0.054250</td>\n",
       "      <td>0.000000</td>\n",
       "      <td>0.107389</td>\n",
       "      <td>0.196294</td>\n",
       "      <td>0.000000</td>\n",
       "      <td>0.009841</td>\n",
       "      <td>0.002217</td>\n",
       "      <td>0.078067</td>\n",
       "      <td>0.000000</td>\n",
       "      <td>0.000584</td>\n",
       "      <td>0.100000</td>\n",
       "    </tr>\n",
       "    <tr>\n",
       "      <th>130788054</th>\n",
       "      <td>0.000000</td>\n",
       "      <td>0.134190</td>\n",
       "      <td>0.000000</td>\n",
       "      <td>0.444102</td>\n",
       "      <td>0.007995</td>\n",
       "      <td>0.000000</td>\n",
       "      <td>0.101366</td>\n",
       "      <td>0.127254</td>\n",
       "      <td>0.000000</td>\n",
       "      <td>0.030682</td>\n",
       "      <td>0.003207</td>\n",
       "      <td>0.050435</td>\n",
       "      <td>0.000000</td>\n",
       "      <td>0.000770</td>\n",
       "      <td>0.100000</td>\n",
       "    </tr>\n",
       "  </tbody>\n",
       "</table>\n",
       "</div>"
      ],
      "text/plain": [
       "            class_6  class_15  class_16  class_42  class_52  class_53  \\\n",
       "object_id                                                               \n",
       "130787887  0.000000  0.199151  0.000000  0.218913  0.032456  0.000000   \n",
       "130787903  0.031559  0.000000  0.353778  0.000000  0.000000  0.001357   \n",
       "130787932  0.022478  0.000000  0.267425  0.000000  0.000000  0.001672   \n",
       "130787944  0.000000  0.278267  0.000000  0.295964  0.017301  0.000000   \n",
       "130787965  0.000000  0.121882  0.000000  0.472411  0.015218  0.000000   \n",
       "130787966  0.000000  0.307432  0.000000  0.220577  0.028797  0.000000   \n",
       "130787971  0.000000  0.211535  0.000000  0.196219  0.018243  0.000000   \n",
       "130787974  0.000000  0.293623  0.000000  0.235525  0.024210  0.000000   \n",
       "130788053  0.000000  0.119943  0.000000  0.331416  0.054250  0.000000   \n",
       "130788054  0.000000  0.134190  0.000000  0.444102  0.007995  0.000000   \n",
       "\n",
       "           class_62  class_64  class_65  class_67  class_88  class_90  \\\n",
       "object_id                                                               \n",
       "130787887  0.093222  0.228664  0.000000  0.041797  0.006441  0.078430   \n",
       "130787903  0.000000  0.000000  0.412423  0.000000  0.000000  0.000000   \n",
       "130787932  0.000000  0.000000  0.500783  0.000000  0.000000  0.000000   \n",
       "130787944  0.042667  0.122434  0.000000  0.024159  0.004888  0.111765   \n",
       "130787965  0.047270  0.170633  0.000000  0.021169  0.003700  0.047036   \n",
       "130787966  0.073265  0.130297  0.000000  0.041109  0.007663  0.089522   \n",
       "130787971  0.037605  0.278986  0.000000  0.036577  0.002121  0.117490   \n",
       "130787974  0.034500  0.235244  0.000000  0.018252  0.001054  0.056546   \n",
       "130788053  0.107389  0.196294  0.000000  0.009841  0.002217  0.078067   \n",
       "130788054  0.101366  0.127254  0.000000  0.030682  0.003207  0.050435   \n",
       "\n",
       "           class_92  class_95  class_99  \n",
       "object_id                                \n",
       "130787887  0.000000  0.000926  0.100000  \n",
       "130787903  0.034216  0.000000  0.166667  \n",
       "130787932  0.040975  0.000000  0.166667  \n",
       "130787944  0.000000  0.002556  0.100000  \n",
       "130787965  0.000000  0.000681  0.100000  \n",
       "130787966  0.000000  0.001338  0.100000  \n",
       "130787971  0.000000  0.001224  0.100000  \n",
       "130787974  0.000000  0.001046  0.100000  \n",
       "130788053  0.000000  0.000584  0.100000  \n",
       "130788054  0.000000  0.000770  0.100000  "
      ]
     },
     "execution_count": 27,
     "metadata": {},
     "output_type": "execute_result"
    }
   ],
   "source": [
    "sub.tail(10)"
   ]
  },
  {
   "cell_type": "code",
   "execution_count": 28,
   "metadata": {},
   "outputs": [
    {
     "name": "stdout",
     "output_type": "stream",
     "text": [
      "Wall time: 2min 29s\n"
     ]
    }
   ],
   "source": [
    "%%time\n",
    "score = res_gal['best_score'] * (train_mask).sum()/train_md.shape[0]\n",
    "score+= res_extra['best_score'] * (~train_mask).sum()/train_md.shape[0]\n",
    "sub.reset_index().to_csv(os.path.join(folderPath,f'meta_lgb_{score}.csv'), index=False, float_format='%.6f')"
   ]
  },
  {
   "cell_type": "code",
   "execution_count": null,
   "metadata": {},
   "outputs": [],
   "source": []
  }
 ],
 "metadata": {
  "kernelspec": {
   "display_name": "deeplearning",
   "language": "python",
   "name": "deeplearning"
  },
  "language_info": {
   "codemirror_mode": {
    "name": "ipython",
    "version": 3
   },
   "file_extension": ".py",
   "mimetype": "text/x-python",
   "name": "python",
   "nbconvert_exporter": "python",
   "pygments_lexer": "ipython3",
   "version": "3.6.6"
  }
 },
 "nbformat": 4,
 "nbformat_minor": 2
}
