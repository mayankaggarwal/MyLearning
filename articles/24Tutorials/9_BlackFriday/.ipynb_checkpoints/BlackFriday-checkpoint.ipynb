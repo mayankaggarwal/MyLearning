{
 "cells": [
  {
   "cell_type": "code",
   "execution_count": 1,
   "metadata": {
    "collapsed": true
   },
   "outputs": [],
   "source": [
    "#https://discuss.analyticsvidhya.com/t/black-friday-data-hack-reveal-your-approach/5986/4\n",
    "#https://datahack.analyticsvidhya.com/contest/black-friday/\n",
    "#http://rohanrao91.blogspot.com/2015/11/black-friday-data-hack.html"
   ]
  },
  {
   "cell_type": "markdown",
   "metadata": {},
   "source": [
    "## <font color=\"#2086AB\">1. Importing packages and data</font>"
   ]
  },
  {
   "cell_type": "code",
   "execution_count": 96,
   "metadata": {
    "collapsed": true
   },
   "outputs": [],
   "source": [
    "import pandas as pd;\n",
    "import numpy as np;\n",
    "import matplotlib.pyplot as plt;\n",
    "import seaborn as sns;\n",
    "import os;\n",
    "import gc;\n",
    "\n",
    "%matplotlib inline"
   ]
  },
  {
   "cell_type": "code",
   "execution_count": 97,
   "metadata": {
    "collapsed": true
   },
   "outputs": [],
   "source": [
    "folderPath = \"D:/Rep/MyLearning/articles/24Tutorials/9_BlackFriday\""
   ]
  },
  {
   "cell_type": "code",
   "execution_count": 98,
   "metadata": {
    "collapsed": true
   },
   "outputs": [],
   "source": [
    "fileName = \"train.csv\"\n",
    "df_train = pd.read_csv(os.path.join(folderPath,fileName))"
   ]
  },
  {
   "cell_type": "code",
   "execution_count": 99,
   "metadata": {
    "collapsed": true
   },
   "outputs": [],
   "source": [
    "fileName = \"test.csv\"\n",
    "df_test = pd.read_csv(os.path.join(folderPath,fileName))"
   ]
  },
  {
   "cell_type": "code",
   "execution_count": 100,
   "metadata": {
    "collapsed": true
   },
   "outputs": [],
   "source": [
    "data = pd.concat([df_train,df_test])"
   ]
  },
  {
   "cell_type": "code",
   "execution_count": 101,
   "metadata": {
    "collapsed": true
   },
   "outputs": [],
   "source": [
    "data['Age'] = data['Age'].astype('category')\n",
    "data['City_Category'] = data['City_Category'].astype('category')\n",
    "data['Gender'] = data['Gender'].astype('category')\n",
    "data['Marital_Status'] = data['Marital_Status'].astype(np.uint8)\n",
    "data['Occupation'] = data['Occupation'].astype(np.uint8)\n",
    "data['Stay_In_Current_City_Years'] = data['Stay_In_Current_City_Years'].astype('category')\n",
    "data['Product_Category_1'] = data['Product_Category_1'].astype(np.uint8)\n",
    "data['Product_Category_2'].fillna(0,inplace=True)\n",
    "data['Product_Category_3'].fillna(0,inplace=True)\n",
    "data['Product_Category_2'] = data['Product_Category_2'].astype(np.uint8)\n",
    "data['Product_Category_3'] = data['Product_Category_3'].astype(np.uint8)\n",
    "\n",
    "df_train['Age'] = df_train['Age'].astype('category')\n",
    "df_train['City_Category'] = df_train['City_Category'].astype('category')\n",
    "df_train['Gender'] = df_train['Gender'].astype('category')\n",
    "df_train['Marital_Status'] = df_train['Marital_Status'].astype(np.uint8)\n",
    "df_train['Occupation'] = df_train['Occupation'].astype(np.uint8)\n",
    "df_train['Stay_In_Current_City_Years'] = df_train['Stay_In_Current_City_Years'].astype('category')\n",
    "df_train['Product_Category_1'] = df_train['Product_Category_1'].astype(np.uint8)\n",
    "df_train['Product_Category_2'].fillna(0,inplace=True)\n",
    "df_train['Product_Category_3'].fillna(0,inplace=True)\n",
    "df_train['Product_Category_2'] = df_train['Product_Category_2'].astype(np.uint8)\n",
    "df_train['Product_Category_3'] = df_train['Product_Category_3'].astype(np.uint8)\n",
    "\n",
    "df_test['Age'] = df_test['Age'].astype('category')\n",
    "df_test['City_Category'] = df_test['City_Category'].astype('category')\n",
    "df_test['Gender'] = df_test['Gender'].astype('category')\n",
    "df_test['Marital_Status'] = df_test['Marital_Status'].astype(np.uint8)\n",
    "df_test['Occupation'] = df_test['Occupation'].astype(np.uint8)\n",
    "df_test['Stay_In_Current_City_Years'] = df_test['Stay_In_Current_City_Years'].astype('category')\n",
    "df_test['Product_Category_1'] = df_test['Product_Category_1'].astype(np.uint8)\n",
    "df_test['Product_Category_2'].fillna(999,inplace=True)\n",
    "df_test['Product_Category_3'].fillna(999,inplace=True)\n",
    "df_test['Product_Category_2'] = df_test['Product_Category_2'].astype(np.uint8)\n",
    "df_test['Product_Category_3'] = df_test['Product_Category_3'].astype(np.uint8)"
   ]
  },
  {
   "cell_type": "code",
   "execution_count": 102,
   "metadata": {
    "collapsed": true
   },
   "outputs": [],
   "source": [
    "df_train['Product_ID_New'] = df_train['Product_ID'].apply(lambda x:x[1:len(x)]).astype(np.int32)\n",
    "data['Product_ID_New'] = data['Product_ID'].apply(lambda x:x[1:len(x)]).astype(np.int32)\n",
    "df_test['Product_ID_New'] = df_test['Product_ID'].apply(lambda x:x[1:len(x)]).astype(np.int32)"
   ]
  },
  {
   "cell_type": "code",
   "execution_count": 103,
   "metadata": {
    "collapsed": true
   },
   "outputs": [],
   "source": [
    "df_train['Gender'] = df_train['Gender'].map({'F':0,'M':1})\n",
    "df_test['Gender'] = df_test['Gender'].map({'F':0,'M':1})\n",
    "data['Gender'] = data['Gender'].map({'F':0,'M':1})\n",
    "\n",
    "df_train['Gender'] = df_train['Gender'].astype(np.uint8)\n",
    "df_test['Gender'] = df_test['Gender'].astype(np.uint8)\n",
    "data['Gender'] = data['Gender'].astype(np.uint8)"
   ]
  },
  {
   "cell_type": "code",
   "execution_count": 104,
   "metadata": {
    "collapsed": true
   },
   "outputs": [],
   "source": [
    "df_train['City_Category'] = df_train['City_Category'].map({'A':1,'B':2,'C':3})\n",
    "df_test['City_Category'] = df_test['City_Category'].map({'A':1,'B':2,'C':3})\n",
    "data['City_Category'] = data['City_Category'].map({'A':1,'B':2,'C':3})\n",
    "\n",
    "df_train['City_Category'] = df_train['City_Category'].astype(np.uint8)\n",
    "df_test['City_Category'] = df_test['City_Category'].astype(np.uint8)\n",
    "data['City_Category'] = data['City_Category'].astype(np.uint8)"
   ]
  },
  {
   "cell_type": "code",
   "execution_count": 105,
   "metadata": {
    "collapsed": true
   },
   "outputs": [],
   "source": [
    "df_train['Age'] = df_train['Age'].map({'0-17':1,'18-25':2,'26-35':3,'36-45':4,'46-50':5,'51-55':6,'55+':7})\n",
    "df_test['Age'] = df_test['Age'].map({'0-17':1,'18-25':2,'26-35':3,'36-45':4,'46-50':5,'51-55':6,'55+':7})\n",
    "data['Age'] = data['Age'].map({'0-17':1,'18-25':2,'26-35':3,'36-45':4,'46-50':5,'51-55':6,'55+':7})\n",
    "\n",
    "df_train['Age'] = df_train['Age'].astype(np.uint8)\n",
    "df_test['Age'] = df_test['Age'].astype(np.uint8)\n",
    "data['Age'] = data['Age'].astype(np.uint8)"
   ]
  },
  {
   "cell_type": "code",
   "execution_count": 106,
   "metadata": {
    "collapsed": true
   },
   "outputs": [],
   "source": [
    "df_train['Stay_In_Current_City_Years'] = df_train['Stay_In_Current_City_Years'].map({'4+':4,'0':0,'1':1,'2':2,'3':3})\n",
    "df_test['Stay_In_Current_City_Years'] = df_test['Stay_In_Current_City_Years'].map({'4+':4,'0':0,'1':1,'2':2,'3':3})\n",
    "data['Stay_In_Current_City_Years'] = data['Stay_In_Current_City_Years'].map({'4+':4,'0':0,'1':1,'2':2,'3':3})\n",
    "\n",
    "df_train['Stay_In_Current_City_Years'] = df_train['Stay_In_Current_City_Years'].astype(np.int8)\n",
    "df_test['Stay_In_Current_City_Years'] = df_test['Stay_In_Current_City_Years'].astype(np.int8)\n",
    "data['Stay_In_Current_City_Years'] = data['Stay_In_Current_City_Years'].astype(np.int8)"
   ]
  },
  {
   "cell_type": "markdown",
   "metadata": {},
   "source": [
    "## <font color=\"#2086AB\">2. Data Exploration</font> "
   ]
  },
  {
   "cell_type": "code",
   "execution_count": 17,
   "metadata": {},
   "outputs": [
    {
     "data": {
      "image/png": "[encoded data removed]",
      "text/plain": [
       "<matplotlib.figure.Figure at 0x2b567f1c550>"
      ]
     },
     "metadata": {},
     "output_type": "display_data"
    }
   ],
   "source": [
    "stayinyears = df_train.groupby('Stay_In_Current_City_Years').agg({'Purchase':'mean'}).reset_index()\n",
    "fig = plt.figure(figsize=(18,12))\n",
    "ax1 = fig.add_subplot(221)\n",
    "ax1.set_xlabel('Stay in Number of years')\n",
    "ax1.set_ylabel('Average Purchase')\n",
    "ax1.set_title(\"Average Purchase on number of years\")\n",
    "ax1.bar(stayinyears['Stay_In_Current_City_Years'],stayinyears['Purchase'])\n",
    "\n",
    "bycity = df_train.groupby('City_Category').agg({'Purchase':'mean'}).reset_index()\n",
    "ax2 = fig.add_subplot(222)\n",
    "ax2.set_xlabel('City Type')\n",
    "ax2.set_ylabel('Average Purchase')\n",
    "ax2.set_title(\"Average Purchase by City\")\n",
    "ax2.bar(bycity['City_Category'],bycity['Purchase'])\n",
    "\n",
    "bymaritalStatus = df_train.groupby('Marital_Status').agg({'Purchase':'mean'}).reset_index()\n",
    "ax3 = fig.add_subplot(223)\n",
    "ax3.set_xlabel('Maritial Status')\n",
    "ax3.set_ylabel('Average Purchase')\n",
    "ax3.set_title(\"Average Purchase by Maritial Status\")\n",
    "ax3.bar(bymaritalStatus['Marital_Status'],bymaritalStatus['Purchase'])\n",
    "\n",
    "bygender = df_train.groupby('Gender').agg({'Purchase':'mean'}).reset_index()\n",
    "ax4 = fig.add_subplot(224)\n",
    "ax4.set_xlabel('Gender')\n",
    "ax4.set_ylabel('Average Purchase')\n",
    "ax4.set_title(\"Average Purchase by Gender\")\n",
    "ax4.bar(bygender['Gender'],bygender['Purchase'])\n",
    "plt.show()"
   ]
  },
  {
   "cell_type": "code",
   "execution_count": 18,
   "metadata": {},
   "outputs": [
    {
     "data": {
      "image/png": "[encoded data removed]",
      "text/plain": [
       "<matplotlib.figure.Figure at 0x2b56641ac18>"
      ]
     },
     "metadata": {},
     "output_type": "display_data"
    }
   ],
   "source": [
    "byAge = df_train.groupby('Age').agg({'Purchase':'mean'}).reset_index()\n",
    "plt.xlabel('Age Group')\n",
    "plt.ylabel('Average Purchase')\n",
    "plt.title(\"Average Purchase by Age Group\")\n",
    "plt.bar(byAge['Age'],byAge['Purchase'])\n",
    "plt.show()"
   ]
  },
  {
   "cell_type": "code",
   "execution_count": 6,
   "metadata": {},
   "outputs": [
    {
     "data": {
      "text/html": [
       "<div>\n",
       "<style scoped>\n",
       "    .dataframe tbody tr th:only-of-type {\n",
       "        vertical-align: middle;\n",
       "    }\n",
       "\n",
       "    .dataframe tbody tr th {\n",
       "        vertical-align: top;\n",
       "    }\n",
       "\n",
       "    .dataframe thead th {\n",
       "        text-align: right;\n",
       "    }\n",
       "</style>\n",
       "<table border=\"1\" class=\"dataframe\">\n",
       "  <thead>\n",
       "    <tr style=\"text-align: right;\">\n",
       "      <th></th>\n",
       "      <th>Age</th>\n",
       "      <th>City_Category</th>\n",
       "      <th>Gender</th>\n",
       "      <th>Marital_Status</th>\n",
       "      <th>Occupation</th>\n",
       "      <th>Product_Category_1</th>\n",
       "      <th>Product_Category_2</th>\n",
       "      <th>Product_Category_3</th>\n",
       "      <th>Product_ID</th>\n",
       "      <th>Purchase</th>\n",
       "      <th>Stay_In_Current_City_Years</th>\n",
       "      <th>User_ID</th>\n",
       "    </tr>\n",
       "  </thead>\n",
       "  <tbody>\n",
       "    <tr>\n",
       "      <th>0</th>\n",
       "      <td>0-17</td>\n",
       "      <td>A</td>\n",
       "      <td>F</td>\n",
       "      <td>0</td>\n",
       "      <td>10</td>\n",
       "      <td>3</td>\n",
       "      <td>NaN</td>\n",
       "      <td>NaN</td>\n",
       "      <td>P00069042</td>\n",
       "      <td>8370.0</td>\n",
       "      <td>2</td>\n",
       "      <td>1000001</td>\n",
       "    </tr>\n",
       "    <tr>\n",
       "      <th>1</th>\n",
       "      <td>0-17</td>\n",
       "      <td>A</td>\n",
       "      <td>F</td>\n",
       "      <td>0</td>\n",
       "      <td>10</td>\n",
       "      <td>1</td>\n",
       "      <td>6.0</td>\n",
       "      <td>14.0</td>\n",
       "      <td>P00248942</td>\n",
       "      <td>15200.0</td>\n",
       "      <td>2</td>\n",
       "      <td>1000001</td>\n",
       "    </tr>\n",
       "    <tr>\n",
       "      <th>2</th>\n",
       "      <td>0-17</td>\n",
       "      <td>A</td>\n",
       "      <td>F</td>\n",
       "      <td>0</td>\n",
       "      <td>10</td>\n",
       "      <td>12</td>\n",
       "      <td>NaN</td>\n",
       "      <td>NaN</td>\n",
       "      <td>P00087842</td>\n",
       "      <td>1422.0</td>\n",
       "      <td>2</td>\n",
       "      <td>1000001</td>\n",
       "    </tr>\n",
       "    <tr>\n",
       "      <th>3</th>\n",
       "      <td>0-17</td>\n",
       "      <td>A</td>\n",
       "      <td>F</td>\n",
       "      <td>0</td>\n",
       "      <td>10</td>\n",
       "      <td>12</td>\n",
       "      <td>14.0</td>\n",
       "      <td>NaN</td>\n",
       "      <td>P00085442</td>\n",
       "      <td>1057.0</td>\n",
       "      <td>2</td>\n",
       "      <td>1000001</td>\n",
       "    </tr>\n",
       "    <tr>\n",
       "      <th>4</th>\n",
       "      <td>55+</td>\n",
       "      <td>C</td>\n",
       "      <td>M</td>\n",
       "      <td>0</td>\n",
       "      <td>16</td>\n",
       "      <td>8</td>\n",
       "      <td>NaN</td>\n",
       "      <td>NaN</td>\n",
       "      <td>P00285442</td>\n",
       "      <td>7969.0</td>\n",
       "      <td>4+</td>\n",
       "      <td>1000002</td>\n",
       "    </tr>\n",
       "  </tbody>\n",
       "</table>\n",
       "</div>"
      ],
      "text/plain": [
       "    Age City_Category Gender  Marital_Status  Occupation  Product_Category_1  \\\n",
       "0  0-17             A      F               0          10                   3   \n",
       "1  0-17             A      F               0          10                   1   \n",
       "2  0-17             A      F               0          10                  12   \n",
       "3  0-17             A      F               0          10                  12   \n",
       "4   55+             C      M               0          16                   8   \n",
       "\n",
       "   Product_Category_2  Product_Category_3 Product_ID  Purchase  \\\n",
       "0                 NaN                 NaN  P00069042    8370.0   \n",
       "1                 6.0                14.0  P00248942   15200.0   \n",
       "2                 NaN                 NaN  P00087842    1422.0   \n",
       "3                14.0                 NaN  P00085442    1057.0   \n",
       "4                 NaN                 NaN  P00285442    7969.0   \n",
       "\n",
       "  Stay_In_Current_City_Years  User_ID  \n",
       "0                          2  1000001  \n",
       "1                          2  1000001  \n",
       "2                          2  1000001  \n",
       "3                          2  1000001  \n",
       "4                         4+  1000002  "
      ]
     },
     "execution_count": 6,
     "metadata": {},
     "output_type": "execute_result"
    }
   ],
   "source": [
    "data.head()"
   ]
  },
  {
   "cell_type": "code",
   "execution_count": 49,
   "metadata": {},
   "outputs": [
    {
     "data": {
      "image/png": "[encoded data removed]",
      "text/plain": [
       "<matplotlib.figure.Figure at 0x2295b404b00>"
      ]
     },
     "metadata": {},
     "output_type": "display_data"
    }
   ],
   "source": [
    "plt.figure(figsize=(4,4))\n",
    "plt.hist(data['City_Category'])\n",
    "plt.xlabel('City Categories')\n",
    "plt.title('Transactions per City Types')\n",
    "plt.show()"
   ]
  },
  {
   "cell_type": "code",
   "execution_count": 51,
   "metadata": {},
   "outputs": [
    {
     "data": {
      "image/png": "[encoded data removed]",
      "text/plain": [
       "<matplotlib.figure.Figure at 0x22953aac7f0>"
      ]
     },
     "metadata": {},
     "output_type": "display_data"
    }
   ],
   "source": [
    "plt.figure(figsize=(8,4))\n",
    "plt.hist(data['Age'])\n",
    "plt.xlabel('Age Categories')\n",
    "plt.title('Transactions per Age Categories')\n",
    "plt.show()"
   ]
  },
  {
   "cell_type": "code",
   "execution_count": 52,
   "metadata": {
    "collapsed": true
   },
   "outputs": [
    {
     "data": {
      "image/png": "[encoded data removed]",
      "text/plain": [
       "<matplotlib.figure.Figure at 0x22953b158d0>"
      ]
     },
     "metadata": {},
     "output_type": "display_data"
    }
   ],
   "source": [
    "plt.figure(figsize=(8,4))\n",
    "plt.hist(data['Occupation'])\n",
    "plt.xlabel('Occupation Categories')\n",
    "plt.title('Transactions per Occupation Categories')\n",
    "plt.show()"
   ]
  },
  {
   "cell_type": "markdown",
   "metadata": {},
   "source": [
    "## <font color=\"#FA8072\">Feature Engineering</font> "
   ]
  },
  {
   "cell_type": "markdown",
   "metadata": {},
   "source": [
    "### <font color=\"#2A93D5\">User Related features</font>"
   ]
  },
  {
   "cell_type": "markdown",
   "metadata": {},
   "source": [
    "1. Number of times User purchased\n",
    "2. User purchase is above average\n",
    "3. User purchase is above average in age group\n",
    "4. User purchase is above average in occupation\n",
    "5. User purchase is above average in city category\n",
    "6. Number of unique products user purchased\n",
    "7. Average money spent on a product by the user"
   ]
  },
  {
   "cell_type": "code",
   "execution_count": 107,
   "metadata": {
    "collapsed": true
   },
   "outputs": [],
   "source": [
    "userpurchase = df_train.groupby(by=\"User_ID\").agg({'Purchase':'mean'}).reset_index().sort_values(by='Purchase')\n",
    "userpurchase.columns = ['User_ID','AvgPurchase']\n",
    "data = pd.merge(data,userpurchase,how='left',on='User_ID')\n",
    "del(userpurchase)"
   ]
  },
  {
   "cell_type": "code",
   "execution_count": 108,
   "metadata": {},
   "outputs": [],
   "source": [
    "meanPurchase = df_train['Purchase'].mean()\n",
    "data['IsPurchaseAboveAvg'] = data['Purchase'].apply(lambda x:1 if(x>meanPurchase) else 0)\n",
    "del(meanPurchase)"
   ]
  },
  {
   "cell_type": "code",
   "execution_count": 109,
   "metadata": {},
   "outputs": [],
   "source": [
    "agegpPurchase = df_train.groupby(by=\"Age\").agg({'Purchase':'mean'}).reset_index().sort_values(by='Purchase')\n",
    "agegpPurchase.columns = ['Age','AvgAgegpPurchase']\n",
    "data = pd.merge(data,agegpPurchase,how='left',on='Age')\n",
    "data['IsPurchaseAboveAvgInAgeGp'] = np.where(data['AvgAgegpPurchase']>data['Purchase'],0,1)\n",
    "data.drop(columns=['AvgAgegpPurchase'],inplace=True)\n",
    "del(agegpPurchase)"
   ]
  },
  {
   "cell_type": "code",
   "execution_count": 115,
   "metadata": {},
   "outputs": [],
   "source": [
    "occupationgpPurchase = df_train.groupby(by=\"Occupation\").agg({'Purchase':'mean'}).reset_index().sort_values(by='Purchase')\n",
    "occupationgpPurchase.columns = ['Occupation','AvgOccupationgpPurchase']\n",
    "data = pd.merge(data,occupationgpPurchase,how='left',on='Occupation')\n",
    "data['IsPurchaseAboveAvgInOccupation'] = np.where(data['AvgOccupationgpPurchase']>data['Purchase'],0,1)\n",
    "data.drop(columns=['AvgOccupationgpPurchase'],inplace=True)\n",
    "del(occupationgpPurchase)"
   ]
  },
  {
   "cell_type": "code",
   "execution_count": 117,
   "metadata": {
    "collapsed": true
   },
   "outputs": [],
   "source": [
    "citygpPurchase = df_train.groupby(by=\"City_Category\").agg({'Purchase':'mean'}).reset_index().sort_values(by='Purchase')\n",
    "citygpPurchase.columns = ['City_Category','AvgCitygpPurchase']\n",
    "data = pd.merge(data,citygpPurchase,how='left',on='City_Category')\n",
    "data['IsPurchaseAboveAvgInCityGp'] = np.where(data['AvgCitygpPurchase']>data['Purchase'],0,1)\n",
    "data.drop(columns=['AvgCitygpPurchase'],inplace=True)\n",
    "del(citygpPurchase)"
   ]
  },
  {
   "cell_type": "code",
   "execution_count": 123,
   "metadata": {},
   "outputs": [
    {
     "data": {
      "text/html": [
       "<div>\n",
       "<style scoped>\n",
       "    .dataframe tbody tr th:only-of-type {\n",
       "        vertical-align: middle;\n",
       "    }\n",
       "\n",
       "    .dataframe tbody tr th {\n",
       "        vertical-align: top;\n",
       "    }\n",
       "\n",
       "    .dataframe thead th {\n",
       "        text-align: right;\n",
       "    }\n",
       "</style>\n",
       "<table border=\"1\" class=\"dataframe\">\n",
       "  <thead>\n",
       "    <tr style=\"text-align: right;\">\n",
       "      <th></th>\n",
       "      <th>User_ID</th>\n",
       "      <th>Product_ID</th>\n",
       "    </tr>\n",
       "  </thead>\n",
       "  <tbody>\n",
       "    <tr>\n",
       "      <th>686</th>\n",
       "      <td>1000708</td>\n",
       "      <td>6</td>\n",
       "    </tr>\n",
       "    <tr>\n",
       "      <th>5662</th>\n",
       "      <td>1005810</td>\n",
       "      <td>7</td>\n",
       "    </tr>\n",
       "    <tr>\n",
       "      <th>5467</th>\n",
       "      <td>1005608</td>\n",
       "      <td>7</td>\n",
       "    </tr>\n",
       "    <tr>\n",
       "      <th>2052</th>\n",
       "      <td>1002111</td>\n",
       "      <td>7</td>\n",
       "    </tr>\n",
       "    <tr>\n",
       "      <th>4866</th>\n",
       "      <td>1004991</td>\n",
       "      <td>7</td>\n",
       "    </tr>\n",
       "    <tr>\n",
       "      <th>2615</th>\n",
       "      <td>1002690</td>\n",
       "      <td>7</td>\n",
       "    </tr>\n",
       "    <tr>\n",
       "      <th>5253</th>\n",
       "      <td>1005391</td>\n",
       "      <td>7</td>\n",
       "    </tr>\n",
       "    <tr>\n",
       "      <th>91</th>\n",
       "      <td>1000094</td>\n",
       "      <td>7</td>\n",
       "    </tr>\n",
       "    <tr>\n",
       "      <th>4085</th>\n",
       "      <td>1004192</td>\n",
       "      <td>8</td>\n",
       "    </tr>\n",
       "    <tr>\n",
       "      <th>314</th>\n",
       "      <td>1000320</td>\n",
       "      <td>8</td>\n",
       "    </tr>\n",
       "    <tr>\n",
       "      <th>2885</th>\n",
       "      <td>1002965</td>\n",
       "      <td>8</td>\n",
       "    </tr>\n",
       "    <tr>\n",
       "      <th>3183</th>\n",
       "      <td>1003275</td>\n",
       "      <td>8</td>\n",
       "    </tr>\n",
       "    <tr>\n",
       "      <th>3199</th>\n",
       "      <td>1003291</td>\n",
       "      <td>8</td>\n",
       "    </tr>\n",
       "    <tr>\n",
       "      <th>4413</th>\n",
       "      <td>1004527</td>\n",
       "      <td>8</td>\n",
       "    </tr>\n",
       "    <tr>\n",
       "      <th>2416</th>\n",
       "      <td>1002488</td>\n",
       "      <td>8</td>\n",
       "    </tr>\n",
       "    <tr>\n",
       "      <th>3446</th>\n",
       "      <td>1003542</td>\n",
       "      <td>8</td>\n",
       "    </tr>\n",
       "    <tr>\n",
       "      <th>2075</th>\n",
       "      <td>1002135</td>\n",
       "      <td>8</td>\n",
       "    </tr>\n",
       "    <tr>\n",
       "      <th>5754</th>\n",
       "      <td>1005904</td>\n",
       "      <td>8</td>\n",
       "    </tr>\n",
       "    <tr>\n",
       "      <th>3144</th>\n",
       "      <td>1003234</td>\n",
       "      <td>9</td>\n",
       "    </tr>\n",
       "    <tr>\n",
       "      <th>4989</th>\n",
       "      <td>1005117</td>\n",
       "      <td>9</td>\n",
       "    </tr>\n",
       "    <tr>\n",
       "      <th>2147</th>\n",
       "      <td>1002207</td>\n",
       "      <td>9</td>\n",
       "    </tr>\n",
       "    <tr>\n",
       "      <th>3782</th>\n",
       "      <td>1003883</td>\n",
       "      <td>9</td>\n",
       "    </tr>\n",
       "    <tr>\n",
       "      <th>4917</th>\n",
       "      <td>1005043</td>\n",
       "      <td>9</td>\n",
       "    </tr>\n",
       "    <tr>\n",
       "      <th>918</th>\n",
       "      <td>1000947</td>\n",
       "      <td>9</td>\n",
       "    </tr>\n",
       "    <tr>\n",
       "      <th>4069</th>\n",
       "      <td>1004176</td>\n",
       "      <td>9</td>\n",
       "    </tr>\n",
       "    <tr>\n",
       "      <th>1276</th>\n",
       "      <td>1001318</td>\n",
       "      <td>9</td>\n",
       "    </tr>\n",
       "    <tr>\n",
       "      <th>1980</th>\n",
       "      <td>1002037</td>\n",
       "      <td>9</td>\n",
       "    </tr>\n",
       "    <tr>\n",
       "      <th>2815</th>\n",
       "      <td>1002893</td>\n",
       "      <td>9</td>\n",
       "    </tr>\n",
       "    <tr>\n",
       "      <th>3294</th>\n",
       "      <td>1003388</td>\n",
       "      <td>9</td>\n",
       "    </tr>\n",
       "    <tr>\n",
       "      <th>1871</th>\n",
       "      <td>1001927</td>\n",
       "      <td>9</td>\n",
       "    </tr>\n",
       "    <tr>\n",
       "      <th>...</th>\n",
       "      <td>...</td>\n",
       "      <td>...</td>\n",
       "    </tr>\n",
       "    <tr>\n",
       "      <th>3724</th>\n",
       "      <td>1003824</td>\n",
       "      <td>584</td>\n",
       "    </tr>\n",
       "    <tr>\n",
       "      <th>4429</th>\n",
       "      <td>1004543</td>\n",
       "      <td>588</td>\n",
       "    </tr>\n",
       "    <tr>\n",
       "      <th>1244</th>\n",
       "      <td>1001285</td>\n",
       "      <td>606</td>\n",
       "    </tr>\n",
       "    <tr>\n",
       "      <th>5229</th>\n",
       "      <td>1005367</td>\n",
       "      <td>612</td>\n",
       "    </tr>\n",
       "    <tr>\n",
       "      <th>3443</th>\n",
       "      <td>1003539</td>\n",
       "      <td>617</td>\n",
       "    </tr>\n",
       "    <tr>\n",
       "      <th>3135</th>\n",
       "      <td>1003224</td>\n",
       "      <td>622</td>\n",
       "    </tr>\n",
       "    <tr>\n",
       "      <th>534</th>\n",
       "      <td>1000549</td>\n",
       "      <td>632</td>\n",
       "    </tr>\n",
       "    <tr>\n",
       "      <th>4395</th>\n",
       "      <td>1004508</td>\n",
       "      <td>651</td>\n",
       "    </tr>\n",
       "    <tr>\n",
       "      <th>3708</th>\n",
       "      <td>1003808</td>\n",
       "      <td>671</td>\n",
       "    </tr>\n",
       "    <tr>\n",
       "      <th>4116</th>\n",
       "      <td>1004227</td>\n",
       "      <td>676</td>\n",
       "    </tr>\n",
       "    <tr>\n",
       "      <th>1051</th>\n",
       "      <td>1001088</td>\n",
       "      <td>680</td>\n",
       "    </tr>\n",
       "    <tr>\n",
       "      <th>1923</th>\n",
       "      <td>1001980</td>\n",
       "      <td>685</td>\n",
       "    </tr>\n",
       "    <tr>\n",
       "      <th>4397</th>\n",
       "      <td>1004510</td>\n",
       "      <td>691</td>\n",
       "    </tr>\n",
       "    <tr>\n",
       "      <th>416</th>\n",
       "      <td>1000424</td>\n",
       "      <td>694</td>\n",
       "    </tr>\n",
       "    <tr>\n",
       "      <th>3741</th>\n",
       "      <td>1003841</td>\n",
       "      <td>698</td>\n",
       "    </tr>\n",
       "    <tr>\n",
       "      <th>3297</th>\n",
       "      <td>1003391</td>\n",
       "      <td>698</td>\n",
       "    </tr>\n",
       "    <tr>\n",
       "      <th>4232</th>\n",
       "      <td>1004344</td>\n",
       "      <td>705</td>\n",
       "    </tr>\n",
       "    <tr>\n",
       "      <th>2006</th>\n",
       "      <td>1002063</td>\n",
       "      <td>709</td>\n",
       "    </tr>\n",
       "    <tr>\n",
       "      <th>1406</th>\n",
       "      <td>1001449</td>\n",
       "      <td>714</td>\n",
       "    </tr>\n",
       "    <tr>\n",
       "      <th>2831</th>\n",
       "      <td>1002909</td>\n",
       "      <td>718</td>\n",
       "    </tr>\n",
       "    <tr>\n",
       "      <th>5683</th>\n",
       "      <td>1005831</td>\n",
       "      <td>727</td>\n",
       "    </tr>\n",
       "    <tr>\n",
       "      <th>5647</th>\n",
       "      <td>1005795</td>\n",
       "      <td>729</td>\n",
       "    </tr>\n",
       "    <tr>\n",
       "      <th>981</th>\n",
       "      <td>1001015</td>\n",
       "      <td>740</td>\n",
       "    </tr>\n",
       "    <tr>\n",
       "      <th>1111</th>\n",
       "      <td>1001150</td>\n",
       "      <td>752</td>\n",
       "    </tr>\n",
       "    <tr>\n",
       "      <th>3520</th>\n",
       "      <td>1003618</td>\n",
       "      <td>767</td>\n",
       "    </tr>\n",
       "    <tr>\n",
       "      <th>863</th>\n",
       "      <td>1000889</td>\n",
       "      <td>823</td>\n",
       "    </tr>\n",
       "    <tr>\n",
       "      <th>1142</th>\n",
       "      <td>1001181</td>\n",
       "      <td>862</td>\n",
       "    </tr>\n",
       "    <tr>\n",
       "      <th>1885</th>\n",
       "      <td>1001941</td>\n",
       "      <td>898</td>\n",
       "    </tr>\n",
       "    <tr>\n",
       "      <th>4166</th>\n",
       "      <td>1004277</td>\n",
       "      <td>979</td>\n",
       "    </tr>\n",
       "    <tr>\n",
       "      <th>1634</th>\n",
       "      <td>1001680</td>\n",
       "      <td>1026</td>\n",
       "    </tr>\n",
       "  </tbody>\n",
       "</table>\n",
       "<p>5891 rows × 2 columns</p>\n",
       "</div>"
      ],
      "text/plain": [
       "      User_ID  Product_ID\n",
       "686   1000708           6\n",
       "5662  1005810           7\n",
       "5467  1005608           7\n",
       "2052  1002111           7\n",
       "4866  1004991           7\n",
       "2615  1002690           7\n",
       "5253  1005391           7\n",
       "91    1000094           7\n",
       "4085  1004192           8\n",
       "314   1000320           8\n",
       "2885  1002965           8\n",
       "3183  1003275           8\n",
       "3199  1003291           8\n",
       "4413  1004527           8\n",
       "2416  1002488           8\n",
       "3446  1003542           8\n",
       "2075  1002135           8\n",
       "5754  1005904           8\n",
       "3144  1003234           9\n",
       "4989  1005117           9\n",
       "2147  1002207           9\n",
       "3782  1003883           9\n",
       "4917  1005043           9\n",
       "918   1000947           9\n",
       "4069  1004176           9\n",
       "1276  1001318           9\n",
       "1980  1002037           9\n",
       "2815  1002893           9\n",
       "3294  1003388           9\n",
       "1871  1001927           9\n",
       "...       ...         ...\n",
       "3724  1003824         584\n",
       "4429  1004543         588\n",
       "1244  1001285         606\n",
       "5229  1005367         612\n",
       "3443  1003539         617\n",
       "3135  1003224         622\n",
       "534   1000549         632\n",
       "4395  1004508         651\n",
       "3708  1003808         671\n",
       "4116  1004227         676\n",
       "1051  1001088         680\n",
       "1923  1001980         685\n",
       "4397  1004510         691\n",
       "416   1000424         694\n",
       "3741  1003841         698\n",
       "3297  1003391         698\n",
       "4232  1004344         705\n",
       "2006  1002063         709\n",
       "1406  1001449         714\n",
       "2831  1002909         718\n",
       "5683  1005831         727\n",
       "5647  1005795         729\n",
       "981   1001015         740\n",
       "1111  1001150         752\n",
       "3520  1003618         767\n",
       "863   1000889         823\n",
       "1142  1001181         862\n",
       "1885  1001941         898\n",
       "4166  1004277         979\n",
       "1634  1001680        1026\n",
       "\n",
       "[5891 rows x 2 columns]"
      ]
     },
     "execution_count": 123,
     "metadata": {},
     "output_type": "execute_result"
    }
   ],
   "source": [
    "df_train.groupby('User_ID').agg({'Product_ID':lambda x: x.nunique()}).reset_index().sort_values(by='Product_ID')"
   ]
  },
  {
   "cell_type": "code",
   "execution_count": 116,
   "metadata": {},
   "outputs": [
    {
     "data": {
      "text/html": [
       "<div>\n",
       "<style scoped>\n",
       "    .dataframe tbody tr th:only-of-type {\n",
       "        vertical-align: middle;\n",
       "    }\n",
       "\n",
       "    .dataframe tbody tr th {\n",
       "        vertical-align: top;\n",
       "    }\n",
       "\n",
       "    .dataframe thead th {\n",
       "        text-align: right;\n",
       "    }\n",
       "</style>\n",
       "<table border=\"1\" class=\"dataframe\">\n",
       "  <thead>\n",
       "    <tr style=\"text-align: right;\">\n",
       "      <th></th>\n",
       "      <th>Age</th>\n",
       "      <th>City_Category</th>\n",
       "      <th>Gender</th>\n",
       "      <th>Marital_Status</th>\n",
       "      <th>Occupation</th>\n",
       "      <th>Product_Category_1</th>\n",
       "      <th>Product_Category_2</th>\n",
       "      <th>Product_Category_3</th>\n",
       "      <th>Product_ID</th>\n",
       "      <th>Purchase</th>\n",
       "      <th>Stay_In_Current_City_Years</th>\n",
       "      <th>User_ID</th>\n",
       "      <th>Product_ID_New</th>\n",
       "      <th>AvgPurchase</th>\n",
       "      <th>IsPurchaseAboveAvg</th>\n",
       "      <th>IsPurchaseAboveAvgInAgeGp</th>\n",
       "      <th>IsPurchaseAboveAvgInOccupation</th>\n",
       "    </tr>\n",
       "  </thead>\n",
       "  <tbody>\n",
       "    <tr>\n",
       "      <th>0</th>\n",
       "      <td>1</td>\n",
       "      <td>1</td>\n",
       "      <td>0</td>\n",
       "      <td>0</td>\n",
       "      <td>10</td>\n",
       "      <td>3</td>\n",
       "      <td>0</td>\n",
       "      <td>0</td>\n",
       "      <td>P00069042</td>\n",
       "      <td>8370.0</td>\n",
       "      <td>2</td>\n",
       "      <td>1000001</td>\n",
       "      <td>69042</td>\n",
       "      <td>9545.514286</td>\n",
       "      <td>0</td>\n",
       "      <td>0</td>\n",
       "      <td>0</td>\n",
       "    </tr>\n",
       "    <tr>\n",
       "      <th>1</th>\n",
       "      <td>1</td>\n",
       "      <td>1</td>\n",
       "      <td>0</td>\n",
       "      <td>0</td>\n",
       "      <td>10</td>\n",
       "      <td>1</td>\n",
       "      <td>6</td>\n",
       "      <td>14</td>\n",
       "      <td>P00248942</td>\n",
       "      <td>15200.0</td>\n",
       "      <td>2</td>\n",
       "      <td>1000001</td>\n",
       "      <td>248942</td>\n",
       "      <td>9545.514286</td>\n",
       "      <td>1</td>\n",
       "      <td>1</td>\n",
       "      <td>1</td>\n",
       "    </tr>\n",
       "    <tr>\n",
       "      <th>2</th>\n",
       "      <td>1</td>\n",
       "      <td>1</td>\n",
       "      <td>0</td>\n",
       "      <td>0</td>\n",
       "      <td>10</td>\n",
       "      <td>12</td>\n",
       "      <td>0</td>\n",
       "      <td>0</td>\n",
       "      <td>P00087842</td>\n",
       "      <td>1422.0</td>\n",
       "      <td>2</td>\n",
       "      <td>1000001</td>\n",
       "      <td>87842</td>\n",
       "      <td>9545.514286</td>\n",
       "      <td>0</td>\n",
       "      <td>0</td>\n",
       "      <td>0</td>\n",
       "    </tr>\n",
       "    <tr>\n",
       "      <th>3</th>\n",
       "      <td>1</td>\n",
       "      <td>1</td>\n",
       "      <td>0</td>\n",
       "      <td>0</td>\n",
       "      <td>10</td>\n",
       "      <td>12</td>\n",
       "      <td>14</td>\n",
       "      <td>0</td>\n",
       "      <td>P00085442</td>\n",
       "      <td>1057.0</td>\n",
       "      <td>2</td>\n",
       "      <td>1000001</td>\n",
       "      <td>85442</td>\n",
       "      <td>9545.514286</td>\n",
       "      <td>0</td>\n",
       "      <td>0</td>\n",
       "      <td>0</td>\n",
       "    </tr>\n",
       "    <tr>\n",
       "      <th>4</th>\n",
       "      <td>7</td>\n",
       "      <td>3</td>\n",
       "      <td>1</td>\n",
       "      <td>0</td>\n",
       "      <td>16</td>\n",
       "      <td>8</td>\n",
       "      <td>0</td>\n",
       "      <td>0</td>\n",
       "      <td>P00285442</td>\n",
       "      <td>7969.0</td>\n",
       "      <td>4</td>\n",
       "      <td>1000002</td>\n",
       "      <td>285442</td>\n",
       "      <td>10525.610390</td>\n",
       "      <td>0</td>\n",
       "      <td>0</td>\n",
       "      <td>0</td>\n",
       "    </tr>\n",
       "  </tbody>\n",
       "</table>\n",
       "</div>"
      ],
      "text/plain": [
       "   Age  City_Category  Gender  Marital_Status  Occupation  Product_Category_1  \\\n",
       "0    1              1       0               0          10                   3   \n",
       "1    1              1       0               0          10                   1   \n",
       "2    1              1       0               0          10                  12   \n",
       "3    1              1       0               0          10                  12   \n",
       "4    7              3       1               0          16                   8   \n",
       "\n",
       "   Product_Category_2  Product_Category_3 Product_ID  Purchase  \\\n",
       "0                   0                   0  P00069042    8370.0   \n",
       "1                   6                  14  P00248942   15200.0   \n",
       "2                   0                   0  P00087842    1422.0   \n",
       "3                  14                   0  P00085442    1057.0   \n",
       "4                   0                   0  P00285442    7969.0   \n",
       "\n",
       "   Stay_In_Current_City_Years  User_ID  Product_ID_New   AvgPurchase  \\\n",
       "0                           2  1000001           69042   9545.514286   \n",
       "1                           2  1000001          248942   9545.514286   \n",
       "2                           2  1000001           87842   9545.514286   \n",
       "3                           2  1000001           85442   9545.514286   \n",
       "4                           4  1000002          285442  10525.610390   \n",
       "\n",
       "   IsPurchaseAboveAvg  IsPurchaseAboveAvgInAgeGp  \\\n",
       "0                   0                          0   \n",
       "1                   1                          1   \n",
       "2                   0                          0   \n",
       "3                   0                          0   \n",
       "4                   0                          0   \n",
       "\n",
       "   IsPurchaseAboveAvgInOccupation  \n",
       "0                               0  \n",
       "1                               1  \n",
       "2                               0  \n",
       "3                               0  \n",
       "4                               0  "
      ]
     },
     "execution_count": 116,
     "metadata": {},
     "output_type": "execute_result"
    }
   ],
   "source": [
    "data.head()"
   ]
  },
  {
   "cell_type": "markdown",
   "metadata": {},
   "source": [
    "# <font color=\"#FA8072\">Building Preditive Models</font> "
   ]
  },
  {
   "cell_type": "code",
   "execution_count": 19,
   "metadata": {},
   "outputs": [
    {
     "data": {
      "text/plain": [
       "User_ID                        int64\n",
       "Product_ID                    object\n",
       "Gender                         int64\n",
       "Age                            int64\n",
       "Occupation                     uint8\n",
       "City_Category                  int64\n",
       "Stay_In_Current_City_Years     int64\n",
       "Marital_Status                 uint8\n",
       "Product_Category_1             uint8\n",
       "Product_Category_2             uint8\n",
       "Product_Category_3             uint8\n",
       "Purchase                       int64\n",
       "Product_ID_New                 int32\n",
       "dtype: object"
      ]
     },
     "execution_count": 19,
     "metadata": {},
     "output_type": "execute_result"
    }
   ],
   "source": [
    "from sklearn.preprocessing import LabelEncoder\n",
    "var_mod = ['City_Category','Gender','Stay_In_Current_City_Years']\n",
    "le = LabelEncoder()\n",
    "for i in var_mod:\n",
    "    df_train[i] = le.fit_transform(df_train[i])\n",
    "    df_test[i] = le.fit_transform(df_test[i])\n",
    "df_train.dtypes"
   ]
  },
  {
   "cell_type": "code",
   "execution_count": 20,
   "metadata": {
    "collapsed": true
   },
   "outputs": [],
   "source": [
    "predictor_var = ['User_ID','Product_ID_New','Gender','Age','Occupation','City_Category','Stay_In_Current_City_Years','Marital_Status','Product_Category_1','Product_Category_2','Product_Category_3']"
   ]
  },
  {
   "cell_type": "markdown",
   "metadata": {},
   "source": [
    "### <font color=\"F98866\">1. Linear Regression</font>"
   ]
  },
  {
   "cell_type": "code",
   "execution_count": 24,
   "metadata": {},
   "outputs": [],
   "source": [
    "from sklearn.linear_model import LinearRegression\n",
    "modelType = 1\n",
    "model = LinearRegression()\n",
    "outputFileName = 'BlackFriday_LR1.csv';"
   ]
  },
  {
   "cell_type": "markdown",
   "metadata": {},
   "source": [
    "### <font color=\"F98866\">2. Decision Tree Regressor</font>"
   ]
  },
  {
   "cell_type": "code",
   "execution_count": 39,
   "metadata": {},
   "outputs": [],
   "source": [
    "from sklearn.tree import DecisionTreeRegressor\n",
    "modelType = 2\n",
    "model = DecisionTreeRegressor()\n",
    "outputFileName = 'BlackFriday_DTR.csv';"
   ]
  },
  {
   "cell_type": "markdown",
   "metadata": {},
   "source": [
    "### <font color=\"F98866\">3. Random Forest Regressor</font>"
   ]
  },
  {
   "cell_type": "code",
   "execution_count": 46,
   "metadata": {
    "collapsed": true
   },
   "outputs": [],
   "source": [
    "from sklearn.ensemble import RandomForestRegressor\n",
    "modelType = 3\n",
    "model = RandomForestRegressor()\n",
    "outputFileName = 'BlackFriday_RFR.csv';"
   ]
  },
  {
   "cell_type": "markdown",
   "metadata": {},
   "source": [
    "### <font color=\"F98866\">4. XGBoost Regressor</font>"
   ]
  },
  {
   "cell_type": "code",
   "execution_count": 31,
   "metadata": {},
   "outputs": [],
   "source": [
    "from xgboost import XGBRegressor\n",
    "modelType = 4\n",
    "model = XGBRegressor()\n",
    "outputFileName = 'BlackFriday_XGBR2.csv';"
   ]
  },
  {
   "cell_type": "markdown",
   "metadata": {},
   "source": [
    "### <font color='#76528D'>Fitting Model and Creating Output</font>"
   ]
  },
  {
   "cell_type": "code",
   "execution_count": 48,
   "metadata": {
    "collapsed": true
   },
   "outputs": [],
   "source": [
    "model.fit(df_train[predictor_var],df_train['Purchase'])\n",
    "df_test['Purchase'] = model.predict(df_test[predictor_var])\n",
    "df_test[['User_ID','Product_ID','Purchase']].to_csv(os.path.join(folderPath,outputFileName),index=False)"
   ]
  },
  {
   "cell_type": "markdown",
   "metadata": {},
   "source": [
    "### <font color='#76528D'>Cross Validation</font>"
   ]
  },
  {
   "cell_type": "code",
   "execution_count": 49,
   "metadata": {},
   "outputs": [
    {
     "name": "stdout",
     "output_type": "stream",
     "text": [
      "\n",
      "Model Report\n",
      "RMSE : 1191\n",
      "CV Score : Mean - 2849 | Std - 24.72 | Min - 2796 | Max - 2885\n"
     ]
    }
   ],
   "source": [
    "from sklearn import cross_validation, metrics\n",
    "\n",
    "model.score(df_train[predictor_var],df_train['Purchase'])\n",
    "#Perform cross-validation:\n",
    "cv_score = cross_validation.cross_val_score(model, df_train[predictor_var], df_train['Purchase'], cv=20, scoring='neg_mean_squared_error')\n",
    "cv_score = np.sqrt(np.abs(cv_score))\n",
    "    \n",
    "#Print model report:\n",
    "print(\"\\nModel Report\")\n",
    "predictions = model.predict(df_train[predictor_var])\n",
    "print(\"RMSE : %.4g\" % np.sqrt(metrics.mean_squared_error(df_train['Purchase'].values, predictions)))\n",
    "print(\"CV Score : Mean - %.4g | Std - %.4g | Min - %.4g | Max - %.4g\" % (np.mean(cv_score),np.std(cv_score),np.min(cv_score),np.max(cv_score)))\n",
    "  "
   ]
  },
  {
   "cell_type": "code",
   "execution_count": 45,
   "metadata": {},
   "outputs": [
    {
     "data": {
      "image/png": "[encoded data removed]",
      "text/plain": [
       "<matplotlib.figure.Figure at 0x2b50066fda0>"
      ]
     },
     "metadata": {},
     "output_type": "display_data"
    }
   ],
   "source": [
    "if(modelType == 1):\n",
    "    coef3 = pd.Series(model.feature_importances_, predictor_var).sort_values(ascending=False)\n",
    "    coef3.plot(kind='bar', title='Feature Importances')\n",
    "elif((modelType == 2) | (modelType==3)):\n",
    "    coef1 = pd.Series(model.feature_importances_, predictor_var).sort_values()\n",
    "    coef1.plot(kind='bar', title='Model Coefficients')\n",
    "elif(modelType == 4):\n",
    "    from xgboost import plot_importance\n",
    "    plot_importance(model)\n",
    "\n"
   ]
  }
 ],
 "metadata": {
  "kernelspec": {
   "display_name": "deeplearning",
   "language": "python",
   "name": "deeplearning"
  },
  "language_info": {
   "codemirror_mode": {
    "name": "ipython",
    "version": 3
   },
   "file_extension": ".py",
   "mimetype": "text/x-python",
   "name": "python",
   "nbconvert_exporter": "python",
   "pygments_lexer": "ipython3",
   "version": "3.5.5"
  }
 },
 "nbformat": 4,
 "nbformat_minor": 2
}
