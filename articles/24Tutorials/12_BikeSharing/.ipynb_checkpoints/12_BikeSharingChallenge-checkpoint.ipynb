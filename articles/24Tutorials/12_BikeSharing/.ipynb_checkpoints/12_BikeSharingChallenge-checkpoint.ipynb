{
 "cells": [
  {
   "cell_type": "code",
   "execution_count": 1,
   "metadata": {
    "collapsed": true
   },
   "outputs": [],
   "source": [
    "#https://www.analyticsvidhya.com/blog/2015/06/solution-kaggle-competition-bike-sharing-demand/\n",
    "#https://www.kaggle.com/c/bike-sharing-demand\n",
    "#https://www.kaggle.com/viveksrinivasan/eda-ensemble-model-top-10-percentile\n",
    "#https://www.canva.com/learn/brand-color-palette/\n",
    "\n",
    "#https://www.kaggle.com/sudalairajkumar/simple-exploration-baseline-santander-value\n",
    "#https://www.kaggle.com/willkoehrsen/start-here-a-gentle-introduction\n",
    "#https://www.kaggle.com/jsaguiar/updated-0-792-lb-lightgbm-with-simple-features/code"
   ]
  },
  {
   "cell_type": "code",
   "execution_count": 1,
   "metadata": {
    "collapsed": true
   },
   "outputs": [],
   "source": [
    "import pandas as pd;\n",
    "import numpy as np;\n",
    "import matplotlib.pyplot as plt;\n",
    "import os;\n",
    "import seaborn as sns;\n",
    "%matplotlib inline"
   ]
  },
  {
   "cell_type": "markdown",
   "metadata": {},
   "source": [
    "# <font color='#00281F'>1. Reading Files</font>"
   ]
  },
  {
   "cell_type": "code",
   "execution_count": 2,
   "metadata": {
    "collapsed": true
   },
   "outputs": [],
   "source": [
    "folderPath = 'D:/Rep/MyLearning/articles/24Tutorials/12_BikeSharing';"
   ]
  },
  {
   "cell_type": "code",
   "execution_count": 3,
   "metadata": {
    "collapsed": true
   },
   "outputs": [],
   "source": [
    "trainFileName = 'train.csv'\n",
    "trainFilePath = os.path.join(folderPath,trainFileName)\n",
    "testFileName = 'test.csv';\n",
    "testFilePath = os.path.join(folderPath,testFileName);"
   ]
  },
  {
   "cell_type": "code",
   "execution_count": 4,
   "metadata": {
    "collapsed": true
   },
   "outputs": [],
   "source": [
    "train = pd.read_csv(trainFilePath);\n",
    "test = pd.read_csv(testFilePath)\n",
    "data = pd.concat([train,test])"
   ]
  },
  {
   "cell_type": "code",
   "execution_count": 5,
   "metadata": {
    "collapsed": true
   },
   "outputs": [],
   "source": [
    "data = data[['datetime','season','weather','workingday','holiday','temp','atemp','windspeed','humidity','casual','registered','count']]"
   ]
  },
  {
   "cell_type": "code",
   "execution_count": 6,
   "metadata": {
    "collapsed": true
   },
   "outputs": [],
   "source": [
    "data['season'] = data['season'].replace(1,'spring')\n",
    "data['season'] = data['season'].replace(2,'summer')\n",
    "data['season'] = data['season'].replace(3,'fall')\n",
    "data['season'] = data['season'].replace(4,'winter')\n",
    "train['season'] = train['season'].replace(1,'spring')\n",
    "train['season'] = train['season'].replace(2,'summer')\n",
    "train['season'] = train['season'].replace(3,'fall')\n",
    "train['season'] = train['season'].replace(4,'winter')"
   ]
  },
  {
   "cell_type": "code",
   "execution_count": 7,
   "metadata": {
    "collapsed": true
   },
   "outputs": [],
   "source": [
    "data['weather'] = data['weather'].replace(1,'clear')\n",
    "data['weather'] = data['weather'].replace(2,'cloudy')\n",
    "data['weather'] = data['weather'].replace(3,'lightRain')\n",
    "data['weather'] = data['weather'].replace(4,'HeavyRain')\n",
    "train['weather'] = train['weather'].replace(1,'clear')\n",
    "train['weather'] = train['weather'].replace(2,'cloudy')\n",
    "train['weather'] = train['weather'].replace(3,'lightRain')\n",
    "train['weather'] = train['weather'].replace(4,'HeavyRain')"
   ]
  },
  {
   "cell_type": "code",
   "execution_count": 8,
   "metadata": {
    "collapsed": true
   },
   "outputs": [],
   "source": [
    "data['datetime'] = pd.to_datetime(data['datetime'],format='%Y-%m-%d %H:%M:%S')\n",
    "data['season'] = data['season'].astype('category')\n",
    "data['weather'] = data['weather'].astype('category')\n",
    "data['workingday'] = data['workingday'].astype(np.uint8)\n",
    "data['holiday'] = data['holiday'].astype(np.uint8)\n",
    "data['temp'] = data['temp'].astype(np.float32)\n",
    "data['atemp'] = data['atemp'].astype(np.float32)\n",
    "data['windspeed'] = data['windspeed'].astype(np.float32)\n",
    "data['humidity'] = data['humidity'].astype(np.uint8)\n",
    "#data['casual'] = data['casual'].astype(np.uint16)\n",
    "#data['registered'] = data['registered'].astype(np.uint16)\n",
    "#data['count'] = data['count'].astype(np.uint16)"
   ]
  },
  {
   "cell_type": "code",
   "execution_count": 9,
   "metadata": {
    "collapsed": true
   },
   "outputs": [],
   "source": [
    "train['datetime'] = pd.to_datetime(train['datetime'],format='%Y-%m-%d %H:%M:%S')\n",
    "train['season'] = train['season'].astype('category')\n",
    "train['weather'] = train['weather'].astype('category')\n",
    "train['workingday'] = train['workingday'].astype(np.uint8)\n",
    "train['holiday'] = train['holiday'].astype(np.uint8)\n",
    "train['temp'] = train['temp'].astype(np.float32)\n",
    "train['atemp'] = train['atemp'].astype(np.float32)\n",
    "train['windspeed'] = train['windspeed'].astype(np.float32)\n",
    "train['humidity'] = train['humidity'].astype(np.uint8)\n",
    "train['casual'] = train['casual'].astype(np.uint16)\n",
    "train['registered'] = train['registered'].astype(np.uint16)\n",
    "train['count'] = train['count'].astype(np.uint16)"
   ]
  },
  {
   "cell_type": "markdown",
   "metadata": {},
   "source": [
    "# <font color='#00281F'>2. Data Exploration</font> "
   ]
  },
  {
   "cell_type": "code",
   "execution_count": 10,
   "metadata": {
    "collapsed": true
   },
   "outputs": [
    {
     "data": {
      "text/plain": [
       "datetime      datetime64[ns]\n",
       "season              category\n",
       "weather             category\n",
       "workingday             uint8\n",
       "holiday                uint8\n",
       "temp                 float32\n",
       "atemp                float32\n",
       "windspeed            float32\n",
       "humidity               uint8\n",
       "casual               float64\n",
       "registered           float64\n",
       "count                float64\n",
       "dtype: object"
      ]
     },
     "execution_count": 10,
     "metadata": {},
     "output_type": "execute_result"
    }
   ],
   "source": [
    "data.dtypes"
   ]
  },
  {
   "cell_type": "code",
   "execution_count": 11,
   "metadata": {
    "collapsed": true
   },
   "outputs": [
    {
     "name": "stdout",
     "output_type": "stream",
     "text": [
      "weather\n",
      "HeavyRain        3\n",
      "clear        11413\n",
      "cloudy        4544\n",
      "lightRain     1419\n",
      "Name: datetime, dtype: int64\n",
      "-------------------------------------------\n",
      "season\n",
      "fall      4496\n",
      "spring    4242\n",
      "summer    4409\n",
      "winter    4232\n",
      "Name: datetime, dtype: int64\n"
     ]
    }
   ],
   "source": [
    "print(data.groupby('weather')['datetime'].nunique())\n",
    "print('-------------------------------------------')\n",
    "print(data.groupby('season')['datetime'].nunique())"
   ]
  },
  {
   "cell_type": "code",
   "execution_count": 12,
   "metadata": {
    "collapsed": true
   },
   "outputs": [
    {
     "data": {
      "text/html": [
       "<div>\n",
       "<style scoped>\n",
       "    .dataframe tbody tr th:only-of-type {\n",
       "        vertical-align: middle;\n",
       "    }\n",
       "\n",
       "    .dataframe tbody tr th {\n",
       "        vertical-align: top;\n",
       "    }\n",
       "\n",
       "    .dataframe thead th {\n",
       "        text-align: right;\n",
       "    }\n",
       "</style>\n",
       "<table border=\"1\" class=\"dataframe\">\n",
       "  <thead>\n",
       "    <tr style=\"text-align: right;\">\n",
       "      <th></th>\n",
       "      <th>holiday</th>\n",
       "      <th>workingday</th>\n",
       "      <th>temp</th>\n",
       "      <th>atemp</th>\n",
       "      <th>humidity</th>\n",
       "      <th>windspeed</th>\n",
       "      <th>casual</th>\n",
       "      <th>registered</th>\n",
       "      <th>count</th>\n",
       "    </tr>\n",
       "  </thead>\n",
       "  <tbody>\n",
       "    <tr>\n",
       "      <th>count</th>\n",
       "      <td>10886.000000</td>\n",
       "      <td>10886.000000</td>\n",
       "      <td>10886.000000</td>\n",
       "      <td>10886.000000</td>\n",
       "      <td>10886.000000</td>\n",
       "      <td>10886.000000</td>\n",
       "      <td>10886.000000</td>\n",
       "      <td>10886.000000</td>\n",
       "      <td>10886.000000</td>\n",
       "    </tr>\n",
       "    <tr>\n",
       "      <th>mean</th>\n",
       "      <td>0.028569</td>\n",
       "      <td>0.680875</td>\n",
       "      <td>20.230619</td>\n",
       "      <td>23.655096</td>\n",
       "      <td>61.886460</td>\n",
       "      <td>12.799149</td>\n",
       "      <td>36.021955</td>\n",
       "      <td>155.552177</td>\n",
       "      <td>191.574132</td>\n",
       "    </tr>\n",
       "    <tr>\n",
       "      <th>std</th>\n",
       "      <td>0.166599</td>\n",
       "      <td>0.466159</td>\n",
       "      <td>7.791600</td>\n",
       "      <td>8.474654</td>\n",
       "      <td>19.245033</td>\n",
       "      <td>8.164592</td>\n",
       "      <td>49.960477</td>\n",
       "      <td>151.039033</td>\n",
       "      <td>181.144454</td>\n",
       "    </tr>\n",
       "    <tr>\n",
       "      <th>min</th>\n",
       "      <td>0.000000</td>\n",
       "      <td>0.000000</td>\n",
       "      <td>0.820000</td>\n",
       "      <td>0.760000</td>\n",
       "      <td>0.000000</td>\n",
       "      <td>0.000000</td>\n",
       "      <td>0.000000</td>\n",
       "      <td>0.000000</td>\n",
       "      <td>1.000000</td>\n",
       "    </tr>\n",
       "    <tr>\n",
       "      <th>25%</th>\n",
       "      <td>0.000000</td>\n",
       "      <td>0.000000</td>\n",
       "      <td>13.940000</td>\n",
       "      <td>16.665001</td>\n",
       "      <td>47.000000</td>\n",
       "      <td>7.001500</td>\n",
       "      <td>4.000000</td>\n",
       "      <td>36.000000</td>\n",
       "      <td>42.000000</td>\n",
       "    </tr>\n",
       "    <tr>\n",
       "      <th>50%</th>\n",
       "      <td>0.000000</td>\n",
       "      <td>1.000000</td>\n",
       "      <td>20.500000</td>\n",
       "      <td>24.240000</td>\n",
       "      <td>62.000000</td>\n",
       "      <td>12.998000</td>\n",
       "      <td>17.000000</td>\n",
       "      <td>118.000000</td>\n",
       "      <td>145.000000</td>\n",
       "    </tr>\n",
       "    <tr>\n",
       "      <th>75%</th>\n",
       "      <td>0.000000</td>\n",
       "      <td>1.000000</td>\n",
       "      <td>26.240000</td>\n",
       "      <td>31.059999</td>\n",
       "      <td>77.000000</td>\n",
       "      <td>16.997900</td>\n",
       "      <td>49.000000</td>\n",
       "      <td>222.000000</td>\n",
       "      <td>284.000000</td>\n",
       "    </tr>\n",
       "    <tr>\n",
       "      <th>max</th>\n",
       "      <td>1.000000</td>\n",
       "      <td>1.000000</td>\n",
       "      <td>41.000000</td>\n",
       "      <td>45.455002</td>\n",
       "      <td>100.000000</td>\n",
       "      <td>56.996899</td>\n",
       "      <td>367.000000</td>\n",
       "      <td>886.000000</td>\n",
       "      <td>977.000000</td>\n",
       "    </tr>\n",
       "  </tbody>\n",
       "</table>\n",
       "</div>"
      ],
      "text/plain": [
       "            holiday    workingday          temp         atemp      humidity  \\\n",
       "count  10886.000000  10886.000000  10886.000000  10886.000000  10886.000000   \n",
       "mean       0.028569      0.680875     20.230619     23.655096     61.886460   \n",
       "std        0.166599      0.466159      7.791600      8.474654     19.245033   \n",
       "min        0.000000      0.000000      0.820000      0.760000      0.000000   \n",
       "25%        0.000000      0.000000     13.940000     16.665001     47.000000   \n",
       "50%        0.000000      1.000000     20.500000     24.240000     62.000000   \n",
       "75%        0.000000      1.000000     26.240000     31.059999     77.000000   \n",
       "max        1.000000      1.000000     41.000000     45.455002    100.000000   \n",
       "\n",
       "          windspeed        casual    registered         count  \n",
       "count  10886.000000  10886.000000  10886.000000  10886.000000  \n",
       "mean      12.799149     36.021955    155.552177    191.574132  \n",
       "std        8.164592     49.960477    151.039033    181.144454  \n",
       "min        0.000000      0.000000      0.000000      1.000000  \n",
       "25%        7.001500      4.000000     36.000000     42.000000  \n",
       "50%       12.998000     17.000000    118.000000    145.000000  \n",
       "75%       16.997900     49.000000    222.000000    284.000000  \n",
       "max       56.996899    367.000000    886.000000    977.000000  "
      ]
     },
     "execution_count": 12,
     "metadata": {},
     "output_type": "execute_result"
    }
   ],
   "source": [
    "train.describe()"
   ]
  },
  {
   "cell_type": "code",
   "execution_count": 13,
   "metadata": {
    "collapsed": true
   },
   "outputs": [
    {
     "data": {
      "text/plain": [
       "datetime         0\n",
       "season           0\n",
       "weather          0\n",
       "workingday       0\n",
       "holiday          0\n",
       "temp             0\n",
       "atemp            0\n",
       "windspeed        0\n",
       "humidity         0\n",
       "casual        6493\n",
       "registered    6493\n",
       "count         6493\n",
       "dtype: int64"
      ]
     },
     "execution_count": 13,
     "metadata": {},
     "output_type": "execute_result"
    }
   ],
   "source": [
    "data.apply(lambda x:sum(x.isna()))"
   ]
  },
  {
   "cell_type": "markdown",
   "metadata": {},
   "source": [
    "### <font color='#037367'>1. Effect of season and weather</font>"
   ]
  },
  {
   "cell_type": "code",
   "execution_count": 14,
   "metadata": {
    "collapsed": true
   },
   "outputs": [
    {
     "name": "stdout",
     "output_type": "stream",
     "text": [
      "weather  HeavyRain       clear      cloudy   lightRain\n",
      "season                                                \n",
      "fall           NaN  243.583420  230.771523  156.582915\n",
      "spring       164.0  126.781694  106.861538   61.227488\n",
      "summer         NaN  236.729595  189.515537  123.906250\n",
      "winter         NaN  209.511163  194.784387  134.466667\n"
     ]
    },
    {
     "data": {
      "text/plain": [
       "<matplotlib.axes._subplots.AxesSubplot at 0x1e6f5a5a908>"
      ]
     },
     "execution_count": 14,
     "metadata": {},
     "output_type": "execute_result"
    },
    {
     "data": {
      "image/png": "[encoded data removed]",
      "text/plain": [
       "<matplotlib.figure.Figure at 0x1e6f5b37748>"
      ]
     },
     "metadata": {},
     "output_type": "display_data"
    }
   ],
   "source": [
    "temp1 = train.pivot_table(values='count',index='season',columns='weather')\n",
    "print(temp1)\n",
    "temp1.plot(kind='bar',figsize=(12,4))"
   ]
  },
  {
   "cell_type": "code",
   "execution_count": 15,
   "metadata": {
    "collapsed": true
   },
   "outputs": [
    {
     "name": "stdout",
     "output_type": "stream",
     "text": [
      "weather  HeavyRain      clear     cloudy  lightRain\n",
      "season                                             \n",
      "fall           NaN  54.972539  49.783113  32.924623\n",
      "spring         6.0  17.649801  13.718881   3.526066\n",
      "summer         NaN  53.128262  41.491525  20.589286\n",
      "winter         NaN  33.532902  22.294919  13.666667\n"
     ]
    },
    {
     "data": {
      "text/plain": [
       "<matplotlib.axes._subplots.AxesSubplot at 0x1e6f5b54d30>"
      ]
     },
     "execution_count": 15,
     "metadata": {},
     "output_type": "execute_result"
    },
    {
     "data": {
      "image/png": "[encoded data removed]",
      "text/plain": [
       "<matplotlib.figure.Figure at 0x1e6f5b37cc0>"
      ]
     },
     "metadata": {},
     "output_type": "display_data"
    }
   ],
   "source": [
    "temp1 = train.pivot_table(values='casual',index='season',columns='weather')\n",
    "print(temp1)\n",
    "temp1.plot(kind='bar',figsize=(12,4))"
   ]
  },
  {
   "cell_type": "markdown",
   "metadata": {},
   "source": [
    "1. Heavy rains occured only during spring\n",
    "2. Bike demand during clear skys is comparable during fall and summer\n",
    "3. during clear skys summar == fall > winter > spring\n",
    "4. During cloudy skys fall > winter > summer > spring\n",
    "5. During Light Rain  fall > winter > summer > spring\n",
    "6. Demand of casual rides is very less during spring in comparison to other season"
   ]
  },
  {
   "cell_type": "markdown",
   "metadata": {},
   "source": [
    "### <font color='#037367'>2. Effect of Humidity and wind speed</font>"
   ]
  },
  {
   "cell_type": "code",
   "execution_count": 40,
   "metadata": {
    "collapsed": true
   },
   "outputs": [
    {
     "data": {
      "text/plain": [
       "Text(0.5,1,'For Heavy Rain Weather')"
      ]
     },
     "execution_count": 40,
     "metadata": {},
     "output_type": "execute_result"
    },
    {
     "data": {
      "image/png": "[encoded data removed]",
      "text/plain": [
       "<matplotlib.figure.Figure at 0x1c4be3d2160>"
      ]
     },
     "metadata": {},
     "output_type": "display_data"
    }
   ],
   "source": [
    "f, ((ax1, ax2),(ax3,ax4)) = plt.subplots(2, 2, sharex='col', sharey='row',figsize=(16,8))\n",
    "queryFilter = (train['weather']=='clear')\n",
    "result = train[queryFilter].groupby(by='humidity').agg({'count':'mean','humidity':'first'})[['humidity','count']]\n",
    "ax1.scatter(result['humidity'], result['count']) \n",
    "ax1.set_title('For Clear Weather')\n",
    "\n",
    "\n",
    "queryFilter = (train['weather']=='cloudy')\n",
    "result = train[queryFilter].groupby(by='humidity').agg({'count':'mean','humidity':'first'})[['humidity','count']]\n",
    "ax2.scatter(result['humidity'], result['count'])\n",
    "ax2.set_title('For Cloudy Weather')\n",
    "\n",
    "queryFilter = (train['weather']=='lightRain')\n",
    "result = train[queryFilter].groupby(by='humidity').agg({'count':'mean','humidity':'first'})[['humidity','count']]\n",
    "ax3.scatter(result['humidity'], result['count'])\n",
    "ax3.set_title('For Light Rain Weather')\n",
    "\n",
    "queryFilter = (train['weather']=='HeavyRain')\n",
    "result = train[queryFilter].groupby(by='humidity').agg({'count':'mean','humidity':'first'})[['humidity','count']]\n",
    "ax4.scatter(result['humidity'], result['count'])\n",
    "ax4.set_title('For Heavy Rain Weather')"
   ]
  },
  {
   "cell_type": "code",
   "execution_count": 39,
   "metadata": {
    "collapsed": true
   },
   "outputs": [
    {
     "data": {
      "text/plain": [
       "Text(0.5,1,'For Winter season')"
      ]
     },
     "execution_count": 39,
     "metadata": {},
     "output_type": "execute_result"
    },
    {
     "data": {
      "image/png": "[encoded data removed]",
      "text/plain": [
       "<matplotlib.figure.Figure at 0x1c4be301c88>"
      ]
     },
     "metadata": {},
     "output_type": "display_data"
    }
   ],
   "source": [
    "f, ((ax1, ax2),(ax3,ax4)) = plt.subplots(2, 2, sharex='col', sharey='row',figsize=(16,8))\n",
    "queryFilter = (train['season']=='spring')\n",
    "result = train[queryFilter].groupby(by='humidity').agg({'count':'mean','humidity':'first'})[['humidity','count']]\n",
    "ax1.scatter(result['humidity'], result['count']) \n",
    "ax1.set_title('For Spring season')\n",
    "\n",
    "\n",
    "queryFilter = (train['season']=='summer')\n",
    "result = train[queryFilter].groupby(by='humidity').agg({'count':'mean','humidity':'first'})[['humidity','count']]\n",
    "ax2.scatter(result['humidity'], result['count'])\n",
    "ax2.set_title('For Summer season')\n",
    "\n",
    "queryFilter = (train['season']=='fall')\n",
    "result = train[queryFilter].groupby(by='humidity').agg({'count':'mean','humidity':'first'})[['humidity','count']]\n",
    "ax3.scatter(result['humidity'], result['count'])\n",
    "ax3.set_title('For Fall season')\n",
    "\n",
    "queryFilter = (train['season']=='winter')\n",
    "result = train[queryFilter].groupby(by='humidity').agg({'count':'mean','humidity':'first'})[['humidity','count']]\n",
    "ax4.scatter(result['humidity'], result['count'])\n",
    "ax4.set_title('For Winter season')"
   ]
  },
  {
   "cell_type": "markdown",
   "metadata": {},
   "source": [
    "1. Generally with increase in humidity, the number of bike sharing decreases.\n",
    "2. In Spring and winter season, humidity has no/little effect of bike demand\n",
    "3. During Summer season when humidity is low, bike demand remains very high\n",
    "4. There is an outlier where weather is light rain but humidity is 0\n",
    "5. For Light rain weather bike demand remains very high when humidity is in between 40 to 60"
   ]
  },
  {
   "cell_type": "code",
   "execution_count": 42,
   "metadata": {
    "collapsed": true
   },
   "outputs": [],
   "source": [
    "### <font color='#037367'>3. Effect of Holiday and Working days</font>"
   ]
  },
  {
   "cell_type": "code",
   "execution_count": 48,
   "metadata": {
    "collapsed": true
   },
   "outputs": [
    {
     "data": {
      "text/plain": [
       "<matplotlib.axes._subplots.AxesSubplot at 0x1c4c05e12e8>"
      ]
     },
     "execution_count": 48,
     "metadata": {},
     "output_type": "execute_result"
    },
    {
     "data": {
      "image/png": "[encoded data removed]",
      "text/plain": [
       "<matplotlib.figure.Figure at 0x1c4c0304828>"
      ]
     },
     "metadata": {},
     "output_type": "display_data"
    }
   ],
   "source": [
    "train.groupby(by='holiday').agg({'count':'mean','holiday':'first'}).plot(kind='bar',x='holiday',y='count')"
   ]
  },
  {
   "cell_type": "code",
   "execution_count": 50,
   "metadata": {
    "collapsed": true
   },
   "outputs": [
    {
     "data": {
      "text/plain": [
       "<matplotlib.axes._subplots.AxesSubplot at 0x1c4c20e2f28>"
      ]
     },
     "execution_count": 50,
     "metadata": {},
     "output_type": "execute_result"
    },
    {
     "data": {
      "image/png": "[encoded data removed]",
      "text/plain": [
       "<matplotlib.figure.Figure at 0x1c4cf76af98>"
      ]
     },
     "metadata": {},
     "output_type": "display_data"
    }
   ],
   "source": [
    "train.groupby(by='workingday').agg({'count':'mean','workingday':'first'}).plot(kind='bar',x='workingday',y='count')"
   ]
  },
  {
   "cell_type": "code",
   "execution_count": 51,
   "metadata": {},
   "outputs": [
    {
     "data": {
      "text/html": [
       "<div>\n",
       "<style scoped>\n",
       "    .dataframe tbody tr th:only-of-type {\n",
       "        vertical-align: middle;\n",
       "    }\n",
       "\n",
       "    .dataframe tbody tr th {\n",
       "        vertical-align: top;\n",
       "    }\n",
       "\n",
       "    .dataframe thead th {\n",
       "        text-align: right;\n",
       "    }\n",
       "</style>\n",
       "<table border=\"1\" class=\"dataframe\">\n",
       "  <thead>\n",
       "    <tr style=\"text-align: right;\">\n",
       "      <th>workingday</th>\n",
       "      <th>0</th>\n",
       "      <th>1</th>\n",
       "    </tr>\n",
       "    <tr>\n",
       "      <th>holiday</th>\n",
       "      <th></th>\n",
       "      <th></th>\n",
       "    </tr>\n",
       "  </thead>\n",
       "  <tbody>\n",
       "    <tr>\n",
       "      <th>0</th>\n",
       "      <td>188.765096</td>\n",
       "      <td>193.011873</td>\n",
       "    </tr>\n",
       "    <tr>\n",
       "      <th>1</th>\n",
       "      <td>185.877814</td>\n",
       "      <td>NaN</td>\n",
       "    </tr>\n",
       "  </tbody>\n",
       "</table>\n",
       "</div>"
      ],
      "text/plain": [
       "workingday           0           1\n",
       "holiday                           \n",
       "0           188.765096  193.011873\n",
       "1           185.877814         NaN"
      ]
     },
     "execution_count": 51,
     "metadata": {},
     "output_type": "execute_result"
    }
   ],
   "source": [
    "train.pivot_table(values='count',index='holiday',columns='workingday')"
   ]
  },
  {
   "cell_type": "markdown",
   "metadata": {},
   "source": [
    "1. Generally on working days the demand for cycles is more\n",
    "2. When there is holiday, than demand becomes less"
   ]
  },
  {
   "cell_type": "markdown",
   "metadata": {},
   "source": [
    "# <font color='#00281F'>3. Data Cleaning and Missing value treatment</font> "
   ]
  },
  {
   "cell_type": "markdown",
   "metadata": {},
   "source": [
    "# <font color='#00281F'>4. Feature Engineering</font> "
   ]
  },
  {
   "cell_type": "markdown",
   "metadata": {},
   "source": [
    "# <font color='#00281F'>5. Predictive Modelling</font>  "
   ]
  },
  {
   "cell_type": "code",
   "execution_count": null,
   "metadata": {
    "collapsed": true
   },
   "outputs": [],
   "source": []
  }
 ],
 "metadata": {
  "kernelspec": {
   "display_name": "deeplearning",
   "language": "python",
   "name": "deeplearning"
  },
  "language_info": {
   "codemirror_mode": {
    "name": "ipython",
    "version": 3
   },
   "file_extension": ".py",
   "mimetype": "text/x-python",
   "name": "python",
   "nbconvert_exporter": "python",
   "pygments_lexer": "ipython3",
   "version": "3.5.4"
  }
 },
 "nbformat": 4,
 "nbformat_minor": 2
}
