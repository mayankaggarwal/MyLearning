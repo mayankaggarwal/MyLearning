{
 "cells": [
  {
   "cell_type": "code",
   "execution_count": 1,
   "metadata": {
    "collapsed": true
   },
   "outputs": [],
   "source": [
    "#https://www.analyticsvidhya.com/blog/2015/06/solution-kaggle-competition-bike-sharing-demand/\n",
    "#https://www.kaggle.com/c/bike-sharing-demand\n",
    "#https://www.kaggle.com/viveksrinivasan/eda-ensemble-model-top-10-percentile\n",
    "#https://www.canva.com/learn/brand-color-palette/"
   ]
  },
  {
   "cell_type": "code",
   "execution_count": 4,
   "metadata": {
    "collapsed": true
   },
   "outputs": [],
   "source": [
    "import pandas as pd;\n",
    "import numpy as np;\n",
    "import matplotlib.pyplot as plt;\n",
    "import os;\n",
    "import seaborn as sns;\n",
    "import datetime;\n",
    "%matplotlib inline"
   ]
  },
  {
   "cell_type": "markdown",
   "metadata": {},
   "source": [
    "# <font color='#00281F'>1. Reading Files</font>"
   ]
  },
  {
   "cell_type": "code",
   "execution_count": 29,
   "metadata": {
    "collapsed": true
   },
   "outputs": [],
   "source": [
    "folderPath = 'D:/Rep/MyLearning/articles/24Tutorials/12_BikeSharing';"
   ]
  },
  {
   "cell_type": "code",
   "execution_count": 30,
   "metadata": {
    "collapsed": true
   },
   "outputs": [],
   "source": [
    "trainFileName = 'train.csv'\n",
    "trainFilePath = os.path.join(folderPath,trainFileName)\n",
    "testFileName = 'test.csv';\n",
    "testFilePath = os.path.join(folderPath,testFileName);"
   ]
  },
  {
   "cell_type": "code",
   "execution_count": 31,
   "metadata": {
    "collapsed": true
   },
   "outputs": [],
   "source": [
    "train = pd.read_csv(trainFilePath);\n",
    "test = pd.read_csv(testFilePath)\n",
    "data = pd.concat([train,test])"
   ]
  },
  {
   "cell_type": "code",
   "execution_count": 32,
   "metadata": {
    "collapsed": true
   },
   "outputs": [],
   "source": [
    "data = data[['datetime','season','weather','workingday','holiday','temp','atemp','windspeed','humidity','casual','registered','count']]"
   ]
  },
  {
   "cell_type": "code",
   "execution_count": 33,
   "metadata": {
    "collapsed": true
   },
   "outputs": [],
   "source": [
    "data['season'] = data['season'].replace(1,'spring')\n",
    "data['season'] = data['season'].replace(2,'summer')\n",
    "data['season'] = data['season'].replace(3,'fall')\n",
    "data['season'] = data['season'].replace(4,'winter')\n",
    "train['season'] = train['season'].replace(1,'spring')\n",
    "train['season'] = train['season'].replace(2,'summer')\n",
    "train['season'] = train['season'].replace(3,'fall')\n",
    "train['season'] = train['season'].replace(4,'winter')"
   ]
  },
  {
   "cell_type": "code",
   "execution_count": 34,
   "metadata": {
    "collapsed": true
   },
   "outputs": [],
   "source": [
    "data['weather'] = data['weather'].replace(1,'clear')\n",
    "data['weather'] = data['weather'].replace(2,'cloudy')\n",
    "data['weather'] = data['weather'].replace(3,'lightRain')\n",
    "data['weather'] = data['weather'].replace(4,'HeavyRain')\n",
    "train['weather'] = train['weather'].replace(1,'clear')\n",
    "train['weather'] = train['weather'].replace(2,'cloudy')\n",
    "train['weather'] = train['weather'].replace(3,'lightRain')\n",
    "train['weather'] = train['weather'].replace(4,'HeavyRain')"
   ]
  },
  {
   "cell_type": "code",
   "execution_count": 35,
   "metadata": {
    "collapsed": true
   },
   "outputs": [],
   "source": [
    "data['datetime'] = pd.to_datetime(data['datetime'],format='%Y-%m-%d %H:%M:%S')\n",
    "data['season'] = data['season'].astype('category')\n",
    "data['weather'] = data['weather'].astype('category')\n",
    "data['workingday'] = data['workingday'].astype(np.uint8)\n",
    "data['holiday'] = data['holiday'].astype(np.uint8)\n",
    "data['temp'] = data['temp'].astype(np.float32)\n",
    "data['atemp'] = data['atemp'].astype(np.float32)\n",
    "data['windspeed'] = data['windspeed'].astype(np.float32)\n",
    "data['humidity'] = data['humidity'].astype(np.uint8)\n",
    "#data['casual'] = data['casual'].astype(np.uint16)\n",
    "#data['registered'] = data['registered'].astype(np.uint16)\n",
    "#data['count'] = data['count'].astype(np.uint16)"
   ]
  },
  {
   "cell_type": "code",
   "execution_count": 36,
   "metadata": {
    "collapsed": true
   },
   "outputs": [],
   "source": [
    "train['datetime'] = pd.to_datetime(train['datetime'],format='%Y-%m-%d %H:%M:%S')\n",
    "train['season'] = train['season'].astype('category')\n",
    "train['weather'] = train['weather'].astype('category')\n",
    "train['workingday'] = train['workingday'].astype(np.uint8)\n",
    "train['holiday'] = train['holiday'].astype(np.uint8)\n",
    "train['temp'] = train['temp'].astype(np.float32)\n",
    "train['atemp'] = train['atemp'].astype(np.float32)\n",
    "train['windspeed'] = train['windspeed'].astype(np.float32)\n",
    "train['humidity'] = train['humidity'].astype(np.uint8)\n",
    "train['casual'] = train['casual'].astype(np.uint16)\n",
    "train['registered'] = train['registered'].astype(np.uint16)\n",
    "train['count'] = train['count'].astype(np.uint16)"
   ]
  },
  {
   "cell_type": "code",
   "execution_count": 37,
   "metadata": {
    "collapsed": true
   },
   "outputs": [],
   "source": [
    "train['hour'] = train['datetime'].apply(lambda x:x.hour)\n",
    "train['weekday'] = train['datetime'].apply(lambda x:x.weekday())\n",
    "train['month'] = train['datetime'].apply(lambda x:x.month)\n",
    "train['year'] = train['datetime'].apply(lambda x:x.year)\n",
    "data['hour'] = data['datetime'].apply(lambda x:x.hour)\n",
    "data['weekday'] = data['datetime'].apply(lambda x:x.weekday())\n",
    "data['month'] = data['datetime'].apply(lambda x:x.month)\n",
    "data['year'] = data['datetime'].apply(lambda x:x.year)"
   ]
  },
  {
   "cell_type": "markdown",
   "metadata": {},
   "source": [
    "# <font color='#00281F'>2. Data Exploration</font> "
   ]
  },
  {
   "cell_type": "code",
   "execution_count": 18,
   "metadata": {
    "collapsed": true
   },
   "outputs": [
    {
     "data": {
      "text/plain": [
       "datetime      datetime64[ns]\n",
       "season              category\n",
       "weather             category\n",
       "workingday             uint8\n",
       "holiday                uint8\n",
       "temp                 float32\n",
       "atemp                float32\n",
       "windspeed            float32\n",
       "humidity               uint8\n",
       "casual               float64\n",
       "registered           float64\n",
       "count                float64\n",
       "hour                   int64\n",
       "weekday                int64\n",
       "month                  int64\n",
       "year                   int64\n",
       "dp_reg                 int64\n",
       "yp_gp                  int64\n",
       "dtype: object"
      ]
     },
     "execution_count": 18,
     "metadata": {},
     "output_type": "execute_result"
    }
   ],
   "source": [
    "data.dtypes"
   ]
  },
  {
   "cell_type": "code",
   "execution_count": 12,
   "metadata": {
    "collapsed": true
   },
   "outputs": [
    {
     "name": "stdout",
     "output_type": "stream",
     "text": [
      "weather\n",
      "HeavyRain        3\n",
      "clear        11413\n",
      "cloudy        4544\n",
      "lightRain     1419\n",
      "Name: datetime, dtype: int64\n",
      "-------------------------------------------\n",
      "season\n",
      "fall      4496\n",
      "spring    4242\n",
      "summer    4409\n",
      "winter    4232\n",
      "Name: datetime, dtype: int64\n"
     ]
    }
   ],
   "source": [
    "print(data.groupby('weather')['datetime'].nunique())\n",
    "print('-------------------------------------------')\n",
    "print(data.groupby('season')['datetime'].nunique())"
   ]
  },
  {
   "cell_type": "code",
   "execution_count": 12,
   "metadata": {
    "collapsed": true
   },
   "outputs": [
    {
     "data": {
      "text/html": [
       "<div>\n",
       "<style scoped>\n",
       "    .dataframe tbody tr th:only-of-type {\n",
       "        vertical-align: middle;\n",
       "    }\n",
       "\n",
       "    .dataframe tbody tr th {\n",
       "        vertical-align: top;\n",
       "    }\n",
       "\n",
       "    .dataframe thead th {\n",
       "        text-align: right;\n",
       "    }\n",
       "</style>\n",
       "<table border=\"1\" class=\"dataframe\">\n",
       "  <thead>\n",
       "    <tr style=\"text-align: right;\">\n",
       "      <th></th>\n",
       "      <th>holiday</th>\n",
       "      <th>workingday</th>\n",
       "      <th>temp</th>\n",
       "      <th>atemp</th>\n",
       "      <th>humidity</th>\n",
       "      <th>windspeed</th>\n",
       "      <th>casual</th>\n",
       "      <th>registered</th>\n",
       "      <th>count</th>\n",
       "    </tr>\n",
       "  </thead>\n",
       "  <tbody>\n",
       "    <tr>\n",
       "      <th>count</th>\n",
       "      <td>10886.000000</td>\n",
       "      <td>10886.000000</td>\n",
       "      <td>10886.000000</td>\n",
       "      <td>10886.000000</td>\n",
       "      <td>10886.000000</td>\n",
       "      <td>10886.000000</td>\n",
       "      <td>10886.000000</td>\n",
       "      <td>10886.000000</td>\n",
       "      <td>10886.000000</td>\n",
       "    </tr>\n",
       "    <tr>\n",
       "      <th>mean</th>\n",
       "      <td>0.028569</td>\n",
       "      <td>0.680875</td>\n",
       "      <td>20.230619</td>\n",
       "      <td>23.655096</td>\n",
       "      <td>61.886460</td>\n",
       "      <td>12.799149</td>\n",
       "      <td>36.021955</td>\n",
       "      <td>155.552177</td>\n",
       "      <td>191.574132</td>\n",
       "    </tr>\n",
       "    <tr>\n",
       "      <th>std</th>\n",
       "      <td>0.166599</td>\n",
       "      <td>0.466159</td>\n",
       "      <td>7.791600</td>\n",
       "      <td>8.474654</td>\n",
       "      <td>19.245033</td>\n",
       "      <td>8.164592</td>\n",
       "      <td>49.960477</td>\n",
       "      <td>151.039033</td>\n",
       "      <td>181.144454</td>\n",
       "    </tr>\n",
       "    <tr>\n",
       "      <th>min</th>\n",
       "      <td>0.000000</td>\n",
       "      <td>0.000000</td>\n",
       "      <td>0.820000</td>\n",
       "      <td>0.760000</td>\n",
       "      <td>0.000000</td>\n",
       "      <td>0.000000</td>\n",
       "      <td>0.000000</td>\n",
       "      <td>0.000000</td>\n",
       "      <td>1.000000</td>\n",
       "    </tr>\n",
       "    <tr>\n",
       "      <th>25%</th>\n",
       "      <td>0.000000</td>\n",
       "      <td>0.000000</td>\n",
       "      <td>13.940000</td>\n",
       "      <td>16.665001</td>\n",
       "      <td>47.000000</td>\n",
       "      <td>7.001500</td>\n",
       "      <td>4.000000</td>\n",
       "      <td>36.000000</td>\n",
       "      <td>42.000000</td>\n",
       "    </tr>\n",
       "    <tr>\n",
       "      <th>50%</th>\n",
       "      <td>0.000000</td>\n",
       "      <td>1.000000</td>\n",
       "      <td>20.500000</td>\n",
       "      <td>24.240000</td>\n",
       "      <td>62.000000</td>\n",
       "      <td>12.998000</td>\n",
       "      <td>17.000000</td>\n",
       "      <td>118.000000</td>\n",
       "      <td>145.000000</td>\n",
       "    </tr>\n",
       "    <tr>\n",
       "      <th>75%</th>\n",
       "      <td>0.000000</td>\n",
       "      <td>1.000000</td>\n",
       "      <td>26.240000</td>\n",
       "      <td>31.059999</td>\n",
       "      <td>77.000000</td>\n",
       "      <td>16.997900</td>\n",
       "      <td>49.000000</td>\n",
       "      <td>222.000000</td>\n",
       "      <td>284.000000</td>\n",
       "    </tr>\n",
       "    <tr>\n",
       "      <th>max</th>\n",
       "      <td>1.000000</td>\n",
       "      <td>1.000000</td>\n",
       "      <td>41.000000</td>\n",
       "      <td>45.455002</td>\n",
       "      <td>100.000000</td>\n",
       "      <td>56.996899</td>\n",
       "      <td>367.000000</td>\n",
       "      <td>886.000000</td>\n",
       "      <td>977.000000</td>\n",
       "    </tr>\n",
       "  </tbody>\n",
       "</table>\n",
       "</div>"
      ],
      "text/plain": [
       "            holiday    workingday          temp         atemp      humidity  \\\n",
       "count  10886.000000  10886.000000  10886.000000  10886.000000  10886.000000   \n",
       "mean       0.028569      0.680875     20.230619     23.655096     61.886460   \n",
       "std        0.166599      0.466159      7.791600      8.474654     19.245033   \n",
       "min        0.000000      0.000000      0.820000      0.760000      0.000000   \n",
       "25%        0.000000      0.000000     13.940000     16.665001     47.000000   \n",
       "50%        0.000000      1.000000     20.500000     24.240000     62.000000   \n",
       "75%        0.000000      1.000000     26.240000     31.059999     77.000000   \n",
       "max        1.000000      1.000000     41.000000     45.455002    100.000000   \n",
       "\n",
       "          windspeed        casual    registered         count  \n",
       "count  10886.000000  10886.000000  10886.000000  10886.000000  \n",
       "mean      12.799149     36.021955    155.552177    191.574132  \n",
       "std        8.164592     49.960477    151.039033    181.144454  \n",
       "min        0.000000      0.000000      0.000000      1.000000  \n",
       "25%        7.001500      4.000000     36.000000     42.000000  \n",
       "50%       12.998000     17.000000    118.000000    145.000000  \n",
       "75%       16.997900     49.000000    222.000000    284.000000  \n",
       "max       56.996899    367.000000    886.000000    977.000000  "
      ]
     },
     "execution_count": 12,
     "metadata": {},
     "output_type": "execute_result"
    }
   ],
   "source": [
    "train.describe()"
   ]
  },
  {
   "cell_type": "code",
   "execution_count": 13,
   "metadata": {
    "collapsed": true
   },
   "outputs": [
    {
     "data": {
      "text/plain": [
       "datetime         0\n",
       "season           0\n",
       "weather          0\n",
       "workingday       0\n",
       "holiday          0\n",
       "temp             0\n",
       "atemp            0\n",
       "windspeed        0\n",
       "humidity         0\n",
       "casual        6493\n",
       "registered    6493\n",
       "count         6493\n",
       "dtype: int64"
      ]
     },
     "execution_count": 13,
     "metadata": {},
     "output_type": "execute_result"
    }
   ],
   "source": [
    "data.apply(lambda x:sum(x.isna()))"
   ]
  },
  {
   "cell_type": "markdown",
   "metadata": {},
   "source": [
    "### <font color='#037367'>1. Effect of season and weather</font>"
   ]
  },
  {
   "cell_type": "code",
   "execution_count": 10,
   "metadata": {
    "collapsed": true
   },
   "outputs": [
    {
     "name": "stdout",
     "output_type": "stream",
     "text": [
      "weather  HeavyRain       clear      cloudy   lightRain\n",
      "season                                                \n",
      "fall           NaN  243.583420  230.771523  156.582915\n",
      "spring       164.0  126.781694  106.861538   61.227488\n",
      "summer         NaN  236.729595  189.515537  123.906250\n",
      "winter         NaN  209.511163  194.784387  134.466667\n"
     ]
    },
    {
     "data": {
      "text/plain": [
       "<matplotlib.axes._subplots.AxesSubplot at 0x1d84656e940>"
      ]
     },
     "execution_count": 10,
     "metadata": {},
     "output_type": "execute_result"
    },
    {
     "data": {
      "image/png": "[encoded data removed]",
      "text/plain": [
       "<matplotlib.figure.Figure at 0x1d84656ef28>"
      ]
     },
     "metadata": {},
     "output_type": "display_data"
    }
   ],
   "source": [
    "temp1 = train.pivot_table(values='count',index='season',columns='weather')\n",
    "print(temp1)\n",
    "temp1.plot(kind='bar',figsize=(12,4))"
   ]
  },
  {
   "cell_type": "code",
   "execution_count": 11,
   "metadata": {
    "collapsed": true
   },
   "outputs": [
    {
     "name": "stdout",
     "output_type": "stream",
     "text": [
      "weather  HeavyRain      clear     cloudy  lightRain\n",
      "season                                             \n",
      "fall           NaN  54.972539  49.783113  32.924623\n",
      "spring         6.0  17.649801  13.718881   3.526066\n",
      "summer         NaN  53.128262  41.491525  20.589286\n",
      "winter         NaN  33.532902  22.294919  13.666667\n"
     ]
    },
    {
     "data": {
      "text/plain": [
       "<matplotlib.axes._subplots.AxesSubplot at 0x1d8465502b0>"
      ]
     },
     "execution_count": 11,
     "metadata": {},
     "output_type": "execute_result"
    },
    {
     "data": {
      "image/png": "[encoded data removed]",
      "text/plain": [
       "<matplotlib.figure.Figure at 0x1d84677b128>"
      ]
     },
     "metadata": {},
     "output_type": "display_data"
    }
   ],
   "source": [
    "temp1 = train.pivot_table(values='casual',index='season',columns='weather')\n",
    "print(temp1)\n",
    "temp1.plot(kind='bar',figsize=(12,4))"
   ]
  },
  {
   "cell_type": "markdown",
   "metadata": {},
   "source": [
    "<font color='#7B895B'>\n",
    "1. Heavy rains occured only during spring <br/>\n",
    "2. Bike demand during clear skys is comparable during fall and summer <br/>\n",
    "3. during clear skys summar == fall > winter > spring <br/>\n",
    "4. During cloudy skys fall > winter > summer > spring <br/>\n",
    "5. During Light Rain  fall > winter > summer > spring <br/>\n",
    "6. Demand of casual rides is very less during spring in comparison to other season <br/>\n",
    "</font>"
   ]
  },
  {
   "cell_type": "markdown",
   "metadata": {},
   "source": [
    "### <font color='#037367'>2. Effect of Humidity and wind speed</font>"
   ]
  },
  {
   "cell_type": "code",
   "execution_count": 12,
   "metadata": {
    "collapsed": true
   },
   "outputs": [
    {
     "data": {
      "text/plain": [
       "Text(0.5,1,'For Heavy Rain Weather')"
      ]
     },
     "execution_count": 12,
     "metadata": {},
     "output_type": "execute_result"
    },
    {
     "data": {
      "image/png": "[encoded data removed]",
      "text/plain": [
       "<matplotlib.figure.Figure at 0x1d84693a390>"
      ]
     },
     "metadata": {},
     "output_type": "display_data"
    }
   ],
   "source": [
    "f, ((ax1, ax2),(ax3,ax4)) = plt.subplots(2, 2, sharex='col', sharey='row',figsize=(16,8))\n",
    "queryFilter = (train['weather']=='clear')\n",
    "result = train[queryFilter].groupby(by='humidity').agg({'count':'mean','humidity':'first'})[['humidity','count']]\n",
    "ax1.scatter(result['humidity'], result['count']) \n",
    "ax1.set_title('For Clear Weather')\n",
    "\n",
    "\n",
    "queryFilter = (train['weather']=='cloudy')\n",
    "result = train[queryFilter].groupby(by='humidity').agg({'count':'mean','humidity':'first'})[['humidity','count']]\n",
    "ax2.scatter(result['humidity'], result['count'])\n",
    "ax2.set_title('For Cloudy Weather')\n",
    "\n",
    "queryFilter = (train['weather']=='lightRain')\n",
    "result = train[queryFilter].groupby(by='humidity').agg({'count':'mean','humidity':'first'})[['humidity','count']]\n",
    "ax3.scatter(result['humidity'], result['count'])\n",
    "ax3.set_title('For Light Rain Weather')\n",
    "\n",
    "queryFilter = (train['weather']=='HeavyRain')\n",
    "result = train[queryFilter].groupby(by='humidity').agg({'count':'mean','humidity':'first'})[['humidity','count']]\n",
    "ax4.scatter(result['humidity'], result['count'])\n",
    "ax4.set_title('For Heavy Rain Weather')"
   ]
  },
  {
   "cell_type": "code",
   "execution_count": 13,
   "metadata": {
    "collapsed": true
   },
   "outputs": [
    {
     "data": {
      "text/plain": [
       "Text(0.5,1,'For Winter season')"
      ]
     },
     "execution_count": 13,
     "metadata": {},
     "output_type": "execute_result"
    },
    {
     "data": {
      "image/png": "[encoded data removed]",
      "text/plain": [
       "<matplotlib.figure.Figure at 0x1d846b22080>"
      ]
     },
     "metadata": {},
     "output_type": "display_data"
    }
   ],
   "source": [
    "f, ((ax1, ax2),(ax3,ax4)) = plt.subplots(2, 2, sharex='col', sharey='row',figsize=(16,8))\n",
    "queryFilter = (train['season']=='spring')\n",
    "result = train[queryFilter].groupby(by='humidity').agg({'count':'mean','humidity':'first'})[['humidity','count']]\n",
    "ax1.scatter(result['humidity'], result['count']) \n",
    "ax1.set_title('For Spring season')\n",
    "\n",
    "\n",
    "queryFilter = (train['season']=='summer')\n",
    "result = train[queryFilter].groupby(by='humidity').agg({'count':'mean','humidity':'first'})[['humidity','count']]\n",
    "ax2.scatter(result['humidity'], result['count'])\n",
    "ax2.set_title('For Summer season')\n",
    "\n",
    "queryFilter = (train['season']=='fall')\n",
    "result = train[queryFilter].groupby(by='humidity').agg({'count':'mean','humidity':'first'})[['humidity','count']]\n",
    "ax3.scatter(result['humidity'], result['count'])\n",
    "ax3.set_title('For Fall season')\n",
    "\n",
    "queryFilter = (train['season']=='winter')\n",
    "result = train[queryFilter].groupby(by='humidity').agg({'count':'mean','humidity':'first'})[['humidity','count']]\n",
    "ax4.scatter(result['humidity'], result['count'])\n",
    "ax4.set_title('For Winter season')"
   ]
  },
  {
   "cell_type": "markdown",
   "metadata": {},
   "source": [
    "<font color='#7B895B'>\n",
    "1. Generally with increase in humidity, the number of bike sharing decreases. <br/>\n",
    "2. In Spring and winter season, humidity has no/little effect of bike demand <br/>\n",
    "3. During Summer season when humidity is low, bike demand remains very high <br/>\n",
    "4. There is an outlier where weather is light rain but humidity is 0 <br/>\n",
    "5. For Light rain weather bike demand remains very high when humidity is in between 40 to 60 <br/>\n",
    "</font>"
   ]
  },
  {
   "cell_type": "markdown",
   "metadata": {
    "collapsed": true
   },
   "source": [
    "### <font color='#037367'>3. Effect of Holiday and Working days</font>"
   ]
  },
  {
   "cell_type": "code",
   "execution_count": 14,
   "metadata": {
    "collapsed": true
   },
   "outputs": [
    {
     "data": {
      "text/plain": [
       "<matplotlib.axes._subplots.AxesSubplot at 0x1d842ef40b8>"
      ]
     },
     "execution_count": 14,
     "metadata": {},
     "output_type": "execute_result"
    },
    {
     "data": {
      "image/png": "[encoded data removed]",
      "text/plain": [
       "<matplotlib.figure.Figure at 0x1d846787e80>"
      ]
     },
     "metadata": {},
     "output_type": "display_data"
    }
   ],
   "source": [
    "train.groupby(by='holiday').agg({'count':'mean','holiday':'first'}).plot(kind='bar',x='holiday',y='count')"
   ]
  },
  {
   "cell_type": "code",
   "execution_count": 15,
   "metadata": {
    "collapsed": true
   },
   "outputs": [
    {
     "data": {
      "text/plain": [
       "<matplotlib.axes._subplots.AxesSubplot at 0x1d846e739b0>"
      ]
     },
     "execution_count": 15,
     "metadata": {},
     "output_type": "execute_result"
    },
    {
     "data": {
      "image/png": "[encoded data removed]",
      "text/plain": [
       "<matplotlib.figure.Figure at 0x1d847257160>"
      ]
     },
     "metadata": {},
     "output_type": "display_data"
    }
   ],
   "source": [
    "train.groupby(by='workingday').agg({'count':'mean','workingday':'first'}).plot(kind='bar',x='workingday',y='count')"
   ]
  },
  {
   "cell_type": "code",
   "execution_count": 16,
   "metadata": {},
   "outputs": [
    {
     "data": {
      "text/html": [
       "<div>\n",
       "<style scoped>\n",
       "    .dataframe tbody tr th:only-of-type {\n",
       "        vertical-align: middle;\n",
       "    }\n",
       "\n",
       "    .dataframe tbody tr th {\n",
       "        vertical-align: top;\n",
       "    }\n",
       "\n",
       "    .dataframe thead th {\n",
       "        text-align: right;\n",
       "    }\n",
       "</style>\n",
       "<table border=\"1\" class=\"dataframe\">\n",
       "  <thead>\n",
       "    <tr style=\"text-align: right;\">\n",
       "      <th>workingday</th>\n",
       "      <th>0</th>\n",
       "      <th>1</th>\n",
       "    </tr>\n",
       "    <tr>\n",
       "      <th>holiday</th>\n",
       "      <th></th>\n",
       "      <th></th>\n",
       "    </tr>\n",
       "  </thead>\n",
       "  <tbody>\n",
       "    <tr>\n",
       "      <th>0</th>\n",
       "      <td>188.765096</td>\n",
       "      <td>193.011873</td>\n",
       "    </tr>\n",
       "    <tr>\n",
       "      <th>1</th>\n",
       "      <td>185.877814</td>\n",
       "      <td>NaN</td>\n",
       "    </tr>\n",
       "  </tbody>\n",
       "</table>\n",
       "</div>"
      ],
      "text/plain": [
       "workingday           0           1\n",
       "holiday                           \n",
       "0           188.765096  193.011873\n",
       "1           185.877814         NaN"
      ]
     },
     "execution_count": 16,
     "metadata": {},
     "output_type": "execute_result"
    }
   ],
   "source": [
    "train.pivot_table(values='count',index='holiday',columns='workingday')"
   ]
  },
  {
   "cell_type": "markdown",
   "metadata": {},
   "source": [
    "<font color='#7B895B'>\n",
    "1. Generally on working days the demand for cycles is more <br/>\n",
    "2. When there is holiday, than demand becomes less <br/>\n",
    "</font>"
   ]
  },
  {
   "cell_type": "markdown",
   "metadata": {},
   "source": [
    "### <font color='#037367'>3. Exploring Datetime column</font>"
   ]
  },
  {
   "cell_type": "code",
   "execution_count": 59,
   "metadata": {
    "collapsed": true
   },
   "outputs": [
    {
     "data": {
      "text/plain": [
       "Text(0.5,1,'Casual Bike demand per hour')"
      ]
     },
     "execution_count": 59,
     "metadata": {},
     "output_type": "execute_result"
    },
    {
     "data": {
      "image/png": "[encoded data removed]",
      "text/plain": [
       "<matplotlib.figure.Figure at 0x1d859c2f160>"
      ]
     },
     "metadata": {},
     "output_type": "display_data"
    }
   ],
   "source": [
    "hourgroupby = train.groupby('hour').agg({'count':'mean','registered':'mean','casual':'mean','hour':'first'})\n",
    "\n",
    "f, axes = plt.subplots(3,1,figsize=(8,8),sharex=True)\n",
    "hourgroupby[['hour','count']].T.plot(kind='box',by='hour',ax=axes[0])\n",
    "axes[0].set_title('Total Bike demand per hour')\n",
    "hourgroupby[['hour','registered']].T.plot(kind='box',by='hour',ax=axes[1])\n",
    "axes[1].set_title('Registered Bike demand per hour')\n",
    "hourgroupby[['hour','casual']].T.plot(kind='box',by='hour',ax=axes[2])\n",
    "axes[2].set_title('Casual Bike demand per hour')"
   ]
  },
  {
   "cell_type": "markdown",
   "metadata": {},
   "source": [
    "<font color='#7B895B'>\n",
    "1. For casual rides the demand is high between 10 a.m. to 19. <br/>\n",
    "2. For Registered rides the demand is high between 7 to 9 and 16 to 19. <br/>\n",
    "3. The demand of casual rides is higher than registered between 10 to 16 <br/>\n",
    "4. The demand of causal immediately picks up after 20 till 23 during spring <br/>\n",
    "5. Light Rain weather has also the same effect on casual rides where demand increases during 20 till 24 <br/>\n",
    "6. For Weekends Registered bike demand shows similar distribution as that of causal users for hourly bike demand. <br/>\n",
    "</font>"
   ]
  },
  {
   "cell_type": "code",
   "execution_count": 37,
   "metadata": {
    "collapsed": true
   },
   "outputs": [
    {
     "data": {
      "text/plain": [
       "Text(0.5,1,'Casual Bike demand by day of week')"
      ]
     },
     "execution_count": 37,
     "metadata": {},
     "output_type": "execute_result"
    },
    {
     "data": {
      "image/png": "[encoded data removed]",
      "text/plain": [
       "<matplotlib.figure.Figure at 0x1d85317a6d8>"
      ]
     },
     "metadata": {},
     "output_type": "display_data"
    }
   ],
   "source": [
    "weekdaygroupby = train.groupby('weekday').agg({'count':'mean','registered':'mean','casual':'mean','weekday':'first'})\n",
    "\n",
    "f, axes = plt.subplots(3,1,figsize=(12,8),sharex=True)\n",
    "weekdaygroupby[['weekday','count']].T.plot(kind='box',by='weekday',ax=axes[0])\n",
    "axes[0].set_title('Total Bike demand by day of week')\n",
    "weekdaygroupby[['weekday','registered']].T.plot(kind='box',by='weekday',ax=axes[1])\n",
    "axes[1].set_title('Registered Bike demand by day of week')\n",
    "weekdaygroupby[['weekday','casual']].T.plot(kind='box',by='weekday',ax=axes[2])\n",
    "axes[2].set_title('Casual Bike demand by day of week')"
   ]
  },
  {
   "cell_type": "markdown",
   "metadata": {},
   "source": [
    "<font color='#7B895B'>\n",
    "1. Demand of registered bikes remains high during working days while remains a bit low on weekends <br/>\n",
    "2. Demand of causual bikes remains high on weekends while it remains a bit low on weekdays <br/>\n",
    "3. Weather or season doesn't look to have any effect on Bike demand for day of week distribution <br/>\n",
    "</font>"
   ]
  },
  {
   "cell_type": "code",
   "execution_count": 64,
   "metadata": {
    "collapsed": true
   },
   "outputs": [
    {
     "name": "stdout",
     "output_type": "stream",
     "text": [
      "       month       count     casual  registered\n",
      "month                                          \n",
      "1          1   90.366516   8.203620   82.162896\n",
      "2          2  110.003330  10.318535   99.684795\n",
      "3          3  148.169811  27.809101  120.360710\n",
      "4          4  184.160616  43.798680  140.361936\n",
      "5          5  219.459430  45.268640  174.190789\n",
      "6          6  242.031798  53.260965  188.770833\n",
      "7          7  235.325658  55.862939  179.462719\n",
      "8          8  234.118421  50.296053  183.822368\n",
      "9          9  233.805281  50.496150  183.309131\n",
      "10        10  227.699232  41.807903  185.891328\n",
      "11        11  193.677278  27.829857  165.847420\n",
      "12        12  175.614035  16.118421  159.495614\n"
     ]
    },
    {
     "data": {
      "text/plain": [
       "Text(0.5,1,'Casual Bike demand by month')"
      ]
     },
     "execution_count": 64,
     "metadata": {},
     "output_type": "execute_result"
    },
    {
     "data": {
      "image/png": "[encoded data removed]",
      "text/plain": [
       "<matplotlib.figure.Figure at 0x1d857da0d30>"
      ]
     },
     "metadata": {},
     "output_type": "display_data"
    }
   ],
   "source": [
    "monthgroupby = train.groupby('month').agg({'count':'mean','registered':'mean','casual':'mean','month':'first'})\n",
    "print(monthgroupby)\n",
    "f, axes = plt.subplots(2,1,figsize=(8,4),sharex=True)\n",
    "monthgroupby[['month','registered']].T.plot(kind='box',by='month',ax=axes[0])\n",
    "axes[0].set_title('Registered Bike demand by month')\n",
    "monthgroupby[['month','casual']].T.plot(kind='box',by='month',ax=axes[1])\n",
    "axes[1].set_title('Casual Bike demand by month')"
   ]
  },
  {
   "cell_type": "code",
   "execution_count": 65,
   "metadata": {
    "collapsed": true
   },
   "outputs": [
    {
     "name": "stdout",
     "output_type": "stream",
     "text": [
      "      year       count    casual  registered\n",
      "year                                        \n",
      "2011  2011  144.223349  28.73792  115.485430\n",
      "2012  2012  238.560944  43.25000  195.310944\n"
     ]
    },
    {
     "data": {
      "text/plain": [
       "Text(0.5,1,'Casual Bike demand by year')"
      ]
     },
     "execution_count": 65,
     "metadata": {},
     "output_type": "execute_result"
    },
    {
     "data": {
      "image/png": "[encoded data removed]",
      "text/plain": [
       "<matplotlib.figure.Figure at 0x1d85b4e99e8>"
      ]
     },
     "metadata": {},
     "output_type": "display_data"
    }
   ],
   "source": [
    "yeargroupby = train.groupby('year').agg({'count':'mean','registered':'mean','casual':'mean','year':'first'})\n",
    "print(yeargroupby)\n",
    "f, axes = plt.subplots(2,1,figsize=(12,8),sharex=True)\n",
    "yeargroupby[['year','registered']].T.plot(kind='box',by='year',ax=axes[0])\n",
    "axes[0].set_title('Registered Bike demand by year')\n",
    "yeargroupby[['year','casual']].T.plot(kind='box',by='year',ax=axes[1])\n",
    "axes[1].set_title('Casual Bike demand by year')"
   ]
  },
  {
   "cell_type": "markdown",
   "metadata": {},
   "source": [
    "<font color='#7B895B'>\n",
    "1. Bike demand remain very high during the months of May to October for registered user <br/>\n",
    "2. Bike demand remains comparable for months of November, December and April for registered users <br/>\n",
    "3. For Causual users the demand remains high between April to October with peak in July <br/>\n",
    "4. For Causual users the demand is negligible between months of December to Febrary <br/>\n",
    "5. Bike demand almost picked up by 75% in 2012 as compared to 2012 for both types of users <br/>\n",
    "</font>"
   ]
  },
  {
   "cell_type": "markdown",
   "metadata": {},
   "source": [
    "### <font color='#037367'>4. Distribution of various columns</font>"
   ]
  },
  {
   "cell_type": "markdown",
   "metadata": {},
   "source": [
    "### <font color='#037367'>5. Classifing Registered users using decision tree </font>"
   ]
  },
  {
   "cell_type": "code",
   "execution_count": 14,
   "metadata": {
    "collapsed": true
   },
   "outputs": [],
   "source": [
    "train['hour'] = train['hour'].astype(np.int16)"
   ]
  },
  {
   "cell_type": "code",
   "execution_count": 68,
   "metadata": {
    "collapsed": true
   },
   "outputs": [],
   "source": [
    "import graphviz;\n",
    "from sklearn import tree\n",
    "clf = tree.DecisionTreeRegressor(max_depth=6)\n",
    "clf = clf.fit(train[['hour']], train['registered'])"
   ]
  },
  {
   "cell_type": "code",
   "execution_count": 69,
   "metadata": {},
   "outputs": [
    {
     "data": {
      "image/svg+xml": [
       "<?xml version=\"1.0\" encoding=\"UTF-8\" standalone=\"no\"?>\r\n",
       "<!DOCTYPE svg PUBLIC \"-//W3C//DTD SVG 1.1//EN\"\r\n",
       " \"http://www.w3.org/Graphics/SVG/1.1/DTD/svg11.dtd\">\r\n",
       "<!-- Generated by graphviz version 2.38.0 (20140413.2041)\r\n",
       " -->\r\n",
       "<!-- Title: Tree Pages: 1 -->\r\n",
       "<svg width=\"1666pt\" height=\"685pt\"\r\n",
       " viewBox=\"0.00 0.00 1666.00 685.00\" xmlns=\"http://www.w3.org/2000/svg\" xmlns:xlink=\"http://www.w3.org/1999/xlink\">\r\n",
       "<g id=\"graph0\" class=\"graph\" transform=\"scale(1 1) rotate(0) translate(4 681)\">\r\n",
       "<title>Tree</title>\r\n",
       "<polygon fill=\"white\" stroke=\"none\" points=\"-4,4 -4,-681 1662,-681 1662,4 -4,4\"/>\r\n",
       "<!-- 0 -->\r\n",
       "<g id=\"node1\" class=\"node\"><title>0</title>\r\n",
       "<path fill=\"#e58139\" fill-opacity=\"0.388235\" stroke=\"black\" d=\"M940,-677C940,-677 834,-677 834,-677 828,-677 822,-671 822,-665 822,-665 822,-621 822,-621 822,-615 828,-609 834,-609 834,-609 940,-609 940,-609 946,-609 952,-615 952,-621 952,-621 952,-665 952,-665 952,-671 946,-677 940,-677\"/>\r\n",
       "<text text-anchor=\"start\" x=\"855\" y=\"-661.8\" font-family=\"Helvetica,sans-Serif\" font-size=\"14.00\">hour ≤ 7.5</text>\r\n",
       "<text text-anchor=\"start\" x=\"830\" y=\"-646.8\" font-family=\"Helvetica,sans-Serif\" font-size=\"14.00\">mse = 22810.694</text>\r\n",
       "<text text-anchor=\"start\" x=\"831\" y=\"-631.8\" font-family=\"Helvetica,sans-Serif\" font-size=\"14.00\">samples = 10886</text>\r\n",
       "<text text-anchor=\"start\" x=\"835.5\" y=\"-616.8\" font-family=\"Helvetica,sans-Serif\" font-size=\"14.00\">value = 155.552</text>\r\n",
       "</g>\r\n",
       "<!-- 1 -->\r\n",
       "<g id=\"node2\" class=\"node\"><title>1</title>\r\n",
       "<path fill=\"#e58139\" fill-opacity=\"0.058824\" stroke=\"black\" d=\"M806,-573C806,-573 708,-573 708,-573 702,-573 696,-567 696,-561 696,-561 696,-517 696,-517 696,-511 702,-505 708,-505 708,-505 806,-505 806,-505 812,-505 818,-511 818,-517 818,-517 818,-561 818,-561 818,-567 812,-573 806,-573\"/>\r\n",
       "<text text-anchor=\"start\" x=\"725\" y=\"-557.8\" font-family=\"Helvetica,sans-Serif\" font-size=\"14.00\">hour ≤ 6.5</text>\r\n",
       "<text text-anchor=\"start\" x=\"704\" y=\"-542.8\" font-family=\"Helvetica,sans-Serif\" font-size=\"14.00\">mse = 1273.556</text>\r\n",
       "<text text-anchor=\"start\" x=\"705.5\" y=\"-527.8\" font-family=\"Helvetica,sans-Serif\" font-size=\"14.00\">samples = 3139</text>\r\n",
       "<text text-anchor=\"start\" x=\"710\" y=\"-512.8\" font-family=\"Helvetica,sans-Serif\" font-size=\"14.00\">value = 28.099</text>\r\n",
       "</g>\r\n",
       "<!-- 0&#45;&gt;1 -->\r\n",
       "<g id=\"edge1\" class=\"edge\"><title>0&#45;&gt;1</title>\r\n",
       "<path fill=\"none\" stroke=\"black\" d=\"M844.793,-608.884C832.873,-599.531 819.781,-589.259 807.43,-579.568\"/>\r\n",
       "<polygon fill=\"black\" stroke=\"black\" points=\"809.468,-576.719 799.44,-573.299 805.147,-582.226 809.468,-576.719\"/>\r\n",
       "<text text-anchor=\"middle\" x=\"802.436\" y=\"-594.419\" font-family=\"Helvetica,sans-Serif\" font-size=\"14.00\">True</text>\r\n",
       "</g>\r\n",
       "<!-- 14 -->\r\n",
       "<g id=\"node15\" class=\"node\"><title>14</title>\r\n",
       "<path fill=\"#e58139\" fill-opacity=\"0.521569\" stroke=\"black\" d=\"M1070,-573C1070,-573 964,-573 964,-573 958,-573 952,-567 952,-561 952,-561 952,-517 952,-517 952,-511 958,-505 964,-505 964,-505 1070,-505 1070,-505 1076,-505 1082,-511 1082,-517 1082,-517 1082,-561 1082,-561 1082,-567 1076,-573 1070,-573\"/>\r\n",
       "<text text-anchor=\"start\" x=\"981\" y=\"-557.8\" font-family=\"Helvetica,sans-Serif\" font-size=\"14.00\">hour ≤ 21.5</text>\r\n",
       "<text text-anchor=\"start\" x=\"960\" y=\"-542.8\" font-family=\"Helvetica,sans-Serif\" font-size=\"14.00\">mse = 22288.292</text>\r\n",
       "<text text-anchor=\"start\" x=\"965.5\" y=\"-527.8\" font-family=\"Helvetica,sans-Serif\" font-size=\"14.00\">samples = 7747</text>\r\n",
       "<text text-anchor=\"start\" x=\"965.5\" y=\"-512.8\" font-family=\"Helvetica,sans-Serif\" font-size=\"14.00\">value = 207.195</text>\r\n",
       "</g>\r\n",
       "<!-- 0&#45;&gt;14 -->\r\n",
       "<g id=\"edge14\" class=\"edge\"><title>0&#45;&gt;14</title>\r\n",
       "<path fill=\"none\" stroke=\"black\" d=\"M929.207,-608.884C941.127,-599.531 954.219,-589.259 966.57,-579.568\"/>\r\n",
       "<polygon fill=\"black\" stroke=\"black\" points=\"968.853,-582.226 974.56,-573.299 964.532,-576.719 968.853,-582.226\"/>\r\n",
       "<text text-anchor=\"middle\" x=\"971.564\" y=\"-594.419\" font-family=\"Helvetica,sans-Serif\" font-size=\"14.00\">False</text>\r\n",
       "</g>\r\n",
       "<!-- 2 -->\r\n",
       "<g id=\"node3\" class=\"node\"><title>2</title>\r\n",
       "<path fill=\"#e58139\" fill-opacity=\"0.039216\" stroke=\"black\" d=\"M448.5,-469C448.5,-469 353.5,-469 353.5,-469 347.5,-469 341.5,-463 341.5,-457 341.5,-457 341.5,-413 341.5,-413 341.5,-407 347.5,-401 353.5,-401 353.5,-401 448.5,-401 448.5,-401 454.5,-401 460.5,-407 460.5,-413 460.5,-413 460.5,-457 460.5,-457 460.5,-463 454.5,-469 448.5,-469\"/>\r\n",
       "<text text-anchor=\"start\" x=\"369\" y=\"-453.8\" font-family=\"Helvetica,sans-Serif\" font-size=\"14.00\">hour ≤ 2.5</text>\r\n",
       "<text text-anchor=\"start\" x=\"352.5\" y=\"-438.8\" font-family=\"Helvetica,sans-Serif\" font-size=\"14.00\">mse = 625.536</text>\r\n",
       "<text text-anchor=\"start\" x=\"349.5\" y=\"-423.8\" font-family=\"Helvetica,sans-Serif\" font-size=\"14.00\">samples = 2684</text>\r\n",
       "<text text-anchor=\"start\" x=\"354\" y=\"-408.8\" font-family=\"Helvetica,sans-Serif\" font-size=\"14.00\">value = 20.638</text>\r\n",
       "</g>\r\n",
       "<!-- 1&#45;&gt;2 -->\r\n",
       "<g id=\"edge2\" class=\"edge\"><title>1&#45;&gt;2</title>\r\n",
       "<path fill=\"none\" stroke=\"black\" d=\"M695.801,-520.466C633.117,-502.505 535.832,-474.632 470.338,-455.867\"/>\r\n",
       "<polygon fill=\"black\" stroke=\"black\" points=\"471.089,-452.441 460.512,-453.051 469.161,-459.17 471.089,-452.441\"/>\r\n",
       "</g>\r\n",
       "<!-- 13 -->\r\n",
       "<g id=\"node14\" class=\"node\"><title>13</title>\r\n",
       "<path fill=\"#e58139\" fill-opacity=\"0.172549\" stroke=\"black\" d=\"M806,-461.5C806,-461.5 708,-461.5 708,-461.5 702,-461.5 696,-455.5 696,-449.5 696,-449.5 696,-420.5 696,-420.5 696,-414.5 702,-408.5 708,-408.5 708,-408.5 806,-408.5 806,-408.5 812,-408.5 818,-414.5 818,-420.5 818,-420.5 818,-449.5 818,-449.5 818,-455.5 812,-461.5 806,-461.5\"/>\r\n",
       "<text text-anchor=\"start\" x=\"704\" y=\"-446.3\" font-family=\"Helvetica,sans-Serif\" font-size=\"14.00\">mse = 2830.823</text>\r\n",
       "<text text-anchor=\"start\" x=\"709.5\" y=\"-431.3\" font-family=\"Helvetica,sans-Serif\" font-size=\"14.00\">samples = 455</text>\r\n",
       "<text text-anchor=\"start\" x=\"714\" y=\"-416.3\" font-family=\"Helvetica,sans-Serif\" font-size=\"14.00\">value = 72.11</text>\r\n",
       "</g>\r\n",
       "<!-- 1&#45;&gt;13 -->\r\n",
       "<g id=\"edge13\" class=\"edge\"><title>1&#45;&gt;13</title>\r\n",
       "<path fill=\"none\" stroke=\"black\" d=\"M757,-504.884C757,-494.326 757,-482.597 757,-471.854\"/>\r\n",
       "<polygon fill=\"black\" stroke=\"black\" points=\"760.5,-471.52 757,-461.52 753.5,-471.52 760.5,-471.52\"/>\r\n",
       "</g>\r\n",
       "<!-- 3 -->\r\n",
       "<g id=\"node4\" class=\"node\"><title>3</title>\r\n",
       "<path fill=\"#e58139\" fill-opacity=\"0.078431\" stroke=\"black\" d=\"M246,-365C246,-365 148,-365 148,-365 142,-365 136,-359 136,-353 136,-353 136,-309 136,-309 136,-303 142,-297 148,-297 148,-297 246,-297 246,-297 252,-297 258,-303 258,-309 258,-309 258,-353 258,-353 258,-359 252,-365 246,-365\"/>\r\n",
       "<text text-anchor=\"start\" x=\"165\" y=\"-349.8\" font-family=\"Helvetica,sans-Serif\" font-size=\"14.00\">hour ≤ 1.5</text>\r\n",
       "<text text-anchor=\"start\" x=\"144\" y=\"-334.8\" font-family=\"Helvetica,sans-Serif\" font-size=\"14.00\">mse = 1081.349</text>\r\n",
       "<text text-anchor=\"start\" x=\"149.5\" y=\"-319.8\" font-family=\"Helvetica,sans-Serif\" font-size=\"14.00\">samples = 909</text>\r\n",
       "<text text-anchor=\"start\" x=\"150\" y=\"-304.8\" font-family=\"Helvetica,sans-Serif\" font-size=\"14.00\">value = 36.096</text>\r\n",
       "</g>\r\n",
       "<!-- 2&#45;&gt;3 -->\r\n",
       "<g id=\"edge3\" class=\"edge\"><title>2&#45;&gt;3</title>\r\n",
       "<path fill=\"none\" stroke=\"black\" d=\"M341.446,-404.223C318.191,-392.596 291.354,-379.177 267.17,-367.085\"/>\r\n",
       "<polygon fill=\"black\" stroke=\"black\" points=\"268.553,-363.864 258.044,-362.522 265.423,-370.125 268.553,-363.864\"/>\r\n",
       "</g>\r\n",
       "<!-- 6 -->\r\n",
       "<g id=\"node7\" class=\"node\"><title>6</title>\r\n",
       "<path fill=\"#e58139\" fill-opacity=\"0.019608\" stroke=\"black\" d=\"M448.5,-365C448.5,-365 353.5,-365 353.5,-365 347.5,-365 341.5,-359 341.5,-353 341.5,-353 341.5,-309 341.5,-309 341.5,-303 347.5,-297 353.5,-297 353.5,-297 448.5,-297 448.5,-297 454.5,-297 460.5,-303 460.5,-309 460.5,-309 460.5,-353 460.5,-353 460.5,-359 454.5,-365 448.5,-365\"/>\r\n",
       "<text text-anchor=\"start\" x=\"369\" y=\"-349.8\" font-family=\"Helvetica,sans-Serif\" font-size=\"14.00\">hour ≤ 5.5</text>\r\n",
       "<text text-anchor=\"start\" x=\"352.5\" y=\"-334.8\" font-family=\"Helvetica,sans-Serif\" font-size=\"14.00\">mse = 207.075</text>\r\n",
       "<text text-anchor=\"start\" x=\"349.5\" y=\"-319.8\" font-family=\"Helvetica,sans-Serif\" font-size=\"14.00\">samples = 1775</text>\r\n",
       "<text text-anchor=\"start\" x=\"354\" y=\"-304.8\" font-family=\"Helvetica,sans-Serif\" font-size=\"14.00\">value = 12.722</text>\r\n",
       "</g>\r\n",
       "<!-- 2&#45;&gt;6 -->\r\n",
       "<g id=\"edge6\" class=\"edge\"><title>2&#45;&gt;6</title>\r\n",
       "<path fill=\"none\" stroke=\"black\" d=\"M401,-400.884C401,-392.778 401,-383.982 401,-375.472\"/>\r\n",
       "<polygon fill=\"black\" stroke=\"black\" points=\"404.5,-375.299 401,-365.299 397.5,-375.299 404.5,-375.299\"/>\r\n",
       "</g>\r\n",
       "<!-- 4 -->\r\n",
       "<g id=\"node5\" class=\"node\"><title>4</title>\r\n",
       "<path fill=\"#e58139\" fill-opacity=\"0.101961\" stroke=\"black\" d=\"M110,-253.5C110,-253.5 12,-253.5 12,-253.5 6,-253.5 7.10543e-015,-247.5 7.10543e-015,-241.5 7.10543e-015,-241.5 7.10543e-015,-212.5 7.10543e-015,-212.5 7.10543e-015,-206.5 6,-200.5 12,-200.5 12,-200.5 110,-200.5 110,-200.5 116,-200.5 122,-206.5 122,-212.5 122,-212.5 122,-241.5 122,-241.5 122,-247.5 116,-253.5 110,-253.5\"/>\r\n",
       "<text text-anchor=\"start\" x=\"8\" y=\"-238.3\" font-family=\"Helvetica,sans-Serif\" font-size=\"14.00\">mse = 1240.214</text>\r\n",
       "<text text-anchor=\"start\" x=\"13.5\" y=\"-223.3\" font-family=\"Helvetica,sans-Serif\" font-size=\"14.00\">samples = 455</text>\r\n",
       "<text text-anchor=\"start\" x=\"14\" y=\"-208.3\" font-family=\"Helvetica,sans-Serif\" font-size=\"14.00\">value = 44.826</text>\r\n",
       "</g>\r\n",
       "<!-- 3&#45;&gt;4 -->\r\n",
       "<g id=\"edge4\" class=\"edge\"><title>3&#45;&gt;4</title>\r\n",
       "<path fill=\"none\" stroke=\"black\" d=\"M152.845,-296.884C136.861,-284.896 118.865,-271.399 103.066,-259.549\"/>\r\n",
       "<polygon fill=\"black\" stroke=\"black\" points=\"105.127,-256.72 95.0266,-253.52 100.927,-262.32 105.127,-256.72\"/>\r\n",
       "</g>\r\n",
       "<!-- 5 -->\r\n",
       "<g id=\"node6\" class=\"node\"><title>5</title>\r\n",
       "<path fill=\"#e58139\" fill-opacity=\"0.058824\" stroke=\"black\" d=\"M241.5,-253.5C241.5,-253.5 152.5,-253.5 152.5,-253.5 146.5,-253.5 140.5,-247.5 140.5,-241.5 140.5,-241.5 140.5,-212.5 140.5,-212.5 140.5,-206.5 146.5,-200.5 152.5,-200.5 152.5,-200.5 241.5,-200.5 241.5,-200.5 247.5,-200.5 253.5,-206.5 253.5,-212.5 253.5,-212.5 253.5,-241.5 253.5,-241.5 253.5,-247.5 247.5,-253.5 241.5,-253.5\"/>\r\n",
       "<text text-anchor=\"start\" x=\"148.5\" y=\"-238.3\" font-family=\"Helvetica,sans-Serif\" font-size=\"14.00\">mse = 769.182</text>\r\n",
       "<text text-anchor=\"start\" x=\"149.5\" y=\"-223.3\" font-family=\"Helvetica,sans-Serif\" font-size=\"14.00\">samples = 454</text>\r\n",
       "<text text-anchor=\"start\" x=\"150\" y=\"-208.3\" font-family=\"Helvetica,sans-Serif\" font-size=\"14.00\">value = 27.346</text>\r\n",
       "</g>\r\n",
       "<!-- 3&#45;&gt;5 -->\r\n",
       "<g id=\"edge5\" class=\"edge\"><title>3&#45;&gt;5</title>\r\n",
       "<path fill=\"none\" stroke=\"black\" d=\"M197,-296.884C197,-286.326 197,-274.597 197,-263.854\"/>\r\n",
       "<polygon fill=\"black\" stroke=\"black\" points=\"200.5,-263.52 197,-253.52 193.5,-263.52 200.5,-263.52\"/>\r\n",
       "</g>\r\n",
       "<!-- 7 -->\r\n",
       "<g id=\"node8\" class=\"node\"><title>7</title>\r\n",
       "<path fill=\"#e58139\" fill-opacity=\"0.015686\" stroke=\"black\" d=\"M378.5,-261C378.5,-261 283.5,-261 283.5,-261 277.5,-261 271.5,-255 271.5,-249 271.5,-249 271.5,-205 271.5,-205 271.5,-199 277.5,-193 283.5,-193 283.5,-193 378.5,-193 378.5,-193 384.5,-193 390.5,-199 390.5,-205 390.5,-205 390.5,-249 390.5,-249 390.5,-255 384.5,-261 378.5,-261\"/>\r\n",
       "<text text-anchor=\"start\" x=\"299\" y=\"-245.8\" font-family=\"Helvetica,sans-Serif\" font-size=\"14.00\">hour ≤ 3.5</text>\r\n",
       "<text text-anchor=\"start\" x=\"282.5\" y=\"-230.8\" font-family=\"Helvetica,sans-Serif\" font-size=\"14.00\">mse = 212.591</text>\r\n",
       "<text text-anchor=\"start\" x=\"279.5\" y=\"-215.8\" font-family=\"Helvetica,sans-Serif\" font-size=\"14.00\">samples = 1323</text>\r\n",
       "<text text-anchor=\"start\" x=\"284\" y=\"-200.8\" font-family=\"Helvetica,sans-Serif\" font-size=\"14.00\">value = 10.812</text>\r\n",
       "</g>\r\n",
       "<!-- 6&#45;&gt;7 -->\r\n",
       "<g id=\"edge7\" class=\"edge\"><title>6&#45;&gt;7</title>\r\n",
       "<path fill=\"none\" stroke=\"black\" d=\"M378.273,-296.884C372.343,-288.243 365.876,-278.819 359.681,-269.793\"/>\r\n",
       "<polygon fill=\"black\" stroke=\"black\" points=\"362.397,-267.564 353.853,-261.299 356.625,-271.525 362.397,-267.564\"/>\r\n",
       "</g>\r\n",
       "<!-- 12 -->\r\n",
       "<g id=\"node13\" class=\"node\"><title>12</title>\r\n",
       "<path fill=\"#e58139\" fill-opacity=\"0.035294\" stroke=\"black\" d=\"M509.5,-253.5C509.5,-253.5 420.5,-253.5 420.5,-253.5 414.5,-253.5 408.5,-247.5 408.5,-241.5 408.5,-241.5 408.5,-212.5 408.5,-212.5 408.5,-206.5 414.5,-200.5 420.5,-200.5 420.5,-200.5 509.5,-200.5 509.5,-200.5 515.5,-200.5 521.5,-206.5 521.5,-212.5 521.5,-212.5 521.5,-241.5 521.5,-241.5 521.5,-247.5 515.5,-253.5 509.5,-253.5\"/>\r\n",
       "<text text-anchor=\"start\" x=\"416.5\" y=\"-238.3\" font-family=\"Helvetica,sans-Serif\" font-size=\"14.00\">mse = 149.002</text>\r\n",
       "<text text-anchor=\"start\" x=\"417.5\" y=\"-223.3\" font-family=\"Helvetica,sans-Serif\" font-size=\"14.00\">samples = 452</text>\r\n",
       "<text text-anchor=\"start\" x=\"418\" y=\"-208.3\" font-family=\"Helvetica,sans-Serif\" font-size=\"14.00\">value = 18.312</text>\r\n",
       "</g>\r\n",
       "<!-- 6&#45;&gt;12 -->\r\n",
       "<g id=\"edge12\" class=\"edge\"><title>6&#45;&gt;12</title>\r\n",
       "<path fill=\"none\" stroke=\"black\" d=\"M421.779,-296.884C428.749,-285.776 436.531,-273.372 443.551,-262.184\"/>\r\n",
       "<polygon fill=\"black\" stroke=\"black\" points=\"446.637,-263.851 448.987,-253.52 440.708,-260.13 446.637,-263.851\"/>\r\n",
       "</g>\r\n",
       "<!-- 8 -->\r\n",
       "<g id=\"node9\" class=\"node\"><title>8</title>\r\n",
       "<path fill=\"#e58139\" fill-opacity=\"0.031373\" stroke=\"black\" d=\"M245.5,-149.5C245.5,-149.5 156.5,-149.5 156.5,-149.5 150.5,-149.5 144.5,-143.5 144.5,-137.5 144.5,-137.5 144.5,-108.5 144.5,-108.5 144.5,-102.5 150.5,-96.5 156.5,-96.5 156.5,-96.5 245.5,-96.5 245.5,-96.5 251.5,-96.5 257.5,-102.5 257.5,-108.5 257.5,-108.5 257.5,-137.5 257.5,-137.5 257.5,-143.5 251.5,-149.5 245.5,-149.5\"/>\r\n",
       "<text text-anchor=\"start\" x=\"152.5\" y=\"-134.3\" font-family=\"Helvetica,sans-Serif\" font-size=\"14.00\">mse = 443.507</text>\r\n",
       "<text text-anchor=\"start\" x=\"153.5\" y=\"-119.3\" font-family=\"Helvetica,sans-Serif\" font-size=\"14.00\">samples = 448</text>\r\n",
       "<text text-anchor=\"start\" x=\"158\" y=\"-104.3\" font-family=\"Helvetica,sans-Serif\" font-size=\"14.00\">value = 18.08</text>\r\n",
       "</g>\r\n",
       "<!-- 7&#45;&gt;8 -->\r\n",
       "<g id=\"edge8\" class=\"edge\"><title>7&#45;&gt;8</title>\r\n",
       "<path fill=\"none\" stroke=\"black\" d=\"M288.793,-192.884C273.654,-181.006 256.628,-167.646 241.626,-155.876\"/>\r\n",
       "<polygon fill=\"black\" stroke=\"black\" points=\"243.553,-152.939 233.525,-149.52 239.232,-158.446 243.553,-152.939\"/>\r\n",
       "</g>\r\n",
       "<!-- 9 -->\r\n",
       "<g id=\"node10\" class=\"node\"><title>9</title>\r\n",
       "<path fill=\"#e58139\" fill-opacity=\"0.003922\" stroke=\"black\" d=\"M374.5,-157C374.5,-157 287.5,-157 287.5,-157 281.5,-157 275.5,-151 275.5,-145 275.5,-145 275.5,-101 275.5,-101 275.5,-95 281.5,-89 287.5,-89 287.5,-89 374.5,-89 374.5,-89 380.5,-89 386.5,-95 386.5,-101 386.5,-101 386.5,-145 386.5,-145 386.5,-151 380.5,-157 374.5,-157\"/>\r\n",
       "<text text-anchor=\"start\" x=\"299\" y=\"-141.8\" font-family=\"Helvetica,sans-Serif\" font-size=\"14.00\">hour ≤ 4.5</text>\r\n",
       "<text text-anchor=\"start\" x=\"286.5\" y=\"-126.8\" font-family=\"Helvetica,sans-Serif\" font-size=\"14.00\">mse = 53.463</text>\r\n",
       "<text text-anchor=\"start\" x=\"283.5\" y=\"-111.8\" font-family=\"Helvetica,sans-Serif\" font-size=\"14.00\">samples = 875</text>\r\n",
       "<text text-anchor=\"start\" x=\"292\" y=\"-96.8\" font-family=\"Helvetica,sans-Serif\" font-size=\"14.00\">value = 7.09</text>\r\n",
       "</g>\r\n",
       "<!-- 7&#45;&gt;9 -->\r\n",
       "<g id=\"edge9\" class=\"edge\"><title>7&#45;&gt;9</title>\r\n",
       "<path fill=\"none\" stroke=\"black\" d=\"M331,-192.884C331,-184.778 331,-175.982 331,-167.472\"/>\r\n",
       "<polygon fill=\"black\" stroke=\"black\" points=\"334.5,-167.299 331,-157.299 327.5,-167.299 334.5,-167.299\"/>\r\n",
       "</g>\r\n",
       "<!-- 10 -->\r\n",
       "<g id=\"node11\" class=\"node\"><title>10</title>\r\n",
       "<path fill=\"#e58139\" fill-opacity=\"0.011765\" stroke=\"black\" d=\"M310.5,-53C310.5,-53 223.5,-53 223.5,-53 217.5,-53 211.5,-47 211.5,-41 211.5,-41 211.5,-12 211.5,-12 211.5,-6 217.5,-0 223.5,-0 223.5,-0 310.5,-0 310.5,-0 316.5,-0 322.5,-6 322.5,-12 322.5,-12 322.5,-41 322.5,-41 322.5,-47 316.5,-53 310.5,-53\"/>\r\n",
       "<text text-anchor=\"start\" x=\"222.5\" y=\"-37.8\" font-family=\"Helvetica,sans-Serif\" font-size=\"14.00\">mse = 89.752</text>\r\n",
       "<text text-anchor=\"start\" x=\"219.5\" y=\"-22.8\" font-family=\"Helvetica,sans-Serif\" font-size=\"14.00\">samples = 433</text>\r\n",
       "<text text-anchor=\"start\" x=\"224\" y=\"-7.8\" font-family=\"Helvetica,sans-Serif\" font-size=\"14.00\">value = 9.076</text>\r\n",
       "</g>\r\n",
       "<!-- 9&#45;&gt;10 -->\r\n",
       "<g id=\"edge10\" class=\"edge\"><title>9&#45;&gt;10</title>\r\n",
       "<path fill=\"none\" stroke=\"black\" d=\"M308.616,-88.9485C302.606,-80.0749 296.098,-70.4648 290.053,-61.5388\"/>\r\n",
       "<polygon fill=\"black\" stroke=\"black\" points=\"292.936,-59.5539 284.43,-53.2367 287.14,-63.4792 292.936,-59.5539\"/>\r\n",
       "</g>\r\n",
       "<!-- 11 -->\r\n",
       "<g id=\"node12\" class=\"node\"><title>11</title>\r\n",
       "<path fill=\"none\" stroke=\"black\" d=\"M439.5,-53C439.5,-53 352.5,-53 352.5,-53 346.5,-53 340.5,-47 340.5,-41 340.5,-41 340.5,-12 340.5,-12 340.5,-6 346.5,-0 352.5,-0 352.5,-0 439.5,-0 439.5,-0 445.5,-0 451.5,-6 451.5,-12 451.5,-12 451.5,-41 451.5,-41 451.5,-47 445.5,-53 439.5,-53\"/>\r\n",
       "<text text-anchor=\"start\" x=\"351.5\" y=\"-37.8\" font-family=\"Helvetica,sans-Serif\" font-size=\"14.00\">mse = 10.264</text>\r\n",
       "<text text-anchor=\"start\" x=\"348.5\" y=\"-22.8\" font-family=\"Helvetica,sans-Serif\" font-size=\"14.00\">samples = 442</text>\r\n",
       "<text text-anchor=\"start\" x=\"353\" y=\"-7.8\" font-family=\"Helvetica,sans-Serif\" font-size=\"14.00\">value = 5.145</text>\r\n",
       "</g>\r\n",
       "<!-- 9&#45;&gt;11 -->\r\n",
       "<g id=\"edge11\" class=\"edge\"><title>9&#45;&gt;11</title>\r\n",
       "<path fill=\"none\" stroke=\"black\" d=\"M353.734,-88.9485C359.837,-80.0749 366.447,-70.4648 372.587,-61.5388\"/>\r\n",
       "<polygon fill=\"black\" stroke=\"black\" points=\"375.514,-63.4594 378.298,-53.2367 369.747,-59.4924 375.514,-63.4594\"/>\r\n",
       "</g>\r\n",
       "<!-- 15 -->\r\n",
       "<g id=\"node16\" class=\"node\"><title>15</title>\r\n",
       "<path fill=\"#e58139\" fill-opacity=\"0.572549\" stroke=\"black\" d=\"M1070,-469C1070,-469 964,-469 964,-469 958,-469 952,-463 952,-457 952,-457 952,-413 952,-413 952,-407 958,-401 964,-401 964,-401 1070,-401 1070,-401 1076,-401 1082,-407 1082,-413 1082,-413 1082,-457 1082,-457 1082,-463 1076,-469 1070,-469\"/>\r\n",
       "<text text-anchor=\"start\" x=\"981\" y=\"-453.8\" font-family=\"Helvetica,sans-Serif\" font-size=\"14.00\">hour ≤ 17.5</text>\r\n",
       "<text text-anchor=\"start\" x=\"960\" y=\"-438.8\" font-family=\"Helvetica,sans-Serif\" font-size=\"14.00\">mse = 23738.822</text>\r\n",
       "<text text-anchor=\"start\" x=\"965.5\" y=\"-423.8\" font-family=\"Helvetica,sans-Serif\" font-size=\"14.00\">samples = 6379</text>\r\n",
       "<text text-anchor=\"start\" x=\"965.5\" y=\"-408.8\" font-family=\"Helvetica,sans-Serif\" font-size=\"14.00\">value = 228.051</text>\r\n",
       "</g>\r\n",
       "<!-- 14&#45;&gt;15 -->\r\n",
       "<g id=\"edge15\" class=\"edge\"><title>14&#45;&gt;15</title>\r\n",
       "<path fill=\"none\" stroke=\"black\" d=\"M1017,-504.884C1017,-496.778 1017,-487.982 1017,-479.472\"/>\r\n",
       "<polygon fill=\"black\" stroke=\"black\" points=\"1020.5,-479.299 1017,-469.299 1013.5,-479.299 1020.5,-479.299\"/>\r\n",
       "</g>\r\n",
       "<!-- 32 -->\r\n",
       "<g id=\"node33\" class=\"node\"><title>32</title>\r\n",
       "<path fill=\"#e58139\" fill-opacity=\"0.270588\" stroke=\"black\" d=\"M1506,-469C1506,-469 1408,-469 1408,-469 1402,-469 1396,-463 1396,-457 1396,-457 1396,-413 1396,-413 1396,-407 1402,-401 1408,-401 1408,-401 1506,-401 1506,-401 1512,-401 1518,-407 1518,-413 1518,-413 1518,-457 1518,-457 1518,-463 1512,-469 1506,-469\"/>\r\n",
       "<text text-anchor=\"start\" x=\"1421\" y=\"-453.8\" font-family=\"Helvetica,sans-Serif\" font-size=\"14.00\">hour ≤ 23.5</text>\r\n",
       "<text text-anchor=\"start\" x=\"1404\" y=\"-438.8\" font-family=\"Helvetica,sans-Serif\" font-size=\"14.00\">mse = 4037.706</text>\r\n",
       "<text text-anchor=\"start\" x=\"1405.5\" y=\"-423.8\" font-family=\"Helvetica,sans-Serif\" font-size=\"14.00\">samples = 1368</text>\r\n",
       "<text text-anchor=\"start\" x=\"1405.5\" y=\"-408.8\" font-family=\"Helvetica,sans-Serif\" font-size=\"14.00\">value = 109.941</text>\r\n",
       "</g>\r\n",
       "<!-- 14&#45;&gt;32 -->\r\n",
       "<g id=\"edge32\" class=\"edge\"><title>14&#45;&gt;32</title>\r\n",
       "<path fill=\"none\" stroke=\"black\" d=\"M1082.4,-522.84C1163.72,-503.988 1302.02,-471.926 1385.91,-452.481\"/>\r\n",
       "<polygon fill=\"black\" stroke=\"black\" points=\"1386.91,-455.842 1395.86,-450.174 1385.33,-449.023 1386.91,-455.842\"/>\r\n",
       "</g>\r\n",
       "<!-- 16 -->\r\n",
       "<g id=\"node17\" class=\"node\"><title>16</title>\r\n",
       "<path fill=\"#e58139\" fill-opacity=\"0.494118\" stroke=\"black\" d=\"M887,-365C887,-365 781,-365 781,-365 775,-365 769,-359 769,-353 769,-353 769,-309 769,-309 769,-303 775,-297 781,-297 781,-297 887,-297 887,-297 893,-297 899,-303 899,-309 899,-309 899,-353 899,-353 899,-359 893,-365 887,-365\"/>\r\n",
       "<text text-anchor=\"start\" x=\"802\" y=\"-349.8\" font-family=\"Helvetica,sans-Serif\" font-size=\"14.00\">hour ≤ 9.5</text>\r\n",
       "<text text-anchor=\"start\" x=\"777\" y=\"-334.8\" font-family=\"Helvetica,sans-Serif\" font-size=\"14.00\">mse = 16296.601</text>\r\n",
       "<text text-anchor=\"start\" x=\"782.5\" y=\"-319.8\" font-family=\"Helvetica,sans-Serif\" font-size=\"14.00\">samples = 4555</text>\r\n",
       "<text text-anchor=\"start\" x=\"787\" y=\"-304.8\" font-family=\"Helvetica,sans-Serif\" font-size=\"14.00\">value = 197.16</text>\r\n",
       "</g>\r\n",
       "<!-- 15&#45;&gt;16 -->\r\n",
       "<g id=\"edge16\" class=\"edge\"><title>15&#45;&gt;16</title>\r\n",
       "<path fill=\"none\" stroke=\"black\" d=\"M957.585,-400.884C939.916,-391.035 920.42,-380.169 902.237,-370.034\"/>\r\n",
       "<polygon fill=\"black\" stroke=\"black\" points=\"903.869,-366.936 893.43,-365.125 900.46,-373.051 903.869,-366.936\"/>\r\n",
       "</g>\r\n",
       "<!-- 25 -->\r\n",
       "<g id=\"node26\" class=\"node\"><title>25</title>\r\n",
       "<path fill=\"#e58139\" fill-opacity=\"0.772549\" stroke=\"black\" d=\"M1144,-365C1144,-365 1038,-365 1038,-365 1032,-365 1026,-359 1026,-353 1026,-353 1026,-309 1026,-309 1026,-303 1032,-297 1038,-297 1038,-297 1144,-297 1144,-297 1150,-297 1156,-303 1156,-309 1156,-309 1156,-353 1156,-353 1156,-359 1150,-365 1144,-365\"/>\r\n",
       "<text text-anchor=\"start\" x=\"1055\" y=\"-349.8\" font-family=\"Helvetica,sans-Serif\" font-size=\"14.00\">hour ≤ 19.5</text>\r\n",
       "<text text-anchor=\"start\" x=\"1034\" y=\"-334.8\" font-family=\"Helvetica,sans-Serif\" font-size=\"14.00\">mse = 33989.975</text>\r\n",
       "<text text-anchor=\"start\" x=\"1039.5\" y=\"-319.8\" font-family=\"Helvetica,sans-Serif\" font-size=\"14.00\">samples = 1824</text>\r\n",
       "<text text-anchor=\"start\" x=\"1039.5\" y=\"-304.8\" font-family=\"Helvetica,sans-Serif\" font-size=\"14.00\">value = 305.194</text>\r\n",
       "</g>\r\n",
       "<!-- 15&#45;&gt;25 -->\r\n",
       "<g id=\"edge25\" class=\"edge\"><title>15&#45;&gt;25</title>\r\n",
       "<path fill=\"none\" stroke=\"black\" d=\"M1041.03,-400.884C1047.36,-392.154 1054.27,-382.625 1060.88,-373.514\"/>\r\n",
       "<polygon fill=\"black\" stroke=\"black\" points=\"1063.8,-375.449 1066.84,-365.299 1058.14,-371.338 1063.8,-375.449\"/>\r\n",
       "</g>\r\n",
       "<!-- 17 -->\r\n",
       "<g id=\"node18\" class=\"node\"><title>17</title>\r\n",
       "<path fill=\"#e58139\" fill-opacity=\"0.686275\" stroke=\"black\" d=\"M671,-261C671,-261 565,-261 565,-261 559,-261 553,-255 553,-249 553,-249 553,-205 553,-205 553,-199 559,-193 565,-193 565,-193 671,-193 671,-193 677,-193 683,-199 683,-205 683,-205 683,-249 683,-249 683,-255 677,-261 671,-261\"/>\r\n",
       "<text text-anchor=\"start\" x=\"586\" y=\"-245.8\" font-family=\"Helvetica,sans-Serif\" font-size=\"14.00\">hour ≤ 8.5</text>\r\n",
       "<text text-anchor=\"start\" x=\"561\" y=\"-230.8\" font-family=\"Helvetica,sans-Serif\" font-size=\"14.00\">mse = 42453.376</text>\r\n",
       "<text text-anchor=\"start\" x=\"570.5\" y=\"-215.8\" font-family=\"Helvetica,sans-Serif\" font-size=\"14.00\">samples = 910</text>\r\n",
       "<text text-anchor=\"start\" x=\"566.5\" y=\"-200.8\" font-family=\"Helvetica,sans-Serif\" font-size=\"14.00\">value = 271.714</text>\r\n",
       "</g>\r\n",
       "<!-- 16&#45;&gt;17 -->\r\n",
       "<g id=\"edge17\" class=\"edge\"><title>16&#45;&gt;17</title>\r\n",
       "<path fill=\"none\" stroke=\"black\" d=\"M768.9,-299.258C744.888,-287.919 717.498,-274.985 692.703,-263.276\"/>\r\n",
       "<polygon fill=\"black\" stroke=\"black\" points=\"693.876,-259.96 683.339,-258.855 690.887,-266.29 693.876,-259.96\"/>\r\n",
       "</g>\r\n",
       "<!-- 20 -->\r\n",
       "<g id=\"node21\" class=\"node\"><title>20</title>\r\n",
       "<path fill=\"#e58139\" fill-opacity=\"0.447059\" stroke=\"black\" d=\"M883,-261C883,-261 785,-261 785,-261 779,-261 773,-255 773,-249 773,-249 773,-205 773,-205 773,-199 779,-193 785,-193 785,-193 883,-193 883,-193 889,-193 895,-199 895,-205 895,-205 895,-249 895,-249 895,-255 889,-261 883,-261\"/>\r\n",
       "<text text-anchor=\"start\" x=\"798\" y=\"-245.8\" font-family=\"Helvetica,sans-Serif\" font-size=\"14.00\">hour ≤ 16.5</text>\r\n",
       "<text text-anchor=\"start\" x=\"781\" y=\"-230.8\" font-family=\"Helvetica,sans-Serif\" font-size=\"14.00\">mse = 8032.276</text>\r\n",
       "<text text-anchor=\"start\" x=\"782.5\" y=\"-215.8\" font-family=\"Helvetica,sans-Serif\" font-size=\"14.00\">samples = 3645</text>\r\n",
       "<text text-anchor=\"start\" x=\"782.5\" y=\"-200.8\" font-family=\"Helvetica,sans-Serif\" font-size=\"14.00\">value = 178.548</text>\r\n",
       "</g>\r\n",
       "<!-- 16&#45;&gt;20 -->\r\n",
       "<g id=\"edge20\" class=\"edge\"><title>16&#45;&gt;20</title>\r\n",
       "<path fill=\"none\" stroke=\"black\" d=\"M834,-296.884C834,-288.778 834,-279.982 834,-271.472\"/>\r\n",
       "<polygon fill=\"black\" stroke=\"black\" points=\"837.5,-271.299 834,-261.299 830.5,-271.299 837.5,-271.299\"/>\r\n",
       "</g>\r\n",
       "<!-- 18 -->\r\n",
       "<g id=\"node19\" class=\"node\"><title>18</title>\r\n",
       "<path fill=\"#e58139\" fill-opacity=\"0.505882\" stroke=\"black\" d=\"M523,-149.5C523,-149.5 417,-149.5 417,-149.5 411,-149.5 405,-143.5 405,-137.5 405,-137.5 405,-108.5 405,-108.5 405,-102.5 411,-96.5 417,-96.5 417,-96.5 523,-96.5 523,-96.5 529,-96.5 535,-102.5 535,-108.5 535,-108.5 535,-137.5 535,-137.5 535,-143.5 529,-149.5 523,-149.5\"/>\r\n",
       "<text text-anchor=\"start\" x=\"413\" y=\"-134.3\" font-family=\"Helvetica,sans-Serif\" font-size=\"14.00\">mse = 23998.979</text>\r\n",
       "<text text-anchor=\"start\" x=\"422.5\" y=\"-119.3\" font-family=\"Helvetica,sans-Serif\" font-size=\"14.00\">samples = 455</text>\r\n",
       "<text text-anchor=\"start\" x=\"418.5\" y=\"-104.3\" font-family=\"Helvetica,sans-Serif\" font-size=\"14.00\">value = 202.202</text>\r\n",
       "</g>\r\n",
       "<!-- 17&#45;&gt;18 -->\r\n",
       "<g id=\"edge18\" class=\"edge\"><title>17&#45;&gt;18</title>\r\n",
       "<path fill=\"none\" stroke=\"black\" d=\"M569.949,-192.884C552.395,-180.786 532.611,-167.151 515.305,-155.224\"/>\r\n",
       "<polygon fill=\"black\" stroke=\"black\" points=\"517.249,-152.313 507.029,-149.52 513.277,-158.077 517.249,-152.313\"/>\r\n",
       "</g>\r\n",
       "<!-- 19 -->\r\n",
       "<g id=\"node20\" class=\"node\"><title>19</title>\r\n",
       "<path fill=\"#e58139\" fill-opacity=\"0.866667\" stroke=\"black\" d=\"M671,-149.5C671,-149.5 565,-149.5 565,-149.5 559,-149.5 553,-143.5 553,-137.5 553,-137.5 553,-108.5 553,-108.5 553,-102.5 559,-96.5 565,-96.5 565,-96.5 671,-96.5 671,-96.5 677,-96.5 683,-102.5 683,-108.5 683,-108.5 683,-137.5 683,-137.5 683,-143.5 677,-149.5 671,-149.5\"/>\r\n",
       "<text text-anchor=\"start\" x=\"561\" y=\"-134.3\" font-family=\"Helvetica,sans-Serif\" font-size=\"14.00\">mse = 51243.911</text>\r\n",
       "<text text-anchor=\"start\" x=\"570.5\" y=\"-119.3\" font-family=\"Helvetica,sans-Serif\" font-size=\"14.00\">samples = 455</text>\r\n",
       "<text text-anchor=\"start\" x=\"566.5\" y=\"-104.3\" font-family=\"Helvetica,sans-Serif\" font-size=\"14.00\">value = 341.226</text>\r\n",
       "</g>\r\n",
       "<!-- 17&#45;&gt;19 -->\r\n",
       "<g id=\"edge19\" class=\"edge\"><title>17&#45;&gt;19</title>\r\n",
       "<path fill=\"none\" stroke=\"black\" d=\"M618,-192.884C618,-182.326 618,-170.597 618,-159.854\"/>\r\n",
       "<polygon fill=\"black\" stroke=\"black\" points=\"621.5,-159.52 618,-149.52 614.5,-159.52 621.5,-159.52\"/>\r\n",
       "</g>\r\n",
       "<!-- 21 -->\r\n",
       "<g id=\"node22\" class=\"node\"><title>21</title>\r\n",
       "<path fill=\"#e58139\" fill-opacity=\"0.423529\" stroke=\"black\" d=\"M811,-157C811,-157 713,-157 713,-157 707,-157 701,-151 701,-145 701,-145 701,-101 701,-101 701,-95 707,-89 713,-89 713,-89 811,-89 811,-89 817,-89 823,-95 823,-101 823,-101 823,-145 823,-145 823,-151 817,-157 811,-157\"/>\r\n",
       "<text text-anchor=\"start\" x=\"726\" y=\"-141.8\" font-family=\"Helvetica,sans-Serif\" font-size=\"14.00\">hour ≤ 12.5</text>\r\n",
       "<text text-anchor=\"start\" x=\"709\" y=\"-126.8\" font-family=\"Helvetica,sans-Serif\" font-size=\"14.00\">mse = 7095.594</text>\r\n",
       "<text text-anchor=\"start\" x=\"710.5\" y=\"-111.8\" font-family=\"Helvetica,sans-Serif\" font-size=\"14.00\">samples = 3189</text>\r\n",
       "<text text-anchor=\"start\" x=\"710.5\" y=\"-96.8\" font-family=\"Helvetica,sans-Serif\" font-size=\"14.00\">value = 169.576</text>\r\n",
       "</g>\r\n",
       "<!-- 20&#45;&gt;21 -->\r\n",
       "<g id=\"edge21\" class=\"edge\"><title>20&#45;&gt;21</title>\r\n",
       "<path fill=\"none\" stroke=\"black\" d=\"M810.624,-192.884C804.462,-184.154 797.735,-174.625 791.304,-165.514\"/>\r\n",
       "<polygon fill=\"black\" stroke=\"black\" points=\"794.132,-163.451 785.505,-157.299 788.413,-167.487 794.132,-163.451\"/>\r\n",
       "</g>\r\n",
       "<!-- 24 -->\r\n",
       "<g id=\"node25\" class=\"node\"><title>24</title>\r\n",
       "<path fill=\"#e58139\" fill-opacity=\"0.607843\" stroke=\"black\" d=\"M959,-149.5C959,-149.5 853,-149.5 853,-149.5 847,-149.5 841,-143.5 841,-137.5 841,-137.5 841,-108.5 841,-108.5 841,-102.5 847,-96.5 853,-96.5 853,-96.5 959,-96.5 959,-96.5 965,-96.5 971,-102.5 971,-108.5 971,-108.5 971,-137.5 971,-137.5 971,-143.5 965,-149.5 959,-149.5\"/>\r\n",
       "<text text-anchor=\"start\" x=\"849\" y=\"-134.3\" font-family=\"Helvetica,sans-Serif\" font-size=\"14.00\">mse = 10083.456</text>\r\n",
       "<text text-anchor=\"start\" x=\"858.5\" y=\"-119.3\" font-family=\"Helvetica,sans-Serif\" font-size=\"14.00\">samples = 456</text>\r\n",
       "<text text-anchor=\"start\" x=\"854.5\" y=\"-104.3\" font-family=\"Helvetica,sans-Serif\" font-size=\"14.00\">value = 241.289</text>\r\n",
       "</g>\r\n",
       "<!-- 20&#45;&gt;24 -->\r\n",
       "<g id=\"edge24\" class=\"edge\"><title>20&#45;&gt;24</title>\r\n",
       "<path fill=\"none\" stroke=\"black\" d=\"M857.376,-192.884C865.295,-181.666 874.146,-169.126 882.105,-157.852\"/>\r\n",
       "<polygon fill=\"black\" stroke=\"black\" points=\"885.078,-159.708 887.986,-149.52 879.36,-155.671 885.078,-159.708\"/>\r\n",
       "</g>\r\n",
       "<!-- 22 -->\r\n",
       "<g id=\"node23\" class=\"node\"><title>22</title>\r\n",
       "<path fill=\"#e58139\" fill-opacity=\"0.392157\" stroke=\"black\" d=\"M741,-53C741,-53 643,-53 643,-53 637,-53 631,-47 631,-41 631,-41 631,-12 631,-12 631,-6 637,-0 643,-0 643,-0 741,-0 741,-0 747,-0 753,-6 753,-12 753,-12 753,-41 753,-41 753,-47 747,-53 741,-53\"/>\r\n",
       "<text text-anchor=\"start\" x=\"639\" y=\"-37.8\" font-family=\"Helvetica,sans-Serif\" font-size=\"14.00\">mse = 6508.412</text>\r\n",
       "<text text-anchor=\"start\" x=\"640.5\" y=\"-22.8\" font-family=\"Helvetica,sans-Serif\" font-size=\"14.00\">samples = 1365</text>\r\n",
       "<text text-anchor=\"start\" x=\"640.5\" y=\"-7.8\" font-family=\"Helvetica,sans-Serif\" font-size=\"14.00\">value = 156.807</text>\r\n",
       "</g>\r\n",
       "<!-- 21&#45;&gt;22 -->\r\n",
       "<g id=\"edge22\" class=\"edge\"><title>21&#45;&gt;22</title>\r\n",
       "<path fill=\"none\" stroke=\"black\" d=\"M737.517,-88.9485C730.944,-80.0749 723.826,-70.4648 717.214,-61.5388\"/>\r\n",
       "<polygon fill=\"black\" stroke=\"black\" points=\"719.829,-59.189 711.064,-53.2367 714.204,-63.3556 719.829,-59.189\"/>\r\n",
       "</g>\r\n",
       "<!-- 23 -->\r\n",
       "<g id=\"node24\" class=\"node\"><title>23</title>\r\n",
       "<path fill=\"#e58139\" fill-opacity=\"0.447059\" stroke=\"black\" d=\"M881,-53C881,-53 783,-53 783,-53 777,-53 771,-47 771,-41 771,-41 771,-12 771,-12 771,-6 777,-0 783,-0 783,-0 881,-0 881,-0 887,-0 893,-6 893,-12 893,-12 893,-41 893,-41 893,-47 887,-53 881,-53\"/>\r\n",
       "<text text-anchor=\"start\" x=\"779\" y=\"-37.8\" font-family=\"Helvetica,sans-Serif\" font-size=\"14.00\">mse = 7321.669</text>\r\n",
       "<text text-anchor=\"start\" x=\"780.5\" y=\"-22.8\" font-family=\"Helvetica,sans-Serif\" font-size=\"14.00\">samples = 1824</text>\r\n",
       "<text text-anchor=\"start\" x=\"780.5\" y=\"-7.8\" font-family=\"Helvetica,sans-Serif\" font-size=\"14.00\">value = 179.132</text>\r\n",
       "</g>\r\n",
       "<!-- 21&#45;&gt;23 -->\r\n",
       "<g id=\"edge23\" class=\"edge\"><title>21&#45;&gt;23</title>\r\n",
       "<path fill=\"none\" stroke=\"black\" d=\"M786.483,-88.9485C793.056,-80.0749 800.174,-70.4648 806.786,-61.5388\"/>\r\n",
       "<polygon fill=\"black\" stroke=\"black\" points=\"809.796,-63.3556 812.936,-53.2367 804.171,-59.189 809.796,-63.3556\"/>\r\n",
       "</g>\r\n",
       "<!-- 26 -->\r\n",
       "<g id=\"node27\" class=\"node\"><title>26</title>\r\n",
       "<path fill=\"#e58139\" fill-opacity=\"0.968627\" stroke=\"black\" d=\"M1144,-261C1144,-261 1038,-261 1038,-261 1032,-261 1026,-255 1026,-249 1026,-249 1026,-205 1026,-205 1026,-199 1032,-193 1038,-193 1038,-193 1144,-193 1144,-193 1150,-193 1156,-199 1156,-205 1156,-205 1156,-249 1156,-249 1156,-255 1150,-261 1144,-261\"/>\r\n",
       "<text text-anchor=\"start\" x=\"1055\" y=\"-245.8\" font-family=\"Helvetica,sans-Serif\" font-size=\"14.00\">hour ≤ 18.5</text>\r\n",
       "<text text-anchor=\"start\" x=\"1034\" y=\"-230.8\" font-family=\"Helvetica,sans-Serif\" font-size=\"14.00\">mse = 41107.743</text>\r\n",
       "<text text-anchor=\"start\" x=\"1043.5\" y=\"-215.8\" font-family=\"Helvetica,sans-Serif\" font-size=\"14.00\">samples = 912</text>\r\n",
       "<text text-anchor=\"start\" x=\"1039.5\" y=\"-200.8\" font-family=\"Helvetica,sans-Serif\" font-size=\"14.00\">value = 381.394</text>\r\n",
       "</g>\r\n",
       "<!-- 25&#45;&gt;26 -->\r\n",
       "<g id=\"edge26\" class=\"edge\"><title>25&#45;&gt;26</title>\r\n",
       "<path fill=\"none\" stroke=\"black\" d=\"M1091,-296.884C1091,-288.778 1091,-279.982 1091,-271.472\"/>\r\n",
       "<polygon fill=\"black\" stroke=\"black\" points=\"1094.5,-271.299 1091,-261.299 1087.5,-271.299 1094.5,-271.299\"/>\r\n",
       "</g>\r\n",
       "<!-- 29 -->\r\n",
       "<g id=\"node30\" class=\"node\"><title>29</title>\r\n",
       "<path fill=\"#e58139\" fill-opacity=\"0.576471\" stroke=\"black\" d=\"M1366,-261C1366,-261 1260,-261 1260,-261 1254,-261 1248,-255 1248,-249 1248,-249 1248,-205 1248,-205 1248,-199 1254,-193 1260,-193 1260,-193 1366,-193 1366,-193 1372,-193 1378,-199 1378,-205 1378,-205 1378,-249 1378,-249 1378,-255 1372,-261 1366,-261\"/>\r\n",
       "<text text-anchor=\"start\" x=\"1277\" y=\"-245.8\" font-family=\"Helvetica,sans-Serif\" font-size=\"14.00\">hour ≤ 20.5</text>\r\n",
       "<text text-anchor=\"start\" x=\"1256\" y=\"-230.8\" font-family=\"Helvetica,sans-Serif\" font-size=\"14.00\">mse = 15259.462</text>\r\n",
       "<text text-anchor=\"start\" x=\"1265.5\" y=\"-215.8\" font-family=\"Helvetica,sans-Serif\" font-size=\"14.00\">samples = 912</text>\r\n",
       "<text text-anchor=\"start\" x=\"1261.5\" y=\"-200.8\" font-family=\"Helvetica,sans-Serif\" font-size=\"14.00\">value = 228.995</text>\r\n",
       "</g>\r\n",
       "<!-- 25&#45;&gt;29 -->\r\n",
       "<g id=\"edge29\" class=\"edge\"><title>25&#45;&gt;29</title>\r\n",
       "<path fill=\"none\" stroke=\"black\" d=\"M1156.11,-300.086C1181.97,-288.202 1211.87,-274.464 1238.59,-262.189\"/>\r\n",
       "<polygon fill=\"black\" stroke=\"black\" points=\"1240.27,-265.269 1247.89,-257.914 1237.35,-258.908 1240.27,-265.269\"/>\r\n",
       "</g>\r\n",
       "<!-- 27 -->\r\n",
       "<g id=\"node28\" class=\"node\"><title>27</title>\r\n",
       "<path fill=\"#e58139\" stroke=\"black\" d=\"M1107,-149.5C1107,-149.5 1001,-149.5 1001,-149.5 995,-149.5 989,-143.5 989,-137.5 989,-137.5 989,-108.5 989,-108.5 989,-102.5 995,-96.5 1001,-96.5 1001,-96.5 1107,-96.5 1107,-96.5 1113,-96.5 1119,-102.5 1119,-108.5 1119,-108.5 1119,-137.5 1119,-137.5 1119,-143.5 1113,-149.5 1107,-149.5\"/>\r\n",
       "<text text-anchor=\"start\" x=\"997\" y=\"-134.3\" font-family=\"Helvetica,sans-Serif\" font-size=\"14.00\">mse = 41715.079</text>\r\n",
       "<text text-anchor=\"start\" x=\"1006.5\" y=\"-119.3\" font-family=\"Helvetica,sans-Serif\" font-size=\"14.00\">samples = 456</text>\r\n",
       "<text text-anchor=\"start\" x=\"1002.5\" y=\"-104.3\" font-family=\"Helvetica,sans-Serif\" font-size=\"14.00\">value = 393.325</text>\r\n",
       "</g>\r\n",
       "<!-- 26&#45;&gt;27 -->\r\n",
       "<g id=\"edge27\" class=\"edge\"><title>26&#45;&gt;27</title>\r\n",
       "<path fill=\"none\" stroke=\"black\" d=\"M1078.99,-192.884C1075.08,-182.106 1070.73,-170.108 1066.76,-159.184\"/>\r\n",
       "<polygon fill=\"black\" stroke=\"black\" points=\"1069.96,-157.727 1063.26,-149.52 1063.38,-160.114 1069.96,-157.727\"/>\r\n",
       "</g>\r\n",
       "<!-- 28 -->\r\n",
       "<g id=\"node29\" class=\"node\"><title>28</title>\r\n",
       "<path fill=\"#e58139\" fill-opacity=\"0.937255\" stroke=\"black\" d=\"M1255,-149.5C1255,-149.5 1149,-149.5 1149,-149.5 1143,-149.5 1137,-143.5 1137,-137.5 1137,-137.5 1137,-108.5 1137,-108.5 1137,-102.5 1143,-96.5 1149,-96.5 1149,-96.5 1255,-96.5 1255,-96.5 1261,-96.5 1267,-102.5 1267,-108.5 1267,-108.5 1267,-137.5 1267,-137.5 1267,-143.5 1261,-149.5 1255,-149.5\"/>\r\n",
       "<text text-anchor=\"start\" x=\"1145\" y=\"-134.3\" font-family=\"Helvetica,sans-Serif\" font-size=\"14.00\">mse = 40215.714</text>\r\n",
       "<text text-anchor=\"start\" x=\"1154.5\" y=\"-119.3\" font-family=\"Helvetica,sans-Serif\" font-size=\"14.00\">samples = 456</text>\r\n",
       "<text text-anchor=\"start\" x=\"1150.5\" y=\"-104.3\" font-family=\"Helvetica,sans-Serif\" font-size=\"14.00\">value = 369.463</text>\r\n",
       "</g>\r\n",
       "<!-- 26&#45;&gt;28 -->\r\n",
       "<g id=\"edge28\" class=\"edge\"><title>26&#45;&gt;28</title>\r\n",
       "<path fill=\"none\" stroke=\"black\" d=\"M1127.04,-192.884C1139.72,-181.226 1153.96,-168.141 1166.6,-156.532\"/>\r\n",
       "<polygon fill=\"black\" stroke=\"black\" points=\"1169.23,-158.863 1174.23,-149.52 1164.5,-153.709 1169.23,-158.863\"/>\r\n",
       "</g>\r\n",
       "<!-- 30 -->\r\n",
       "<g id=\"node31\" class=\"node\"><title>30</title>\r\n",
       "<path fill=\"#e58139\" fill-opacity=\"0.670588\" stroke=\"black\" d=\"M1403,-149.5C1403,-149.5 1297,-149.5 1297,-149.5 1291,-149.5 1285,-143.5 1285,-137.5 1285,-137.5 1285,-108.5 1285,-108.5 1285,-102.5 1291,-96.5 1297,-96.5 1297,-96.5 1403,-96.5 1403,-96.5 1409,-96.5 1415,-102.5 1415,-108.5 1415,-108.5 1415,-137.5 1415,-137.5 1415,-143.5 1409,-149.5 1403,-149.5\"/>\r\n",
       "<text text-anchor=\"start\" x=\"1293\" y=\"-134.3\" font-family=\"Helvetica,sans-Serif\" font-size=\"14.00\">mse = 18228.566</text>\r\n",
       "<text text-anchor=\"start\" x=\"1302.5\" y=\"-119.3\" font-family=\"Helvetica,sans-Serif\" font-size=\"14.00\">samples = 456</text>\r\n",
       "<text text-anchor=\"start\" x=\"1298.5\" y=\"-104.3\" font-family=\"Helvetica,sans-Serif\" font-size=\"14.00\">value = 266.204</text>\r\n",
       "</g>\r\n",
       "<!-- 29&#45;&gt;30 -->\r\n",
       "<g id=\"edge30\" class=\"edge\"><title>29&#45;&gt;30</title>\r\n",
       "<path fill=\"none\" stroke=\"black\" d=\"M1325.01,-192.884C1328.92,-182.106 1333.27,-170.108 1337.24,-159.184\"/>\r\n",
       "<polygon fill=\"black\" stroke=\"black\" points=\"1340.62,-160.114 1340.74,-149.52 1334.04,-157.727 1340.62,-160.114\"/>\r\n",
       "</g>\r\n",
       "<!-- 31 -->\r\n",
       "<g id=\"node32\" class=\"node\"><title>31</title>\r\n",
       "<path fill=\"#e58139\" fill-opacity=\"0.482353\" stroke=\"black\" d=\"M1543,-149.5C1543,-149.5 1445,-149.5 1445,-149.5 1439,-149.5 1433,-143.5 1433,-137.5 1433,-137.5 1433,-108.5 1433,-108.5 1433,-102.5 1439,-96.5 1445,-96.5 1445,-96.5 1543,-96.5 1543,-96.5 1549,-96.5 1555,-102.5 1555,-108.5 1555,-108.5 1555,-137.5 1555,-137.5 1555,-143.5 1549,-149.5 1543,-149.5\"/>\r\n",
       "<text text-anchor=\"start\" x=\"1441\" y=\"-134.3\" font-family=\"Helvetica,sans-Serif\" font-size=\"14.00\">mse = 9521.274</text>\r\n",
       "<text text-anchor=\"start\" x=\"1446.5\" y=\"-119.3\" font-family=\"Helvetica,sans-Serif\" font-size=\"14.00\">samples = 456</text>\r\n",
       "<text text-anchor=\"start\" x=\"1442.5\" y=\"-104.3\" font-family=\"Helvetica,sans-Serif\" font-size=\"14.00\">value = 191.785</text>\r\n",
       "</g>\r\n",
       "<!-- 29&#45;&gt;31 -->\r\n",
       "<g id=\"edge31\" class=\"edge\"><title>29&#45;&gt;31</title>\r\n",
       "<path fill=\"none\" stroke=\"black\" d=\"M1371.77,-192.884C1393.62,-180.566 1418.31,-166.655 1439.74,-154.575\"/>\r\n",
       "<polygon fill=\"black\" stroke=\"black\" points=\"1441.72,-157.479 1448.71,-149.52 1438.28,-151.38 1441.72,-157.479\"/>\r\n",
       "</g>\r\n",
       "<!-- 33 -->\r\n",
       "<g id=\"node34\" class=\"node\"><title>33</title>\r\n",
       "<path fill=\"#e58139\" fill-opacity=\"0.317647\" stroke=\"black\" d=\"M1506,-365C1506,-365 1408,-365 1408,-365 1402,-365 1396,-359 1396,-353 1396,-353 1396,-309 1396,-309 1396,-303 1402,-297 1408,-297 1408,-297 1506,-297 1506,-297 1512,-297 1518,-303 1518,-309 1518,-309 1518,-353 1518,-353 1518,-359 1512,-365 1506,-365\"/>\r\n",
       "<text text-anchor=\"start\" x=\"1421\" y=\"-349.8\" font-family=\"Helvetica,sans-Serif\" font-size=\"14.00\">hour ≤ 22.5</text>\r\n",
       "<text text-anchor=\"start\" x=\"1404\" y=\"-334.8\" font-family=\"Helvetica,sans-Serif\" font-size=\"14.00\">mse = 4251.257</text>\r\n",
       "<text text-anchor=\"start\" x=\"1409.5\" y=\"-319.8\" font-family=\"Helvetica,sans-Serif\" font-size=\"14.00\">samples = 912</text>\r\n",
       "<text text-anchor=\"start\" x=\"1405.5\" y=\"-304.8\" font-family=\"Helvetica,sans-Serif\" font-size=\"14.00\">value = 127.888</text>\r\n",
       "</g>\r\n",
       "<!-- 32&#45;&gt;33 -->\r\n",
       "<g id=\"edge33\" class=\"edge\"><title>32&#45;&gt;33</title>\r\n",
       "<path fill=\"none\" stroke=\"black\" d=\"M1457,-400.884C1457,-392.778 1457,-383.982 1457,-375.472\"/>\r\n",
       "<polygon fill=\"black\" stroke=\"black\" points=\"1460.5,-375.299 1457,-365.299 1453.5,-375.299 1460.5,-375.299\"/>\r\n",
       "</g>\r\n",
       "<!-- 36 -->\r\n",
       "<g id=\"node37\" class=\"node\"><title>36</title>\r\n",
       "<path fill=\"#e58139\" fill-opacity=\"0.176471\" stroke=\"black\" d=\"M1646,-357.5C1646,-357.5 1548,-357.5 1548,-357.5 1542,-357.5 1536,-351.5 1536,-345.5 1536,-345.5 1536,-316.5 1536,-316.5 1536,-310.5 1542,-304.5 1548,-304.5 1548,-304.5 1646,-304.5 1646,-304.5 1652,-304.5 1658,-310.5 1658,-316.5 1658,-316.5 1658,-345.5 1658,-345.5 1658,-351.5 1652,-357.5 1646,-357.5\"/>\r\n",
       "<text text-anchor=\"start\" x=\"1544\" y=\"-342.3\" font-family=\"Helvetica,sans-Serif\" font-size=\"14.00\">mse = 1677.956</text>\r\n",
       "<text text-anchor=\"start\" x=\"1549.5\" y=\"-327.3\" font-family=\"Helvetica,sans-Serif\" font-size=\"14.00\">samples = 456</text>\r\n",
       "<text text-anchor=\"start\" x=\"1550\" y=\"-312.3\" font-family=\"Helvetica,sans-Serif\" font-size=\"14.00\">value = 74.046</text>\r\n",
       "</g>\r\n",
       "<!-- 32&#45;&gt;36 -->\r\n",
       "<g id=\"edge36\" class=\"edge\"><title>32&#45;&gt;36</title>\r\n",
       "<path fill=\"none\" stroke=\"black\" d=\"M1502.45,-400.884C1518.91,-388.896 1537.43,-375.399 1553.7,-363.549\"/>\r\n",
       "<polygon fill=\"black\" stroke=\"black\" points=\"1555.95,-366.237 1561.97,-357.52 1551.83,-360.58 1555.95,-366.237\"/>\r\n",
       "</g>\r\n",
       "<!-- 34 -->\r\n",
       "<g id=\"node35\" class=\"node\"><title>34</title>\r\n",
       "<path fill=\"#e58139\" fill-opacity=\"0.360784\" stroke=\"black\" d=\"M1506,-253.5C1506,-253.5 1408,-253.5 1408,-253.5 1402,-253.5 1396,-247.5 1396,-241.5 1396,-241.5 1396,-212.5 1396,-212.5 1396,-206.5 1402,-200.5 1408,-200.5 1408,-200.5 1506,-200.5 1506,-200.5 1512,-200.5 1518,-206.5 1518,-212.5 1518,-212.5 1518,-241.5 1518,-241.5 1518,-247.5 1512,-253.5 1506,-253.5\"/>\r\n",
       "<text text-anchor=\"start\" x=\"1404\" y=\"-238.3\" font-family=\"Helvetica,sans-Serif\" font-size=\"14.00\">mse = 4967.768</text>\r\n",
       "<text text-anchor=\"start\" x=\"1409.5\" y=\"-223.3\" font-family=\"Helvetica,sans-Serif\" font-size=\"14.00\">samples = 456</text>\r\n",
       "<text text-anchor=\"start\" x=\"1405.5\" y=\"-208.3\" font-family=\"Helvetica,sans-Serif\" font-size=\"14.00\">value = 144.803</text>\r\n",
       "</g>\r\n",
       "<!-- 33&#45;&gt;34 -->\r\n",
       "<g id=\"edge34\" class=\"edge\"><title>33&#45;&gt;34</title>\r\n",
       "<path fill=\"none\" stroke=\"black\" d=\"M1457,-296.884C1457,-286.326 1457,-274.597 1457,-263.854\"/>\r\n",
       "<polygon fill=\"black\" stroke=\"black\" points=\"1460.5,-263.52 1457,-253.52 1453.5,-263.52 1460.5,-263.52\"/>\r\n",
       "</g>\r\n",
       "<!-- 35 -->\r\n",
       "<g id=\"node36\" class=\"node\"><title>35</title>\r\n",
       "<path fill=\"#e58139\" fill-opacity=\"0.274510\" stroke=\"black\" d=\"M1646,-253.5C1646,-253.5 1548,-253.5 1548,-253.5 1542,-253.5 1536,-247.5 1536,-241.5 1536,-241.5 1536,-212.5 1536,-212.5 1536,-206.5 1542,-200.5 1548,-200.5 1548,-200.5 1646,-200.5 1646,-200.5 1652,-200.5 1658,-206.5 1658,-212.5 1658,-212.5 1658,-241.5 1658,-241.5 1658,-247.5 1652,-253.5 1646,-253.5\"/>\r\n",
       "<text text-anchor=\"start\" x=\"1544\" y=\"-238.3\" font-family=\"Helvetica,sans-Serif\" font-size=\"14.00\">mse = 2962.548</text>\r\n",
       "<text text-anchor=\"start\" x=\"1549.5\" y=\"-223.3\" font-family=\"Helvetica,sans-Serif\" font-size=\"14.00\">samples = 456</text>\r\n",
       "<text text-anchor=\"start\" x=\"1545.5\" y=\"-208.3\" font-family=\"Helvetica,sans-Serif\" font-size=\"14.00\">value = 110.974</text>\r\n",
       "</g>\r\n",
       "<!-- 33&#45;&gt;35 -->\r\n",
       "<g id=\"edge35\" class=\"edge\"><title>33&#45;&gt;35</title>\r\n",
       "<path fill=\"none\" stroke=\"black\" d=\"M1502.45,-296.884C1518.91,-284.896 1537.43,-271.399 1553.7,-259.549\"/>\r\n",
       "<polygon fill=\"black\" stroke=\"black\" points=\"1555.95,-262.237 1561.97,-253.52 1551.83,-256.58 1555.95,-262.237\"/>\r\n",
       "</g>\r\n",
       "</g>\r\n",
       "</svg>\r\n"
      ],
      "text/plain": [
       "<graphviz.files.Source at 0x2c74814abe0>"
      ]
     },
     "execution_count": 69,
     "metadata": {},
     "output_type": "execute_result"
    }
   ],
   "source": [
    "dot_data = tree.export_graphviz(clf, out_file=None, \n",
    "                         feature_names=train[['hour']].columns,  \n",
    "                         filled=True, rounded=True,  \n",
    "                         special_characters=True) \n",
    "graph = graphviz.Source(dot_data)\n",
    "graph "
   ]
  },
  {
   "cell_type": "markdown",
   "metadata": {},
   "source": [
    "# <font color='#00281F'>3. Data Cleaning and Missing value treatment</font> "
   ]
  },
  {
   "cell_type": "markdown",
   "metadata": {},
   "source": [
    "# <font color='#00281F'>4. Feature Engineering</font> "
   ]
  },
  {
   "cell_type": "code",
   "execution_count": 38,
   "metadata": {
    "collapsed": true
   },
   "outputs": [],
   "source": [
    "train['hour'] = train['hour'] + 1;\n",
    "data['hour'] = data['hour'] + 1;"
   ]
  },
  {
   "cell_type": "code",
   "execution_count": 39,
   "metadata": {
    "collapsed": true
   },
   "outputs": [],
   "source": [
    "train['dp_reg'] = 0;\n",
    "train.loc[train['hour']<8,'dp_reg'] = 1\n",
    "train.loc[train['hour']>21,'dp_reg'] = 2\n",
    "train.loc[(train['hour']>8) & (train['hour']<19),'dp_reg'] = 3\n",
    "train.loc[train['hour']==8,'dp_reg'] = 4\n",
    "train.loc[train['hour']==9,'dp_reg'] = 5\n",
    "train.loc[(train['hour']==20) & (train['hour']==21),'dp_reg'] = 6\n",
    "train.loc[(train['hour']==18) & (train['hour']==19),'dp_reg'] = 7\n",
    "\n",
    "data['dp_reg'] = 0;\n",
    "data.loc[data['hour']<8,'dp_reg'] = 1\n",
    "data.loc[data['hour']>21,'dp_reg'] = 2\n",
    "data.loc[(data['hour']>8) & (data['hour']<19),'dp_reg'] = 3\n",
    "data.loc[data['hour']==8,'dp_reg'] = 4\n",
    "data.loc[data['hour']==9,'dp_reg'] = 5\n",
    "data.loc[(data['hour']==20) & (data['hour']==21),'dp_reg'] = 6\n",
    "data.loc[(data['hour']==18) & (data['hour']==19),'dp_reg'] = 7"
   ]
  },
  {
   "cell_type": "code",
   "execution_count": 40,
   "metadata": {
    "collapsed": true
   },
   "outputs": [],
   "source": [
    "train['yp_gp'] = 0;\n",
    "train.loc[train['year']==2011,'yp_gp'] = 1\n",
    "train.loc[(train['year']==2011) & (train['month']>3),'yp_gp'] = 2\n",
    "train.loc[(train['year']==2011) & (train['month']>6),'yp_gp'] = 3\n",
    "train.loc[(train['year']==2011) & (train['month']>9),'yp_gp'] = 4\n",
    "train.loc[train['year']==2012,'yp_gp'] = 5\n",
    "train.loc[(train['year']==2012) & (train['month']>3),'yp_gp'] = 6\n",
    "train.loc[(train['year']==2012) & (train['month']>6),'yp_gp'] = 7\n",
    "train.loc[(train['year']==2012) & (train['month']>9),'yp_gp'] = 8\n",
    "\n",
    "data['yp_gp'] = 0;\n",
    "data.loc[data['year']==2011,'yp_gp'] = 1\n",
    "data.loc[(data['year']==2011) & (data['month']>3),'yp_gp'] = 2\n",
    "data.loc[(data['year']==2011) & (data['month']>6),'yp_gp'] = 3\n",
    "data.loc[(data['year']==2011) & (data['month']>9),'yp_gp'] = 4\n",
    "data.loc[data['year']==2012,'yp_gp'] = 5\n",
    "data.loc[(data['year']==2012) & (data['month']>3),'yp_gp'] = 6\n",
    "data.loc[(data['year']==2012) & (data['month']>6),'yp_gp'] = 7\n",
    "data.loc[(data['year']==2012) & (data['month']>9),'yp_gp'] = 8"
   ]
  },
  {
   "cell_type": "code",
   "execution_count": 41,
   "metadata": {
    "collapsed": true
   },
   "outputs": [],
   "source": [
    "train['day_type'] = 'workingday';\n",
    "train.loc[(train['holiday']==0) & (train['workingday']==0),'day_type'] = \"weekend\"\n",
    "train.loc[(train['holiday']==1),'day_type'] = 'holiday'\n",
    "train.loc[(train['holiday']==0) & (train['workingday']==1),'day_type'] = 'workingday';\n",
    "\n",
    "data['day_type'] = 'workingday';\n",
    "data.loc[(data['holiday']==0) & (data['workingday']==0),'day_type'] = \"weekend\"\n",
    "data.loc[(data['holiday']==1),'day_type'] = 'holiday'\n",
    "data.loc[(data['holiday']==0) & (data['workingday']==1),'day_type'] = 'workingday';\n",
    "\n",
    "train['day_type'] = train['day_type'].astype('category')\n",
    "data['day_type'] = data['day_type'].astype('category')"
   ]
  },
  {
   "cell_type": "code",
   "execution_count": 42,
   "metadata": {
    "collapsed": true
   },
   "outputs": [],
   "source": [
    "train['casual'] = train['casual'].apply(lambda x:np.log(x+1))\n",
    "train['registered'] = train['registered'].apply(lambda x:np.log(x+1))\n",
    "train['count'] = train['count'].apply(lambda x:np.log(x+1))\n",
    "\n",
    "data['casual'] = data['casual'].apply(lambda x:np.log(x+1))\n",
    "data['registered'] = data['registered'].apply(lambda x:np.log(x+1))\n",
    "data['count'] = data['count'].apply(lambda x:np.log(x+1))"
   ]
  },
  {
   "cell_type": "code",
   "execution_count": 25,
   "metadata": {},
   "outputs": [
    {
     "name": "stdout",
     "output_type": "stream",
     "text": [
      "0.0\n",
      "0.0\n"
     ]
    }
   ],
   "source": [
    "a = np.log(0+1)\n",
    "print(a)\n",
    "b = np.exp(a)\n",
    "print(b-1)"
   ]
  },
  {
   "cell_type": "markdown",
   "metadata": {},
   "source": [
    "# <font color='#00281F'>5. Predictive Modelling</font>  "
   ]
  },
  {
   "cell_type": "code",
   "execution_count": 55,
   "metadata": {
    "collapsed": true
   },
   "outputs": [
    {
     "data": {
      "text/plain": [
       "datetime      datetime64[ns]\n",
       "season                 int64\n",
       "weather                int64\n",
       "workingday             uint8\n",
       "holiday                uint8\n",
       "temp                 float32\n",
       "atemp                float32\n",
       "windspeed            float32\n",
       "humidity               uint8\n",
       "casual               float64\n",
       "registered           float64\n",
       "count                float64\n",
       "hour                   int64\n",
       "weekday                int64\n",
       "month                  int64\n",
       "year                   int64\n",
       "dp_reg                 int64\n",
       "yp_gp                  int64\n",
       "day_type               int64\n",
       "dtype: object"
      ]
     },
     "execution_count": 55,
     "metadata": {},
     "output_type": "execute_result"
    }
   ],
   "source": [
    "data.dtypes"
   ]
  },
  {
   "cell_type": "code",
   "execution_count": 54,
   "metadata": {
    "collapsed": true
   },
   "outputs": [],
   "source": [
    "from sklearn.preprocessing import LabelEncoder\n",
    "var_mod = ['season','weather','day_type']\n",
    "le = LabelEncoder()\n",
    "for i in var_mod:\n",
    "    data[i] = le.fit_transform(data[i])"
   ]
  },
  {
   "cell_type": "code",
   "execution_count": 56,
   "metadata": {
    "collapsed": true
   },
   "outputs": [],
   "source": [
    "data = pd.get_dummies(data, columns=['season','weather','day_type'])"
   ]
  },
  {
   "cell_type": "code",
   "execution_count": 80,
   "metadata": {
    "collapsed": true
   },
   "outputs": [],
   "source": [
    "train = data[data['count'].notnull()]\n",
    "test = data[data['count'].isnull()]"
   ]
  },
  {
   "cell_type": "code",
   "execution_count": 83,
   "metadata": {},
   "outputs": [
    {
     "name": "stderr",
     "output_type": "stream",
     "text": [
      "C:\\Users\\Inspiron\\Anaconda3\\envs\\tensorflow\\lib\\site-packages\\pandas\\core\\indexing.py:537: SettingWithCopyWarning: \n",
      "A value is trying to be set on a copy of a slice from a DataFrame.\n",
      "Try using .loc[row_indexer,col_indexer] = value instead\n",
      "\n",
      "See the caveats in the documentation: http://pandas.pydata.org/pandas-docs/stable/indexing.html#indexing-view-versus-copy\n",
      "  self.obj[item] = s\n",
      "C:\\Users\\Inspiron\\Anaconda3\\envs\\tensorflow\\lib\\site-packages\\ipykernel_launcher.py:3: SettingWithCopyWarning: \n",
      "A value is trying to be set on a copy of a slice from a DataFrame.\n",
      "Try using .loc[row_indexer,col_indexer] = value instead\n",
      "\n",
      "See the caveats in the documentation: http://pandas.pydata.org/pandas-docs/stable/indexing.html#indexing-view-versus-copy\n",
      "  This is separate from the ipykernel package so we can avoid doing imports until\n"
     ]
    }
   ],
   "source": [
    "for col in ['casual','registered','count']:\n",
    "    test.loc[test[col].isnull(),col] = 0.0;\n",
    "    test[col] = test[col].astype(np.float32) \n"
   ]
  },
  {
   "cell_type": "code",
   "execution_count": 67,
   "metadata": {
    "collapsed": true
   },
   "outputs": [],
   "source": [
    "from sklearn import cross_validation, metrics\n",
    "def classificationModel(model,dtrain,dtest,predictors,target):\n",
    "    model.fit(dtrain[predictors],dtrain[target])\n",
    "    predictions = model.predict(dtrain[predictors])\n",
    "    \n",
    "    #Perform cross validation\n",
    "    cv_score = cross_validation.cross_val_score(model,dtrain[predictors],dtrain[target],cv=20,scoring='mean_squared_error')\n",
    "    cv_score = np.sqrt(np.abs(cv_score))\n",
    "    \n",
    "    #Print model report:\n",
    "    print(\"\\nModel Report\")\n",
    "    print(\"RMSE : %.4g\" % np.sqrt(metrics.mean_squared_error(dtrain[target].values, predictions)))\n",
    "    print(\"CV Score : Mean - %.4g | Std - %.4g | Min - %.4g | Max - %.4g\" % (np.mean(cv_score),np.std(cv_score),np.min(cv_score),np.max(cv_score)))\n",
    "    \n",
    "    #Predict on testing data:\n",
    "    dtest[target] = model.predict(dtest[predictors])"
   ]
  },
  {
   "cell_type": "code",
   "execution_count": 85,
   "metadata": {},
   "outputs": [
    {
     "name": "stdout",
     "output_type": "stream",
     "text": [
      "['workingday', 'holiday', 'temp', 'atemp', 'windspeed', 'humidity', 'hour', 'weekday', 'month', 'year', 'dp_reg', 'yp_gp', 'season_0', 'season_1', 'season_2', 'season_3', 'weather_0', 'weather_1', 'weather_2', 'weather_3', 'day_type_0', 'day_type_1', 'day_type_2']\n"
     ]
    }
   ],
   "source": [
    "idColumn = ['datetime']\n",
    "dependentColumn = ['casual','registered','count']\n",
    "predictors = [i for i in data.columns if i not in dependentColumn + idColumn]\n",
    "print(predictors)"
   ]
  },
  {
   "cell_type": "code",
   "execution_count": 86,
   "metadata": {},
   "outputs": [
    {
     "name": "stderr",
     "output_type": "stream",
     "text": [
      "C:\\Users\\Inspiron\\Anaconda3\\envs\\tensorflow\\lib\\site-packages\\ipykernel_launcher.py:3: DataConversionWarning: A column-vector y was passed when a 1d array was expected. Please change the shape of y to (n_samples,), for example using ravel().\n",
      "  This is separate from the ipykernel package so we can avoid doing imports until\n",
      "C:\\Users\\Inspiron\\Anaconda3\\envs\\tensorflow\\lib\\site-packages\\sklearn\\cross_validation.py:1675: DataConversionWarning: A column-vector y was passed when a 1d array was expected. Please change the shape of y to (n_samples,), for example using ravel().\n",
      "  estimator.fit(X_train, y_train, **fit_params)\n",
      "C:\\Users\\Inspiron\\Anaconda3\\envs\\tensorflow\\lib\\site-packages\\sklearn\\metrics\\scorer.py:100: DeprecationWarning: Scoring method mean_squared_error was renamed to neg_mean_squared_error in version 0.18 and will be removed in 0.20.\n",
      "  sample_weight=sample_weight)\n",
      "C:\\Users\\Inspiron\\Anaconda3\\envs\\tensorflow\\lib\\site-packages\\sklearn\\cross_validation.py:1675: DataConversionWarning: A column-vector y was passed when a 1d array was expected. Please change the shape of y to (n_samples,), for example using ravel().\n",
      "  estimator.fit(X_train, y_train, **fit_params)\n",
      "C:\\Users\\Inspiron\\Anaconda3\\envs\\tensorflow\\lib\\site-packages\\sklearn\\metrics\\scorer.py:100: DeprecationWarning: Scoring method mean_squared_error was renamed to neg_mean_squared_error in version 0.18 and will be removed in 0.20.\n",
      "  sample_weight=sample_weight)\n",
      "C:\\Users\\Inspiron\\Anaconda3\\envs\\tensorflow\\lib\\site-packages\\sklearn\\cross_validation.py:1675: DataConversionWarning: A column-vector y was passed when a 1d array was expected. Please change the shape of y to (n_samples,), for example using ravel().\n",
      "  estimator.fit(X_train, y_train, **fit_params)\n",
      "C:\\Users\\Inspiron\\Anaconda3\\envs\\tensorflow\\lib\\site-packages\\sklearn\\metrics\\scorer.py:100: DeprecationWarning: Scoring method mean_squared_error was renamed to neg_mean_squared_error in version 0.18 and will be removed in 0.20.\n",
      "  sample_weight=sample_weight)\n",
      "C:\\Users\\Inspiron\\Anaconda3\\envs\\tensorflow\\lib\\site-packages\\sklearn\\cross_validation.py:1675: DataConversionWarning: A column-vector y was passed when a 1d array was expected. Please change the shape of y to (n_samples,), for example using ravel().\n",
      "  estimator.fit(X_train, y_train, **fit_params)\n",
      "C:\\Users\\Inspiron\\Anaconda3\\envs\\tensorflow\\lib\\site-packages\\sklearn\\metrics\\scorer.py:100: DeprecationWarning: Scoring method mean_squared_error was renamed to neg_mean_squared_error in version 0.18 and will be removed in 0.20.\n",
      "  sample_weight=sample_weight)\n",
      "C:\\Users\\Inspiron\\Anaconda3\\envs\\tensorflow\\lib\\site-packages\\sklearn\\cross_validation.py:1675: DataConversionWarning: A column-vector y was passed when a 1d array was expected. Please change the shape of y to (n_samples,), for example using ravel().\n",
      "  estimator.fit(X_train, y_train, **fit_params)\n",
      "C:\\Users\\Inspiron\\Anaconda3\\envs\\tensorflow\\lib\\site-packages\\sklearn\\metrics\\scorer.py:100: DeprecationWarning: Scoring method mean_squared_error was renamed to neg_mean_squared_error in version 0.18 and will be removed in 0.20.\n",
      "  sample_weight=sample_weight)\n",
      "C:\\Users\\Inspiron\\Anaconda3\\envs\\tensorflow\\lib\\site-packages\\sklearn\\cross_validation.py:1675: DataConversionWarning: A column-vector y was passed when a 1d array was expected. Please change the shape of y to (n_samples,), for example using ravel().\n",
      "  estimator.fit(X_train, y_train, **fit_params)\n",
      "C:\\Users\\Inspiron\\Anaconda3\\envs\\tensorflow\\lib\\site-packages\\sklearn\\metrics\\scorer.py:100: DeprecationWarning: Scoring method mean_squared_error was renamed to neg_mean_squared_error in version 0.18 and will be removed in 0.20.\n",
      "  sample_weight=sample_weight)\n",
      "C:\\Users\\Inspiron\\Anaconda3\\envs\\tensorflow\\lib\\site-packages\\sklearn\\cross_validation.py:1675: DataConversionWarning: A column-vector y was passed when a 1d array was expected. Please change the shape of y to (n_samples,), for example using ravel().\n",
      "  estimator.fit(X_train, y_train, **fit_params)\n",
      "C:\\Users\\Inspiron\\Anaconda3\\envs\\tensorflow\\lib\\site-packages\\sklearn\\metrics\\scorer.py:100: DeprecationWarning: Scoring method mean_squared_error was renamed to neg_mean_squared_error in version 0.18 and will be removed in 0.20.\n",
      "  sample_weight=sample_weight)\n",
      "C:\\Users\\Inspiron\\Anaconda3\\envs\\tensorflow\\lib\\site-packages\\sklearn\\cross_validation.py:1675: DataConversionWarning: A column-vector y was passed when a 1d array was expected. Please change the shape of y to (n_samples,), for example using ravel().\n",
      "  estimator.fit(X_train, y_train, **fit_params)\n",
      "C:\\Users\\Inspiron\\Anaconda3\\envs\\tensorflow\\lib\\site-packages\\sklearn\\metrics\\scorer.py:100: DeprecationWarning: Scoring method mean_squared_error was renamed to neg_mean_squared_error in version 0.18 and will be removed in 0.20.\n",
      "  sample_weight=sample_weight)\n",
      "C:\\Users\\Inspiron\\Anaconda3\\envs\\tensorflow\\lib\\site-packages\\sklearn\\cross_validation.py:1675: DataConversionWarning: A column-vector y was passed when a 1d array was expected. Please change the shape of y to (n_samples,), for example using ravel().\n",
      "  estimator.fit(X_train, y_train, **fit_params)\n",
      "C:\\Users\\Inspiron\\Anaconda3\\envs\\tensorflow\\lib\\site-packages\\sklearn\\metrics\\scorer.py:100: DeprecationWarning: Scoring method mean_squared_error was renamed to neg_mean_squared_error in version 0.18 and will be removed in 0.20.\n",
      "  sample_weight=sample_weight)\n",
      "C:\\Users\\Inspiron\\Anaconda3\\envs\\tensorflow\\lib\\site-packages\\sklearn\\cross_validation.py:1675: DataConversionWarning: A column-vector y was passed when a 1d array was expected. Please change the shape of y to (n_samples,), for example using ravel().\n",
      "  estimator.fit(X_train, y_train, **fit_params)\n",
      "C:\\Users\\Inspiron\\Anaconda3\\envs\\tensorflow\\lib\\site-packages\\sklearn\\metrics\\scorer.py:100: DeprecationWarning: Scoring method mean_squared_error was renamed to neg_mean_squared_error in version 0.18 and will be removed in 0.20.\n",
      "  sample_weight=sample_weight)\n",
      "C:\\Users\\Inspiron\\Anaconda3\\envs\\tensorflow\\lib\\site-packages\\sklearn\\cross_validation.py:1675: DataConversionWarning: A column-vector y was passed when a 1d array was expected. Please change the shape of y to (n_samples,), for example using ravel().\n",
      "  estimator.fit(X_train, y_train, **fit_params)\n",
      "C:\\Users\\Inspiron\\Anaconda3\\envs\\tensorflow\\lib\\site-packages\\sklearn\\metrics\\scorer.py:100: DeprecationWarning: Scoring method mean_squared_error was renamed to neg_mean_squared_error in version 0.18 and will be removed in 0.20.\n",
      "  sample_weight=sample_weight)\n",
      "C:\\Users\\Inspiron\\Anaconda3\\envs\\tensorflow\\lib\\site-packages\\sklearn\\cross_validation.py:1675: DataConversionWarning: A column-vector y was passed when a 1d array was expected. Please change the shape of y to (n_samples,), for example using ravel().\n",
      "  estimator.fit(X_train, y_train, **fit_params)\n",
      "C:\\Users\\Inspiron\\Anaconda3\\envs\\tensorflow\\lib\\site-packages\\sklearn\\metrics\\scorer.py:100: DeprecationWarning: Scoring method mean_squared_error was renamed to neg_mean_squared_error in version 0.18 and will be removed in 0.20.\n",
      "  sample_weight=sample_weight)\n",
      "C:\\Users\\Inspiron\\Anaconda3\\envs\\tensorflow\\lib\\site-packages\\sklearn\\cross_validation.py:1675: DataConversionWarning: A column-vector y was passed when a 1d array was expected. Please change the shape of y to (n_samples,), for example using ravel().\n",
      "  estimator.fit(X_train, y_train, **fit_params)\n",
      "C:\\Users\\Inspiron\\Anaconda3\\envs\\tensorflow\\lib\\site-packages\\sklearn\\metrics\\scorer.py:100: DeprecationWarning: Scoring method mean_squared_error was renamed to neg_mean_squared_error in version 0.18 and will be removed in 0.20.\n",
      "  sample_weight=sample_weight)\n",
      "C:\\Users\\Inspiron\\Anaconda3\\envs\\tensorflow\\lib\\site-packages\\sklearn\\cross_validation.py:1675: DataConversionWarning: A column-vector y was passed when a 1d array was expected. Please change the shape of y to (n_samples,), for example using ravel().\n",
      "  estimator.fit(X_train, y_train, **fit_params)\n",
      "C:\\Users\\Inspiron\\Anaconda3\\envs\\tensorflow\\lib\\site-packages\\sklearn\\metrics\\scorer.py:100: DeprecationWarning: Scoring method mean_squared_error was renamed to neg_mean_squared_error in version 0.18 and will be removed in 0.20.\n",
      "  sample_weight=sample_weight)\n",
      "C:\\Users\\Inspiron\\Anaconda3\\envs\\tensorflow\\lib\\site-packages\\sklearn\\cross_validation.py:1675: DataConversionWarning: A column-vector y was passed when a 1d array was expected. Please change the shape of y to (n_samples,), for example using ravel().\n",
      "  estimator.fit(X_train, y_train, **fit_params)\n"
     ]
    },
    {
     "name": "stderr",
     "output_type": "stream",
     "text": [
      "C:\\Users\\Inspiron\\Anaconda3\\envs\\tensorflow\\lib\\site-packages\\sklearn\\metrics\\scorer.py:100: DeprecationWarning: Scoring method mean_squared_error was renamed to neg_mean_squared_error in version 0.18 and will be removed in 0.20.\n",
      "  sample_weight=sample_weight)\n",
      "C:\\Users\\Inspiron\\Anaconda3\\envs\\tensorflow\\lib\\site-packages\\sklearn\\cross_validation.py:1675: DataConversionWarning: A column-vector y was passed when a 1d array was expected. Please change the shape of y to (n_samples,), for example using ravel().\n",
      "  estimator.fit(X_train, y_train, **fit_params)\n",
      "C:\\Users\\Inspiron\\Anaconda3\\envs\\tensorflow\\lib\\site-packages\\sklearn\\metrics\\scorer.py:100: DeprecationWarning: Scoring method mean_squared_error was renamed to neg_mean_squared_error in version 0.18 and will be removed in 0.20.\n",
      "  sample_weight=sample_weight)\n",
      "C:\\Users\\Inspiron\\Anaconda3\\envs\\tensorflow\\lib\\site-packages\\sklearn\\cross_validation.py:1675: DataConversionWarning: A column-vector y was passed when a 1d array was expected. Please change the shape of y to (n_samples,), for example using ravel().\n",
      "  estimator.fit(X_train, y_train, **fit_params)\n",
      "C:\\Users\\Inspiron\\Anaconda3\\envs\\tensorflow\\lib\\site-packages\\sklearn\\metrics\\scorer.py:100: DeprecationWarning: Scoring method mean_squared_error was renamed to neg_mean_squared_error in version 0.18 and will be removed in 0.20.\n",
      "  sample_weight=sample_weight)\n",
      "C:\\Users\\Inspiron\\Anaconda3\\envs\\tensorflow\\lib\\site-packages\\sklearn\\cross_validation.py:1675: DataConversionWarning: A column-vector y was passed when a 1d array was expected. Please change the shape of y to (n_samples,), for example using ravel().\n",
      "  estimator.fit(X_train, y_train, **fit_params)\n",
      "C:\\Users\\Inspiron\\Anaconda3\\envs\\tensorflow\\lib\\site-packages\\sklearn\\metrics\\scorer.py:100: DeprecationWarning: Scoring method mean_squared_error was renamed to neg_mean_squared_error in version 0.18 and will be removed in 0.20.\n",
      "  sample_weight=sample_weight)\n",
      "C:\\Users\\Inspiron\\Anaconda3\\envs\\tensorflow\\lib\\site-packages\\sklearn\\cross_validation.py:1675: DataConversionWarning: A column-vector y was passed when a 1d array was expected. Please change the shape of y to (n_samples,), for example using ravel().\n",
      "  estimator.fit(X_train, y_train, **fit_params)\n",
      "C:\\Users\\Inspiron\\Anaconda3\\envs\\tensorflow\\lib\\site-packages\\sklearn\\metrics\\scorer.py:100: DeprecationWarning: Scoring method mean_squared_error was renamed to neg_mean_squared_error in version 0.18 and will be removed in 0.20.\n",
      "  sample_weight=sample_weight)\n",
      "C:\\Users\\Inspiron\\Anaconda3\\envs\\tensorflow\\lib\\site-packages\\sklearn\\cross_validation.py:1675: DataConversionWarning: A column-vector y was passed when a 1d array was expected. Please change the shape of y to (n_samples,), for example using ravel().\n",
      "  estimator.fit(X_train, y_train, **fit_params)\n",
      "C:\\Users\\Inspiron\\Anaconda3\\envs\\tensorflow\\lib\\site-packages\\sklearn\\metrics\\scorer.py:100: DeprecationWarning: Scoring method mean_squared_error was renamed to neg_mean_squared_error in version 0.18 and will be removed in 0.20.\n",
      "  sample_weight=sample_weight)\n"
     ]
    },
    {
     "name": "stdout",
     "output_type": "stream",
     "text": [
      "\n",
      "Model Report\n",
      "RMSE : 0.6387\n",
      "CV Score : Mean - 0.6745 | Std - 0.09622 | Min - 0.5244 | Max - 0.9476\n"
     ]
    },
    {
     "name": "stderr",
     "output_type": "stream",
     "text": [
      "C:\\Users\\Inspiron\\Anaconda3\\envs\\tensorflow\\lib\\site-packages\\ipykernel_launcher.py:16: SettingWithCopyWarning: \n",
      "A value is trying to be set on a copy of a slice from a DataFrame.\n",
      "Try using .loc[row_indexer,col_indexer] = value instead\n",
      "\n",
      "See the caveats in the documentation: http://pandas.pydata.org/pandas-docs/stable/indexing.html#indexing-view-versus-copy\n",
      "  app.launch_new_instance()\n",
      "C:\\Users\\Inspiron\\Anaconda3\\envs\\tensorflow\\lib\\site-packages\\pandas\\core\\indexing.py:537: SettingWithCopyWarning: \n",
      "A value is trying to be set on a copy of a slice from a DataFrame.\n",
      "Try using .loc[row_indexer,col_indexer] = value instead\n",
      "\n",
      "See the caveats in the documentation: http://pandas.pydata.org/pandas-docs/stable/indexing.html#indexing-view-versus-copy\n",
      "  self.obj[item] = s\n"
     ]
    },
    {
     "data": {
      "text/plain": [
       "<matplotlib.axes._subplots.AxesSubplot at 0x2a275842470>"
      ]
     },
     "execution_count": 86,
     "metadata": {},
     "output_type": "execute_result"
    },
    {
     "data": {
      "image/png": "[encoded data removed]",
      "text/plain": [
       "<matplotlib.figure.Figure at 0x2a275842668>"
      ]
     },
     "metadata": {},
     "output_type": "display_data"
    }
   ],
   "source": [
    "from sklearn.ensemble import RandomForestRegressor\n",
    "target = ['casual']\n",
    "alg5 = RandomForestRegressor(n_estimators=200,max_depth=5, min_samples_leaf=100,n_jobs=4)\n",
    "classificationModel(alg5, train, test, predictors, target)\n",
    "coef5 = pd.Series(alg5.feature_importances_, predictors).sort_values(ascending=False)\n",
    "coef5.plot(kind='bar', title='Feature Importances')"
   ]
  },
  {
   "cell_type": "code",
   "execution_count": 87,
   "metadata": {},
   "outputs": [
    {
     "name": "stderr",
     "output_type": "stream",
     "text": [
      "C:\\Users\\Inspiron\\Anaconda3\\envs\\tensorflow\\lib\\site-packages\\ipykernel_launcher.py:3: DataConversionWarning: A column-vector y was passed when a 1d array was expected. Please change the shape of y to (n_samples,), for example using ravel().\n",
      "  This is separate from the ipykernel package so we can avoid doing imports until\n",
      "C:\\Users\\Inspiron\\Anaconda3\\envs\\tensorflow\\lib\\site-packages\\sklearn\\cross_validation.py:1675: DataConversionWarning: A column-vector y was passed when a 1d array was expected. Please change the shape of y to (n_samples,), for example using ravel().\n",
      "  estimator.fit(X_train, y_train, **fit_params)\n",
      "C:\\Users\\Inspiron\\Anaconda3\\envs\\tensorflow\\lib\\site-packages\\sklearn\\metrics\\scorer.py:100: DeprecationWarning: Scoring method mean_squared_error was renamed to neg_mean_squared_error in version 0.18 and will be removed in 0.20.\n",
      "  sample_weight=sample_weight)\n",
      "C:\\Users\\Inspiron\\Anaconda3\\envs\\tensorflow\\lib\\site-packages\\sklearn\\cross_validation.py:1675: DataConversionWarning: A column-vector y was passed when a 1d array was expected. Please change the shape of y to (n_samples,), for example using ravel().\n",
      "  estimator.fit(X_train, y_train, **fit_params)\n",
      "C:\\Users\\Inspiron\\Anaconda3\\envs\\tensorflow\\lib\\site-packages\\sklearn\\metrics\\scorer.py:100: DeprecationWarning: Scoring method mean_squared_error was renamed to neg_mean_squared_error in version 0.18 and will be removed in 0.20.\n",
      "  sample_weight=sample_weight)\n",
      "C:\\Users\\Inspiron\\Anaconda3\\envs\\tensorflow\\lib\\site-packages\\sklearn\\cross_validation.py:1675: DataConversionWarning: A column-vector y was passed when a 1d array was expected. Please change the shape of y to (n_samples,), for example using ravel().\n",
      "  estimator.fit(X_train, y_train, **fit_params)\n",
      "C:\\Users\\Inspiron\\Anaconda3\\envs\\tensorflow\\lib\\site-packages\\sklearn\\metrics\\scorer.py:100: DeprecationWarning: Scoring method mean_squared_error was renamed to neg_mean_squared_error in version 0.18 and will be removed in 0.20.\n",
      "  sample_weight=sample_weight)\n",
      "C:\\Users\\Inspiron\\Anaconda3\\envs\\tensorflow\\lib\\site-packages\\sklearn\\cross_validation.py:1675: DataConversionWarning: A column-vector y was passed when a 1d array was expected. Please change the shape of y to (n_samples,), for example using ravel().\n",
      "  estimator.fit(X_train, y_train, **fit_params)\n",
      "C:\\Users\\Inspiron\\Anaconda3\\envs\\tensorflow\\lib\\site-packages\\sklearn\\metrics\\scorer.py:100: DeprecationWarning: Scoring method mean_squared_error was renamed to neg_mean_squared_error in version 0.18 and will be removed in 0.20.\n",
      "  sample_weight=sample_weight)\n",
      "C:\\Users\\Inspiron\\Anaconda3\\envs\\tensorflow\\lib\\site-packages\\sklearn\\cross_validation.py:1675: DataConversionWarning: A column-vector y was passed when a 1d array was expected. Please change the shape of y to (n_samples,), for example using ravel().\n",
      "  estimator.fit(X_train, y_train, **fit_params)\n",
      "C:\\Users\\Inspiron\\Anaconda3\\envs\\tensorflow\\lib\\site-packages\\sklearn\\metrics\\scorer.py:100: DeprecationWarning: Scoring method mean_squared_error was renamed to neg_mean_squared_error in version 0.18 and will be removed in 0.20.\n",
      "  sample_weight=sample_weight)\n",
      "C:\\Users\\Inspiron\\Anaconda3\\envs\\tensorflow\\lib\\site-packages\\sklearn\\cross_validation.py:1675: DataConversionWarning: A column-vector y was passed when a 1d array was expected. Please change the shape of y to (n_samples,), for example using ravel().\n",
      "  estimator.fit(X_train, y_train, **fit_params)\n",
      "C:\\Users\\Inspiron\\Anaconda3\\envs\\tensorflow\\lib\\site-packages\\sklearn\\metrics\\scorer.py:100: DeprecationWarning: Scoring method mean_squared_error was renamed to neg_mean_squared_error in version 0.18 and will be removed in 0.20.\n",
      "  sample_weight=sample_weight)\n",
      "C:\\Users\\Inspiron\\Anaconda3\\envs\\tensorflow\\lib\\site-packages\\sklearn\\cross_validation.py:1675: DataConversionWarning: A column-vector y was passed when a 1d array was expected. Please change the shape of y to (n_samples,), for example using ravel().\n",
      "  estimator.fit(X_train, y_train, **fit_params)\n",
      "C:\\Users\\Inspiron\\Anaconda3\\envs\\tensorflow\\lib\\site-packages\\sklearn\\metrics\\scorer.py:100: DeprecationWarning: Scoring method mean_squared_error was renamed to neg_mean_squared_error in version 0.18 and will be removed in 0.20.\n",
      "  sample_weight=sample_weight)\n",
      "C:\\Users\\Inspiron\\Anaconda3\\envs\\tensorflow\\lib\\site-packages\\sklearn\\cross_validation.py:1675: DataConversionWarning: A column-vector y was passed when a 1d array was expected. Please change the shape of y to (n_samples,), for example using ravel().\n",
      "  estimator.fit(X_train, y_train, **fit_params)\n",
      "C:\\Users\\Inspiron\\Anaconda3\\envs\\tensorflow\\lib\\site-packages\\sklearn\\metrics\\scorer.py:100: DeprecationWarning: Scoring method mean_squared_error was renamed to neg_mean_squared_error in version 0.18 and will be removed in 0.20.\n",
      "  sample_weight=sample_weight)\n",
      "C:\\Users\\Inspiron\\Anaconda3\\envs\\tensorflow\\lib\\site-packages\\sklearn\\cross_validation.py:1675: DataConversionWarning: A column-vector y was passed when a 1d array was expected. Please change the shape of y to (n_samples,), for example using ravel().\n",
      "  estimator.fit(X_train, y_train, **fit_params)\n",
      "C:\\Users\\Inspiron\\Anaconda3\\envs\\tensorflow\\lib\\site-packages\\sklearn\\metrics\\scorer.py:100: DeprecationWarning: Scoring method mean_squared_error was renamed to neg_mean_squared_error in version 0.18 and will be removed in 0.20.\n",
      "  sample_weight=sample_weight)\n",
      "C:\\Users\\Inspiron\\Anaconda3\\envs\\tensorflow\\lib\\site-packages\\sklearn\\cross_validation.py:1675: DataConversionWarning: A column-vector y was passed when a 1d array was expected. Please change the shape of y to (n_samples,), for example using ravel().\n",
      "  estimator.fit(X_train, y_train, **fit_params)\n",
      "C:\\Users\\Inspiron\\Anaconda3\\envs\\tensorflow\\lib\\site-packages\\sklearn\\metrics\\scorer.py:100: DeprecationWarning: Scoring method mean_squared_error was renamed to neg_mean_squared_error in version 0.18 and will be removed in 0.20.\n",
      "  sample_weight=sample_weight)\n",
      "C:\\Users\\Inspiron\\Anaconda3\\envs\\tensorflow\\lib\\site-packages\\sklearn\\cross_validation.py:1675: DataConversionWarning: A column-vector y was passed when a 1d array was expected. Please change the shape of y to (n_samples,), for example using ravel().\n",
      "  estimator.fit(X_train, y_train, **fit_params)\n",
      "C:\\Users\\Inspiron\\Anaconda3\\envs\\tensorflow\\lib\\site-packages\\sklearn\\metrics\\scorer.py:100: DeprecationWarning: Scoring method mean_squared_error was renamed to neg_mean_squared_error in version 0.18 and will be removed in 0.20.\n",
      "  sample_weight=sample_weight)\n",
      "C:\\Users\\Inspiron\\Anaconda3\\envs\\tensorflow\\lib\\site-packages\\sklearn\\cross_validation.py:1675: DataConversionWarning: A column-vector y was passed when a 1d array was expected. Please change the shape of y to (n_samples,), for example using ravel().\n",
      "  estimator.fit(X_train, y_train, **fit_params)\n",
      "C:\\Users\\Inspiron\\Anaconda3\\envs\\tensorflow\\lib\\site-packages\\sklearn\\metrics\\scorer.py:100: DeprecationWarning: Scoring method mean_squared_error was renamed to neg_mean_squared_error in version 0.18 and will be removed in 0.20.\n",
      "  sample_weight=sample_weight)\n",
      "C:\\Users\\Inspiron\\Anaconda3\\envs\\tensorflow\\lib\\site-packages\\sklearn\\cross_validation.py:1675: DataConversionWarning: A column-vector y was passed when a 1d array was expected. Please change the shape of y to (n_samples,), for example using ravel().\n",
      "  estimator.fit(X_train, y_train, **fit_params)\n",
      "C:\\Users\\Inspiron\\Anaconda3\\envs\\tensorflow\\lib\\site-packages\\sklearn\\metrics\\scorer.py:100: DeprecationWarning: Scoring method mean_squared_error was renamed to neg_mean_squared_error in version 0.18 and will be removed in 0.20.\n",
      "  sample_weight=sample_weight)\n",
      "C:\\Users\\Inspiron\\Anaconda3\\envs\\tensorflow\\lib\\site-packages\\sklearn\\cross_validation.py:1675: DataConversionWarning: A column-vector y was passed when a 1d array was expected. Please change the shape of y to (n_samples,), for example using ravel().\n",
      "  estimator.fit(X_train, y_train, **fit_params)\n",
      "C:\\Users\\Inspiron\\Anaconda3\\envs\\tensorflow\\lib\\site-packages\\sklearn\\metrics\\scorer.py:100: DeprecationWarning: Scoring method mean_squared_error was renamed to neg_mean_squared_error in version 0.18 and will be removed in 0.20.\n",
      "  sample_weight=sample_weight)\n",
      "C:\\Users\\Inspiron\\Anaconda3\\envs\\tensorflow\\lib\\site-packages\\sklearn\\cross_validation.py:1675: DataConversionWarning: A column-vector y was passed when a 1d array was expected. Please change the shape of y to (n_samples,), for example using ravel().\n",
      "  estimator.fit(X_train, y_train, **fit_params)\n"
     ]
    },
    {
     "name": "stderr",
     "output_type": "stream",
     "text": [
      "C:\\Users\\Inspiron\\Anaconda3\\envs\\tensorflow\\lib\\site-packages\\sklearn\\metrics\\scorer.py:100: DeprecationWarning: Scoring method mean_squared_error was renamed to neg_mean_squared_error in version 0.18 and will be removed in 0.20.\n",
      "  sample_weight=sample_weight)\n",
      "C:\\Users\\Inspiron\\Anaconda3\\envs\\tensorflow\\lib\\site-packages\\sklearn\\cross_validation.py:1675: DataConversionWarning: A column-vector y was passed when a 1d array was expected. Please change the shape of y to (n_samples,), for example using ravel().\n",
      "  estimator.fit(X_train, y_train, **fit_params)\n",
      "C:\\Users\\Inspiron\\Anaconda3\\envs\\tensorflow\\lib\\site-packages\\sklearn\\metrics\\scorer.py:100: DeprecationWarning: Scoring method mean_squared_error was renamed to neg_mean_squared_error in version 0.18 and will be removed in 0.20.\n",
      "  sample_weight=sample_weight)\n",
      "C:\\Users\\Inspiron\\Anaconda3\\envs\\tensorflow\\lib\\site-packages\\sklearn\\cross_validation.py:1675: DataConversionWarning: A column-vector y was passed when a 1d array was expected. Please change the shape of y to (n_samples,), for example using ravel().\n",
      "  estimator.fit(X_train, y_train, **fit_params)\n",
      "C:\\Users\\Inspiron\\Anaconda3\\envs\\tensorflow\\lib\\site-packages\\sklearn\\metrics\\scorer.py:100: DeprecationWarning: Scoring method mean_squared_error was renamed to neg_mean_squared_error in version 0.18 and will be removed in 0.20.\n",
      "  sample_weight=sample_weight)\n",
      "C:\\Users\\Inspiron\\Anaconda3\\envs\\tensorflow\\lib\\site-packages\\sklearn\\cross_validation.py:1675: DataConversionWarning: A column-vector y was passed when a 1d array was expected. Please change the shape of y to (n_samples,), for example using ravel().\n",
      "  estimator.fit(X_train, y_train, **fit_params)\n",
      "C:\\Users\\Inspiron\\Anaconda3\\envs\\tensorflow\\lib\\site-packages\\sklearn\\metrics\\scorer.py:100: DeprecationWarning: Scoring method mean_squared_error was renamed to neg_mean_squared_error in version 0.18 and will be removed in 0.20.\n",
      "  sample_weight=sample_weight)\n",
      "C:\\Users\\Inspiron\\Anaconda3\\envs\\tensorflow\\lib\\site-packages\\sklearn\\cross_validation.py:1675: DataConversionWarning: A column-vector y was passed when a 1d array was expected. Please change the shape of y to (n_samples,), for example using ravel().\n",
      "  estimator.fit(X_train, y_train, **fit_params)\n",
      "C:\\Users\\Inspiron\\Anaconda3\\envs\\tensorflow\\lib\\site-packages\\sklearn\\metrics\\scorer.py:100: DeprecationWarning: Scoring method mean_squared_error was renamed to neg_mean_squared_error in version 0.18 and will be removed in 0.20.\n",
      "  sample_weight=sample_weight)\n",
      "C:\\Users\\Inspiron\\Anaconda3\\envs\\tensorflow\\lib\\site-packages\\sklearn\\cross_validation.py:1675: DataConversionWarning: A column-vector y was passed when a 1d array was expected. Please change the shape of y to (n_samples,), for example using ravel().\n",
      "  estimator.fit(X_train, y_train, **fit_params)\n",
      "C:\\Users\\Inspiron\\Anaconda3\\envs\\tensorflow\\lib\\site-packages\\sklearn\\metrics\\scorer.py:100: DeprecationWarning: Scoring method mean_squared_error was renamed to neg_mean_squared_error in version 0.18 and will be removed in 0.20.\n",
      "  sample_weight=sample_weight)\n"
     ]
    },
    {
     "name": "stdout",
     "output_type": "stream",
     "text": [
      "\n",
      "Model Report\n",
      "RMSE : 0.6054\n",
      "CV Score : Mean - 0.6258 | Std - 0.09973 | Min - 0.5055 | Max - 0.9102\n"
     ]
    },
    {
     "name": "stderr",
     "output_type": "stream",
     "text": [
      "C:\\Users\\Inspiron\\Anaconda3\\envs\\tensorflow\\lib\\site-packages\\ipykernel_launcher.py:16: SettingWithCopyWarning: \n",
      "A value is trying to be set on a copy of a slice from a DataFrame.\n",
      "Try using .loc[row_indexer,col_indexer] = value instead\n",
      "\n",
      "See the caveats in the documentation: http://pandas.pydata.org/pandas-docs/stable/indexing.html#indexing-view-versus-copy\n",
      "  app.launch_new_instance()\n",
      "C:\\Users\\Inspiron\\Anaconda3\\envs\\tensorflow\\lib\\site-packages\\pandas\\core\\indexing.py:537: SettingWithCopyWarning: \n",
      "A value is trying to be set on a copy of a slice from a DataFrame.\n",
      "Try using .loc[row_indexer,col_indexer] = value instead\n",
      "\n",
      "See the caveats in the documentation: http://pandas.pydata.org/pandas-docs/stable/indexing.html#indexing-view-versus-copy\n",
      "  self.obj[item] = s\n"
     ]
    },
    {
     "data": {
      "text/plain": [
       "<matplotlib.axes._subplots.AxesSubplot at 0x2a2752c80b8>"
      ]
     },
     "execution_count": 87,
     "metadata": {},
     "output_type": "execute_result"
    },
    {
     "data": {
      "image/png": "[encoded data removed]",
      "text/plain": [
       "<matplotlib.figure.Figure at 0x2a273aacf28>"
      ]
     },
     "metadata": {},
     "output_type": "display_data"
    }
   ],
   "source": [
    "target = ['registered']\n",
    "alg5 = RandomForestRegressor(n_estimators=200,max_depth=5, min_samples_leaf=100,n_jobs=4)\n",
    "classificationModel(alg5, train, test, predictors, target)\n",
    "coef5 = pd.Series(alg5.feature_importances_, predictors).sort_values(ascending=False)\n",
    "coef5.plot(kind='bar', title='Feature Importances')"
   ]
  },
  {
   "cell_type": "code",
   "execution_count": 93,
   "metadata": {},
   "outputs": [
    {
     "name": "stderr",
     "output_type": "stream",
     "text": [
      "C:\\Users\\Inspiron\\Anaconda3\\envs\\tensorflow\\lib\\site-packages\\ipykernel_launcher.py:1: SettingWithCopyWarning: \n",
      "A value is trying to be set on a copy of a slice from a DataFrame.\n",
      "Try using .loc[row_indexer,col_indexer] = value instead\n",
      "\n",
      "See the caveats in the documentation: http://pandas.pydata.org/pandas-docs/stable/indexing.html#indexing-view-versus-copy\n",
      "  \"\"\"Entry point for launching an IPython kernel.\n",
      "C:\\Users\\Inspiron\\Anaconda3\\envs\\tensorflow\\lib\\site-packages\\ipykernel_launcher.py:2: SettingWithCopyWarning: \n",
      "A value is trying to be set on a copy of a slice from a DataFrame.\n",
      "Try using .loc[row_indexer,col_indexer] = value instead\n",
      "\n",
      "See the caveats in the documentation: http://pandas.pydata.org/pandas-docs/stable/indexing.html#indexing-view-versus-copy\n",
      "  \n",
      "C:\\Users\\Inspiron\\Anaconda3\\envs\\tensorflow\\lib\\site-packages\\ipykernel_launcher.py:3: SettingWithCopyWarning: \n",
      "A value is trying to be set on a copy of a slice from a DataFrame.\n",
      "Try using .loc[row_indexer,col_indexer] = value instead\n",
      "\n",
      "See the caveats in the documentation: http://pandas.pydata.org/pandas-docs/stable/indexing.html#indexing-view-versus-copy\n",
      "  This is separate from the ipykernel package so we can avoid doing imports until\n"
     ]
    }
   ],
   "source": [
    "test['casual'] = test['casual'].apply(lambda x:np.exp(x)-1)\n",
    "test['registered'] = test['registered'].apply(lambda x:np.exp(x)-1)\n",
    "test['count'] = test['casual'] + test['registered']\n",
    "#test['count'] = test['count'].apply(lambda x:int(round(x)))"
   ]
  },
  {
   "cell_type": "code",
   "execution_count": 94,
   "metadata": {
    "collapsed": true
   },
   "outputs": [],
   "source": [
    "test[['datetime','count']].to_csv(os.path.join(folderPath,'random_forest_float.csv'),index=False)"
   ]
  }
 ],
 "metadata": {
  "kernelspec": {
   "display_name": "deeplearning",
   "language": "python",
   "name": "deeplearning"
  },
  "language_info": {
   "codemirror_mode": {
    "name": "ipython",
    "version": 3
   },
   "file_extension": ".py",
   "mimetype": "text/x-python",
   "name": "python",
   "nbconvert_exporter": "python",
   "pygments_lexer": "ipython3",
   "version": "3.6.6"
  }
 },
 "nbformat": 4,
 "nbformat_minor": 2
}
